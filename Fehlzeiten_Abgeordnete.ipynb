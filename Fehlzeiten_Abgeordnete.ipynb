{
  "nbformat": 4,
  "nbformat_minor": 0,
  "metadata": {
    "colab": {
      "provenance": []
    },
    "kernelspec": {
      "name": "python3",
      "display_name": "Python 3"
    },
    "language_info": {
      "name": "python"
    }
  },
  "cells": [
    {
      "cell_type": "markdown",
      "source": [
        "from bs4 import BeautifulSoup\n",
        "import requests"
      ],
      "metadata": {
        "id": "2tvu_kaPqr0x"
      }
    },
    {
      "cell_type": "markdown",
      "source": [
        "# Abgeordnetenliste"
      ],
      "metadata": {
        "id": "JBP1LKMOzJsH"
      }
    },
    {
      "cell_type": "code",
      "source": [
        "from bs4 import BeautifulSoup\n",
        "import requests"
      ],
      "metadata": {
        "id": "M-QMYcYuq9A8"
      },
      "execution_count": null,
      "outputs": []
    },
    {
      "cell_type": "code",
      "source": [
        "url = \"https://www.bundestag.de/resource/blob/988922/aa3083e7cc329f85993ca74dfe378997/20152.xml\""
      ],
      "metadata": {
        "id": "3ZXNVtoUrOd4"
      },
      "execution_count": null,
      "outputs": []
    },
    {
      "cell_type": "code",
      "source": [
        "xml = requests.get(url)"
      ],
      "metadata": {
        "id": "WPOSfhxcrQa5"
      },
      "execution_count": null,
      "outputs": []
    },
    {
      "cell_type": "code",
      "source": [
        "import requests\n",
        "import xml.etree.ElementTree as ET\n",
        "import pandas as pd"
      ],
      "metadata": {
        "id": "b6Zi1n6EtSWm"
      },
      "execution_count": null,
      "outputs": []
    },
    {
      "cell_type": "code",
      "source": [
        "url = 'https://www.bundestag.de/resource/blob/988922/aa3083e7cc329f85993ca74dfe378997/20152.xml'\n",
        "response = requests.get(url)"
      ],
      "metadata": {
        "id": "tXCin9hQtVZU"
      },
      "execution_count": null,
      "outputs": []
    },
    {
      "cell_type": "code",
      "source": [
        "root = ET.fromstring(response.content)"
      ],
      "metadata": {
        "id": "YaykuypftxgK"
      },
      "execution_count": null,
      "outputs": []
    },
    {
      "cell_type": "code",
      "source": [
        "last_names = []\n",
        "first_names = []\n",
        "parties = []"
      ],
      "metadata": {
        "id": "tzIZd5mSt1_0"
      },
      "execution_count": null,
      "outputs": []
    },
    {
      "cell_type": "code",
      "source": [
        "for row in root.findall('.//tr'):\n",
        "    cells = row.findall('.//td')\n",
        "    if len(cells) == 2:  # Ensure it's a valid row with two cells\n",
        "        last_name = cells[0].text.split(',')[0].strip()  # Extract last name\n",
        "        first_name = cells[0].text.split(',')[1].strip()  # Extract first name\n",
        "        party = cells[1].text  # Extract party\n",
        "        last_names.append(last_name)\n",
        "        first_names.append(first_name)\n",
        "        parties.append(party)"
      ],
      "metadata": {
        "id": "0Mt_kroKt4az"
      },
      "execution_count": null,
      "outputs": []
    },
    {
      "cell_type": "code",
      "source": [
        "df = pd.DataFrame({\n",
        "    'Last Name': last_names,\n",
        "    'First Name': first_names,\n",
        "    'Party': parties\n",
        "})"
      ],
      "metadata": {
        "id": "UEGd3nzrt-G4"
      },
      "execution_count": null,
      "outputs": []
    },
    {
      "cell_type": "code",
      "source": [
        "print(df)"
      ],
      "metadata": {
        "colab": {
          "base_uri": "https://localhost:8080/"
        },
        "id": "IT11ED9tt_V4",
        "outputId": "446e4738-428e-4e1e-b4be-9985860def90"
      },
      "execution_count": null,
      "outputs": [
        {
          "output_type": "stream",
          "name": "stdout",
          "text": [
            "             Last Name                             First Name  \\\n",
            "0               Bareiß                                 Thomas   \n",
            "1              Beckamp                                  Roger   \n",
            "2                Beyer                                  Peter   \n",
            "3             Bollmann                                 Gereon   \n",
            "4                Braun                                 Jürgen   \n",
            "5              Deligöz                                   Ekin   \n",
            "6                Dietz                                 Thomas   \n",
            "7            Engelhard                              Alexander   \n",
            "8               Feiler                                    Uwe   \n",
            "9             Güntzler                                  Fritz   \n",
            "10              Harzer                                 Ulrike   \n",
            "11                Heck                             Dr. Stefan   \n",
            "12                Heil                              Mechthild   \n",
            "13           Hitschler                                 Thomas   \n",
            "14              Höchst                                 Nicole   \n",
            "15         Hoppenstedt                            Dr. Hendrik   \n",
            "16              Houben                               Reinhard   \n",
            "17          Irlstorfer                                  Erich   \n",
            "18            Kaufmann                              Dr. Malte   \n",
            "19                Kopf                                Chantal   \n",
            "20               Korte                                    Jan   \n",
            "21                 Koß                                 Simona   \n",
            "22               Kurth                                 Markus   \n",
            "23            Lahrkamp                                  Sarah   \n",
            "24                Lang                                Ricarda   \n",
            "25             Lindner                             Dr. Tobias   \n",
            "26               Lucks                                    Max   \n",
            "27            Lührmann                               Dr. Anna   \n",
            "28               Mayer                           Dr.-Ing. Zoe   \n",
            "29              Müller                                Bettina   \n",
            "30              Müller                                Claudia   \n",
            "31      Müller-Gemmeke                                  Beate   \n",
            "32         Münzenmaier                              Sebastian   \n",
            "33              Pahlke                                 Julian   \n",
            "34            Pantazis                           Dr. Christos   \n",
            "35                Pohl                                 Jürgen   \n",
            "36            Ramsauer                              Dr. Peter   \n",
            "37           Reichardt                                 Martin   \n",
            "38           Rosenthal                                Jessica   \n",
            "39           Schattner                                  Bernd   \n",
            "40             Schätzl                               Johannes   \n",
            "41             Schauws                                   Ulle   \n",
            "42        Schisanowski                                   Timo   \n",
            "43             Schmidt                                    Uwe   \n",
            "44            Schröder                      Christina-Johanne   \n",
            "45           Schwartze                                 Stefan   \n",
            "46               Seitz                                 Thomas   \n",
            "47              Slawik                                   Nyke   \n",
            "48             Spallek                        Dr. Anne Monika   \n",
            "49             Stegner                               Dr. Ralf   \n",
            "50              Stumpp  Christina (gesetzlicher Mutterschutz)   \n",
            "51               Throm                              Alexander   \n",
            "52  Timmermann-Fechter                                 Astrid   \n",
            "53              Wenzel                                 Stefan   \n",
            "54           Whittaker                                    Kai   \n",
            "55            Wiesmann                     Bettina Margarethe   \n",
            "56               Wirth                          Dr. Christian   \n",
            "57                Witt                                    Uwe   \n",
            "58              Yüksel                               Gülistan   \n",
            "59             Ziegler                                Kay-Uwe   \n",
            "\n",
            "                     Party  \n",
            "0                  CDU/CSU  \n",
            "1                      AfD  \n",
            "2                  CDU/CSU  \n",
            "3                      AfD  \n",
            "4                      AfD  \n",
            "5   BÜNDNIS 90/ DIE GRÜNEN  \n",
            "6                      AfD  \n",
            "7                  CDU/CSU  \n",
            "8                  CDU/CSU  \n",
            "9                  CDU/CSU  \n",
            "10                     FDP  \n",
            "11                 CDU/CSU  \n",
            "12                 CDU/CSU  \n",
            "13                     SPD  \n",
            "14                     AfD  \n",
            "15                 CDU/CSU  \n",
            "16                     FDP  \n",
            "17                 CDU/CSU  \n",
            "18                     AfD  \n",
            "19  BÜNDNIS 90/ DIE GRÜNEN  \n",
            "20            fraktionslos  \n",
            "21                     SPD  \n",
            "22  BÜNDNIS 90/ DIE GRÜNEN  \n",
            "23                     SPD  \n",
            "24  BÜNDNIS 90/ DIE GRÜNEN  \n",
            "25  BÜNDNIS 90/ DIE GRÜNEN  \n",
            "26  BÜNDNIS 90/ DIE GRÜNEN  \n",
            "27  BÜNDNIS 90/ DIE GRÜNEN  \n",
            "28  BÜNDNIS 90/ DIE GRÜNEN  \n",
            "29                     SPD  \n",
            "30  BÜNDNIS 90/ DIE GRÜNEN  \n",
            "31  BÜNDNIS 90/ DIE GRÜNEN  \n",
            "32                     AfD  \n",
            "33  BÜNDNIS 90/ DIE GRÜNEN  \n",
            "34                     SPD  \n",
            "35                     AfD  \n",
            "36                 CDU/CSU  \n",
            "37                     AfD  \n",
            "38                     SPD  \n",
            "39                     AfD  \n",
            "40                     SPD  \n",
            "41  BÜNDNIS 90/ DIE GRÜNEN  \n",
            "42                     SPD  \n",
            "43                     SPD  \n",
            "44  BÜNDNIS 90/ DIE GRÜNEN  \n",
            "45                     SPD  \n",
            "46                     AfD  \n",
            "47  BÜNDNIS 90/ DIE GRÜNEN  \n",
            "48  BÜNDNIS 90/ DIE GRÜNEN  \n",
            "49                     SPD  \n",
            "50                 CDU/CSU  \n",
            "51                 CDU/CSU  \n",
            "52                 CDU/CSU  \n",
            "53  BÜNDNIS 90/ DIE GRÜNEN  \n",
            "54                 CDU/CSU  \n",
            "55                 CDU/CSU  \n",
            "56                     AfD  \n",
            "57            fraktionslos  \n",
            "58                     SPD  \n",
            "59                     AfD  \n"
          ]
        }
      ]
    },
    {
      "cell_type": "code",
      "source": [
        "Datum = \"02.02. 2024\""
      ],
      "metadata": {
        "id": "zaTndTcxuG7A"
      },
      "execution_count": null,
      "outputs": []
    },
    {
      "cell_type": "code",
      "source": [
        "df[\"Datum\"] = Datum"
      ],
      "metadata": {
        "id": "SUiz7654u1AJ"
      },
      "execution_count": null,
      "outputs": []
    },
    {
      "cell_type": "code",
      "source": [
        "print(df)"
      ],
      "metadata": {
        "colab": {
          "base_uri": "https://localhost:8080/"
        },
        "id": "Fb8rYwudwISG",
        "outputId": "a1579560-63d9-4a46-a706-b30efccfd5f1"
      },
      "execution_count": null,
      "outputs": [
        {
          "output_type": "stream",
          "name": "stdout",
          "text": [
            "             Last Name                             First Name  \\\n",
            "0               Bareiß                                 Thomas   \n",
            "1              Beckamp                                  Roger   \n",
            "2                Beyer                                  Peter   \n",
            "3             Bollmann                                 Gereon   \n",
            "4                Braun                                 Jürgen   \n",
            "5              Deligöz                                   Ekin   \n",
            "6                Dietz                                 Thomas   \n",
            "7            Engelhard                              Alexander   \n",
            "8               Feiler                                    Uwe   \n",
            "9             Güntzler                                  Fritz   \n",
            "10              Harzer                                 Ulrike   \n",
            "11                Heck                             Dr. Stefan   \n",
            "12                Heil                              Mechthild   \n",
            "13           Hitschler                                 Thomas   \n",
            "14              Höchst                                 Nicole   \n",
            "15         Hoppenstedt                            Dr. Hendrik   \n",
            "16              Houben                               Reinhard   \n",
            "17          Irlstorfer                                  Erich   \n",
            "18            Kaufmann                              Dr. Malte   \n",
            "19                Kopf                                Chantal   \n",
            "20               Korte                                    Jan   \n",
            "21                 Koß                                 Simona   \n",
            "22               Kurth                                 Markus   \n",
            "23            Lahrkamp                                  Sarah   \n",
            "24                Lang                                Ricarda   \n",
            "25             Lindner                             Dr. Tobias   \n",
            "26               Lucks                                    Max   \n",
            "27            Lührmann                               Dr. Anna   \n",
            "28               Mayer                           Dr.-Ing. Zoe   \n",
            "29              Müller                                Bettina   \n",
            "30              Müller                                Claudia   \n",
            "31      Müller-Gemmeke                                  Beate   \n",
            "32         Münzenmaier                              Sebastian   \n",
            "33              Pahlke                                 Julian   \n",
            "34            Pantazis                           Dr. Christos   \n",
            "35                Pohl                                 Jürgen   \n",
            "36            Ramsauer                              Dr. Peter   \n",
            "37           Reichardt                                 Martin   \n",
            "38           Rosenthal                                Jessica   \n",
            "39           Schattner                                  Bernd   \n",
            "40             Schätzl                               Johannes   \n",
            "41             Schauws                                   Ulle   \n",
            "42        Schisanowski                                   Timo   \n",
            "43             Schmidt                                    Uwe   \n",
            "44            Schröder                      Christina-Johanne   \n",
            "45           Schwartze                                 Stefan   \n",
            "46               Seitz                                 Thomas   \n",
            "47              Slawik                                   Nyke   \n",
            "48             Spallek                        Dr. Anne Monika   \n",
            "49             Stegner                               Dr. Ralf   \n",
            "50              Stumpp  Christina (gesetzlicher Mutterschutz)   \n",
            "51               Throm                              Alexander   \n",
            "52  Timmermann-Fechter                                 Astrid   \n",
            "53              Wenzel                                 Stefan   \n",
            "54           Whittaker                                    Kai   \n",
            "55            Wiesmann                     Bettina Margarethe   \n",
            "56               Wirth                          Dr. Christian   \n",
            "57                Witt                                    Uwe   \n",
            "58              Yüksel                               Gülistan   \n",
            "59             Ziegler                                Kay-Uwe   \n",
            "\n",
            "                     Party        Datum  \n",
            "0                  CDU/CSU  02.02. 2024  \n",
            "1                      AfD  02.02. 2024  \n",
            "2                  CDU/CSU  02.02. 2024  \n",
            "3                      AfD  02.02. 2024  \n",
            "4                      AfD  02.02. 2024  \n",
            "5   BÜNDNIS 90/ DIE GRÜNEN  02.02. 2024  \n",
            "6                      AfD  02.02. 2024  \n",
            "7                  CDU/CSU  02.02. 2024  \n",
            "8                  CDU/CSU  02.02. 2024  \n",
            "9                  CDU/CSU  02.02. 2024  \n",
            "10                     FDP  02.02. 2024  \n",
            "11                 CDU/CSU  02.02. 2024  \n",
            "12                 CDU/CSU  02.02. 2024  \n",
            "13                     SPD  02.02. 2024  \n",
            "14                     AfD  02.02. 2024  \n",
            "15                 CDU/CSU  02.02. 2024  \n",
            "16                     FDP  02.02. 2024  \n",
            "17                 CDU/CSU  02.02. 2024  \n",
            "18                     AfD  02.02. 2024  \n",
            "19  BÜNDNIS 90/ DIE GRÜNEN  02.02. 2024  \n",
            "20            fraktionslos  02.02. 2024  \n",
            "21                     SPD  02.02. 2024  \n",
            "22  BÜNDNIS 90/ DIE GRÜNEN  02.02. 2024  \n",
            "23                     SPD  02.02. 2024  \n",
            "24  BÜNDNIS 90/ DIE GRÜNEN  02.02. 2024  \n",
            "25  BÜNDNIS 90/ DIE GRÜNEN  02.02. 2024  \n",
            "26  BÜNDNIS 90/ DIE GRÜNEN  02.02. 2024  \n",
            "27  BÜNDNIS 90/ DIE GRÜNEN  02.02. 2024  \n",
            "28  BÜNDNIS 90/ DIE GRÜNEN  02.02. 2024  \n",
            "29                     SPD  02.02. 2024  \n",
            "30  BÜNDNIS 90/ DIE GRÜNEN  02.02. 2024  \n",
            "31  BÜNDNIS 90/ DIE GRÜNEN  02.02. 2024  \n",
            "32                     AfD  02.02. 2024  \n",
            "33  BÜNDNIS 90/ DIE GRÜNEN  02.02. 2024  \n",
            "34                     SPD  02.02. 2024  \n",
            "35                     AfD  02.02. 2024  \n",
            "36                 CDU/CSU  02.02. 2024  \n",
            "37                     AfD  02.02. 2024  \n",
            "38                     SPD  02.02. 2024  \n",
            "39                     AfD  02.02. 2024  \n",
            "40                     SPD  02.02. 2024  \n",
            "41  BÜNDNIS 90/ DIE GRÜNEN  02.02. 2024  \n",
            "42                     SPD  02.02. 2024  \n",
            "43                     SPD  02.02. 2024  \n",
            "44  BÜNDNIS 90/ DIE GRÜNEN  02.02. 2024  \n",
            "45                     SPD  02.02. 2024  \n",
            "46                     AfD  02.02. 2024  \n",
            "47  BÜNDNIS 90/ DIE GRÜNEN  02.02. 2024  \n",
            "48  BÜNDNIS 90/ DIE GRÜNEN  02.02. 2024  \n",
            "49                     SPD  02.02. 2024  \n",
            "50                 CDU/CSU  02.02. 2024  \n",
            "51                 CDU/CSU  02.02. 2024  \n",
            "52                 CDU/CSU  02.02. 2024  \n",
            "53  BÜNDNIS 90/ DIE GRÜNEN  02.02. 2024  \n",
            "54                 CDU/CSU  02.02. 2024  \n",
            "55                 CDU/CSU  02.02. 2024  \n",
            "56                     AfD  02.02. 2024  \n",
            "57            fraktionslos  02.02. 2024  \n",
            "58                     SPD  02.02. 2024  \n",
            "59                     AfD  02.02. 2024  \n"
          ]
        }
      ]
    },
    {
      "cell_type": "code",
      "source": [
        "url2 = \"https://www.bundestag.de/resource/blob/988654/960208dcce301df498b212b03b26d129/20151.xml\"         # ÄNDERN!\n",
        "response = requests.get(url2)                                                                             # ÄNDERN!\n",
        "\n",
        "root = ET.fromstring(response.content)\n",
        "\n",
        "last_names = []\n",
        "first_names = []\n",
        "parties = []\n",
        "\n",
        "for row in root.findall('.//tr'):\n",
        "    cells = row.findall('.//td')\n",
        "    if len(cells) == 2:  # Ensure it's a valid row with two cells\n",
        "        last_name = cells[0].text.split(',')[0].strip()  # Extract last name\n",
        "        first_name = cells[0].text.split(',')[1].strip()  # Extract first name\n",
        "        party = cells[1].text  # Extract party\n",
        "        last_names.append(last_name)\n",
        "        first_names.append(first_name)\n",
        "        parties.append(party)\n",
        "\n",
        "\n",
        "df2 = pd.DataFrame({                                                                                         # Ändern!\n",
        "    'Last Name': last_names,\n",
        "    'First Name': first_names,\n",
        "    'Party': parties\n",
        "})\n",
        "\n",
        "\n",
        "Datum = \"01.02. 2024\"                                                                                       #  ÄNDERN!\n",
        "\n",
        "df2[\"Datum\"] = Datum\n",
        "\n",
        "print(df2)                                                                                                   #  ÄNDERN!"
      ],
      "metadata": {
        "colab": {
          "base_uri": "https://localhost:8080/"
        },
        "id": "YKptx8ZLwZl0",
        "outputId": "7f42025e-07da-4138-e09a-34ac7370e0a2"
      },
      "execution_count": null,
      "outputs": [
        {
          "output_type": "stream",
          "name": "stdout",
          "text": [
            "             Last Name                             First Name  \\\n",
            "0             Amtsberg                                  Luise   \n",
            "1               Bareiß                                 Thomas   \n",
            "2             Bollmann                                 Gereon   \n",
            "3                Braun                                 Jürgen   \n",
            "4                Czaja                                  Mario   \n",
            "5              Deligöz                                   Ekin   \n",
            "6          Diedenhofen                                 Martin   \n",
            "7                Dietz                                 Thomas   \n",
            "8            Engelhard                              Alexander   \n",
            "9                Erndl                                 Thomas   \n",
            "10              Feiler                                    Uwe   \n",
            "11              Harzer                                 Ulrike   \n",
            "12                Heck                             Dr. Stefan   \n",
            "13                Heil                              Mechthild   \n",
            "14           Hitschler                                 Thomas   \n",
            "15              Höchst                                 Nicole   \n",
            "16              Houben                               Reinhard   \n",
            "17            Kaufmann                              Dr. Malte   \n",
            "18            Kaufmann                             Dr. Stefan   \n",
            "19                 Koß                                 Simona   \n",
            "20            Lahrkamp                                  Sarah   \n",
            "21             Lehmann                                   Jens   \n",
            "22               Lucks                                    Max   \n",
            "23               Mayer                           Dr.-Ing. Zoe   \n",
            "24              Müller                                Bettina   \n",
            "25              Müller                                Claudia   \n",
            "26      Müller-Gemmeke                                  Beate   \n",
            "27         Münzenmaier                              Sebastian   \n",
            "28              Pahlke                                 Julian   \n",
            "29            Pantazis                           Dr. Christos   \n",
            "30                Pohl                                 Jürgen   \n",
            "31           Reichardt                                 Martin   \n",
            "32           Rosenthal                                Jessica   \n",
            "33           Schattner                                  Bernd   \n",
            "34             Schätzl                               Johannes   \n",
            "35             Schauws                                   Ulle   \n",
            "36            Schieder                               Marianne   \n",
            "37        Schisanowski                                   Timo   \n",
            "38              Scholz                                   Olaf   \n",
            "39            Schröder                      Christina-Johanne   \n",
            "40              Slawik                                   Nyke   \n",
            "41              Stumpp  Christina (gesetzlicher Mutterschutz)   \n",
            "42  Timmermann-Fechter                                 Astrid   \n",
            "43              Werner                                   Lena   \n",
            "44           Whittaker                                    Kai   \n",
            "45                Witt                                    Uwe   \n",
            "46              Yüksel                               Gülistan   \n",
            "47             Ziegler                                Kay-Uwe   \n",
            "\n",
            "                     Party        Datum  \n",
            "0   BÜNDNIS 90/ DIE GRÜNEN  01.02. 2024  \n",
            "1                  CDU/CSU  01.02. 2024  \n",
            "2                      AfD  01.02. 2024  \n",
            "3                      AfD  01.02. 2024  \n",
            "4                  CDU/CSU  01.02. 2024  \n",
            "5   BÜNDNIS 90/ DIE GRÜNEN  01.02. 2024  \n",
            "6                      SPD  01.02. 2024  \n",
            "7                      AfD  01.02. 2024  \n",
            "8                  CDU/CSU  01.02. 2024  \n",
            "9                  CDU/CSU  01.02. 2024  \n",
            "10                 CDU/CSU  01.02. 2024  \n",
            "11                     FDP  01.02. 2024  \n",
            "12                 CDU/CSU  01.02. 2024  \n",
            "13                 CDU/CSU  01.02. 2024  \n",
            "14                     SPD  01.02. 2024  \n",
            "15                     AfD  01.02. 2024  \n",
            "16                     FDP  01.02. 2024  \n",
            "17                     AfD  01.02. 2024  \n",
            "18                 CDU/CSU  01.02. 2024  \n",
            "19                     SPD  01.02. 2024  \n",
            "20                     SPD  01.02. 2024  \n",
            "21                 CDU/CSU  01.02. 2024  \n",
            "22  BÜNDNIS 90/ DIE GRÜNEN  01.02. 2024  \n",
            "23  BÜNDNIS 90/ DIE GRÜNEN  01.02. 2024  \n",
            "24                     SPD  01.02. 2024  \n",
            "25  BÜNDNIS 90/ DIE GRÜNEN  01.02. 2024  \n",
            "26  BÜNDNIS 90/ DIE GRÜNEN  01.02. 2024  \n",
            "27                     AfD  01.02. 2024  \n",
            "28  BÜNDNIS 90/ DIE GRÜNEN  01.02. 2024  \n",
            "29                     SPD  01.02. 2024  \n",
            "30                     AfD  01.02. 2024  \n",
            "31                     AfD  01.02. 2024  \n",
            "32                     SPD  01.02. 2024  \n",
            "33                     AfD  01.02. 2024  \n",
            "34                     SPD  01.02. 2024  \n",
            "35  BÜNDNIS 90/ DIE GRÜNEN  01.02. 2024  \n",
            "36                     SPD  01.02. 2024  \n",
            "37                     SPD  01.02. 2024  \n",
            "38                     SPD  01.02. 2024  \n",
            "39  BÜNDNIS 90/ DIE GRÜNEN  01.02. 2024  \n",
            "40  BÜNDNIS 90/ DIE GRÜNEN  01.02. 2024  \n",
            "41                 CDU/CSU  01.02. 2024  \n",
            "42                 CDU/CSU  01.02. 2024  \n",
            "43                     SPD  01.02. 2024  \n",
            "44                 CDU/CSU  01.02. 2024  \n",
            "45            fraktionslos  01.02. 2024  \n",
            "46                     SPD  01.02. 2024  \n",
            "47                     AfD  01.02. 2024  \n"
          ]
        }
      ]
    },
    {
      "cell_type": "code",
      "source": [
        "df = df.append(df2, ignore_index=True)\n",
        "print(df)"
      ],
      "metadata": {
        "colab": {
          "base_uri": "https://localhost:8080/"
        },
        "id": "9AxVyq2BxBXT",
        "outputId": "9402e9c8-667d-45bb-edba-8e212ae74aa7"
      },
      "execution_count": null,
      "outputs": [
        {
          "output_type": "stream",
          "name": "stdout",
          "text": [
            "     Last Name First Name         Party        Datum\n",
            "0       Bareiß     Thomas       CDU/CSU  02.02. 2024\n",
            "1      Beckamp      Roger           AfD  02.02. 2024\n",
            "2        Beyer      Peter       CDU/CSU  02.02. 2024\n",
            "3     Bollmann     Gereon           AfD  02.02. 2024\n",
            "4        Braun     Jürgen           AfD  02.02. 2024\n",
            "..         ...        ...           ...          ...\n",
            "103     Werner       Lena           SPD  01.02. 2024\n",
            "104  Whittaker        Kai       CDU/CSU  01.02. 2024\n",
            "105       Witt        Uwe  fraktionslos  01.02. 2024\n",
            "106     Yüksel   Gülistan           SPD  01.02. 2024\n",
            "107    Ziegler    Kay-Uwe           AfD  01.02. 2024\n",
            "\n",
            "[108 rows x 4 columns]\n"
          ]
        },
        {
          "output_type": "stream",
          "name": "stderr",
          "text": [
            "<ipython-input-971-578225de2555>:1: FutureWarning: The frame.append method is deprecated and will be removed from pandas in a future version. Use pandas.concat instead.\n",
            "  df = df.append(df2, ignore_index=True)\n"
          ]
        }
      ]
    },
    {
      "cell_type": "code",
      "source": [
        "url3 = \"https://www.bundestag.de/resource/blob/988432/a8bb04d67b3348fe0fe386646253eaa0/20150.xml\"         # ÄNDERN!\n",
        "response = requests.get(url3)                                                                             # ÄNDERN!\n",
        "\n",
        "root = ET.fromstring(response.content)\n",
        "\n",
        "last_names = []\n",
        "first_names = []\n",
        "parties = []\n",
        "\n",
        "for row in root.findall('.//tr'):\n",
        "    cells = row.findall('.//td')\n",
        "    if len(cells) == 2:  # Ensure it's a valid row with two cells\n",
        "        last_name = cells[0].text.split(',')[0].strip()  # Extract last name\n",
        "        first_name = cells[0].text.split(',')[1].strip()  # Extract first name\n",
        "        party = cells[1].text  # Extract party\n",
        "        last_names.append(last_name)\n",
        "        first_names.append(first_name)\n",
        "        parties.append(party)\n",
        "\n",
        "\n",
        "df3 = pd.DataFrame({                                                                                         # Ändern!\n",
        "    'Last Name': last_names,\n",
        "    'First Name': first_names,\n",
        "    'Party': parties\n",
        "})\n",
        "\n",
        "\n",
        "Datum = \"31.01. 2024\"                                                                                       #  ÄNDERN!\n",
        "\n",
        "df3[\"Datum\"] = Datum\n",
        "\n",
        "print(df3)                                                                                                   #  ÄNDERN!"
      ],
      "metadata": {
        "colab": {
          "base_uri": "https://localhost:8080/"
        },
        "id": "3hDmBsBuy31V",
        "outputId": "1cb04038-1542-451b-cfd2-c35e4bff8b1d"
      },
      "execution_count": null,
      "outputs": [
        {
          "output_type": "stream",
          "name": "stdout",
          "text": [
            "             Last Name                             First Name  \\\n",
            "0               Bareiß                                 Thomas   \n",
            "1             Bollmann                                 Gereon   \n",
            "2                Braun                                 Jürgen   \n",
            "3              Deligöz                                   Ekin   \n",
            "4                Dietz                                 Thomas   \n",
            "5            Engelhard                              Alexander   \n",
            "6               Feiler                                    Uwe   \n",
            "7               Harzer                                 Ulrike   \n",
            "8                 Heil                              Mechthild   \n",
            "9               Höchst                                 Nicole   \n",
            "10              Houben                               Reinhard   \n",
            "11            Kaufmann                              Dr. Malte   \n",
            "12                 Koß                                 Simona   \n",
            "13            Lahrkamp                                  Sarah   \n",
            "14                Lang                                Ricarda   \n",
            "15               Lucks                                    Max   \n",
            "16               Mayer                           Dr.-Ing. Zoe   \n",
            "17              Michel                                Kathrin   \n",
            "18              Möller                                Siemtje   \n",
            "19              Müller                                Bettina   \n",
            "20              Müller                                Claudia   \n",
            "21      Müller-Gemmeke                                  Beate   \n",
            "22              Pahlke                                 Julian   \n",
            "23            Pantazis                           Dr. Christos   \n",
            "24                Pohl                                 Jürgen   \n",
            "25           Rosenthal                                Jessica   \n",
            "26           Schattner                                  Bernd   \n",
            "27             Schätzl                               Johannes   \n",
            "28             Schauws                                   Ulle   \n",
            "29        Schisanowski                                   Timo   \n",
            "30            Schröder                      Christina-Johanne   \n",
            "31              Stumpp  Christina (gesetzlicher Mutterschutz)   \n",
            "32  Timmermann-Fechter                                 Astrid   \n",
            "33       Türk-Nachbaur                                  Derya   \n",
            "34              Werner                                   Lena   \n",
            "35           Whittaker                                    Kai   \n",
            "36                Witt                                    Uwe   \n",
            "37              Yüksel                               Gülistan   \n",
            "38             Ziegler                                Kay-Uwe   \n",
            "\n",
            "                     Party        Datum  \n",
            "0                  CDU/CSU  31.01. 2024  \n",
            "1                      AfD  31.01. 2024  \n",
            "2                      AfD  31.01. 2024  \n",
            "3   BÜNDNIS 90/ DIE GRÜNEN  31.01. 2024  \n",
            "4                      AfD  31.01. 2024  \n",
            "5                  CDU/CSU  31.01. 2024  \n",
            "6                  CDU/CSU  31.01. 2024  \n",
            "7                      FDP  31.01. 2024  \n",
            "8                  CDU/CSU  31.01. 2024  \n",
            "9                      AfD  31.01. 2024  \n",
            "10                     FDP  31.01. 2024  \n",
            "11                     AfD  31.01. 2024  \n",
            "12                     SPD  31.01. 2024  \n",
            "13                     SPD  31.01. 2024  \n",
            "14  BÜNDNIS 90/ DIE GRÜNEN  31.01. 2024  \n",
            "15  BÜNDNIS 90/ DIE GRÜNEN  31.01. 2024  \n",
            "16  BÜNDNIS 90/ DIE GRÜNEN  31.01. 2024  \n",
            "17                     SPD  31.01. 2024  \n",
            "18                     SPD  31.01. 2024  \n",
            "19                     SPD  31.01. 2024  \n",
            "20  BÜNDNIS 90/ DIE GRÜNEN  31.01. 2024  \n",
            "21  BÜNDNIS 90/ DIE GRÜNEN  31.01. 2024  \n",
            "22  BÜNDNIS 90/ DIE GRÜNEN  31.01. 2024  \n",
            "23                     SPD  31.01. 2024  \n",
            "24                     AfD  31.01. 2024  \n",
            "25                     SPD  31.01. 2024  \n",
            "26                     AfD  31.01. 2024  \n",
            "27                     SPD  31.01. 2024  \n",
            "28  BÜNDNIS 90/ DIE GRÜNEN  31.01. 2024  \n",
            "29                     SPD  31.01. 2024  \n",
            "30  BÜNDNIS 90/ DIE GRÜNEN  31.01. 2024  \n",
            "31                 CDU/CSU  31.01. 2024  \n",
            "32                 CDU/CSU  31.01. 2024  \n",
            "33                     SPD  31.01. 2024  \n",
            "34                     SPD  31.01. 2024  \n",
            "35                 CDU/CSU  31.01. 2024  \n",
            "36            fraktionslos  31.01. 2024  \n",
            "37                     SPD  31.01. 2024  \n",
            "38                     AfD  31.01. 2024  \n"
          ]
        }
      ]
    },
    {
      "cell_type": "code",
      "source": [
        "df = df.append(df3, ignore_index=True)\n",
        "print(df)"
      ],
      "metadata": {
        "colab": {
          "base_uri": "https://localhost:8080/"
        },
        "id": "UlYAlcA_zM4V",
        "outputId": "a6d651b6-c9b3-4652-870d-bb164533f055"
      },
      "execution_count": null,
      "outputs": [
        {
          "output_type": "stream",
          "name": "stdout",
          "text": [
            "     Last Name First Name         Party        Datum\n",
            "0       Bareiß     Thomas       CDU/CSU  02.02. 2024\n",
            "1      Beckamp      Roger           AfD  02.02. 2024\n",
            "2        Beyer      Peter       CDU/CSU  02.02. 2024\n",
            "3     Bollmann     Gereon           AfD  02.02. 2024\n",
            "4        Braun     Jürgen           AfD  02.02. 2024\n",
            "..         ...        ...           ...          ...\n",
            "142     Werner       Lena           SPD  31.01. 2024\n",
            "143  Whittaker        Kai       CDU/CSU  31.01. 2024\n",
            "144       Witt        Uwe  fraktionslos  31.01. 2024\n",
            "145     Yüksel   Gülistan           SPD  31.01. 2024\n",
            "146    Ziegler    Kay-Uwe           AfD  31.01. 2024\n",
            "\n",
            "[147 rows x 4 columns]\n"
          ]
        },
        {
          "output_type": "stream",
          "name": "stderr",
          "text": [
            "<ipython-input-973-4ea503b18892>:1: FutureWarning: The frame.append method is deprecated and will be removed from pandas in a future version. Use pandas.concat instead.\n",
            "  df = df.append(df3, ignore_index=True)\n"
          ]
        }
      ]
    },
    {
      "cell_type": "code",
      "source": [
        "url4 = \"https://www.bundestag.de/resource/blob/988236/ea9e0c16eace8aab35b2b967e0de4dce/20149.xml\"         # ÄNDERN!\n",
        "response = requests.get(url4)                                                                             # ÄNDERN!\n",
        "\n",
        "root = ET.fromstring(response.content)\n",
        "\n",
        "last_names = []\n",
        "first_names = []\n",
        "parties = []\n",
        "\n",
        "for row in root.findall('.//tr'):\n",
        "    cells = row.findall('.//td')\n",
        "    if len(cells) == 2:  # Ensure it's a valid row with two cells\n",
        "        last_name = cells[0].text.split(',')[0].strip()  # Extract last name\n",
        "        first_name = cells[0].text.split(',')[1].strip()  # Extract first name\n",
        "        party = cells[1].text  # Extract party\n",
        "        last_names.append(last_name)\n",
        "        first_names.append(first_name)\n",
        "        parties.append(party)\n",
        "\n",
        "\n",
        "df4 = pd.DataFrame({                                                                                         # Ändern!\n",
        "    'Last Name': last_names,\n",
        "    'First Name': first_names,\n",
        "    'Party': parties\n",
        "})\n",
        "\n",
        "\n",
        "Datum = \"30.01. 2024\"                                                                                       #  ÄNDERN!\n",
        "\n",
        "df4[\"Datum\"] = Datum\n",
        "\n",
        "print(df4)                                                                                                   #  ÄNDERN!"
      ],
      "metadata": {
        "colab": {
          "base_uri": "https://localhost:8080/"
        },
        "id": "DxR00Bxiz0-Z",
        "outputId": "a990e293-7e1e-4100-bdbb-85ea7f89e88f"
      },
      "execution_count": null,
      "outputs": [
        {
          "output_type": "stream",
          "name": "stdout",
          "text": [
            "             Last Name                             First Name  \\\n",
            "0             Banaszak                                  Felix   \n",
            "1               Bareiß                                 Thomas   \n",
            "2             Bollmann                                 Gereon   \n",
            "3                Braun                                 Jürgen   \n",
            "4              Deligöz                                   Ekin   \n",
            "5                Dietz                                 Thomas   \n",
            "6            Engelhard                              Alexander   \n",
            "7                Erndl                                 Thomas   \n",
            "8                Esken                                 Saskia   \n",
            "9               Feiler                                    Uwe   \n",
            "10              Gerdes                                Michael   \n",
            "11                Hahn                                Florian   \n",
            "12              Harzer                                 Ulrike   \n",
            "13                Heil                              Mechthild   \n",
            "14              Höchst                                 Nicole   \n",
            "15              Houben                               Reinhard   \n",
            "16            Kaufmann                              Dr. Malte   \n",
            "17            Kaufmann                             Dr. Stefan   \n",
            "18                Khan                                 Misbah   \n",
            "19               Korte                                    Jan   \n",
            "20                 Koß                                 Simona   \n",
            "21            Lahrkamp                                  Sarah   \n",
            "22               Lucks                                    Max   \n",
            "23            Malottki                               Erik von   \n",
            "24              Martin                               Dorothee   \n",
            "25              Michel                                Kathrin   \n",
            "26              Müller                                Bettina   \n",
            "27              Müller                                Claudia   \n",
            "28      Müller-Gemmeke                                  Beate   \n",
            "29              Nietan                                Dietmar   \n",
            "30              Pahlke                                 Julian   \n",
            "31            Pantazis                           Dr. Christos   \n",
            "32                Pohl                                 Jürgen   \n",
            "33           Rosenthal                                Jessica   \n",
            "34            Saathoff                                 Johann   \n",
            "35           Schattner                                  Bernd   \n",
            "36             Schätzl                               Johannes   \n",
            "37             Schauws                                   Ulle   \n",
            "38        Schisanowski                                   Timo   \n",
            "39            Schröder                      Christina-Johanne   \n",
            "40               Spahn                                   Jens   \n",
            "41              Stöber                                  Klaus   \n",
            "42              Stumpp  Christina (gesetzlicher Mutterschutz)   \n",
            "43  Timmermann-Fechter                                 Astrid   \n",
            "44              Werner                                   Lena   \n",
            "45               Weyel                             Dr. Harald   \n",
            "46           Whittaker                                    Kai   \n",
            "47                Witt                                    Uwe   \n",
            "48             Ziegler                                Kay-Uwe   \n",
            "\n",
            "                     Party        Datum  \n",
            "0   BÜNDNIS 90/ DIE GRÜNEN  30.01. 2024  \n",
            "1                  CDU/CSU  30.01. 2024  \n",
            "2                      AfD  30.01. 2024  \n",
            "3                      AfD  30.01. 2024  \n",
            "4   BÜNDNIS 90/ DIE GRÜNEN  30.01. 2024  \n",
            "5                      AfD  30.01. 2024  \n",
            "6                  CDU/CSU  30.01. 2024  \n",
            "7                  CDU/CSU  30.01. 2024  \n",
            "8                      SPD  30.01. 2024  \n",
            "9                  CDU/CSU  30.01. 2024  \n",
            "10                     SPD  30.01. 2024  \n",
            "11                 CDU/CSU  30.01. 2024  \n",
            "12                     FDP  30.01. 2024  \n",
            "13                 CDU/CSU  30.01. 2024  \n",
            "14                     AfD  30.01. 2024  \n",
            "15                     FDP  30.01. 2024  \n",
            "16                     AfD  30.01. 2024  \n",
            "17                 CDU/CSU  30.01. 2024  \n",
            "18  BÜNDNIS 90/ DIE GRÜNEN  30.01. 2024  \n",
            "19            fraktionslos  30.01. 2024  \n",
            "20                     SPD  30.01. 2024  \n",
            "21                     SPD  30.01. 2024  \n",
            "22  BÜNDNIS 90/ DIE GRÜNEN  30.01. 2024  \n",
            "23                     SPD  30.01. 2024  \n",
            "24                     SPD  30.01. 2024  \n",
            "25                     SPD  30.01. 2024  \n",
            "26                     SPD  30.01. 2024  \n",
            "27  BÜNDNIS 90/ DIE GRÜNEN  30.01. 2024  \n",
            "28  BÜNDNIS 90/ DIE GRÜNEN  30.01. 2024  \n",
            "29                     SPD  30.01. 2024  \n",
            "30  BÜNDNIS 90/ DIE GRÜNEN  30.01. 2024  \n",
            "31                     SPD  30.01. 2024  \n",
            "32                     AfD  30.01. 2024  \n",
            "33                     SPD  30.01. 2024  \n",
            "34                     SPD  30.01. 2024  \n",
            "35                     AfD  30.01. 2024  \n",
            "36                     SPD  30.01. 2024  \n",
            "37  BÜNDNIS 90/ DIE GRÜNEN  30.01. 2024  \n",
            "38                     SPD  30.01. 2024  \n",
            "39  BÜNDNIS 90/ DIE GRÜNEN  30.01. 2024  \n",
            "40                 CDU/CSU  30.01. 2024  \n",
            "41                     AfD  30.01. 2024  \n",
            "42                 CDU/CSU  30.01. 2024  \n",
            "43                 CDU/CSU  30.01. 2024  \n",
            "44                     SPD  30.01. 2024  \n",
            "45                     AfD  30.01. 2024  \n",
            "46                 CDU/CSU  30.01. 2024  \n",
            "47            fraktionslos  30.01. 2024  \n",
            "48                     AfD  30.01. 2024  \n"
          ]
        }
      ]
    },
    {
      "cell_type": "code",
      "source": [
        "df = df.append(df4, ignore_index=True)\n",
        "print(df)"
      ],
      "metadata": {
        "colab": {
          "base_uri": "https://localhost:8080/"
        },
        "id": "hJl9RkSp0Ufb",
        "outputId": "8f02ea3f-f943-4e2a-aef2-45030d3032b7"
      },
      "execution_count": null,
      "outputs": [
        {
          "output_type": "stream",
          "name": "stdout",
          "text": [
            "     Last Name  First Name         Party        Datum\n",
            "0       Bareiß      Thomas       CDU/CSU  02.02. 2024\n",
            "1      Beckamp       Roger           AfD  02.02. 2024\n",
            "2        Beyer       Peter       CDU/CSU  02.02. 2024\n",
            "3     Bollmann      Gereon           AfD  02.02. 2024\n",
            "4        Braun      Jürgen           AfD  02.02. 2024\n",
            "..         ...         ...           ...          ...\n",
            "191     Werner        Lena           SPD  30.01. 2024\n",
            "192      Weyel  Dr. Harald           AfD  30.01. 2024\n",
            "193  Whittaker         Kai       CDU/CSU  30.01. 2024\n",
            "194       Witt         Uwe  fraktionslos  30.01. 2024\n",
            "195    Ziegler     Kay-Uwe           AfD  30.01. 2024\n",
            "\n",
            "[196 rows x 4 columns]\n"
          ]
        },
        {
          "output_type": "stream",
          "name": "stderr",
          "text": [
            "<ipython-input-975-dfa65acde46d>:1: FutureWarning: The frame.append method is deprecated and will be removed from pandas in a future version. Use pandas.concat instead.\n",
            "  df = df.append(df4, ignore_index=True)\n"
          ]
        }
      ]
    },
    {
      "cell_type": "code",
      "source": [
        "url5 = \"https://www.bundestag.de/resource/blob/987364/6dbfbb38da82df917c0a2f96a468d3f5/20148.xml\"         # ÄNDERN!\n",
        "response = requests.get(url5)                                                                             # ÄNDERN!\n",
        "\n",
        "root = ET.fromstring(response.content)\n",
        "\n",
        "last_names = []\n",
        "first_names = []\n",
        "parties = []\n",
        "\n",
        "for row in root.findall('.//tr'):\n",
        "    cells = row.findall('.//td')\n",
        "    if len(cells) == 2:  # Ensure it's a valid row with two cells\n",
        "        last_name = cells[0].text.split(',')[0].strip()  # Extract last name\n",
        "        first_name = cells[0].text.split(',')[1].strip()  # Extract first name\n",
        "        party = cells[1].text  # Extract party\n",
        "        last_names.append(last_name)\n",
        "        first_names.append(first_name)\n",
        "        parties.append(party)\n",
        "\n",
        "\n",
        "df5 = pd.DataFrame({                                                                                         # Ändern!\n",
        "    'Last Name': last_names,\n",
        "    'First Name': first_names,\n",
        "    'Party': parties\n",
        "})\n",
        "\n",
        "\n",
        "Datum = \"19.01. 2024\"                                                                                       #  ÄNDERN!\n",
        "\n",
        "df5[\"Datum\"] = Datum                                                                                        # ÄNDERN!\n",
        "\n",
        "print(df5)                                                                                                   #  ÄNDERN!"
      ],
      "metadata": {
        "colab": {
          "base_uri": "https://localhost:8080/"
        },
        "id": "AGU52LL60ZO-",
        "outputId": "1fd1ce89-e561-432f-f23e-bf20363404eb"
      },
      "execution_count": null,
      "outputs": [
        {
          "output_type": "stream",
          "name": "stdout",
          "text": [
            "             Last Name                             First Name  \\\n",
            "0             Amtsberg                                  Luise   \n",
            "1          Auernhammer                                  Artur   \n",
            "2               Bareiß                                 Thomas   \n",
            "3            Benkstein                                Barbara   \n",
            "4               Bilger                                Steffen   \n",
            "5             Bollmann                                 Gereon   \n",
            "6                Braun                              Dr. Helge   \n",
            "7               Breher                                 Silvia   \n",
            "8                 Coße                                 Jürgen   \n",
            "9                Cotar                                  Joana   \n",
            "10             Deligöz                                   Ekin   \n",
            "11           Friedhoff                                Dietmar   \n",
            "12          Frohnmaier                                 Markus   \n",
            "13              Gerdes                                Michael   \n",
            "14              Gohlke                                 Nicole   \n",
            "15            Gramling                                 Fabian   \n",
            "16            Gremmels                                  Timon   \n",
            "17         Grützmacher                                 Sabine   \n",
            "18                Hahn                                Florian   \n",
            "19                Heil                              Mechthild   \n",
            "20          Kassautzki                                   Anna   \n",
            "21             Koeppen                                   Jens   \n",
            "22                 Koß                                 Simona   \n",
            "23             Launert                              Dr. Silke   \n",
            "24                Leye                              Christian   \n",
            "25             Lindner                              Christian   \n",
            "26            Mansoori                                  Kaweh   \n",
            "27            Mascheck                              Franziska   \n",
            "28           Mattfeldt                                Andreas   \n",
            "29             Möhring                               Cornelia   \n",
            "30   Müller (Erlangen)                                 Stefan   \n",
            "31             Oellers                               Wilfried   \n",
            "32              Ortleb                              Josephine   \n",
            "33             Özdemir                                    Cem   \n",
            "34            Pellmann                                  Sören   \n",
            "35                Pohl                                 Jürgen   \n",
            "36           Protschka                                Stephan   \n",
            "37           Rosenthal                                Jessica   \n",
            "38              Rüffer                                Corinna   \n",
            "39            Schamber                                Rebecca   \n",
            "40             Schätzl                               Johannes   \n",
            "41             Schauws                                   Ulle   \n",
            "42        Schisanowski                                   Timo   \n",
            "43  Schneider (Erfurt)                                Carsten   \n",
            "44              Scholz                                   Olaf   \n",
            "45             Schwarz                                  Armin   \n",
            "46            Springer                                   René   \n",
            "47            Staffler                                 Katrin   \n",
            "48     Stark-Watzinger                                Bettina   \n",
            "49             Stegner                               Dr. Ralf   \n",
            "50              Stöber                                  Klaus   \n",
            "51   Strack-Zimmermann                        Dr. Marie-Agnes   \n",
            "52              Stumpp  Christina (gesetzlicher Mutterschutz)   \n",
            "53             Ullrich                                  Frank   \n",
            "54               Vogel                               Johannes   \n",
            "55  Walter-Rosenheimer                                  Beate   \n",
            "56                Witt                                    Uwe   \n",
            "57           Zippelius                                Nicolas   \n",
            "\n",
            "                     Party        Datum  \n",
            "0   BÜNDNIS 90/ DIE GRÜNEN  19.01. 2024  \n",
            "1                  CDU/CSU  19.01. 2024  \n",
            "2                  CDU/CSU  19.01. 2024  \n",
            "3                      AfD  19.01. 2024  \n",
            "4                  CDU/CSU  19.01. 2024  \n",
            "5                      AfD  19.01. 2024  \n",
            "6                  CDU/CSU  19.01. 2024  \n",
            "7                  CDU/CSU  19.01. 2024  \n",
            "8                      SPD  19.01. 2024  \n",
            "9             fraktionslos  19.01. 2024  \n",
            "10  BÜNDNIS 90/ DIE GRÜNEN  19.01. 2024  \n",
            "11                     AfD  19.01. 2024  \n",
            "12                     AfD  19.01. 2024  \n",
            "13                     SPD  19.01. 2024  \n",
            "14            fraktionslos  19.01. 2024  \n",
            "15                 CDU/CSU  19.01. 2024  \n",
            "16                     SPD  19.01. 2024  \n",
            "17  BÜNDNIS 90/ DIE GRÜNEN  19.01. 2024  \n",
            "18                 CDU/CSU  19.01. 2024  \n",
            "19                 CDU/CSU  19.01. 2024  \n",
            "20                     SPD  19.01. 2024  \n",
            "21                 CDU/CSU  19.01. 2024  \n",
            "22                     SPD  19.01. 2024  \n",
            "23                 CDU/CSU  19.01. 2024  \n",
            "24            fraktionslos  19.01. 2024  \n",
            "25                     FDP  19.01. 2024  \n",
            "26                     SPD  19.01. 2024  \n",
            "27                     SPD  19.01. 2024  \n",
            "28                 CDU/CSU  19.01. 2024  \n",
            "29            fraktionslos  19.01. 2024  \n",
            "30                 CDU/CSU  19.01. 2024  \n",
            "31                 CDU/CSU  19.01. 2024  \n",
            "32                     SPD  19.01. 2024  \n",
            "33  BÜNDNIS 90/ DIE GRÜNEN  19.01. 2024  \n",
            "34            fraktionslos  19.01. 2024  \n",
            "35                     AfD  19.01. 2024  \n",
            "36                     AfD  19.01. 2024  \n",
            "37                     SPD  19.01. 2024  \n",
            "38  BÜNDNIS 90/ DIE GRÜNEN  19.01. 2024  \n",
            "39                     SPD  19.01. 2024  \n",
            "40                     SPD  19.01. 2024  \n",
            "41  BÜNDNIS 90/ DIE GRÜNEN  19.01. 2024  \n",
            "42                     SPD  19.01. 2024  \n",
            "43                     SPD  19.01. 2024  \n",
            "44                     SPD  19.01. 2024  \n",
            "45                 CDU/CSU  19.01. 2024  \n",
            "46                     AfD  19.01. 2024  \n",
            "47                 CDU/CSU  19.01. 2024  \n",
            "48                     FDP  19.01. 2024  \n",
            "49                     SPD  19.01. 2024  \n",
            "50                     AfD  19.01. 2024  \n",
            "51                     FDP  19.01. 2024  \n",
            "52                 CDU/CSU  19.01. 2024  \n",
            "53                     SPD  19.01. 2024  \n",
            "54                     FDP  19.01. 2024  \n",
            "55  BÜNDNIS 90/ DIE GRÜNEN  19.01. 2024  \n",
            "56            fraktionslos  19.01. 2024  \n",
            "57                 CDU/CSU  19.01. 2024  \n"
          ]
        }
      ]
    },
    {
      "cell_type": "code",
      "source": [
        "df = df.append(df5, ignore_index=True)\n",
        "print(df)"
      ],
      "metadata": {
        "colab": {
          "base_uri": "https://localhost:8080/"
        },
        "id": "ZznM6QP7027l",
        "outputId": "ecc9b5b6-0e16-4ebc-c299-5d3526e22623"
      },
      "execution_count": null,
      "outputs": [
        {
          "output_type": "stream",
          "name": "stdout",
          "text": [
            "              Last Name First Name                   Party        Datum\n",
            "0                Bareiß     Thomas                 CDU/CSU  02.02. 2024\n",
            "1               Beckamp      Roger                     AfD  02.02. 2024\n",
            "2                 Beyer      Peter                 CDU/CSU  02.02. 2024\n",
            "3              Bollmann     Gereon                     AfD  02.02. 2024\n",
            "4                 Braun     Jürgen                     AfD  02.02. 2024\n",
            "..                  ...        ...                     ...          ...\n",
            "249             Ullrich      Frank                     SPD  19.01. 2024\n",
            "250               Vogel   Johannes                     FDP  19.01. 2024\n",
            "251  Walter-Rosenheimer      Beate  BÜNDNIS 90/ DIE GRÜNEN  19.01. 2024\n",
            "252                Witt        Uwe            fraktionslos  19.01. 2024\n",
            "253           Zippelius    Nicolas                 CDU/CSU  19.01. 2024\n",
            "\n",
            "[254 rows x 4 columns]\n"
          ]
        },
        {
          "output_type": "stream",
          "name": "stderr",
          "text": [
            "<ipython-input-977-c2183300e328>:1: FutureWarning: The frame.append method is deprecated and will be removed from pandas in a future version. Use pandas.concat instead.\n",
            "  df = df.append(df5, ignore_index=True)\n"
          ]
        }
      ]
    },
    {
      "cell_type": "code",
      "source": [
        "url6 = \"https://www.bundestag.de/resource/blob/986986/8c63568336f6daa384bb738dad7792c4/20147.xml\"         # ÄNDERN!\n",
        "response = requests.get(url6)                                                                             # ÄNDERN!\n",
        "\n",
        "root = ET.fromstring(response.content)\n",
        "\n",
        "last_names = []\n",
        "first_names = []\n",
        "parties = []\n",
        "\n",
        "for row in root.findall('.//tr'):\n",
        "    cells = row.findall('.//td')\n",
        "    if len(cells) == 2:  # Ensure it's a valid row with two cells\n",
        "        last_name = cells[0].text.split(',')[0].strip()  # Extract last name\n",
        "        first_name = cells[0].text.split(',')[1].strip()  # Extract first name\n",
        "        party = cells[1].text  # Extract party\n",
        "        last_names.append(last_name)\n",
        "        first_names.append(first_name)\n",
        "        parties.append(party)\n",
        "\n",
        "\n",
        "df6 = pd.DataFrame({                                                                                         # Ändern!\n",
        "    'Last Name': last_names,\n",
        "    'First Name': first_names,\n",
        "    'Party': parties\n",
        "})\n",
        "\n",
        "\n",
        "Datum = \"18.01. 2024\"                                                                                       #  ÄNDERN!\n",
        "\n",
        "df6[\"Datum\"] = Datum                                                                                        # ÄNDERN!\n",
        "\n",
        "# print(df5)                                                                                                   #  ÄNDERN!"
      ],
      "metadata": {
        "id": "8TTKVFL31MIO"
      },
      "execution_count": null,
      "outputs": []
    },
    {
      "cell_type": "code",
      "source": [
        "df = df.append(df6, ignore_index=True)                                                                    # ÄNDERN!\n",
        "print(df)"
      ],
      "metadata": {
        "colab": {
          "base_uri": "https://localhost:8080/"
        },
        "id": "HQ1VqbwJ1W-r",
        "outputId": "5c434b6e-f6dd-422e-8bac-29020f66eaa3"
      },
      "execution_count": null,
      "outputs": [
        {
          "output_type": "stream",
          "name": "stdout",
          "text": [
            "              Last Name                             First Name  \\\n",
            "0                Bareiß                                 Thomas   \n",
            "1               Beckamp                                  Roger   \n",
            "2                 Beyer                                  Peter   \n",
            "3              Bollmann                                 Gereon   \n",
            "4                 Braun                                 Jürgen   \n",
            "..                  ...                                    ...   \n",
            "290              Stumpp  Christina (gesetzlicher Mutterschutz)   \n",
            "291               Vogel                               Johannes   \n",
            "292  Walter-Rosenheimer                                  Beate   \n",
            "293                Witt                                    Uwe   \n",
            "294           Zippelius                                Nicolas   \n",
            "\n",
            "                      Party        Datum  \n",
            "0                   CDU/CSU  02.02. 2024  \n",
            "1                       AfD  02.02. 2024  \n",
            "2                   CDU/CSU  02.02. 2024  \n",
            "3                       AfD  02.02. 2024  \n",
            "4                       AfD  02.02. 2024  \n",
            "..                      ...          ...  \n",
            "290                 CDU/CSU  18.01. 2024  \n",
            "291                     FDP  18.01. 2024  \n",
            "292  BÜNDNIS 90/ DIE GRÜNEN  18.01. 2024  \n",
            "293            fraktionslos  18.01. 2024  \n",
            "294                 CDU/CSU  18.01. 2024  \n",
            "\n",
            "[295 rows x 4 columns]\n"
          ]
        },
        {
          "output_type": "stream",
          "name": "stderr",
          "text": [
            "<ipython-input-979-157016aac107>:1: FutureWarning: The frame.append method is deprecated and will be removed from pandas in a future version. Use pandas.concat instead.\n",
            "  df = df.append(df6, ignore_index=True)                                                                    # ÄNDERN!\n"
          ]
        }
      ]
    },
    {
      "cell_type": "code",
      "source": [
        "url7 = \"https://www.bundestag.de/resource/blob/986908/2d3b3c688395ced5761b8076a00cadf5/20146.xml\"         # ÄNDERN!\n",
        "response = requests.get(url7)                                                                             # ÄNDERN!\n",
        "\n",
        "root = ET.fromstring(response.content)\n",
        "\n",
        "last_names = []\n",
        "first_names = []\n",
        "parties = []\n",
        "\n",
        "for row in root.findall('.//tr'):\n",
        "    cells = row.findall('.//td')\n",
        "    if len(cells) == 2:  # Ensure it's a valid row with two cells\n",
        "        last_name = cells[0].text.split(',')[0].strip()  # Extract last name\n",
        "        first_name = cells[0].text.split(',')[1].strip()  # Extract first name\n",
        "        party = cells[1].text  # Extract party\n",
        "        last_names.append(last_name)\n",
        "        first_names.append(first_name)\n",
        "        parties.append(party)\n",
        "\n",
        "\n",
        "df7 = pd.DataFrame({                                                                                         # Ändern!\n",
        "    'Last Name': last_names,\n",
        "    'First Name': first_names,\n",
        "    'Party': parties\n",
        "})\n",
        "\n",
        "\n",
        "Datum = \"17.01. 2024\"                                                                                       #  ÄNDERN!\n",
        "\n",
        "df7[\"Datum\"] = Datum                                                                                        # ÄNDERN!\n",
        "\n",
        "# print(df5)                                                                                                   #  ÄNDERN!"
      ],
      "metadata": {
        "id": "xuYm7TdA3B5j"
      },
      "execution_count": null,
      "outputs": []
    },
    {
      "cell_type": "code",
      "source": [
        "df = df.append(df7, ignore_index=True)                                                                    # ÄNDERN!\n",
        "print(df)"
      ],
      "metadata": {
        "colab": {
          "base_uri": "https://localhost:8080/"
        },
        "id": "F5VGw-TN3O6u",
        "outputId": "3aa81c49-f777-42c9-9425-302636fa2e07"
      },
      "execution_count": null,
      "outputs": [
        {
          "output_type": "stream",
          "name": "stdout",
          "text": [
            "              Last Name                             First Name  \\\n",
            "0                Bareiß                                 Thomas   \n",
            "1               Beckamp                                  Roger   \n",
            "2                 Beyer                                  Peter   \n",
            "3              Bollmann                                 Gereon   \n",
            "4                 Braun                                 Jürgen   \n",
            "..                  ...                                    ...   \n",
            "325             Stegner                               Dr. Ralf   \n",
            "326              Stumpp  Christina (gesetzlicher Mutterschutz)   \n",
            "327               Vogel                               Johannes   \n",
            "328  Walter-Rosenheimer                                  Beate   \n",
            "329                Witt                                    Uwe   \n",
            "\n",
            "                      Party        Datum  \n",
            "0                   CDU/CSU  02.02. 2024  \n",
            "1                       AfD  02.02. 2024  \n",
            "2                   CDU/CSU  02.02. 2024  \n",
            "3                       AfD  02.02. 2024  \n",
            "4                       AfD  02.02. 2024  \n",
            "..                      ...          ...  \n",
            "325                     SPD  17.01. 2024  \n",
            "326                 CDU/CSU  17.01. 2024  \n",
            "327                     FDP  17.01. 2024  \n",
            "328  BÜNDNIS 90/ DIE GRÜNEN  17.01. 2024  \n",
            "329            fraktionslos  17.01. 2024  \n",
            "\n",
            "[330 rows x 4 columns]\n"
          ]
        },
        {
          "output_type": "stream",
          "name": "stderr",
          "text": [
            "<ipython-input-981-c8e002d7a793>:1: FutureWarning: The frame.append method is deprecated and will be removed from pandas in a future version. Use pandas.concat instead.\n",
            "  df = df.append(df7, ignore_index=True)                                                                    # ÄNDERN!\n"
          ]
        }
      ]
    },
    {
      "cell_type": "code",
      "source": [
        "url8 = \"https://www.bundestag.de/resource/blob/983694/3ddfe9b9a5f91789df4539db24a38f4e/20145.xml\"         # ÄNDERN!\n",
        "response = requests.get(url8)                                                                             # ÄNDERN!\n",
        "\n",
        "root = ET.fromstring(response.content)\n",
        "\n",
        "last_names = []\n",
        "first_names = []\n",
        "parties = []\n",
        "\n",
        "for row in root.findall('.//tr'):\n",
        "    cells = row.findall('.//td')\n",
        "    if len(cells) == 2:  # Ensure it's a valid row with two cells\n",
        "        last_name = cells[0].text.split(',')[0].strip()  # Extract last name\n",
        "        first_name = cells[0].text.split(',')[1].strip()  # Extract first name\n",
        "        party = cells[1].text  # Extract party\n",
        "        last_names.append(last_name)\n",
        "        first_names.append(first_name)\n",
        "        parties.append(party)\n",
        "\n",
        "\n",
        "df8 = pd.DataFrame({                                                                                         # Ändern!\n",
        "    'Last Name': last_names,\n",
        "    'First Name': first_names,\n",
        "    'Party': parties\n",
        "})\n",
        "\n",
        "\n",
        "Datum = \"15.12. 2023\"                                                                                       #  ÄNDERN!\n",
        "\n",
        "df8[\"Datum\"] = Datum                                                                                        # ÄNDERN!\n",
        "\n",
        "# print(df5)                                                                                                   #  ÄNDERN!"
      ],
      "metadata": {
        "id": "iD88e3CM4LwQ"
      },
      "execution_count": null,
      "outputs": []
    },
    {
      "cell_type": "code",
      "source": [
        "df = df.append(df8, ignore_index=True)"
      ],
      "metadata": {
        "colab": {
          "base_uri": "https://localhost:8080/"
        },
        "id": "ufi7_IFH4bPX",
        "outputId": "b9afe4da-0596-45c9-9c75-498b6c83791b"
      },
      "execution_count": null,
      "outputs": [
        {
          "output_type": "stream",
          "name": "stderr",
          "text": [
            "<ipython-input-983-f4c281d4020c>:1: FutureWarning: The frame.append method is deprecated and will be removed from pandas in a future version. Use pandas.concat instead.\n",
            "  df = df.append(df8, ignore_index=True)\n"
          ]
        }
      ]
    },
    {
      "cell_type": "code",
      "source": [],
      "metadata": {
        "id": "m3-mJHvG4msU"
      },
      "execution_count": null,
      "outputs": []
    },
    {
      "cell_type": "code",
      "source": [
        "url9 = \"https://www.bundestag.de/resource/blob/983288/9cb9acfcea60301d53f5516f7e3c7d42/20144.xml\"         # ÄNDERN!\n",
        "response = requests.get(url9)                                                                             # ÄNDERN!\n",
        "\n",
        "root = ET.fromstring(response.content)\n",
        "\n",
        "last_names = []\n",
        "first_names = []\n",
        "parties = []\n",
        "\n",
        "for row in root.findall('.//tr'):\n",
        "    cells = row.findall('.//td')\n",
        "    if len(cells) == 2:  # Ensure it's a valid row with two cells\n",
        "        last_name = cells[0].text.split(',')[0].strip()  # Extract last name\n",
        "        first_name = cells[0].text.split(',')[1].strip()  # Extract first name\n",
        "        party = cells[1].text  # Extract party\n",
        "        last_names.append(last_name)\n",
        "        first_names.append(first_name)\n",
        "        parties.append(party)\n",
        "\n",
        "\n",
        "df9 = pd.DataFrame({                                                                                         # Ändern!\n",
        "    'Last Name': last_names,\n",
        "    'First Name': first_names,\n",
        "    'Party': parties\n",
        "})\n",
        "\n",
        "\n",
        "Datum = \"14.12. 2023\"                                                                                       #  ÄNDERN!\n",
        "\n",
        "df9[\"Datum\"] = Datum                                                                                        # ÄNDERN!\n",
        "\n",
        "# print(df5)                                                                                                   #  ÄNDERN!"
      ],
      "metadata": {
        "id": "ZA05X2c64rZx"
      },
      "execution_count": null,
      "outputs": []
    },
    {
      "cell_type": "code",
      "source": [
        "df = df.append(df9, ignore_index=True)"
      ],
      "metadata": {
        "colab": {
          "base_uri": "https://localhost:8080/"
        },
        "id": "as7do8F842y2",
        "outputId": "4649f730-2818-4078-d915-d294251e33a4"
      },
      "execution_count": null,
      "outputs": [
        {
          "output_type": "stream",
          "name": "stderr",
          "text": [
            "<ipython-input-985-730f0da57089>:1: FutureWarning: The frame.append method is deprecated and will be removed from pandas in a future version. Use pandas.concat instead.\n",
            "  df = df.append(df9, ignore_index=True)\n"
          ]
        }
      ]
    },
    {
      "cell_type": "code",
      "source": [
        "url10 = \"https://www.bundestag.de/resource/blob/983040/d0702b2e997fa0e92c139d8f414b3fdc/20143.xml\"         # ÄNDERN!\n",
        "response = requests.get(url10)                                                                             # ÄNDERN!\n",
        "\n",
        "root = ET.fromstring(response.content)\n",
        "\n",
        "last_names = []\n",
        "first_names = []\n",
        "parties = []\n",
        "\n",
        "for tr in root.findall('.//tbody/tr'):\n",
        "    # Find all <td> elements inside <tr>\n",
        "    tds = tr.findall('.//td')\n",
        "    # Check if there are at least 2 <td> elements\n",
        "    if len(tds) >= 2:\n",
        "        # Extract text content from the first <td> element\n",
        "        text_content = tds[0].text\n",
        "        # Check if text_content is not None and not empty\n",
        "        if text_content is not None and text_content.strip():\n",
        "            # Extract full name from the first <td> element\n",
        "            full_name = text_content.strip()\n",
        "            # Check if the full name contains a comma\n",
        "            if ',' in full_name:\n",
        "                # Split full name into last name and first name\n",
        "                last_name, first_name = full_name.split(', ', 1)\n",
        "                # Extract party from the second <td> element\n",
        "                party = tds[1].text.strip()\n",
        "\n",
        "    last_names.append(last_name)\n",
        "    first_names.append(first_name)\n",
        "    parties.append(party)\n",
        "\n",
        "\n",
        "df10 = pd.DataFrame({                                                                                         # Ändern!\n",
        "    'Last Name': last_names,\n",
        "    'First Name': first_names,\n",
        "    'Party': parties\n",
        "})\n",
        "\n",
        "\n",
        "Datum = \"13.12. 2023\"                                                                                       #  ÄNDERN!\n",
        "\n",
        "df10[\"Datum\"] = Datum                                                                                        # ÄNDERN!\n",
        "\n",
        "print(df10)                                                                                                   #  ÄNDERN!"
      ],
      "metadata": {
        "colab": {
          "base_uri": "https://localhost:8080/"
        },
        "id": "_ZfxHZOP4_fB",
        "outputId": "60e779e0-2ed7-46ae-bbfc-c4fe369aa595"
      },
      "execution_count": null,
      "outputs": [
        {
          "output_type": "stream",
          "name": "stdout",
          "text": [
            "     Last Name First Name                   Party        Datum\n",
            "0         Witt        Uwe            fraktionslos  13.12. 2023\n",
            "1     Amtsberg      Luise  BÜNDNIS 90/ DIE GRÜNEN  13.12. 2023\n",
            "2        Annen      Niels                     SPD  13.12. 2023\n",
            "3     Baerbock   Annalena  BÜNDNIS 90/ DIE GRÜNEN  13.12. 2023\n",
            "4    Borchardt     Simone                 CDU/CSU  13.12. 2023\n",
            "..         ...        ...                     ...          ...\n",
            "135       Witt        Uwe            fraktionslos  13.12. 2023\n",
            "136       Witt        Uwe            fraktionslos  13.12. 2023\n",
            "137       Witt        Uwe            fraktionslos  13.12. 2023\n",
            "138       Witt        Uwe            fraktionslos  13.12. 2023\n",
            "139       Witt        Uwe            fraktionslos  13.12. 2023\n",
            "\n",
            "[140 rows x 4 columns]\n"
          ]
        }
      ]
    },
    {
      "cell_type": "code",
      "source": [
        "df10 = df10.iloc[:-87]\n"
      ],
      "metadata": {
        "id": "joWtc6XI9CKH"
      },
      "execution_count": null,
      "outputs": []
    },
    {
      "cell_type": "code",
      "source": [
        "print(df10)"
      ],
      "metadata": {
        "colab": {
          "base_uri": "https://localhost:8080/"
        },
        "id": "UOiFLbgT9ThK",
        "outputId": "e534841b-fff1-443d-ddae-e8103de59e81"
      },
      "execution_count": null,
      "outputs": [
        {
          "output_type": "stream",
          "name": "stdout",
          "text": [
            "             Last Name                              First Name  \\\n",
            "0                 Witt                                     Uwe   \n",
            "1             Amtsberg                                   Luise   \n",
            "2                Annen                                   Niels   \n",
            "3             Baerbock                                Annalena   \n",
            "4            Borchardt                                  Simone   \n",
            "5           Christmann                                Dr. Anna   \n",
            "6              Damerow                                  Astrid   \n",
            "7              Deligöz                                    Ekin   \n",
            "8                Dietz                                  Thomas   \n",
            "9                 Dürr                               Christian   \n",
            "10             Fechner                            Dr. Johannes   \n",
            "11               Funke                                  Fabian   \n",
            "12            Ganserer                                   Tessa   \n",
            "13            Gramling                                  Fabian   \n",
            "14         Grützmacher                                  Sabine   \n",
            "15             Gutting                                    Olav   \n",
            "16       Harder-Kühnel                            Mariana Iris   \n",
            "17               Hardt                                  Jürgen   \n",
            "18        Heil (Peine)                                Hubertus   \n",
            "19                Hess                                  Martin   \n",
            "20          Irlstorfer                                   Erich   \n",
            "21           Juratovic                                   Josip   \n",
            "22          Kassautzki                                    Anna   \n",
            "23                Kopf                                 Chantal   \n",
            "24               Lemke                                  Steffi   \n",
            "25            Lindholz                                  Andrea   \n",
            "26            Malottki                                Erik von   \n",
            "27            Mansoori                                   Kaweh   \n",
            "28         Mehltretter                                 Andreas   \n",
            "29             Moncsek                                    Mike   \n",
            "30         Müntefering                                Michelle   \n",
            "31              Nestle                              Dr. Ingrid   \n",
            "32            Pantazis                            Dr. Christos   \n",
            "33       Post (Minden)                                   Achim   \n",
            "34              Redder                              Dr. Volker   \n",
            "35                 Rix                                   Sönke   \n",
            "36           Rosenthal     Jessica (gesetzlicher Mutterschutz)   \n",
            "37            Schamber                                 Rebecca   \n",
            "38             Schätzl                                Johannes   \n",
            "39             Schimke                                    Jana   \n",
            "40             Schmidt                                     Uwe   \n",
            "41               Schön                                  Nadine   \n",
            "42              Schulz                                     Uwe   \n",
            "43             Schulze                                  Svenja   \n",
            "44             Schwabe                                   Frank   \n",
            "45             Spaniel                                Dr. Dirk   \n",
            "46           Steiniger                                Johannes   \n",
            "47             Sthamer                                   Nadja   \n",
            "48              Storch                             Beatrix von   \n",
            "49              Stumpp  Christina* (gesetzlicher Mutterschutz)   \n",
            "50               Thews                                 Michael   \n",
            "51           Wallstein                                    Maja   \n",
            "52  Walter-Rosenheimer                                   Beate   \n",
            "\n",
            "                     Party        Datum  \n",
            "0             fraktionslos  13.12. 2023  \n",
            "1   BÜNDNIS 90/ DIE GRÜNEN  13.12. 2023  \n",
            "2                      SPD  13.12. 2023  \n",
            "3   BÜNDNIS 90/ DIE GRÜNEN  13.12. 2023  \n",
            "4                  CDU/CSU  13.12. 2023  \n",
            "5   BÜNDNIS 90/ DIE GRÜNEN  13.12. 2023  \n",
            "6                  CDU/CSU  13.12. 2023  \n",
            "7   BÜNDNIS 90/ DIE GRÜNEN  13.12. 2023  \n",
            "8                      AfD  13.12. 2023  \n",
            "9                      FDP  13.12. 2023  \n",
            "10                     SPD  13.12. 2023  \n",
            "11                     SPD  13.12. 2023  \n",
            "12  BÜNDNIS 90/ DIE GRÜNEN  13.12. 2023  \n",
            "13                 CDU/CSU  13.12. 2023  \n",
            "14  BÜNDNIS 90/ DIE GRÜNEN  13.12. 2023  \n",
            "15                 CDU/CSU  13.12. 2023  \n",
            "16                     AfD  13.12. 2023  \n",
            "17                 CDU/CSU  13.12. 2023  \n",
            "18                     SPD  13.12. 2023  \n",
            "19                     AfD  13.12. 2023  \n",
            "20                 CDU/CSU  13.12. 2023  \n",
            "21                     SPD  13.12. 2023  \n",
            "22                     SPD  13.12. 2023  \n",
            "23  BÜNDNIS 90/ DIE GRÜNEN  13.12. 2023  \n",
            "24  BÜNDNIS 90/ DIE GRÜNEN  13.12. 2023  \n",
            "25                 CDU/CSU  13.12. 2023  \n",
            "26                     SPD  13.12. 2023  \n",
            "27                     SPD  13.12. 2023  \n",
            "28                     SPD  13.12. 2023  \n",
            "29                     AfD  13.12. 2023  \n",
            "30                     SPD  13.12. 2023  \n",
            "31  BÜNDNIS 90/ DIE GRÜNEN  13.12. 2023  \n",
            "32                     SPD  13.12. 2023  \n",
            "33                     SPD  13.12. 2023  \n",
            "34                     FDP  13.12. 2023  \n",
            "35                     SPD  13.12. 2023  \n",
            "36                     SPD  13.12. 2023  \n",
            "37                     SPD  13.12. 2023  \n",
            "38                     SPD  13.12. 2023  \n",
            "39                 CDU/CSU  13.12. 2023  \n",
            "40                     SPD  13.12. 2023  \n",
            "41                 CDU/CSU  13.12. 2023  \n",
            "42                     AfD  13.12. 2023  \n",
            "43                     SPD  13.12. 2023  \n",
            "44                     SPD  13.12. 2023  \n",
            "45                     AfD  13.12. 2023  \n",
            "46                 CDU/CSU  13.12. 2023  \n",
            "47                     SPD  13.12. 2023  \n",
            "48                     AfD  13.12. 2023  \n",
            "49                 CDU/CSU  13.12. 2023  \n",
            "50                     SPD  13.12. 2023  \n",
            "51                     SPD  13.12. 2023  \n",
            "52  BÜNDNIS 90/ DIE GRÜNEN  13.12. 2023  \n"
          ]
        }
      ]
    },
    {
      "cell_type": "code",
      "source": [
        "df = df.append(df10, ignore_index=True)"
      ],
      "metadata": {
        "colab": {
          "base_uri": "https://localhost:8080/"
        },
        "id": "R8oMRYE09dkI",
        "outputId": "d8286426-7ae3-465a-adcf-ca4e75f98857"
      },
      "execution_count": null,
      "outputs": [
        {
          "output_type": "stream",
          "name": "stderr",
          "text": [
            "<ipython-input-989-6ad9bf1b6796>:1: FutureWarning: The frame.append method is deprecated and will be removed from pandas in a future version. Use pandas.concat instead.\n",
            "  df = df.append(df10, ignore_index=True)\n"
          ]
        }
      ]
    },
    {
      "cell_type": "code",
      "source": [
        "url11 = \"https://www.bundestag.de/resource/blob/980660/68ad56c60796aacbe3ef2442bf2efd4d/20141.xml\"         # ÄNDERN!\n",
        "response = requests.get(url11)                                                                             # ÄNDERN!\n",
        "\n",
        "root = ET.fromstring(response.content)\n",
        "\n",
        "last_names = []\n",
        "first_names = []\n",
        "parties = []\n",
        "\n",
        "for row in root.findall('.//tr'):\n",
        "    cells = row.findall('.//td')\n",
        "    if len(cells) == 2:  # Ensure it's a valid row with two cells\n",
        "        last_name = cells[0].text.split(',')[0].strip()  # Extract last name\n",
        "        first_name = cells[0].text.split(',')[1].strip()  # Extract first name\n",
        "        party = cells[1].text  # Extract party\n",
        "        last_names.append(last_name)\n",
        "        first_names.append(first_name)\n",
        "        parties.append(party)\n",
        "\n",
        "\n",
        "df11 = pd.DataFrame({                                                                                         # Ändern!\n",
        "    'Last Name': last_names,\n",
        "    'First Name': first_names,\n",
        "    'Party': parties\n",
        "})\n",
        "\n",
        "\n",
        "Datum = \"30.11. 2023\"                                                                                       #  ÄNDERN!\n",
        "\n",
        "df11[\"Datum\"] = Datum                                                                                        # ÄNDERN!\n",
        "\n",
        "print(df11)                                                                                                   #  ÄNDERN!"
      ],
      "metadata": {
        "colab": {
          "base_uri": "https://localhost:8080/"
        },
        "id": "_MfcMOyO9goE",
        "outputId": "ac62819f-41b2-4e14-9e83-dccf90402ea2"
      },
      "execution_count": null,
      "outputs": [
        {
          "output_type": "stream",
          "name": "stdout",
          "text": [
            "             Last Name     First Name                   Party        Datum\n",
            "0                 Abdi          Sanae                     SPD  30.11. 2023\n",
            "1             Baerbock       Annalena  BÜNDNIS 90/ DIE GRÜNEN  30.11. 2023\n",
            "2              Bartelt      Christian                     FDP  30.11. 2023\n",
            "3                 Baum  Dr. Christina                     AfD  30.11. 2023\n",
            "4              Beckamp          Roger                     AfD  30.11. 2023\n",
            "..                 ...            ...                     ...          ...\n",
            "62        Todtenhausen        Manfred                     FDP  30.11. 2023\n",
            "63           Verlinden      Dr. Julia  BÜNDNIS 90/ DIE GRÜNEN  30.11. 2023\n",
            "64  Walter-Rosenheimer          Beate  BÜNDNIS 90/ DIE GRÜNEN  30.11. 2023\n",
            "65                Witt            Uwe            fraktionslos  30.11. 2023\n",
            "66             Zeulner           Emmi                 CDU/CSU  30.11. 2023\n",
            "\n",
            "[67 rows x 4 columns]\n"
          ]
        }
      ]
    },
    {
      "cell_type": "code",
      "source": [
        "df = df.append(df11, ignore_index=True)"
      ],
      "metadata": {
        "colab": {
          "base_uri": "https://localhost:8080/"
        },
        "id": "sRhGqCvV-CfY",
        "outputId": "93712f73-deb9-4b09-8442-a2b187121ca7"
      },
      "execution_count": null,
      "outputs": [
        {
          "output_type": "stream",
          "name": "stderr",
          "text": [
            "<ipython-input-991-062894677ebf>:1: FutureWarning: The frame.append method is deprecated and will be removed from pandas in a future version. Use pandas.concat instead.\n",
            "  df = df.append(df11, ignore_index=True)\n"
          ]
        }
      ]
    },
    {
      "cell_type": "code",
      "source": [
        "url12 = \"https://www.bundestag.de/resource/blob/981140/e3fd6f019eb105457cd4fb3a15015c04/20142.xml\"         # ÄNDERN!\n",
        "response = requests.get(url12)                                                                             # ÄNDERN!\n",
        "\n",
        "root = ET.fromstring(response.content)\n",
        "\n",
        "last_names = []\n",
        "first_names = []\n",
        "parties = []\n",
        "\n",
        "for row in root.findall('.//tr'):\n",
        "    cells = row.findall('.//td')\n",
        "    if len(cells) == 2:  # Ensure it's a valid row with two cells\n",
        "        last_name = cells[0].text.split(',')[0].strip()  # Extract last name\n",
        "        first_name = cells[0].text.split(',')[1].strip()  # Extract first name\n",
        "        party = cells[1].text  # Extract party\n",
        "        last_names.append(last_name)\n",
        "        first_names.append(first_name)\n",
        "        parties.append(party)\n",
        "\n",
        "\n",
        "df12 = pd.DataFrame({                                                                                         # Ändern!\n",
        "    'Last Name': last_names,\n",
        "    'First Name': first_names,\n",
        "    'Party': parties\n",
        "})\n",
        "\n",
        "\n",
        "Datum = \"01.12. 2023\"                                                                                       #  ÄNDERN!\n",
        "\n",
        "df12[\"Datum\"] = Datum                                                                                        # ÄNDERN!\n",
        "\n",
        "print(df12)                                                                                                   #  ÄNDERN!"
      ],
      "metadata": {
        "colab": {
          "base_uri": "https://localhost:8080/"
        },
        "id": "xmWejMv--GLt",
        "outputId": "3a6bf0df-8643-4e13-c6f4-010e8f02656f"
      },
      "execution_count": null,
      "outputs": [
        {
          "output_type": "stream",
          "name": "stdout",
          "text": [
            "             Last Name     First Name                   Party        Datum\n",
            "0                 Abdi          Sanae                     SPD  01.12. 2023\n",
            "1             Bacherle      Tobias B.  BÜNDNIS 90/ DIE GRÜNEN  01.12. 2023\n",
            "2                Badum           Lisa  BÜNDNIS 90/ DIE GRÜNEN  01.12. 2023\n",
            "3              Bartelt      Christian                     FDP  01.12. 2023\n",
            "4                 Baum  Dr. Christina                     AfD  01.12. 2023\n",
            "..                 ...            ...                     ...          ...\n",
            "76              Ulrich      Alexander               DIE LINKE  01.12. 2023\n",
            "77           Verlinden      Dr. Julia  BÜNDNIS 90/ DIE GRÜNEN  01.12. 2023\n",
            "78  Walter-Rosenheimer          Beate  BÜNDNIS 90/ DIE GRÜNEN  01.12. 2023\n",
            "79                Witt            Uwe            fraktionslos  01.12. 2023\n",
            "80             Zeulner           Emmi                 CDU/CSU  01.12. 2023\n",
            "\n",
            "[81 rows x 4 columns]\n"
          ]
        }
      ]
    },
    {
      "cell_type": "code",
      "source": [
        "df = df.append(df12, ignore_index=True)"
      ],
      "metadata": {
        "colab": {
          "base_uri": "https://localhost:8080/"
        },
        "id": "5NkFvPI7-nbR",
        "outputId": "308fde13-9c6b-4e83-9d05-31cb6250e88c"
      },
      "execution_count": null,
      "outputs": [
        {
          "output_type": "stream",
          "name": "stderr",
          "text": [
            "<ipython-input-993-a848a5e69290>:1: FutureWarning: The frame.append method is deprecated and will be removed from pandas in a future version. Use pandas.concat instead.\n",
            "  df = df.append(df12, ignore_index=True)\n"
          ]
        }
      ]
    },
    {
      "cell_type": "code",
      "source": [
        "url13 = \"https://www.bundestag.de/resource/blob/980456/5969aea680255030998f412a4637f67c/20140.xml\"         # ÄNDERN!\n",
        "response = requests.get(url13)                                                                             # ÄNDERN!\n",
        "\n",
        "root = ET.fromstring(response.content)\n",
        "\n",
        "last_names = []\n",
        "first_names = []\n",
        "parties = []\n",
        "\n",
        "for row in root.findall('.//tr'):\n",
        "    cells = row.findall('.//td')\n",
        "    if len(cells) == 2:  # Ensure it's a valid row with two cells\n",
        "        last_name = cells[0].text.split(',')[0].strip()  # Extract last name\n",
        "        first_name = cells[0].text.split(',')[1].strip()  # Extract first name\n",
        "        party = cells[1].text  # Extract party\n",
        "        last_names.append(last_name)\n",
        "        first_names.append(first_name)\n",
        "        parties.append(party)\n",
        "\n",
        "\n",
        "df13 = pd.DataFrame({                                                                                         # Ändern!\n",
        "    'Last Name': last_names,\n",
        "    'First Name': first_names,\n",
        "    'Party': parties\n",
        "})\n",
        "\n",
        "\n",
        "Datum = \"29.11. 2023\"                                                                                       #  ÄNDERN!\n",
        "\n",
        "df13[\"Datum\"] = Datum                                                                                        # ÄNDERN!\n",
        "\n",
        "print(df13)                                                                                                   #  ÄNDERN!"
      ],
      "metadata": {
        "colab": {
          "base_uri": "https://localhost:8080/"
        },
        "id": "OIJJEP9w-r56",
        "outputId": "09cfded4-43c7-457b-cd55-c842ab0dc6a9"
      },
      "execution_count": null,
      "outputs": [
        {
          "output_type": "stream",
          "name": "stdout",
          "text": [
            "             Last Name                           First Name  \\\n",
            "0                 Abdi                                Sanae   \n",
            "1             Baerbock                             Annalena   \n",
            "2              Bartelt                            Christian   \n",
            "3                 Baum                        Dr. Christina   \n",
            "4              Beckamp                                Roger   \n",
            "5              Bystron                                 Petr   \n",
            "6                Czaja                                Mario   \n",
            "7             Dağdelen                                Sevim   \n",
            "8            De Ridder                          Dr. Daniela   \n",
            "9               Dieren                                  Jan   \n",
            "10              Düring                              Deborah   \n",
            "11              Feiler                                  Uwe   \n",
            "12        Funke-Kaiser                           Maximilian   \n",
            "13         Grützmacher                               Sabine   \n",
            "14           Hagl-Kehl                                 Rita   \n",
            "15              Harzer                               Ulrike   \n",
            "16            Hellmich                             Wolfgang   \n",
            "17            Herrmann                             Bernhard   \n",
            "18              Höchst                               Nicole   \n",
            "19                 Huy                               Gerrit   \n",
            "20          Irlstorfer                                Erich   \n",
            "21               Junge                                Frank   \n",
            "22             Kellner                              Michael   \n",
            "23              Körber                              Carsten   \n",
            "24             Lehmann                                 Sven   \n",
            "25             Lehmann                               Sylvia   \n",
            "26            Lindholz                               Andrea   \n",
            "27             Lindner                           Dr. Tobias   \n",
            "28                Loop                               Denise   \n",
            "29            Mascheck                            Franziska   \n",
            "30              Meiser                               Pascal   \n",
            "31         Mohamed Ali                                Amira   \n",
            "32            Moosdorf                             Matthias   \n",
            "33              Naujok                                Edgar   \n",
            "34                Pohl                               Jürgen   \n",
            "35              Rachel                               Thomas   \n",
            "36           Rosenthal  Jessica (gesetzlicher Mutterschutz)   \n",
            "37             Schäfer                                 Ingo   \n",
            "38             Schäfer                               Jamila   \n",
            "39             Scheuer                              Andreas   \n",
            "40             Schmidt                                  Uwe   \n",
            "41         Schönberger                              Marlene   \n",
            "42        Schulz-Asche                              Kordula   \n",
            "43      Seestern-Pauly                             Matthias   \n",
            "44         Spellerberg                                Merle   \n",
            "45         Steinmüller                                Hanna   \n",
            "46     Strengmann-Kuhn                         Dr. Wolfgang   \n",
            "47               Throm                            Alexander   \n",
            "48        Todtenhausen                              Manfred   \n",
            "49           Verlinden                            Dr. Julia   \n",
            "50  Walter-Rosenheimer                                Beate   \n",
            "51                Witt                                  Uwe   \n",
            "\n",
            "                     Party        Datum  \n",
            "0                      SPD  29.11. 2023  \n",
            "1   BÜNDNIS 90/ DIE GRÜNEN  29.11. 2023  \n",
            "2                      FDP  29.11. 2023  \n",
            "3                      AfD  29.11. 2023  \n",
            "4                      AfD  29.11. 2023  \n",
            "5                      AfD  29.11. 2023  \n",
            "6                  CDU/CSU  29.11. 2023  \n",
            "7                DIE LINKE  29.11. 2023  \n",
            "8                      SPD  29.11. 2023  \n",
            "9                      SPD  29.11. 2023  \n",
            "10  BÜNDNIS 90/ DIE GRÜNEN  29.11. 2023  \n",
            "11                 CDU/CSU  29.11. 2023  \n",
            "12                     FDP  29.11. 2023  \n",
            "13  BÜNDNIS 90/ DIE GRÜNEN  29.11. 2023  \n",
            "14                     SPD  29.11. 2023  \n",
            "15                     FDP  29.11. 2023  \n",
            "16                     SPD  29.11. 2023  \n",
            "17  BÜNDNIS 90/ DIE GRÜNEN  29.11. 2023  \n",
            "18                     AfD  29.11. 2023  \n",
            "19                     AfD  29.11. 2023  \n",
            "20                 CDU/CSU  29.11. 2023  \n",
            "21                     SPD  29.11. 2023  \n",
            "22  BÜNDNIS 90/ DIE GRÜNEN  29.11. 2023  \n",
            "23                 CDU/CSU  29.11. 2023  \n",
            "24  BÜNDNIS 90/ DIE GRÜNEN  29.11. 2023  \n",
            "25                     SPD  29.11. 2023  \n",
            "26                 CDU/CSU  29.11. 2023  \n",
            "27  BÜNDNIS 90/ DIE GRÜNEN  29.11. 2023  \n",
            "28  BÜNDNIS 90/ DIE GRÜNEN  29.11. 2023  \n",
            "29                     SPD  29.11. 2023  \n",
            "30               DIE LINKE  29.11. 2023  \n",
            "31               DIE LINKE  29.11. 2023  \n",
            "32                     AfD  29.11. 2023  \n",
            "33                     AfD  29.11. 2023  \n",
            "34                     AfD  29.11. 2023  \n",
            "35                 CDU/CSU  29.11. 2023  \n",
            "36                     SPD  29.11. 2023  \n",
            "37                     SPD  29.11. 2023  \n",
            "38  BÜNDNIS 90/ DIE GRÜNEN  29.11. 2023  \n",
            "39                 CDU/CSU  29.11. 2023  \n",
            "40                     SPD  29.11. 2023  \n",
            "41  BÜNDNIS 90/ DIE GRÜNEN  29.11. 2023  \n",
            "42  BÜNDNIS 90/ DIE GRÜNEN  29.11. 2023  \n",
            "43                     FDP  29.11. 2023  \n",
            "44  BÜNDNIS 90/ DIE GRÜNEN  29.11. 2023  \n",
            "45  BÜNDNIS 90/ DIE GRÜNEN  29.11. 2023  \n",
            "46  BÜNDNIS 90/ DIE GRÜNEN  29.11. 2023  \n",
            "47                 CDU/CSU  29.11. 2023  \n",
            "48                     FDP  29.11. 2023  \n",
            "49  BÜNDNIS 90/ DIE GRÜNEN  29.11. 2023  \n",
            "50  BÜNDNIS 90/ DIE GRÜNEN  29.11. 2023  \n",
            "51            fraktionslos  29.11. 2023  \n"
          ]
        }
      ]
    },
    {
      "cell_type": "code",
      "source": [
        "df = df.append(df13, ignore_index=True)                                                                 # Ändern!"
      ],
      "metadata": {
        "colab": {
          "base_uri": "https://localhost:8080/"
        },
        "id": "EwSy6i9l-8Tb",
        "outputId": "87bbc734-4195-4d47-ce7a-fabfa844d471"
      },
      "execution_count": null,
      "outputs": [
        {
          "output_type": "stream",
          "name": "stderr",
          "text": [
            "<ipython-input-995-c02d7d0a3e15>:1: FutureWarning: The frame.append method is deprecated and will be removed from pandas in a future version. Use pandas.concat instead.\n",
            "  df = df.append(df13, ignore_index=True)                                                                 # Ändern!\n"
          ]
        }
      ]
    },
    {
      "cell_type": "code",
      "source": [
        "url14 = \"https://www.bundestag.de/resource/blob/980400/6647129b8303462a70e527372cdfae6b/20139.xml\"         # ÄNDERN!\n",
        "response = requests.get(url14)                                                                             # ÄNDERN!\n",
        "\n",
        "root = ET.fromstring(response.content)\n",
        "\n",
        "last_names = []\n",
        "first_names = []\n",
        "parties = []\n",
        "\n",
        "for row in root.findall('.//tr'):\n",
        "    cells = row.findall('.//td')\n",
        "    if len(cells) == 2:  # Ensure it's a valid row with two cells\n",
        "        last_name = cells[0].text.split(',')[0].strip()  # Extract last name\n",
        "        first_name = cells[0].text.split(',')[1].strip()  # Extract first name\n",
        "        party = cells[1].text  # Extract party\n",
        "        last_names.append(last_name)\n",
        "        first_names.append(first_name)\n",
        "        parties.append(party)\n",
        "\n",
        "\n",
        "df14 = pd.DataFrame({                                                                                         # Ändern!\n",
        "    'Last Name': last_names,\n",
        "    'First Name': first_names,\n",
        "    'Party': parties\n",
        "})\n",
        "\n",
        "\n",
        "Datum = \"28.11. 2023\"                                                                                       #  ÄNDERN!\n",
        "\n",
        "df14[\"Datum\"] = Datum                                                                                        # ÄNDERN!\n",
        "\n",
        "print(df14)                                                                                                   #  ÄNDERN!"
      ],
      "metadata": {
        "colab": {
          "base_uri": "https://localhost:8080/"
        },
        "id": "j7AKYua9_F5t",
        "outputId": "6496af11-90dd-4045-9cc5-b07f7d2cad75"
      },
      "execution_count": null,
      "outputs": [
        {
          "output_type": "stream",
          "name": "stdout",
          "text": [
            "             Last Name                           First Name  \\\n",
            "0                 Abdi                                Saane   \n",
            "1              Bartelt                            Christian   \n",
            "2                 Baum                        Dr. Christina   \n",
            "3              Beckamp                                Roger   \n",
            "4            Borchardt                               Simone   \n",
            "5              Bystron                                 Petr   \n",
            "6                Czaja                                Mario   \n",
            "7             Dağdelen                                Sevim   \n",
            "8            De Ridder                          Dr. Daniela   \n",
            "9               Dieren                                  Jan   \n",
            "10              Düring                              Deborah   \n",
            "11        Funke-Kaiser                           Maximilian   \n",
            "12         Grützmacher                               Sabine   \n",
            "13              Hacker                               Thomas   \n",
            "14           Hagl-Kehl                                 Rita   \n",
            "15              Harzer                               Ulrike   \n",
            "16            Herrmann                             Bernhard   \n",
            "17              Hessel                                Katja   \n",
            "18              Höchst                               Nicole   \n",
            "19                 Huy                               Gerrit   \n",
            "20          Irlstorfer                                Erich   \n",
            "21     Kappert-Gonther                          Dr. Kirsten   \n",
            "22              Körber                              Carsten   \n",
            "23           Krichbaum                              Gunther   \n",
            "24                 Lay                                Caren   \n",
            "25             Lehmann                                 Sven   \n",
            "26             Lehmann                               Sylvia   \n",
            "27            Lindholz                               Andrea   \n",
            "28             Lindner                           Dr. Tobias   \n",
            "29                Loop                               Denise   \n",
            "30            Malottki                             Erik von   \n",
            "31            Mascheck                            Franziska   \n",
            "32              Meiser                               Pascal   \n",
            "33            Moosdorf                             Matthias   \n",
            "34              Naujok                                Edgar   \n",
            "35                Pohl                               Jürgen   \n",
            "36              Rachel                               Thomas   \n",
            "37           Rosenthal  Jessica (gesetzlicher Mutterschutz)   \n",
            "38             Schäfer                                 Ingo   \n",
            "39             Schäfer                               Jamila   \n",
            "40             Scheuer                              Andreas   \n",
            "41             Schmidt                                  Uwe   \n",
            "42              Schulz                                  Uwe   \n",
            "43        Schulz-Asche                              Kordula   \n",
            "44             Schwabe                                Frank   \n",
            "45      Seestern-Pauly                             Matthias   \n",
            "46         Spellerberg                                Merle   \n",
            "47     Strengmann-Kuhn                         Dr. Wolfgang   \n",
            "48        Todtenhausen                              Manfred   \n",
            "49           Verlinden                            Dr. Julia   \n",
            "50  Walter-Rosenheimer                                Beate   \n",
            "51             Wegling                              Melanie   \n",
            "52                Witt                                  Uwe   \n",
            "\n",
            "                     Party        Datum  \n",
            "0                      SPD  28.11. 2023  \n",
            "1                      FDP  28.11. 2023  \n",
            "2                      AfD  28.11. 2023  \n",
            "3                      AfD  28.11. 2023  \n",
            "4                  CDU/CSU  28.11. 2023  \n",
            "5                      AfD  28.11. 2023  \n",
            "6                  CDU/CSU  28.11. 2023  \n",
            "7                DIE LINKE  28.11. 2023  \n",
            "8                      SPD  28.11. 2023  \n",
            "9                      SPD  28.11. 2023  \n",
            "10  BÜNDNIS 90/ DIE GRÜNEN  28.11. 2023  \n",
            "11                     FDP  28.11. 2023  \n",
            "12  BÜNDNIS 90/ DIE GRÜNEN  28.11. 2023  \n",
            "13                     FDP  28.11. 2023  \n",
            "14                     SPD  28.11. 2023  \n",
            "15                     FDP  28.11. 2023  \n",
            "16  BÜNDNIS 90/ DIE GRÜNEN  28.11. 2023  \n",
            "17                     FDP  28.11. 2023  \n",
            "18                     AfD  28.11. 2023  \n",
            "19                     AfD  28.11. 2023  \n",
            "20                 CDU/CSU  28.11. 2023  \n",
            "21  BÜNDNIS 90/ DIE GRÜNEN  28.11. 2023  \n",
            "22                 CDU/CSU  28.11. 2023  \n",
            "23                 CDU/CSU  28.11. 2023  \n",
            "24               DIE LINKE  28.11. 2023  \n",
            "25  BÜNDNIS 90/ DIE GRÜNEN  28.11. 2023  \n",
            "26                     SPD  28.11. 2023  \n",
            "27                 CDU/CSU  28.11. 2023  \n",
            "28  BÜNDNIS 90/ DIE GRÜNEN  28.11. 2023  \n",
            "29  BÜNDNIS 90/ DIE GRÜNEN  28.11. 2023  \n",
            "30                     SPD  28.11. 2023  \n",
            "31                     SPD  28.11. 2023  \n",
            "32               DIE LINKE  28.11. 2023  \n",
            "33                     AfD  28.11. 2023  \n",
            "34                     AfD  28.11. 2023  \n",
            "35                     AfD  28.11. 2023  \n",
            "36                 CDU/CSU  28.11. 2023  \n",
            "37                     SPD  28.11. 2023  \n",
            "38                     SPD  28.11. 2023  \n",
            "39  BÜNDNIS 90/ DIE GRÜNEN  28.11. 2023  \n",
            "40                 CDU/CSU  28.11. 2023  \n",
            "41                     SPD  28.11. 2023  \n",
            "42                     AfD  28.11. 2023  \n",
            "43  BÜNDNIS 90/ DIE GRÜNEN  28.11. 2023  \n",
            "44                     SPD  28.11. 2023  \n",
            "45                     FDP  28.11. 2023  \n",
            "46  BÜNDNIS 90/ DIE GRÜNEN  28.11. 2023  \n",
            "47  BÜNDNIS 90/ DIE GRÜNEN  28.11. 2023  \n",
            "48                     FDP  28.11. 2023  \n",
            "49  BÜNDNIS 90/ DIE GRÜNEN  28.11. 2023  \n",
            "50  BÜNDNIS 90/ DIE GRÜNEN  28.11. 2023  \n",
            "51                     SPD  28.11. 2023  \n",
            "52            fraktionslos  28.11. 2023  \n"
          ]
        }
      ]
    },
    {
      "cell_type": "code",
      "source": [
        "df = df.append(df14, ignore_index=True)                                                                 # Ändern!"
      ],
      "metadata": {
        "colab": {
          "base_uri": "https://localhost:8080/"
        },
        "id": "0sidEETa_ByE",
        "outputId": "548ba739-2a8a-42c4-c4a6-c891c644a870"
      },
      "execution_count": null,
      "outputs": [
        {
          "output_type": "stream",
          "name": "stderr",
          "text": [
            "<ipython-input-997-9adb214f0109>:1: FutureWarning: The frame.append method is deprecated and will be removed from pandas in a future version. Use pandas.concat instead.\n",
            "  df = df.append(df14, ignore_index=True)                                                                 # Ändern!\n"
          ]
        }
      ]
    },
    {
      "cell_type": "code",
      "source": [
        "url15 = \"https://www.bundestag.de/resource/blob/978658/bdf2348c53f3eeec82edeaffb9a136ac/20138.xml\"         # ÄNDERN!\n",
        "response = requests.get(url15)                                                                             # ÄNDERN!\n",
        "\n",
        "root = ET.fromstring(response.content)\n",
        "\n",
        "last_names = []\n",
        "first_names = []\n",
        "parties = []\n",
        "\n",
        "for row in root.findall('.//tr'):\n",
        "    cells = row.findall('.//td')\n",
        "    if len(cells) == 2:  # Ensure it's a valid row with two cells\n",
        "        last_name = cells[0].text.split(',')[0].strip()  # Extract last name\n",
        "        first_name = cells[0].text.split(',')[1].strip()  # Extract first name\n",
        "        party = cells[1].text  # Extract party\n",
        "        last_names.append(last_name)\n",
        "        first_names.append(first_name)\n",
        "        parties.append(party)\n",
        "\n",
        "\n",
        "df15 = pd.DataFrame({                                                                                         # Ändern!\n",
        "    'Last Name': last_names,\n",
        "    'First Name': first_names,\n",
        "    'Party': parties\n",
        "})\n",
        "\n",
        "\n",
        "Datum = \"17.11. 2023\"                                                                                       #  ÄNDERN!\n",
        "\n",
        "df15[\"Datum\"] = Datum                                                                                        # ÄNDERN!\n",
        "\n",
        "#print(df14)                                                                                                   #  ÄNDERN!"
      ],
      "metadata": {
        "id": "y_WpeMcT_YzD"
      },
      "execution_count": null,
      "outputs": []
    },
    {
      "cell_type": "code",
      "source": [
        "df = df.append(df15, ignore_index=True)                                                                 # Ändern!"
      ],
      "metadata": {
        "colab": {
          "base_uri": "https://localhost:8080/"
        },
        "id": "K8sO7rXs_o4d",
        "outputId": "3845549a-8c66-4fdf-ff67-89802ef5bf27"
      },
      "execution_count": null,
      "outputs": [
        {
          "output_type": "stream",
          "name": "stderr",
          "text": [
            "<ipython-input-999-e1cdf5b6636f>:1: FutureWarning: The frame.append method is deprecated and will be removed from pandas in a future version. Use pandas.concat instead.\n",
            "  df = df.append(df15, ignore_index=True)                                                                 # Ändern!\n"
          ]
        }
      ]
    },
    {
      "cell_type": "code",
      "source": [
        "url16 = \"https://www.bundestag.de/resource/blob/978194/efe72e76414090f020a1088b4669e95b/20136.xml\"         # ÄNDERN!\n",
        "response = requests.get(url16)                                                                             # ÄNDERN!\n",
        "\n",
        "root = ET.fromstring(response.content)\n",
        "\n",
        "last_names = []\n",
        "first_names = []\n",
        "parties = []\n",
        "\n",
        "for row in root.findall('.//tr'):\n",
        "    cells = row.findall('.//td')\n",
        "    if len(cells) == 2:  # Ensure it's a valid row with two cells\n",
        "        last_name = cells[0].text.split(',')[0].strip()  # Extract last name\n",
        "        first_name = cells[0].text.split(',')[1].strip()  # Extract first name\n",
        "        party = cells[1].text  # Extract party\n",
        "        last_names.append(last_name)\n",
        "        first_names.append(first_name)\n",
        "        parties.append(party)\n",
        "\n",
        "\n",
        "df16 = pd.DataFrame({                                                                                         # Ändern!\n",
        "    'Last Name': last_names,\n",
        "    'First Name': first_names,\n",
        "    'Party': parties\n",
        "})\n",
        "\n",
        "\n",
        "Datum = \"15.11. 2023\"                                                                                       #  ÄNDERN!\n",
        "\n",
        "df16[\"Datum\"] = Datum                                                                                        # ÄNDERN!\n",
        "\n",
        "#print(df14)                                                                                                   #  ÄNDERN!"
      ],
      "metadata": {
        "id": "nLEwTUew_u8X"
      },
      "execution_count": null,
      "outputs": []
    },
    {
      "cell_type": "code",
      "source": [
        "df = df.append(df16, ignore_index=True)                                                                 # Ändern!"
      ],
      "metadata": {
        "colab": {
          "base_uri": "https://localhost:8080/"
        },
        "id": "0akqWzmS_5bk",
        "outputId": "0b9d53bd-dc88-49c1-c467-9868e79cd82a"
      },
      "execution_count": null,
      "outputs": [
        {
          "output_type": "stream",
          "name": "stderr",
          "text": [
            "<ipython-input-1001-5c7b67b75e8c>:1: FutureWarning: The frame.append method is deprecated and will be removed from pandas in a future version. Use pandas.concat instead.\n",
            "  df = df.append(df16, ignore_index=True)                                                                 # Ändern!\n"
          ]
        }
      ]
    },
    {
      "cell_type": "code",
      "source": [
        "url17 = \"https://www.bundestag.de/resource/blob/978352/26f48b5bcef489fbdab78916cbd7b0fc/20137.xml\"         # ÄNDERN!\n",
        "response = requests.get(url17)                                                                             # ÄNDERN!\n",
        "\n",
        "root = ET.fromstring(response.content)\n",
        "\n",
        "last_names = []\n",
        "first_names = []\n",
        "parties = []\n",
        "\n",
        "for row in root.findall('.//tr'):\n",
        "    cells = row.findall('.//td')\n",
        "    if len(cells) == 2:  # Ensure it's a valid row with two cells\n",
        "        last_name = cells[0].text.split(',')[0].strip()  # Extract last name\n",
        "        first_name = cells[0].text.split(',')[1].strip()  # Extract first name\n",
        "        party = cells[1].text  # Extract party\n",
        "        last_names.append(last_name)\n",
        "        first_names.append(first_name)\n",
        "        parties.append(party)\n",
        "\n",
        "\n",
        "df17 = pd.DataFrame({                                                                                         # Ändern!\n",
        "    'Last Name': last_names,\n",
        "    'First Name': first_names,\n",
        "    'Party': parties\n",
        "})\n",
        "\n",
        "\n",
        "Datum = \"16.11. 2023\"                                                                                       #  ÄNDERN!\n",
        "\n",
        "df17[\"Datum\"] = Datum                                                                                        # ÄNDERN!\n",
        "\n",
        "#print(df14)                                                                                                   #  ÄNDERN!"
      ],
      "metadata": {
        "id": "JxuCwRcqAFCk"
      },
      "execution_count": null,
      "outputs": []
    },
    {
      "cell_type": "code",
      "source": [
        "df = df.append(df17, ignore_index=True)                                                                 # Ändern!"
      ],
      "metadata": {
        "colab": {
          "base_uri": "https://localhost:8080/"
        },
        "id": "4RmDPzb4ATdy",
        "outputId": "873e35a1-8df7-41bb-8827-6791ed82fc95"
      },
      "execution_count": null,
      "outputs": [
        {
          "output_type": "stream",
          "name": "stderr",
          "text": [
            "<ipython-input-1003-8d1203975337>:1: FutureWarning: The frame.append method is deprecated and will be removed from pandas in a future version. Use pandas.concat instead.\n",
            "  df = df.append(df17, ignore_index=True)                                                                 # Ändern!\n"
          ]
        }
      ]
    },
    {
      "cell_type": "code",
      "source": [
        "url18 = \"https://www.bundestag.de/resource/blob/976684/2fd4a2fec5dbdfd2446808bd8268acbc/20134.xml\"         # ÄNDERN!\n",
        "response = requests.get(url18)                                                                             # ÄNDERN!\n",
        "\n",
        "root = ET.fromstring(response.content)\n",
        "\n",
        "last_names = []\n",
        "first_names = []\n",
        "parties = []\n",
        "\n",
        "for row in root.findall('.//tr'):\n",
        "    cells = row.findall('.//td')\n",
        "    if len(cells) == 2:  # Ensure it's a valid row with two cells\n",
        "        last_name = cells[0].text.split(',')[0].strip()  # Extract last name\n",
        "        first_name = cells[0].text.split(',')[1].strip()  # Extract first name\n",
        "        party = cells[1].text  # Extract party\n",
        "        last_names.append(last_name)\n",
        "        first_names.append(first_name)\n",
        "        parties.append(party)\n",
        "\n",
        "\n",
        "df18 = pd.DataFrame({                                                                                         # Ändern!\n",
        "    'Last Name': last_names,\n",
        "    'First Name': first_names,\n",
        "    'Party': parties\n",
        "})\n",
        "\n",
        "\n",
        "Datum = \"09.11. 2023\"                                                                                       #  ÄNDERN!\n",
        "\n",
        "df18[\"Datum\"] = Datum                                                                                        # ÄNDERN!\n",
        "\n",
        "#print(df14)                                                                                                   #  ÄNDERN!"
      ],
      "metadata": {
        "id": "Q3MkU5XPAbXG"
      },
      "execution_count": null,
      "outputs": []
    },
    {
      "cell_type": "code",
      "source": [
        "df = df.append(df18, ignore_index=True)                                                                 # Ändern!"
      ],
      "metadata": {
        "colab": {
          "base_uri": "https://localhost:8080/"
        },
        "id": "p5MqrxGwAyqZ",
        "outputId": "a6755e58-68e0-42fb-e268-f95277f20df5"
      },
      "execution_count": null,
      "outputs": [
        {
          "output_type": "stream",
          "name": "stderr",
          "text": [
            "<ipython-input-1005-dccf1e064611>:1: FutureWarning: The frame.append method is deprecated and will be removed from pandas in a future version. Use pandas.concat instead.\n",
            "  df = df.append(df18, ignore_index=True)                                                                 # Ändern!\n"
          ]
        }
      ]
    },
    {
      "cell_type": "code",
      "source": [
        "url19 = \"https://www.bundestag.de/resource/blob/977172/25de42aa858a389b081df682c323ed3a/20135.xml\"         # ÄNDERN!\n",
        "response = requests.get(url19)                                                                             # ÄNDERN!\n",
        "\n",
        "root = ET.fromstring(response.content)\n",
        "\n",
        "last_names = []\n",
        "first_names = []\n",
        "parties = []\n",
        "\n",
        "for row in root.findall('.//tr'):\n",
        "    cells = row.findall('.//td')\n",
        "    if len(cells) == 2:  # Ensure it's a valid row with two cells\n",
        "        last_name = cells[0].text.split(',')[0].strip()  # Extract last name\n",
        "        first_name = cells[0].text.split(',')[1].strip()  # Extract first name\n",
        "        party = cells[1].text  # Extract party\n",
        "        last_names.append(last_name)\n",
        "        first_names.append(first_name)\n",
        "        parties.append(party)\n",
        "\n",
        "\n",
        "df19 = pd.DataFrame({                                                                                         # Ändern!\n",
        "    'Last Name': last_names,\n",
        "    'First Name': first_names,\n",
        "    'Party': parties\n",
        "})\n",
        "\n",
        "\n",
        "Datum = \"10.11. 2023\"                                                                                       #  ÄNDERN!\n",
        "\n",
        "df19[\"Datum\"] = Datum                                                                                        # ÄNDERN!\n",
        "\n",
        "#print(df14)                                                                                                   #  ÄNDERN!"
      ],
      "metadata": {
        "id": "ZV1NIKCDA0SA"
      },
      "execution_count": null,
      "outputs": []
    },
    {
      "cell_type": "code",
      "source": [
        "df = df.append(df19, ignore_index=True)                                                                 # Ändern!"
      ],
      "metadata": {
        "colab": {
          "base_uri": "https://localhost:8080/"
        },
        "id": "xwc7lLxyBDax",
        "outputId": "2debb9f4-befb-4b84-8fda-f83e22aafe11"
      },
      "execution_count": null,
      "outputs": [
        {
          "output_type": "stream",
          "name": "stderr",
          "text": [
            "<ipython-input-1007-d3a48b35e253>:1: FutureWarning: The frame.append method is deprecated and will be removed from pandas in a future version. Use pandas.concat instead.\n",
            "  df = df.append(df19, ignore_index=True)                                                                 # Ändern!\n"
          ]
        }
      ]
    },
    {
      "cell_type": "code",
      "source": [
        "url20 = \"https://www.bundestag.de/resource/blob/976368/659a37e73d2f0c23f069d90fca69852a/20133.xml\"         # ÄNDERN!\n",
        "response = requests.get(url20)                                                                             # ÄNDERN!\n",
        "\n",
        "root = ET.fromstring(response.content)\n",
        "\n",
        "last_names = []\n",
        "first_names = []\n",
        "parties = []\n",
        "\n",
        "for row in root.findall('.//tr'):\n",
        "    cells = row.findall('.//td')\n",
        "    if len(cells) == 2:  # Ensure it's a valid row with two cells\n",
        "        last_name = cells[0].text.split(',')[0].strip()  # Extract last name\n",
        "        first_name = cells[0].text.split(',')[1].strip()  # Extract first name\n",
        "        party = cells[1].text  # Extract party\n",
        "        last_names.append(last_name)\n",
        "        first_names.append(first_name)\n",
        "        parties.append(party)\n",
        "\n",
        "\n",
        "df20 = pd.DataFrame({                                                                                         # Ändern!\n",
        "    'Last Name': last_names,\n",
        "    'First Name': first_names,\n",
        "    'Party': parties\n",
        "})\n",
        "\n",
        "\n",
        "Datum = \"08.11. 2023\"                                                                                       #  ÄNDERN!\n",
        "\n",
        "df20[\"Datum\"] = Datum                                                                                        # ÄNDERN!\n",
        "\n",
        "#print(df14)                                                                                                   #  ÄNDERN!"
      ],
      "metadata": {
        "id": "gnxk3XzCBJLB"
      },
      "execution_count": null,
      "outputs": []
    },
    {
      "cell_type": "code",
      "source": [
        "df = df.append(df20, ignore_index=True)                                                                 # Ändern!"
      ],
      "metadata": {
        "colab": {
          "base_uri": "https://localhost:8080/"
        },
        "id": "7CNlPT9yBq3z",
        "outputId": "3d48f90f-cc6b-4fa3-fff2-da3591e17c42"
      },
      "execution_count": null,
      "outputs": [
        {
          "output_type": "stream",
          "name": "stderr",
          "text": [
            "<ipython-input-1009-2eb2e124595a>:1: FutureWarning: The frame.append method is deprecated and will be removed from pandas in a future version. Use pandas.concat instead.\n",
            "  df = df.append(df20, ignore_index=True)                                                                 # Ändern!\n"
          ]
        }
      ]
    },
    {
      "cell_type": "code",
      "source": [
        "url21 = \"https://www.bundestag.de/resource/blob/973704/a2a0fbbbcc89c270ce3d95b6baf53dea/20132.xml\"         # ÄNDERN!\n",
        "response = requests.get(url21)                                                                             # ÄNDERN!\n",
        "\n",
        "root = ET.fromstring(response.content)\n",
        "\n",
        "last_names = []\n",
        "first_names = []\n",
        "parties = []\n",
        "\n",
        "for row in root.findall('.//tr'):\n",
        "    cells = row.findall('.//td')\n",
        "    if len(cells) == 2:  # Ensure it's a valid row with two cells\n",
        "        last_name = cells[0].text.split(',')[0].strip()  # Extract last name\n",
        "        first_name = cells[0].text.split(',')[1].strip()  # Extract first name\n",
        "        party = cells[1].text  # Extract party\n",
        "        last_names.append(last_name)\n",
        "        first_names.append(first_name)\n",
        "        parties.append(party)\n",
        "\n",
        "\n",
        "df21 = pd.DataFrame({                                                                                         # Ändern!\n",
        "    'Last Name': last_names,\n",
        "    'First Name': first_names,\n",
        "    'Party': parties\n",
        "})\n",
        "\n",
        "\n",
        "Datum = \"20.10. 2023\"                                                                                       #  ÄNDERN!\n",
        "\n",
        "df21[\"Datum\"] = Datum                                                                                        # ÄNDERN!\n",
        "\n",
        "#print(df14)                                                                                                   #  ÄNDERN!"
      ],
      "metadata": {
        "id": "8UJaEapzBs50"
      },
      "execution_count": null,
      "outputs": []
    },
    {
      "cell_type": "code",
      "source": [
        "df = df.append(df21, ignore_index=True)                                                                 # Ändern!"
      ],
      "metadata": {
        "colab": {
          "base_uri": "https://localhost:8080/"
        },
        "id": "P87jHeDxB9DJ",
        "outputId": "d272c7a1-a596-4638-a97c-be2fc5d83c53"
      },
      "execution_count": null,
      "outputs": [
        {
          "output_type": "stream",
          "name": "stderr",
          "text": [
            "<ipython-input-1011-73af41349ff2>:1: FutureWarning: The frame.append method is deprecated and will be removed from pandas in a future version. Use pandas.concat instead.\n",
            "  df = df.append(df21, ignore_index=True)                                                                 # Ändern!\n"
          ]
        }
      ]
    },
    {
      "cell_type": "code",
      "source": [
        "url22 = \"https://www.bundestag.de/resource/blob/973188/2addf77489bb505b67c5058414cca3fc/20131.xml\"         # ÄNDERN!\n",
        "response = requests.get(url22)                                                                             # ÄNDERN!\n",
        "\n",
        "root = ET.fromstring(response.content)\n",
        "\n",
        "last_names = []\n",
        "first_names = []\n",
        "parties = []\n",
        "\n",
        "for row in root.findall('.//tr'):\n",
        "    cells = row.findall('.//td')\n",
        "    if len(cells) == 2:  # Ensure it's a valid row with two cells\n",
        "        last_name = cells[0].text.split(',')[0].strip()  # Extract last name\n",
        "        first_name = cells[0].text.split(',')[1].strip()  # Extract first name\n",
        "        party = cells[1].text  # Extract party\n",
        "        last_names.append(last_name)\n",
        "        first_names.append(first_name)\n",
        "        parties.append(party)\n",
        "\n",
        "\n",
        "df22 = pd.DataFrame({                                                                                         # Ändern!\n",
        "    'Last Name': last_names,\n",
        "    'First Name': first_names,\n",
        "    'Party': parties\n",
        "})\n",
        "\n",
        "\n",
        "Datum = \"19.10. 2023\"                                                                                       #  ÄNDERN!\n",
        "\n",
        "df22[\"Datum\"] = Datum                                                                                        # ÄNDERN!\n",
        "\n",
        "#print(df14)                                                                                                   #  ÄNDERN!"
      ],
      "metadata": {
        "id": "aWohGK0KB_YN"
      },
      "execution_count": null,
      "outputs": []
    },
    {
      "cell_type": "code",
      "source": [
        "df = df.append(df22, ignore_index=True)                                                                 # Ändern!"
      ],
      "metadata": {
        "colab": {
          "base_uri": "https://localhost:8080/"
        },
        "id": "kwzo5BMfCROS",
        "outputId": "4bea2946-b574-4b7b-a2be-746c02813363"
      },
      "execution_count": null,
      "outputs": [
        {
          "output_type": "stream",
          "name": "stderr",
          "text": [
            "<ipython-input-1013-eae30b596819>:1: FutureWarning: The frame.append method is deprecated and will be removed from pandas in a future version. Use pandas.concat instead.\n",
            "  df = df.append(df22, ignore_index=True)                                                                 # Ändern!\n"
          ]
        }
      ]
    },
    {
      "cell_type": "code",
      "source": [
        "url23 = \"https://www.bundestag.de/resource/blob/972950/9cadb32eb8c3c22ab88a011a5103d628/20130.xml\"         # ÄNDERN!\n",
        "response = requests.get(url23)                                                                             # ÄNDERN!\n",
        "\n",
        "root = ET.fromstring(response.content)\n",
        "\n",
        "last_names = []\n",
        "first_names = []\n",
        "parties = []\n",
        "\n",
        "for row in root.findall('.//tr'):\n",
        "    cells = row.findall('.//td')\n",
        "    if len(cells) == 2:  # Ensure it's a valid row with two cells\n",
        "        last_name = cells[0].text.split(',')[0].strip()  # Extract last name\n",
        "        first_name = cells[0].text.split(',')[1].strip()  # Extract first name\n",
        "        party = cells[1].text  # Extract party\n",
        "        last_names.append(last_name)\n",
        "        first_names.append(first_name)\n",
        "        parties.append(party)\n",
        "\n",
        "\n",
        "df23 = pd.DataFrame({                                                                                         # Ändern!\n",
        "    'Last Name': last_names,\n",
        "    'First Name': first_names,\n",
        "    'Party': parties\n",
        "})\n",
        "\n",
        "\n",
        "Datum = \"18.10. 2023\"                                                                                       #  ÄNDERN!\n",
        "\n",
        "df23[\"Datum\"] = Datum                                                                                        # ÄNDERN!\n",
        "\n",
        "#print(df14)                                                                                                   #  ÄNDERN!"
      ],
      "metadata": {
        "id": "uNdFuRL3CfOX"
      },
      "execution_count": null,
      "outputs": []
    },
    {
      "cell_type": "code",
      "source": [
        "df = df.append(df23, ignore_index=True)                                                                 # Ändern!"
      ],
      "metadata": {
        "colab": {
          "base_uri": "https://localhost:8080/"
        },
        "id": "kJfAB6g7CugB",
        "outputId": "434abe05-deb6-40a9-92f4-4528de840553"
      },
      "execution_count": null,
      "outputs": [
        {
          "output_type": "stream",
          "name": "stderr",
          "text": [
            "<ipython-input-1015-9e1248df09e9>:1: FutureWarning: The frame.append method is deprecated and will be removed from pandas in a future version. Use pandas.concat instead.\n",
            "  df = df.append(df23, ignore_index=True)                                                                 # Ändern!\n"
          ]
        }
      ]
    },
    {
      "cell_type": "code",
      "source": [
        "url24 = \"https://www.bundestag.de/resource/blob/972090/74b74b6845dba96e6883023255522cf1/20129.xml\"         # ÄNDERN!\n",
        "response = requests.get(url24)                                                                             # ÄNDERN!\n",
        "\n",
        "root = ET.fromstring(response.content)\n",
        "\n",
        "last_names = []\n",
        "first_names = []\n",
        "parties = []\n",
        "\n",
        "for row in root.findall('.//tr'):\n",
        "    cells = row.findall('.//td')\n",
        "    if len(cells) == 2:  # Ensure it's a valid row with two cells\n",
        "        last_name = cells[0].text.split(',')[0].strip()  # Extract last name\n",
        "        first_name = cells[0].text.split(',')[1].strip()  # Extract first name\n",
        "        party = cells[1].text  # Extract party\n",
        "        last_names.append(last_name)\n",
        "        first_names.append(first_name)\n",
        "        parties.append(party)\n",
        "\n",
        "\n",
        "df24 = pd.DataFrame({                                                                                         # Ändern!\n",
        "    'Last Name': last_names,\n",
        "    'First Name': first_names,\n",
        "    'Party': parties\n",
        "})\n",
        "\n",
        "\n",
        "Datum = \"13.10. 2023\"                                                                                       #  ÄNDERN!\n",
        "\n",
        "df24[\"Datum\"] = Datum                                                                                        # ÄNDERN!\n",
        "\n",
        "#print(df14)                                                                                                   #  ÄNDERN!"
      ],
      "metadata": {
        "id": "UDfiUcfZCwSl"
      },
      "execution_count": null,
      "outputs": []
    },
    {
      "cell_type": "code",
      "source": [
        "df = df.append(df24, ignore_index=True)                                                                 # Ändern!"
      ],
      "metadata": {
        "colab": {
          "base_uri": "https://localhost:8080/"
        },
        "id": "Bd4uQ7RODCAt",
        "outputId": "482ba93e-bb52-4824-82e8-ca25a3b7c17b"
      },
      "execution_count": null,
      "outputs": [
        {
          "output_type": "stream",
          "name": "stderr",
          "text": [
            "<ipython-input-1017-0f5d7de0bda6>:1: FutureWarning: The frame.append method is deprecated and will be removed from pandas in a future version. Use pandas.concat instead.\n",
            "  df = df.append(df24, ignore_index=True)                                                                 # Ändern!\n"
          ]
        }
      ]
    },
    {
      "cell_type": "code",
      "source": [
        "url25 = \"https://www.bundestag.de/resource/blob/971562/e1bf66cfdd8d247b15032c6b55befca9/20128.xml\"         # ÄNDERN!\n",
        "response = requests.get(url25)                                                                             # ÄNDERN!\n",
        "\n",
        "root = ET.fromstring(response.content)\n",
        "\n",
        "last_names = []\n",
        "first_names = []\n",
        "parties = []\n",
        "\n",
        "for row in root.findall('.//tr'):\n",
        "    cells = row.findall('.//td')\n",
        "    if len(cells) == 2:  # Ensure it's a valid row with two cells\n",
        "        last_name = cells[0].text.split(',')[0].strip()  # Extract last name\n",
        "        first_name = cells[0].text.split(',')[1].strip()  # Extract first name\n",
        "        party = cells[1].text  # Extract party\n",
        "        last_names.append(last_name)\n",
        "        first_names.append(first_name)\n",
        "        parties.append(party)\n",
        "\n",
        "\n",
        "df25 = pd.DataFrame({                                                                                         # Ändern!\n",
        "    'Last Name': last_names,\n",
        "    'First Name': first_names,\n",
        "    'Party': parties\n",
        "})\n",
        "\n",
        "\n",
        "Datum = \"12.10. 2023\"                                                                                       #  ÄNDERN!\n",
        "\n",
        "df25[\"Datum\"] = Datum                                                                                        # ÄNDERN!\n",
        "\n",
        "#print(df14)                                                                                                   #  ÄNDERN!"
      ],
      "metadata": {
        "id": "w5-Fyl5iDDp5"
      },
      "execution_count": null,
      "outputs": []
    },
    {
      "cell_type": "code",
      "source": [
        "df = df.append(df25, ignore_index=True)                                                                 # Ändern!"
      ],
      "metadata": {
        "colab": {
          "base_uri": "https://localhost:8080/"
        },
        "id": "p_Xo94YfDXMw",
        "outputId": "a538d825-cef3-4dfe-f020-38809d890119"
      },
      "execution_count": null,
      "outputs": [
        {
          "output_type": "stream",
          "name": "stderr",
          "text": [
            "<ipython-input-1019-fe4ab8001818>:1: FutureWarning: The frame.append method is deprecated and will be removed from pandas in a future version. Use pandas.concat instead.\n",
            "  df = df.append(df25, ignore_index=True)                                                                 # Ändern!\n"
          ]
        }
      ]
    },
    {
      "cell_type": "code",
      "source": [
        "url26 = \"https://www.bundestag.de/resource/blob/971220/3ec3167ecaac40e903a3f5bb01b2d78c/20127.xml\" # ÄNDERN!\n",
        "response = requests.get(url26)                                                          # ÄNDERN!\n",
        "\n",
        "root = ET.fromstring(response.content)\n",
        "\n",
        "last_names = []\n",
        "first_names = []\n",
        "parties = []\n",
        "\n",
        "for tr in root.findall('.//tbody/tr'):\n",
        "    # Find all <td> elements inside <tr>\n",
        "    tds = tr.findall('.//td')\n",
        "    # Check if there are at least 2 <td> elements\n",
        "    if len(tds) >= 2:\n",
        "        # Extract text content from the first <td> element\n",
        "        text_content = tds[0].text\n",
        "        # Check if text_content is not None and not empty\n",
        "        if text_content is not None and text_content.strip():\n",
        "            # Extract full name from the first <td> element\n",
        "            full_name = text_content.strip()\n",
        "            # Check if the full name contains a comma\n",
        "            if ',' in full_name:\n",
        "                # Split full name into last name and first name\n",
        "                last_name, first_name = full_name.split(', ', 1)\n",
        "                # Extract party from the second <td> element\n",
        "                party = tds[1].text.strip()\n",
        "                last_names.append(last_name)\n",
        "                first_names.append(first_name)\n",
        "                parties.append(party)\n",
        "\n",
        "\n",
        "df26 = pd.DataFrame({                                                               # Ändern!\n",
        "    'Last Name': last_names,\n",
        "    'First Name': first_names,\n",
        "    'Party': parties\n",
        "})\n",
        "\n",
        "\n",
        "Datum = \"11.10. 2023\"                                                               #  ÄNDERN!\n",
        "\n",
        "df26[\"Datum\"] = Datum                                                               # ÄNDERN!\n",
        "\n",
        "df = df.append(df26, ignore_index=True)                                             # ÄNDERN!"
      ],
      "metadata": {
        "colab": {
          "base_uri": "https://localhost:8080/"
        },
        "id": "x55WhRV-b62N",
        "outputId": "32248ec0-7c3e-4a09-db00-53d10119c62e"
      },
      "execution_count": null,
      "outputs": [
        {
          "output_type": "stream",
          "name": "stderr",
          "text": [
            "<ipython-input-1020-ce1d552136fe>:43: FutureWarning: The frame.append method is deprecated and will be removed from pandas in a future version. Use pandas.concat instead.\n",
            "  df = df.append(df26, ignore_index=True)                                             # ÄNDERN!\n"
          ]
        }
      ]
    },
    {
      "cell_type": "code",
      "source": [
        "url27 = \"https://www.bundestag.de/resource/blob/969054/cccc1d0699581809188fd76c8f8bc414/20125.xml\"         # ÄNDERN!\n",
        "response = requests.get(url27)                                                                             # ÄNDERN!\n",
        "\n",
        "root = ET.fromstring(response.content)\n",
        "\n",
        "last_names = []\n",
        "first_names = []\n",
        "parties = []\n",
        "\n",
        "for row in root.findall('.//tr'):\n",
        "    cells = row.findall('.//td')\n",
        "    if len(cells) == 2:  # Ensure it's a valid row with two cells\n",
        "        last_name = cells[0].text.split(',')[0].strip()  # Extract last name\n",
        "        first_name = cells[0].text.split(',')[1].strip()  # Extract first name\n",
        "        party = cells[1].text  # Extract party\n",
        "        last_names.append(last_name)\n",
        "        first_names.append(first_name)\n",
        "        parties.append(party)\n",
        "\n",
        "\n",
        "df27 = pd.DataFrame({                                                                                         # Ändern!\n",
        "    'Last Name': last_names,\n",
        "    'First Name': first_names,\n",
        "    'Party': parties\n",
        "})\n",
        "\n",
        "\n",
        "Datum = \"28.09. 2023\"                                                                                       #  ÄNDERN!\n",
        "\n",
        "df27[\"Datum\"] = Datum                                                                                        # ÄNDERN!\n",
        "\n",
        "print(df27)                                                                                                   #  ÄNDERN!"
      ],
      "metadata": {
        "colab": {
          "base_uri": "https://localhost:8080/"
        },
        "id": "K7e4n7BnERti",
        "outputId": "bcac3a2b-cd4f-4482-8838-594b6656e5db"
      },
      "execution_count": null,
      "outputs": [
        {
          "output_type": "stream",
          "name": "stdout",
          "text": [
            "              Last Name                                    First Name  \\\n",
            "0                  Arlt                                      Johannes   \n",
            "1              Brantner                                 Dr. Franziska   \n",
            "2   Cademartori Dujisin                                        Isabel   \n",
            "3             Chrupalla                                          Tino   \n",
            "4                 Dietz                                        Thomas   \n",
            "5              Droßmann                                         Falko   \n",
            "6                Feiler                                           Uwe   \n",
            "7              Ganserer                                         Tessa   \n",
            "8      Glogowski-Merten                                         Anikó   \n",
            "9                Griese                                       Kerstin   \n",
            "10            Grundmann                                        Oliver   \n",
            "11        Harder-Kühnel                                  Mariana Iris   \n",
            "12             Hoffmann                                   Dr. Bettina   \n",
            "13           Irlstorfer                                         Erich   \n",
            "14               Kemmer  Ronja (Teilnahme an einer Parl. Versammlung)   \n",
            "15              Knoerig                                          Axel   \n",
            "16                Kotré                                       Steffen   \n",
            "17                Lemke                                        Steffi   \n",
            "18             Lindholz                                        Andrea   \n",
            "19                 Loop            Denise (gesetzlicher Mutterschutz)   \n",
            "20             Lührmann                                      Dr. Anna   \n",
            "21                Marvi  Parsa (Teilnahme an einer Parl. Versammlung)   \n",
            "22                 Moll                                       Claudia   \n",
            "23               Naujok                                         Edgar   \n",
            "24               Nietan                                       Dietmar   \n",
            "25               Özoğuz                                         Aydan   \n",
            "26                 Paus                                          Lisa   \n",
            "27            Reichardt                                        Martin   \n",
            "28               Sauter                                     Christian   \n",
            "29               Schulz                                           Uwe   \n",
            "30               Stöber                                         Klaus   \n",
            "31               Stumpp                                     Christina   \n",
            "32              Ullmann                                    Dr. Andrew   \n",
            "33      Weiss (Wesel I)                                        Sabine   \n",
            "34                 Witt                                           Uwe   \n",
            "\n",
            "                     Party        Datum  \n",
            "0                      SPD  28.09. 2023  \n",
            "1   BÜNDNIS 90/ DIE GRÜNEN  28.09. 2023  \n",
            "2                      SPD  28.09. 2023  \n",
            "3                      AfD  28.09. 2023  \n",
            "4                      AfD  28.09. 2023  \n",
            "5                      SPD  28.09. 2023  \n",
            "6                  CDU/CSU  28.09. 2023  \n",
            "7   BÜNDNIS 90/ DIE GRÜNEN  28.09. 2023  \n",
            "8                      FDP  28.09. 2023  \n",
            "9                      SPD  28.09. 2023  \n",
            "10                 CDU/CSU  28.09. 2023  \n",
            "11                     AfD  28.09. 2023  \n",
            "12  BÜNDNIS 90/ DIE GRÜNEN  28.09. 2023  \n",
            "13                 CDU/CSU  28.09. 2023  \n",
            "14                 CDU/CSU  28.09. 2023  \n",
            "15                 CDU/CSU  28.09. 2023  \n",
            "16                     AfD  28.09. 2023  \n",
            "17  BÜNDNIS 90/ DIE GRÜNEN  28.09. 2023  \n",
            "18                 CDU/CSU  28.09. 2023  \n",
            "19  BÜNDNIS 90/ DIE GRÜNEN  28.09. 2023  \n",
            "20  BÜNDNIS 90/ DIE GRÜNEN  28.09. 2023  \n",
            "21                     SPD  28.09. 2023  \n",
            "22                     SPD  28.09. 2023  \n",
            "23                     AfD  28.09. 2023  \n",
            "24                     SPD  28.09. 2023  \n",
            "25                     SPD  28.09. 2023  \n",
            "26  BÜNDNIS 90/ DIE GRÜNEN  28.09. 2023  \n",
            "27                     AfD  28.09. 2023  \n",
            "28                     FDP  28.09. 2023  \n",
            "29                     AfD  28.09. 2023  \n",
            "30                     AfD  28.09. 2023  \n",
            "31                 CDU/CSU  28.09. 2023  \n",
            "32                     FDP  28.09. 2023  \n",
            "33                 CDU/CSU  28.09. 2023  \n",
            "34            fraktionslos  28.09. 2023  \n"
          ]
        }
      ]
    },
    {
      "cell_type": "code",
      "source": [
        "df = df.append(df27, ignore_index=True)                                                                 # Ändern!"
      ],
      "metadata": {
        "colab": {
          "base_uri": "https://localhost:8080/"
        },
        "id": "lw7NZ_GmEzKg",
        "outputId": "690fb103-8b6f-46b4-a4fc-6e0155273049"
      },
      "execution_count": null,
      "outputs": [
        {
          "output_type": "stream",
          "name": "stderr",
          "text": [
            "<ipython-input-1022-8d927cfdf536>:1: FutureWarning: The frame.append method is deprecated and will be removed from pandas in a future version. Use pandas.concat instead.\n",
            "  df = df.append(df27, ignore_index=True)                                                                 # Ändern!\n"
          ]
        }
      ]
    },
    {
      "cell_type": "code",
      "source": [
        "url28 = \"https://www.bundestag.de/resource/blob/969364/09fe36afbe4ce2c8fcdbecfea008c642/20126.xml\"         # ÄNDERN!\n",
        "response = requests.get(url28)                                                                             # ÄNDERN!\n",
        "\n",
        "root = ET.fromstring(response.content)\n",
        "\n",
        "last_names = []\n",
        "first_names = []\n",
        "parties = []\n",
        "\n",
        "for row in root.findall('.//tr'):\n",
        "    cells = row.findall('.//td')\n",
        "    if len(cells) == 2:  # Ensure it's a valid row with two cells\n",
        "        last_name = cells[0].text.split(',')[0].strip()  # Extract last name\n",
        "        first_name = cells[0].text.split(',')[1].strip()  # Extract first name\n",
        "        party = cells[1].text  # Extract party\n",
        "        last_names.append(last_name)\n",
        "        first_names.append(first_name)\n",
        "        parties.append(party)\n",
        "\n",
        "\n",
        "df28 = pd.DataFrame({                                                                                         # Ändern!\n",
        "    'Last Name': last_names,\n",
        "    'First Name': first_names,\n",
        "    'Party': parties\n",
        "})\n",
        "\n",
        "\n",
        "Datum = \"29.09. 2023\"                                                                                       #  ÄNDERN!\n",
        "\n",
        "df28[\"Datum\"] = Datum                                                                                        # ÄNDERN!\n",
        "\n",
        "#print(df27)                                                                                                   #  ÄNDERN!"
      ],
      "metadata": {
        "id": "WvmqyuaJE2yt"
      },
      "execution_count": null,
      "outputs": []
    },
    {
      "cell_type": "code",
      "source": [
        "df = df.append(df28, ignore_index=True)                                                                 # Ändern!"
      ],
      "metadata": {
        "colab": {
          "base_uri": "https://localhost:8080/"
        },
        "id": "wKJZoQWbFynx",
        "outputId": "05851887-3038-4684-e3dd-afeaa5884816"
      },
      "execution_count": null,
      "outputs": [
        {
          "output_type": "stream",
          "name": "stderr",
          "text": [
            "<ipython-input-1024-352a18382888>:1: FutureWarning: The frame.append method is deprecated and will be removed from pandas in a future version. Use pandas.concat instead.\n",
            "  df = df.append(df28, ignore_index=True)                                                                 # Ändern!\n"
          ]
        }
      ]
    },
    {
      "cell_type": "code",
      "source": [
        "url29 = \"https://www.bundestag.de/resource/blob/968690/5d723616da1ea3ca054e8da604ff1004/20124.xml\"         # ÄNDERN!\n",
        "response = requests.get(url29)                                                                             # ÄNDERN!\n",
        "\n",
        "root = ET.fromstring(response.content)\n",
        "\n",
        "last_names = []\n",
        "first_names = []\n",
        "parties = []\n",
        "\n",
        "for tr in root.findall('.//tbody/tr'):\n",
        "    # Find all <td> elements inside <tr>\n",
        "    tds = tr.findall('.//td')\n",
        "    # Check if there are at least 2 <td> elements\n",
        "    if len(tds) >= 2:\n",
        "        # Extract text content from the first <td> element\n",
        "        text_content = tds[0].text\n",
        "        # Check if text_content is not None and not empty\n",
        "        if text_content is not None and text_content.strip():\n",
        "            # Extract full name from the first <td> element\n",
        "            full_name = text_content.strip()\n",
        "            # Check if the full name contains a comma\n",
        "            if ',' in full_name:\n",
        "                # Split full name into last name and first name\n",
        "                last_name, first_name = full_name.split(', ', 1)\n",
        "                # Extract party from the second <td> element\n",
        "                party = tds[1].text.strip()\n",
        "    last_names.append(last_name)\n",
        "    first_names.append(first_name)\n",
        "    parties.append(party)\n",
        "\n",
        "\n",
        "df29 = pd.DataFrame({                                                                                         # Ändern!\n",
        "    'Last Name': last_names,\n",
        "    'First Name': first_names,\n",
        "    'Party': parties\n",
        "})\n",
        "\n",
        "\n",
        "Datum = \"27.09. 2023\"                                                                                       #  ÄNDERN!\n",
        "\n",
        "df29[\"Datum\"] = Datum                                                                                        # ÄNDERN!\n",
        "\n",
        "print(df29)                                                                                                   #  ÄNDERN!"
      ],
      "metadata": {
        "colab": {
          "base_uri": "https://localhost:8080/"
        },
        "id": "CO6ZvyVSF9Rv",
        "outputId": "7816fca5-1bd7-4a39-e641-0c0c749cebf4"
      },
      "execution_count": null,
      "outputs": [
        {
          "output_type": "stream",
          "name": "stdout",
          "text": [
            "        Last Name First Name                   Party        Datum\n",
            "0         Ziemiak       Paul                 CDU/CSU  27.09. 2023\n",
            "1        Amtsberg      Luise  BÜNDNIS 90/ DIE GRÜNEN  27.09. 2023\n",
            "2            Arlt   Johannes                     SPD  27.09. 2023\n",
            "3       Außendorf       Maik  BÜNDNIS 90/ DIE GRÜNEN  27.09. 2023\n",
            "4   Brand (Fulda)    Michael                 CDU/CSU  27.09. 2023\n",
            "..            ...        ...                     ...          ...\n",
            "75      Zippelius    Nicolas                 CDU/CSU  27.09. 2023\n",
            "76      Zippelius    Nicolas                 CDU/CSU  27.09. 2023\n",
            "77      Zippelius    Nicolas                 CDU/CSU  27.09. 2023\n",
            "78      Zippelius    Nicolas                 CDU/CSU  27.09. 2023\n",
            "79      Zippelius    Nicolas                 CDU/CSU  27.09. 2023\n",
            "\n",
            "[80 rows x 4 columns]\n"
          ]
        }
      ]
    },
    {
      "cell_type": "code",
      "source": [
        "df29 = df29.iloc[:-50]\n",
        "print(df29)"
      ],
      "metadata": {
        "colab": {
          "base_uri": "https://localhost:8080/"
        },
        "id": "KpBdWclKGwf5",
        "outputId": "4218b6e1-7148-4102-a1f5-26d7e89f19ee"
      },
      "execution_count": null,
      "outputs": [
        {
          "output_type": "stream",
          "name": "stdout",
          "text": [
            "          Last Name                                         First Name  \\\n",
            "0           Ziemiak                                               Paul   \n",
            "1          Amtsberg                                              Luise   \n",
            "2              Arlt                                           Johannes   \n",
            "3         Außendorf                                               Maik   \n",
            "4     Brand (Fulda)                                            Michael   \n",
            "5         Chrupalla                                               Tino   \n",
            "6          Droßmann                                              Falko   \n",
            "7              Föhr                                          Alexander   \n",
            "8          Ganserer                                              Tessa   \n",
            "9            Habeck                                         Dr. Robert   \n",
            "10    Harder-Kühnel                                       Mariana Iris   \n",
            "11       Irlstorfer                                              Erich   \n",
            "12           Kasper                                             Carlos   \n",
            "13           Kemmer  Ronja (Teilnahme an einer Parlamentarischen Ve...   \n",
            "14          Knoerig                                               Axel   \n",
            "15         Lindholz                                             Andrea   \n",
            "16             Loop                 Denise (gesetzlicher Mutterschutz)   \n",
            "17         Lührmann                                           Dr. Anna   \n",
            "18            Marvi  Parsa (Teilnahme an einer Parlamentarischen Ve...   \n",
            "19             Moll                                            Claudia   \n",
            "20        Mordhorst                                         Maximilian   \n",
            "21           Naujok                                              Edgar   \n",
            "22           Oppelt                                             Moritz   \n",
            "23        Reichardt                                             Martin   \n",
            "24           Schulz                                                Uwe   \n",
            "25            Seitz                                             Thomas   \n",
            "26          Ullmann                                         Dr. Andrew   \n",
            "27  Weiss (Wesel I)                                             Sabine   \n",
            "28            Weiss             Maria-Lena (gesetzlicher Mutterschutz)   \n",
            "29             Witt                                                Uwe   \n",
            "\n",
            "                     Party        Datum  \n",
            "0                  CDU/CSU  27.09. 2023  \n",
            "1   BÜNDNIS 90/ DIE GRÜNEN  27.09. 2023  \n",
            "2                      SPD  27.09. 2023  \n",
            "3   BÜNDNIS 90/ DIE GRÜNEN  27.09. 2023  \n",
            "4                  CDU/CSU  27.09. 2023  \n",
            "5                      AfD  27.09. 2023  \n",
            "6                      SPD  27.09. 2023  \n",
            "7                  CDU/CSU  27.09. 2023  \n",
            "8   BÜNDNIS 90/ DIE GRÜNEN  27.09. 2023  \n",
            "9   BÜNDNIS 90/ DIE GRÜNEN  27.09. 2023  \n",
            "10                     AfD  27.09. 2023  \n",
            "11                 CDU/CSU  27.09. 2023  \n",
            "12                     SPD  27.09. 2023  \n",
            "13                 CDU/CSU  27.09. 2023  \n",
            "14                 CDU/CSU  27.09. 2023  \n",
            "15                 CDU/CSU  27.09. 2023  \n",
            "16  BÜNDNIS 90/ DIE GRÜNEN  27.09. 2023  \n",
            "17  BÜNDNIS 90/ DIE GRÜNEN  27.09. 2023  \n",
            "18                     SPD  27.09. 2023  \n",
            "19                     SPD  27.09. 2023  \n",
            "20                     FDP  27.09. 2023  \n",
            "21                     AfD  27.09. 2023  \n",
            "22                 CDU/CSU  27.09. 2023  \n",
            "23                     AfD  27.09. 2023  \n",
            "24                     AfD  27.09. 2023  \n",
            "25                     AfD  27.09. 2023  \n",
            "26                     FDP  27.09. 2023  \n",
            "27                 CDU/CSU  27.09. 2023  \n",
            "28                 CDU/CSU  27.09. 2023  \n",
            "29            fraktionslos  27.09. 2023  \n"
          ]
        }
      ]
    },
    {
      "cell_type": "code",
      "source": [
        "df = df.append(df29, ignore_index=True)                                                                 # Ändern!"
      ],
      "metadata": {
        "colab": {
          "base_uri": "https://localhost:8080/"
        },
        "id": "5i-D31RFHIpo",
        "outputId": "36546d13-eb42-4e3f-a60d-5c6599eec292"
      },
      "execution_count": null,
      "outputs": [
        {
          "output_type": "stream",
          "name": "stderr",
          "text": [
            "<ipython-input-1027-7517e498b1cb>:1: FutureWarning: The frame.append method is deprecated and will be removed from pandas in a future version. Use pandas.concat instead.\n",
            "  df = df.append(df29, ignore_index=True)                                                                 # Ändern!\n"
          ]
        }
      ]
    },
    {
      "cell_type": "code",
      "source": [
        "url30 = \"https://www.bundestag.de/resource/blob/967706/381c8be4289b1cff2ca33f8d641d2333/20123.xml\"         # ÄNDERN!\n",
        "response = requests.get(url30)                                                                             # ÄNDERN!\n",
        "\n",
        "root = ET.fromstring(response.content)\n",
        "\n",
        "last_names = []\n",
        "first_names = []\n",
        "parties = []\n",
        "\n",
        "for row in root.findall('.//tr'):\n",
        "    cells = row.findall('.//td')\n",
        "    if len(cells) == 2:  # Ensure it's a valid row with two cells\n",
        "        last_name = cells[0].text.split(',')[0].strip()  # Extract last name\n",
        "        first_name = cells[0].text.split(',')[1].strip()  # Extract first name\n",
        "        party = cells[1].text  # Extract party\n",
        "        last_names.append(last_name)\n",
        "        first_names.append(first_name)\n",
        "        parties.append(party)\n",
        "\n",
        "\n",
        "df30 = pd.DataFrame({                                                                                         # Ändern!\n",
        "    'Last Name': last_names,\n",
        "    'First Name': first_names,\n",
        "    'Party': parties\n",
        "})\n",
        "\n",
        "\n",
        "Datum = \"22.09. 2023\"                                                                                       #  ÄNDERN!\n",
        "\n",
        "df30[\"Datum\"] = Datum                                                                                        # ÄNDERN!\n",
        "\n",
        "#print(df27)                                                                                                   #  ÄNDERN!"
      ],
      "metadata": {
        "id": "CPHghRzyHMEV"
      },
      "execution_count": null,
      "outputs": []
    },
    {
      "cell_type": "code",
      "source": [
        "df = df.append(df30, ignore_index=True)                                                                 # Ändern!"
      ],
      "metadata": {
        "colab": {
          "base_uri": "https://localhost:8080/"
        },
        "id": "gNiZaIrEIH-I",
        "outputId": "71249754-cbea-4fe5-9ce3-464b98b7b94b"
      },
      "execution_count": null,
      "outputs": [
        {
          "output_type": "stream",
          "name": "stderr",
          "text": [
            "<ipython-input-1029-7a53c25b816c>:1: FutureWarning: The frame.append method is deprecated and will be removed from pandas in a future version. Use pandas.concat instead.\n",
            "  df = df.append(df30, ignore_index=True)                                                                 # Ändern!\n"
          ]
        }
      ]
    },
    {
      "cell_type": "code",
      "source": [
        "url31 = \"https://www.bundestag.de/resource/blob/967446/cb0b3e82501a75c7c9d082b659b6a1e8/20122.xml\"         # ÄNDERN!\n",
        "response = requests.get(url31)                                                                             # ÄNDERN!\n",
        "\n",
        "root = ET.fromstring(response.content)\n",
        "\n",
        "last_names = []\n",
        "first_names = []\n",
        "parties = []\n",
        "\n",
        "for row in root.findall('.//tr'):\n",
        "    cells = row.findall('.//td')\n",
        "    if len(cells) == 2:  # Ensure it's a valid row with two cells\n",
        "        last_name = cells[0].text.split(',')[0].strip()  # Extract last name\n",
        "        first_name = cells[0].text.split(',')[1].strip()  # Extract first name\n",
        "        party = cells[1].text  # Extract party\n",
        "        last_names.append(last_name)\n",
        "        first_names.append(first_name)\n",
        "        parties.append(party)\n",
        "\n",
        "\n",
        "df31 = pd.DataFrame({                                                                                         # Ändern!\n",
        "    'Last Name': last_names,\n",
        "    'First Name': first_names,\n",
        "    'Party': parties\n",
        "})\n",
        "\n",
        "\n",
        "Datum = \"21.09. 2023\"                                                                                       #  ÄNDERN!\n",
        "\n",
        "df31[\"Datum\"] = Datum                                                                                        # ÄNDERN!\n",
        "\n",
        "#print(df27)                                                                                                   #  ÄNDERN!"
      ],
      "metadata": {
        "id": "_v5Vl53-IVrZ"
      },
      "execution_count": null,
      "outputs": []
    },
    {
      "cell_type": "code",
      "source": [
        "df = df.append(df31, ignore_index=True)                                                                 # Ändern!"
      ],
      "metadata": {
        "colab": {
          "base_uri": "https://localhost:8080/"
        },
        "id": "Fok3p4qFImSP",
        "outputId": "21259270-4282-4145-feae-7498e4297152"
      },
      "execution_count": null,
      "outputs": [
        {
          "output_type": "stream",
          "name": "stderr",
          "text": [
            "<ipython-input-1031-2cba19e8f937>:1: FutureWarning: The frame.append method is deprecated and will be removed from pandas in a future version. Use pandas.concat instead.\n",
            "  df = df.append(df31, ignore_index=True)                                                                 # Ändern!\n"
          ]
        }
      ]
    },
    {
      "cell_type": "code",
      "source": [
        "url32 = \"https://www.bundestag.de/resource/blob/966966/85cfea0c8e4abf45c233185cba3ad078/20121.xml\"         # ÄNDERN!\n",
        "response = requests.get(url32)                                                                             # ÄNDERN!\n",
        "\n",
        "root = ET.fromstring(response.content)\n",
        "\n",
        "last_names = []\n",
        "first_names = []\n",
        "parties = []\n",
        "\n",
        "for tr in root.findall('.//tbody/tr'):\n",
        "    # Find all <td> elements inside <tr>\n",
        "    tds = tr.findall('.//td')\n",
        "    # Check if there are at least 2 <td> elements\n",
        "    if len(tds) >= 2:\n",
        "        # Extract text content from the first <td> element\n",
        "        text_content = tds[0].text\n",
        "        # Check if text_content is not None and not empty\n",
        "        if text_content is not None and text_content.strip():\n",
        "            # Extract full name from the first <td> element\n",
        "            full_name = text_content.strip()\n",
        "            # Check if the full name contains a comma\n",
        "            if ',' in full_name:\n",
        "                # Split full name into last name and first name\n",
        "                last_name, first_name = full_name.split(', ', 1)\n",
        "                # Extract party from the second <td> element\n",
        "                party = tds[1].text.strip()\n",
        "                last_names.append(last_name)\n",
        "                first_names.append(first_name)\n",
        "                parties.append(party)\n",
        "\n",
        "\n",
        "df32 = pd.DataFrame({                                                                                         # Ändern!\n",
        "    'Last Name': last_names,\n",
        "    'First Name': first_names,\n",
        "    'Party': parties\n",
        "})\n",
        "\n",
        "\n",
        "Datum = \"20.09. 2023\"                                                                                       #  ÄNDERN!\n",
        "\n",
        "df32[\"Datum\"] = Datum                                                                                        # ÄNDERN!\n",
        "\n",
        "print(df32)                                                                                                   #  ÄNDERN!"
      ],
      "metadata": {
        "colab": {
          "base_uri": "https://localhost:8080/"
        },
        "id": "1ZidF09jIvPZ",
        "outputId": "e690dab2-1f63-4457-b9c9-890093c9a688"
      },
      "execution_count": null,
      "outputs": [
        {
          "output_type": "stream",
          "name": "stdout",
          "text": [
            "                 Last Name                              First Name  \\\n",
            "0                 Amtsberg                                   Luise   \n",
            "1                     Arlt                                Johannes   \n",
            "2                 Bachmann                                 Carolin   \n",
            "3                 Baerbock                                Annalena   \n",
            "4                 Berghahn                                  Jürgen   \n",
            "5   Brandenburg (Südpfalz)                                   Mario   \n",
            "6                    Cotar                                   Joana   \n",
            "7               Echeverria                                    Axel   \n",
            "8                   Feiler                                     Uwe   \n",
            "9                  Fiedler                               Sebastian   \n",
            "10                Ganserer                                   Tessa   \n",
            "11                  Gräßle                            Dr. Ingeborg   \n",
            "12                   Hanke                                Reginald   \n",
            "13                  Harzer                                  Ulrike   \n",
            "14             Hoppenstedt                             Dr. Hendrik   \n",
            "15              Irlstorfer                                   Erich   \n",
            "16                 Koeppen                                    Jens   \n",
            "17                   Korte                                     Jan   \n",
            "18                    Lang                                 Ricarda   \n",
            "19                   Lemke                                  Steffi   \n",
            "20                Lindholz                                  Andrea   \n",
            "21                 Lindner                               Christian   \n",
            "22                 Lindner                              Dr. Tobias   \n",
            "23                    Loop      Denise (gesetzlicher Mutterschutz)   \n",
            "24                  Müller                                 Claudia   \n",
            "25                  Naujok                                   Edgar   \n",
            "26                   Otten                                  Gerold   \n",
            "27                Pellmann                                   Sören   \n",
            "28               Ryglewski                                   Sarah   \n",
            "29                Schamber                                 Rebecca   \n",
            "30            Schierenbeck                                   Peggy   \n",
            "31                  Scholz                                    Olaf   \n",
            "32                  Schulz                                     Uwe   \n",
            "33                 Schulze                                  Svenja   \n",
            "34            Stamm-Fibich                                 Martina   \n",
            "35                   Thews                                 Michael   \n",
            "36                  Vogler                                 Kathrin   \n",
            "37             Wagenknecht                               Dr. Sahra   \n",
            "38                  Weidel                               Dr. Alice   \n",
            "39              Weingarten                                 Dr. Joe   \n",
            "40         Weiss (Wesel I)                                  Sabine   \n",
            "41                   Weiss  Maria-Lena (gesetzlicher Mutterschutz)   \n",
            "42                    Witt                                     Uwe   \n",
            "\n",
            "                     Party        Datum  \n",
            "0   BÜNDNIS 90/ DIE GRÜNEN  20.09. 2023  \n",
            "1                      SPD  20.09. 2023  \n",
            "2                      AfD  20.09. 2023  \n",
            "3   BÜNDNIS 90/ DIE GRÜNEN  20.09. 2023  \n",
            "4                      SPD  20.09. 2023  \n",
            "5                      FDP  20.09. 2023  \n",
            "6             fraktionslos  20.09. 2023  \n",
            "7                      SPD  20.09. 2023  \n",
            "8                  CDU/CSU  20.09. 2023  \n",
            "9                      SPD  20.09. 2023  \n",
            "10  BÜNDNIS 90/ DIE GRÜNEN  20.09. 2023  \n",
            "11                 CDU/CSU  20.09. 2023  \n",
            "12                     FDP  20.09. 2023  \n",
            "13                     FDP  20.09. 2023  \n",
            "14                 CDU/CSU  20.09. 2023  \n",
            "15                 CDU/CSU  20.09. 2023  \n",
            "16                 CDU/CSU  20.09. 2023  \n",
            "17               DIE LINKE  20.09. 2023  \n",
            "18  BÜNDNIS 90/ DIE GRÜNEN  20.09. 2023  \n",
            "19  BÜNDNIS 90/ DIE GRÜNEN  20.09. 2023  \n",
            "20                 CDU/CSU  20.09. 2023  \n",
            "21                     FDP  20.09. 2023  \n",
            "22  BÜNDNIS 90/ DIE GRÜNEN  20.09. 2023  \n",
            "23  BÜNDNIS 90/ DIE GRÜNEN  20.09. 2023  \n",
            "24  BÜNDNIS 90/ DIE GRÜNEN  20.09. 2023  \n",
            "25                     AfD  20.09. 2023  \n",
            "26                     AfD  20.09. 2023  \n",
            "27               DIE LINKE  20.09. 2023  \n",
            "28                     SPD  20.09. 2023  \n",
            "29                     SPD  20.09. 2023  \n",
            "30                     SPD  20.09. 2023  \n",
            "31                     SPD  20.09. 2023  \n",
            "32                     AfD  20.09. 2023  \n",
            "33                     SPD  20.09. 2023  \n",
            "34                     SPD  20.09. 2023  \n",
            "35                     SPD  20.09. 2023  \n",
            "36               DIE LINKE  20.09. 2023  \n",
            "37               DIE LINKE  20.09. 2023  \n",
            "38                     AfD  20.09. 2023  \n",
            "39                     SPD  20.09. 2023  \n",
            "40                 CDU/CSU  20.09. 2023  \n",
            "41                 CDU/CSU  20.09. 2023  \n",
            "42            fraktionslos  20.09. 2023  \n"
          ]
        }
      ]
    },
    {
      "cell_type": "code",
      "source": [
        "df = df.append(df32, ignore_index=True)                                                                 # Ändern!"
      ],
      "metadata": {
        "colab": {
          "base_uri": "https://localhost:8080/"
        },
        "id": "ThDkyYFtLlU4",
        "outputId": "66783f65-20c1-4497-ab3c-e52347ceacb0"
      },
      "execution_count": null,
      "outputs": [
        {
          "output_type": "stream",
          "name": "stderr",
          "text": [
            "<ipython-input-1033-a00ba96a6a3f>:1: FutureWarning: The frame.append method is deprecated and will be removed from pandas in a future version. Use pandas.concat instead.\n",
            "  df = df.append(df32, ignore_index=True)                                                                 # Ändern!\n"
          ]
        }
      ]
    },
    {
      "cell_type": "code",
      "source": [
        "url33 = \"https://www.bundestag.de/resource/blob/965464/2c3d0427b681113f61ebdbcac1134d85/20120.xml\"         # ÄNDERN!\n",
        "response = requests.get(url33)                                                                             # ÄNDERN!\n",
        "\n",
        "root = ET.fromstring(response.content)\n",
        "\n",
        "last_names = []\n",
        "first_names = []\n",
        "parties = []\n",
        "\n",
        "for tr in root.findall('.//tbody/tr'):\n",
        "    # Find all <td> elements inside <tr>\n",
        "    tds = tr.findall('.//td')\n",
        "    # Check if there are at least 2 <td> elements\n",
        "    if len(tds) >= 2:\n",
        "        # Extract text content from the first <td> element\n",
        "        text_content = tds[0].text\n",
        "        # Check if text_content is not None and not empty\n",
        "        if text_content is not None and text_content.strip():\n",
        "            # Extract full name from the first <td> element\n",
        "            full_name = text_content.strip()\n",
        "            # Check if the full name contains a comma\n",
        "            if ',' in full_name:\n",
        "                # Split full name into last name and first name\n",
        "                last_name, first_name = full_name.split(', ', 1)\n",
        "                # Extract party from the second <td> element\n",
        "                party = tds[1].text.strip()\n",
        "                last_names.append(last_name)\n",
        "                first_names.append(first_name)\n",
        "                parties.append(party)\n",
        "\n",
        "\n",
        "df33 = pd.DataFrame({                                                                                         # Ändern!\n",
        "    'Last Name': last_names,\n",
        "    'First Name': first_names,\n",
        "    'Party': parties\n",
        "})\n",
        "\n",
        "\n",
        "Datum = \"08.09. 2023\"                                                                                       #  ÄNDERN!\n",
        "\n",
        "df33[\"Datum\"] = Datum                                                                                        # ÄNDERN!\n",
        "\n",
        "print(df33)                                                                                                   #  ÄNDERN!"
      ],
      "metadata": {
        "colab": {
          "base_uri": "https://localhost:8080/"
        },
        "id": "2lu9mSkzRGrz",
        "outputId": "b355cc69-1e2a-45b5-cf31-13c526584f76"
      },
      "execution_count": null,
      "outputs": [
        {
          "output_type": "stream",
          "name": "stdout",
          "text": [
            "            Last Name                              First Name  \\\n",
            "0              Albani                                 Stephan   \n",
            "1            Amtsberg                                   Luise   \n",
            "2                Arlt                                Johannes   \n",
            "3            Bachmann                                 Carolin   \n",
            "4            Baradari                                 Nezahat   \n",
            "5                 Bas                                  Bärbel   \n",
            "6            Berghahn                                  Jürgen   \n",
            "7            Brantner                           Dr. Franziska   \n",
            "8               Brehm                               Sebastian   \n",
            "9             Bystron                                    Petr   \n",
            "10          Connemann                                   Gitta   \n",
            "11               Durz                                Hansjörg   \n",
            "12          Engelhard                               Alexander   \n",
            "13          Friedhoff                                 Dietmar   \n",
            "14            Gauland                           Dr. Alexander   \n",
            "15             Glaser                                Albrecht   \n",
            "16              Görke                               Christian   \n",
            "17              Grund                                 Manfred   \n",
            "18               Hahn                                 Florian   \n",
            "19      Helling-Plahr                                  Katrin   \n",
            "20             Hessel                                   Katja   \n",
            "21         Irlstorfer                                   Erich   \n",
            "22             Jensen                                    Gyde   \n",
            "23           Klöckner                                   Julia   \n",
            "24            Koeppen                                    Jens   \n",
            "25              Lemke                                  Steffi   \n",
            "26           Lindholz                                  Andrea   \n",
            "27               Loop      Denise (gesetzlicher Mutterschutz)   \n",
            "28             Luksic                                  Oliver   \n",
            "29          Mattfeldt                                 Andreas   \n",
            "30  Mayer (Altötting)                                 Stephan   \n",
            "31             Naujok                                   Edgar   \n",
            "32              Otten                                  Gerold   \n",
            "33               Pohl                                  Jürgen   \n",
            "34          Reichardt                                  Martin   \n",
            "35             Renner                                 Martina   \n",
            "36       Santos-Wintz                            Catarina dos   \n",
            "37          Schattner                                   Bernd   \n",
            "38           Schröder                       Christina-Johanne   \n",
            "39             Schulz                                     Uwe   \n",
            "40       Todtenhausen                                 Manfred   \n",
            "41    Weiss (Wesel I)                                  Sabine   \n",
            "42              Weiss  Maria-Lena (gesetzlicher Mutterschutz)   \n",
            "43              Weyel                              Dr. Harald   \n",
            "44               Witt                                     Uwe   \n",
            "\n",
            "                     Party        Datum  \n",
            "0                  CDU/CSU  08.09. 2023  \n",
            "1   BÜNDNIS 90/ DIE GRÜNEN  08.09. 2023  \n",
            "2                      SPD  08.09. 2023  \n",
            "3                      AfD  08.09. 2023  \n",
            "4                      SPD  08.09. 2023  \n",
            "5                      SPD  08.09. 2023  \n",
            "6                      SPD  08.09. 2023  \n",
            "7   BÜNDNIS 90/ DIE GRÜNEN  08.09. 2023  \n",
            "8                  CDU/CSU  08.09. 2023  \n",
            "9                      AfD  08.09. 2023  \n",
            "10                 CDU/CSU  08.09. 2023  \n",
            "11                 CDU/CSU  08.09. 2023  \n",
            "12                 CDU/CSU  08.09. 2023  \n",
            "13                     AfD  08.09. 2023  \n",
            "14                     AfD  08.09. 2023  \n",
            "15                     AfD  08.09. 2023  \n",
            "16               DIE LINKE  08.09. 2023  \n",
            "17                 CDU/CSU  08.09. 2023  \n",
            "18                 CDU/CSU  08.09. 2023  \n",
            "19                     FDP  08.09. 2023  \n",
            "20                     FDP  08.09. 2023  \n",
            "21                 CDU/CSU  08.09. 2023  \n",
            "22                     FDP  08.09. 2023  \n",
            "23                 CDU/CSU  08.09. 2023  \n",
            "24                 CDU/CSU  08.09. 2023  \n",
            "25  BÜNDNIS 90/ DIE GRÜNEN  08.09. 2023  \n",
            "26                 CDU/CSU  08.09. 2023  \n",
            "27  BÜNDNIS 90/ DIE GRÜNEN  08.09. 2023  \n",
            "28                     FDP  08.09. 2023  \n",
            "29                 CDU/CSU  08.09. 2023  \n",
            "30                 CDU/CSU  08.09. 2023  \n",
            "31                     AfD  08.09. 2023  \n",
            "32                     AfD  08.09. 2023  \n",
            "33                     AfD  08.09. 2023  \n",
            "34                     AfD  08.09. 2023  \n",
            "35               DIE LINKE  08.09. 2023  \n",
            "36                 CDU/CSU  08.09. 2023  \n",
            "37                     AfD  08.09. 2023  \n",
            "38  BÜNDNIS 90/ DIE GRÜNEN  08.09. 2023  \n",
            "39                     AfD  08.09. 2023  \n",
            "40                     FDP  08.09. 2023  \n",
            "41                 CDU/CSU  08.09. 2023  \n",
            "42                 CDU/CSU  08.09. 2023  \n",
            "43                     AfD  08.09. 2023  \n",
            "44            fraktionslos  08.09. 2023  \n"
          ]
        }
      ]
    },
    {
      "cell_type": "code",
      "source": [
        "df = df.append(df33, ignore_index=True)                                                                 # Ändern!"
      ],
      "metadata": {
        "colab": {
          "base_uri": "https://localhost:8080/"
        },
        "id": "Mhi7AYXqRcwL",
        "outputId": "34def807-ff01-4a82-c9ed-8f215f4b5eeb"
      },
      "execution_count": null,
      "outputs": [
        {
          "output_type": "stream",
          "name": "stderr",
          "text": [
            "<ipython-input-1035-8f04fa1f9f86>:1: FutureWarning: The frame.append method is deprecated and will be removed from pandas in a future version. Use pandas.concat instead.\n",
            "  df = df.append(df33, ignore_index=True)                                                                 # Ändern!\n"
          ]
        }
      ]
    },
    {
      "cell_type": "code",
      "source": [
        "url34 = \"https://www.bundestag.de/resource/blob/965008/bc565531d452cc9b3694062dfe4c71ff/20119.xml\"         # ÄNDERN!\n",
        "response = requests.get(url34)                                                                             # ÄNDERN!\n",
        "\n",
        "root = ET.fromstring(response.content)\n",
        "\n",
        "last_names = []\n",
        "first_names = []\n",
        "parties = []\n",
        "\n",
        "for tr in root.findall('.//tbody/tr'):\n",
        "    # Find all <td> elements inside <tr>\n",
        "    tds = tr.findall('.//td')\n",
        "    # Check if there are at least 2 <td> elements\n",
        "    if len(tds) >= 2:\n",
        "        # Extract text content from the first <td> element\n",
        "        text_content = tds[0].text\n",
        "        # Check if text_content is not None and not empty\n",
        "        if text_content is not None and text_content.strip():\n",
        "            # Extract full name from the first <td> element\n",
        "            full_name = text_content.strip()\n",
        "            # Check if the full name contains a comma\n",
        "            if ',' in full_name:\n",
        "                # Split full name into last name and first name\n",
        "                last_name, first_name = full_name.split(', ', 1)\n",
        "                # Extract party from the second <td> element\n",
        "                party = tds[1].text.strip()\n",
        "                last_names.append(last_name)\n",
        "                first_names.append(first_name)\n",
        "                parties.append(party)\n",
        "\n",
        "\n",
        "df34 = pd.DataFrame({                                                                                         # Ändern!\n",
        "    'Last Name': last_names,\n",
        "    'First Name': first_names,\n",
        "    'Party': parties\n",
        "})\n",
        "\n",
        "\n",
        "Datum = \"07.09. 2023\"                                                                                       #  ÄNDERN!\n",
        "\n",
        "df34[\"Datum\"] = Datum                                                                                        # ÄNDERN!\n",
        "\n",
        "print(df34)                                                                                                   #  ÄNDERN!"
      ],
      "metadata": {
        "colab": {
          "base_uri": "https://localhost:8080/"
        },
        "id": "ev6UZ-TRRf3p",
        "outputId": "975e3558-6d7a-4951-82af-d84a7e19ac49"
      },
      "execution_count": null,
      "outputs": [
        {
          "output_type": "stream",
          "name": "stdout",
          "text": [
            "          Last Name                              First Name  \\\n",
            "0              Abdi                                   Sanae   \n",
            "1              Arlt                                Johannes   \n",
            "2          Bachmann                                 Carolin   \n",
            "3          Baerbock                                Annalena   \n",
            "4          Baradari                                 Nezahat   \n",
            "5               Bas                                  Bärbel   \n",
            "6           Bystron                                    Petr   \n",
            "7         Friedhoff                                 Dietmar   \n",
            "8           Gauland                           Dr. Alexander   \n",
            "9            Glaser                                Albrecht   \n",
            "10            Grund                                 Manfred   \n",
            "11    Helling-Plahr                                  Katrin   \n",
            "12           Hessel                                   Katja   \n",
            "13       Irlstorfer                                   Erich   \n",
            "14          Janecek                                  Dieter   \n",
            "15           Kofler                              Dr. Bärbel   \n",
            "16            Kotré                                 Steffen   \n",
            "17         Lindholz                                  Andrea   \n",
            "18             Loop      Denise (gesetzlicher Mutterschutz)   \n",
            "19           Luksic                                  Oliver   \n",
            "20        Mattfeldt                                 Andreas   \n",
            "21          Moncsek                                    Mike   \n",
            "22            Nanni                                    Sara   \n",
            "23           Naujok                                   Edgar   \n",
            "24            Otten                                  Gerold   \n",
            "25             Pohl                                  Jürgen   \n",
            "26        Reichardt                                  Martin   \n",
            "27           Renner                                 Martina   \n",
            "28     Santos-Wintz                            Catarina dos   \n",
            "29        Schattner                                   Bernd   \n",
            "30         Schröder                       Christina-Johanne   \n",
            "31           Schulz                                     Uwe   \n",
            "32          Spaniel                                Dr. Dirk   \n",
            "33     Todtenhausen                                 Manfred   \n",
            "34  Weiss (Wesel I)                                  Sabine   \n",
            "35            Weiss  Maria-Lena (gesetzlicher Mutterschutz)   \n",
            "36            Weyel                              Dr. Harald   \n",
            "\n",
            "                     Party        Datum  \n",
            "0                      SPD  07.09. 2023  \n",
            "1                      SPD  07.09. 2023  \n",
            "2                      AfD  07.09. 2023  \n",
            "3   BÜNDNIS 90/ DIE GRÜNEN  07.09. 2023  \n",
            "4                      SPD  07.09. 2023  \n",
            "5                      SPD  07.09. 2023  \n",
            "6                      AfD  07.09. 2023  \n",
            "7                      AfD  07.09. 2023  \n",
            "8                      AfD  07.09. 2023  \n",
            "9                      AfD  07.09. 2023  \n",
            "10                 CDU/CSU  07.09. 2023  \n",
            "11                     FDP  07.09. 2023  \n",
            "12                     FDP  07.09. 2023  \n",
            "13                 CDU/CSU  07.09. 2023  \n",
            "14  BÜNDNIS 90/ DIE GRÜNEN  07.09. 2023  \n",
            "15                     SPD  07.09. 2023  \n",
            "16                     AfD  07.09. 2023  \n",
            "17                 CDU/CSU  07.09. 2023  \n",
            "18  BÜNDNIS 90/ DIE GRÜNEN  07.09. 2023  \n",
            "19                     FDP  07.09. 2023  \n",
            "20                 CDU/CSU  07.09. 2023  \n",
            "21                     AfD  07.09. 2023  \n",
            "22  BÜNDNIS 90/ DIE GRÜNEN  07.09. 2023  \n",
            "23                     AfD  07.09. 2023  \n",
            "24                     AfD  07.09. 2023  \n",
            "25                     AfD  07.09. 2023  \n",
            "26                     AfD  07.09. 2023  \n",
            "27               DIE LINKE  07.09. 2023  \n",
            "28                 CDU/CSU  07.09. 2023  \n",
            "29                     AfD  07.09. 2023  \n",
            "30  BÜNDNIS 90/ DIE GRÜNEN  07.09. 2023  \n",
            "31                     AfD  07.09. 2023  \n",
            "32                     AfD  07.09. 2023  \n",
            "33                     FDP  07.09. 2023  \n",
            "34                 CDU/CSU  07.09. 2023  \n",
            "35                 CDU/CSU  07.09. 2023  \n",
            "36                     AfD  07.09. 2023  \n"
          ]
        }
      ]
    },
    {
      "cell_type": "code",
      "source": [
        "df = df.append(df34, ignore_index=True)                                                                 # Ändern!"
      ],
      "metadata": {
        "colab": {
          "base_uri": "https://localhost:8080/"
        },
        "id": "n9EmYFIFRw_t",
        "outputId": "61285f94-0cfc-44a2-9896-0ab78d314da6"
      },
      "execution_count": null,
      "outputs": [
        {
          "output_type": "stream",
          "name": "stderr",
          "text": [
            "<ipython-input-1037-171a6196b1e9>:1: FutureWarning: The frame.append method is deprecated and will be removed from pandas in a future version. Use pandas.concat instead.\n",
            "  df = df.append(df34, ignore_index=True)                                                                 # Ändern!\n"
          ]
        }
      ]
    },
    {
      "cell_type": "code",
      "source": [
        "url35 = \"https://www.bundestag.de/resource/blob/964828/f06657d3c32fa3d1c045111818476df1/20118.xml\"         # ÄNDERN!\n",
        "response = requests.get(url35)                                                                             # ÄNDERN!\n",
        "\n",
        "root = ET.fromstring(response.content)\n",
        "\n",
        "last_names = []\n",
        "first_names = []\n",
        "parties = []\n",
        "\n",
        "for tr in root.findall('.//tbody/tr'):\n",
        "    # Find all <td> elements inside <tr>\n",
        "    tds = tr.findall('.//td')\n",
        "    # Check if there are at least 2 <td> elements\n",
        "    if len(tds) >= 2:\n",
        "        # Extract text content from the first <td> element\n",
        "        text_content = tds[0].text\n",
        "        # Check if text_content is not None and not empty\n",
        "        if text_content is not None and text_content.strip():\n",
        "            # Extract full name from the first <td> element\n",
        "            full_name = text_content.strip()\n",
        "            # Check if the full name contains a comma\n",
        "            if ',' in full_name:\n",
        "                # Split full name into last name and first name\n",
        "                last_name, first_name = full_name.split(', ', 1)\n",
        "                # Extract party from the second <td> element\n",
        "                party = tds[1].text.strip()\n",
        "                last_names.append(last_name)\n",
        "                first_names.append(first_name)\n",
        "                parties.append(party)\n",
        "\n",
        "\n",
        "df35 = pd.DataFrame({                                                                                         # Ändern!\n",
        "    'Last Name': last_names,\n",
        "    'First Name': first_names,\n",
        "    'Party': parties\n",
        "})\n",
        "\n",
        "\n",
        "Datum = \"06.09. 2023\"                                                                                       #  ÄNDERN!\n",
        "\n",
        "df35[\"Datum\"] = Datum                                                                                        # ÄNDERN!\n",
        "\n",
        "#print(df34)                                                                                                   #  ÄNDERN!"
      ],
      "metadata": {
        "id": "hpQ2N1QPR0kR"
      },
      "execution_count": null,
      "outputs": []
    },
    {
      "cell_type": "code",
      "source": [
        "df = df.append(df35, ignore_index=True)                                                                 # Ändern!"
      ],
      "metadata": {
        "colab": {
          "base_uri": "https://localhost:8080/"
        },
        "id": "DXkh9ODJSB8J",
        "outputId": "2a153904-93e7-480f-c725-ce508949992c"
      },
      "execution_count": null,
      "outputs": [
        {
          "output_type": "stream",
          "name": "stderr",
          "text": [
            "<ipython-input-1039-cb4ed140a507>:1: FutureWarning: The frame.append method is deprecated and will be removed from pandas in a future version. Use pandas.concat instead.\n",
            "  df = df.append(df35, ignore_index=True)                                                                 # Ändern!\n"
          ]
        }
      ]
    },
    {
      "cell_type": "code",
      "source": [
        "url36 = \"https://www.bundestag.de/resource/blob/964642/6f23cddb65b53ca38212444bd7bac3c3/20117.xml\"         # ÄNDERN!\n",
        "response = requests.get(url36)                                                                             # ÄNDERN!\n",
        "\n",
        "root = ET.fromstring(response.content)\n",
        "\n",
        "last_names = []\n",
        "first_names = []\n",
        "parties = []\n",
        "\n",
        "for tr in root.findall('.//tbody/tr'):\n",
        "    # Find all <td> elements inside <tr>\n",
        "    tds = tr.findall('.//td')\n",
        "    # Check if there are at least 2 <td> elements\n",
        "    if len(tds) >= 2:\n",
        "        # Extract text content from the first <td> element\n",
        "        text_content = tds[0].text\n",
        "        # Check if text_content is not None and not empty\n",
        "        if text_content is not None and text_content.strip():\n",
        "            # Extract full name from the first <td> element\n",
        "            full_name = text_content.strip()\n",
        "            # Check if the full name contains a comma\n",
        "            if ',' in full_name:\n",
        "                # Split full name into last name and first name\n",
        "                last_name, first_name = full_name.split(', ', 1)\n",
        "                # Extract party from the second <td> element\n",
        "                party = tds[1].text.strip()\n",
        "                last_names.append(last_name)\n",
        "                first_names.append(first_name)\n",
        "                parties.append(party)\n",
        "\n",
        "\n",
        "df36 = pd.DataFrame({                                                                                         # Ändern!\n",
        "    'Last Name': last_names,\n",
        "    'First Name': first_names,\n",
        "    'Party': parties\n",
        "})\n",
        "\n",
        "\n",
        "Datum = \"05.09. 2023\"                                                                                       #  ÄNDERN!\n",
        "\n",
        "df36[\"Datum\"] = Datum                                                                                        # ÄNDERN!\n",
        "\n",
        "#print(df34)                                                                                                   #  ÄNDERN!"
      ],
      "metadata": {
        "id": "ScSa7phxSE1y"
      },
      "execution_count": null,
      "outputs": []
    },
    {
      "cell_type": "code",
      "source": [
        "df = df.append(df36, ignore_index=True)                                                                 # Ändern!"
      ],
      "metadata": {
        "colab": {
          "base_uri": "https://localhost:8080/"
        },
        "id": "oJujpcsSSTR0",
        "outputId": "658b11dc-563a-4bec-ecf5-c7dfe0219500"
      },
      "execution_count": null,
      "outputs": [
        {
          "output_type": "stream",
          "name": "stderr",
          "text": [
            "<ipython-input-1041-4e3146a7dea7>:1: FutureWarning: The frame.append method is deprecated and will be removed from pandas in a future version. Use pandas.concat instead.\n",
            "  df = df.append(df36, ignore_index=True)                                                                 # Ändern!\n"
          ]
        }
      ]
    },
    {
      "cell_type": "code",
      "source": [
        "url37 = \"https://www.bundestag.de/resource/blob/957010/0b94a6e246fdb3895408063f10389c88/20115.xml\"         # ÄNDERN!\n",
        "response = requests.get(url37)                                                                             # ÄNDERN!\n",
        "\n",
        "root = ET.fromstring(response.content)\n",
        "\n",
        "last_names = []\n",
        "first_names = []\n",
        "parties = []\n",
        "\n",
        "for tr in root.findall('.//tbody/tr'):\n",
        "    # Find all <td> elements inside <tr>\n",
        "    tds = tr.findall('.//td')\n",
        "    # Check if there are at least 2 <td> elements\n",
        "    if len(tds) >= 2:\n",
        "        # Extract text content from the first <td> element\n",
        "        text_content = tds[0].text\n",
        "        # Check if text_content is not None and not empty\n",
        "        if text_content is not None and text_content.strip():\n",
        "            # Extract full name from the first <td> element\n",
        "            full_name = text_content.strip()\n",
        "            # Check if the full name contains a comma\n",
        "            if ',' in full_name:\n",
        "                # Split full name into last name and first name\n",
        "                last_name, first_name = full_name.split(', ', 1)\n",
        "                # Extract party from the second <td> element\n",
        "                party = tds[1].text.strip()\n",
        "                last_names.append(last_name)\n",
        "                first_names.append(first_name)\n",
        "                parties.append(party)\n",
        "\n",
        "\n",
        "df37 = pd.DataFrame({                                                                                         # Ändern!\n",
        "    'Last Name': last_names,\n",
        "    'First Name': first_names,\n",
        "    'Party': parties\n",
        "})\n",
        "\n",
        "\n",
        "Datum = \"06.07. 2023\"                                                                                       #  ÄNDERN!\n",
        "\n",
        "df37[\"Datum\"] = Datum                                                                                        # ÄNDERN!\n",
        "\n",
        "#print(df34)                                                                                                   #  ÄNDERN!"
      ],
      "metadata": {
        "id": "YnItOzrZSXFF"
      },
      "execution_count": null,
      "outputs": []
    },
    {
      "cell_type": "code",
      "source": [
        "df = df.append(df37, ignore_index=True)                                                                 # Ändern!"
      ],
      "metadata": {
        "colab": {
          "base_uri": "https://localhost:8080/"
        },
        "id": "BSi3tV7hS6_9",
        "outputId": "4d534484-c2d6-402f-ac98-1e5bc7cadea8"
      },
      "execution_count": null,
      "outputs": [
        {
          "output_type": "stream",
          "name": "stderr",
          "text": [
            "<ipython-input-1043-34f8ef9b0354>:1: FutureWarning: The frame.append method is deprecated and will be removed from pandas in a future version. Use pandas.concat instead.\n",
            "  df = df.append(df37, ignore_index=True)                                                                 # Ändern!\n"
          ]
        }
      ]
    },
    {
      "cell_type": "code",
      "source": [
        "url38 = \"https://www.bundestag.de/resource/blob/957228/f778da80862503dd89da883e9857cbea/20116.xml\"         # ÄNDERN!\n",
        "response = requests.get(url38)                                                                             # ÄNDERN!\n",
        "\n",
        "root = ET.fromstring(response.content)\n",
        "\n",
        "last_names = []\n",
        "first_names = []\n",
        "parties = []\n",
        "\n",
        "for tr in root.findall('.//tbody/tr'):\n",
        "    # Find all <td> elements inside <tr>\n",
        "    tds = tr.findall('.//td')\n",
        "    # Check if there are at least 2 <td> elements\n",
        "    if len(tds) >= 2:\n",
        "        # Extract text content from the first <td> element\n",
        "        text_content = tds[0].text\n",
        "        # Check if text_content is not None and not empty\n",
        "        if text_content is not None and text_content.strip():\n",
        "            # Extract full name from the first <td> element\n",
        "            full_name = text_content.strip()\n",
        "            # Check if the full name contains a comma\n",
        "            if ',' in full_name:\n",
        "                # Split full name into last name and first name\n",
        "                last_name, first_name = full_name.split(', ', 1)\n",
        "                # Extract party from the second <td> element\n",
        "                party = tds[1].text.strip()\n",
        "                last_names.append(last_name)\n",
        "                first_names.append(first_name)\n",
        "                parties.append(party)\n",
        "\n",
        "\n",
        "df38 = pd.DataFrame({                                                                                         # Ändern!\n",
        "    'Last Name': last_names,\n",
        "    'First Name': first_names,\n",
        "    'Party': parties\n",
        "})\n",
        "\n",
        "\n",
        "Datum = \"07.07. 2023\"                                                                                       #  ÄNDERN!\n",
        "\n",
        "df38[\"Datum\"] = Datum                                                                                        # ÄNDERN!\n",
        "\n",
        "#print(df34)                                                                                                   #  ÄNDERN!"
      ],
      "metadata": {
        "id": "EzuXzQq3S-1U"
      },
      "execution_count": null,
      "outputs": []
    },
    {
      "cell_type": "code",
      "source": [
        "df = df.append(df38, ignore_index=True)                                                                 # Ändern!"
      ],
      "metadata": {
        "colab": {
          "base_uri": "https://localhost:8080/"
        },
        "id": "BwtlTUlSTSOH",
        "outputId": "b176edba-2b90-4033-e537-e226add14455"
      },
      "execution_count": null,
      "outputs": [
        {
          "output_type": "stream",
          "name": "stderr",
          "text": [
            "<ipython-input-1045-9a84c9e1e031>:1: FutureWarning: The frame.append method is deprecated and will be removed from pandas in a future version. Use pandas.concat instead.\n",
            "  df = df.append(df38, ignore_index=True)                                                                 # Ändern!\n"
          ]
        }
      ]
    },
    {
      "cell_type": "code",
      "source": [
        "url39 = \"https://www.bundestag.de/resource/blob/957006/37932e32edee2cf9deb1bee8c92a22bf/20114.xml\"         # ÄNDERN!\n",
        "response = requests.get(url39)                                                                             # ÄNDERN!\n",
        "\n",
        "root = ET.fromstring(response.content)\n",
        "\n",
        "last_names = []\n",
        "first_names = []\n",
        "parties = []\n",
        "\n",
        "for tr in root.findall('.//tbody/tr'):\n",
        "    # Find all <td> elements inside <tr>\n",
        "    tds = tr.findall('.//td')\n",
        "    # Check if there are at least 2 <td> elements\n",
        "    if len(tds) >= 2:\n",
        "        # Extract text content from the first <td> element\n",
        "        text_content = tds[0].text\n",
        "        # Check if text_content is not None and not empty\n",
        "        if text_content is not None and text_content.strip():\n",
        "            # Extract full name from the first <td> element\n",
        "            full_name = text_content.strip()\n",
        "            # Check if the full name contains a comma\n",
        "            if ',' in full_name:\n",
        "                # Split full name into last name and first name\n",
        "                last_name, first_name = full_name.split(', ', 1)\n",
        "                # Extract party from the second <td> element\n",
        "                party = tds[1].text.strip()\n",
        "                last_names.append(last_name)\n",
        "                first_names.append(first_name)\n",
        "                parties.append(party)\n",
        "\n",
        "\n",
        "df39 = pd.DataFrame({                                                                                         # Ändern!\n",
        "    'Last Name': last_names,\n",
        "    'First Name': first_names,\n",
        "    'Party': parties\n",
        "})\n",
        "\n",
        "\n",
        "Datum = \"05.07. 2023\"                                                                                       #  ÄNDERN!\n",
        "\n",
        "df39[\"Datum\"] = Datum                                                                                        # ÄNDERN!\n",
        "\n",
        "#print(df34)                                                                                                   #  ÄNDERN!"
      ],
      "metadata": {
        "id": "Ju6jiovYTWRP"
      },
      "execution_count": null,
      "outputs": []
    },
    {
      "cell_type": "code",
      "source": [
        "df = df.append(df39, ignore_index=True)                                                                 # Ändern!"
      ],
      "metadata": {
        "colab": {
          "base_uri": "https://localhost:8080/"
        },
        "id": "c30bXXdqT3H_",
        "outputId": "946aff07-e85f-418f-e37d-cd62f6cf51ca"
      },
      "execution_count": null,
      "outputs": [
        {
          "output_type": "stream",
          "name": "stderr",
          "text": [
            "<ipython-input-1047-80a35515ca95>:1: FutureWarning: The frame.append method is deprecated and will be removed from pandas in a future version. Use pandas.concat instead.\n",
            "  df = df.append(df39, ignore_index=True)                                                                 # Ändern!\n"
          ]
        }
      ]
    },
    {
      "cell_type": "code",
      "source": [
        "url40 = \"https://www.bundestag.de/resource/blob/955438/c94d02b6e6a60f7f08151d4691f812a3/20113.xml\"         # ÄNDERN!\n",
        "response = requests.get(url40)                                                                             # ÄNDERN!\n",
        "\n",
        "root = ET.fromstring(response.content)\n",
        "\n",
        "last_names = []\n",
        "first_names = []\n",
        "parties = []\n",
        "\n",
        "for tr in root.findall('.//tbody/tr'):\n",
        "    # Find all <td> elements inside <tr>\n",
        "    tds = tr.findall('.//td')\n",
        "    # Check if there are at least 2 <td> elements\n",
        "    if len(tds) >= 2:\n",
        "        # Extract text content from the first <td> element\n",
        "        text_content = tds[0].text\n",
        "        # Check if text_content is not None and not empty\n",
        "        if text_content is not None and text_content.strip():\n",
        "            # Extract full name from the first <td> element\n",
        "            full_name = text_content.strip()\n",
        "            # Check if the full name contains a comma\n",
        "            if ',' in full_name:\n",
        "                # Split full name into last name and first name\n",
        "                last_name, first_name = full_name.split(', ', 1)\n",
        "                # Extract party from the second <td> element\n",
        "                party = tds[1].text.strip()\n",
        "                last_names.append(last_name)\n",
        "                first_names.append(first_name)\n",
        "                parties.append(party)\n",
        "\n",
        "\n",
        "df40 = pd.DataFrame({                                                                                         # Ändern!\n",
        "    'Last Name': last_names,\n",
        "    'First Name': first_names,\n",
        "    'Party': parties\n",
        "})\n",
        "\n",
        "\n",
        "Datum = \"23.06. 2023\"                                                                                       #  ÄNDERN!\n",
        "\n",
        "df40[\"Datum\"] = Datum                                                                                        # ÄNDERN!\n",
        "\n",
        "#print(df34)                                                                                                   #  ÄNDERN!"
      ],
      "metadata": {
        "id": "89jCQnFwT7zl"
      },
      "execution_count": null,
      "outputs": []
    },
    {
      "cell_type": "code",
      "source": [
        "df = df.append(df40, ignore_index=True)                                                                 # Ändern!"
      ],
      "metadata": {
        "colab": {
          "base_uri": "https://localhost:8080/"
        },
        "id": "BjvtzkjvUkgL",
        "outputId": "ccde3b51-47df-4574-f245-0cc65c219ef9"
      },
      "execution_count": null,
      "outputs": [
        {
          "output_type": "stream",
          "name": "stderr",
          "text": [
            "<ipython-input-1049-f7d32499df0a>:1: FutureWarning: The frame.append method is deprecated and will be removed from pandas in a future version. Use pandas.concat instead.\n",
            "  df = df.append(df40, ignore_index=True)                                                                 # Ändern!\n"
          ]
        }
      ]
    },
    {
      "cell_type": "code",
      "source": [
        "url41 = \"https://www.bundestag.de/resource/blob/955070/a1a3575020542b9783e1f69a8655429e/20112.xml\"         # ÄNDERN!\n",
        "response = requests.get(url41)                                                                             # ÄNDERN!\n",
        "\n",
        "root = ET.fromstring(response.content)\n",
        "\n",
        "last_names = []\n",
        "first_names = []\n",
        "parties = []\n",
        "\n",
        "for tr in root.findall('.//tbody/tr'):\n",
        "    # Find all <td> elements inside <tr>\n",
        "    tds = tr.findall('.//td')\n",
        "    # Check if there are at least 2 <td> elements\n",
        "    if len(tds) >= 2:\n",
        "        # Extract text content from the first <td> element\n",
        "        text_content = tds[0].text\n",
        "        # Check if text_content is not None and not empty\n",
        "        if text_content is not None and text_content.strip():\n",
        "            # Extract full name from the first <td> element\n",
        "            full_name = text_content.strip()\n",
        "            # Check if the full name contains a comma\n",
        "            if ',' in full_name:\n",
        "                # Split full name into last name and first name\n",
        "                last_name, first_name = full_name.split(', ', 1)\n",
        "                # Extract party from the second <td> element\n",
        "                party = tds[1].text.strip()\n",
        "                last_names.append(last_name)\n",
        "                first_names.append(first_name)\n",
        "                parties.append(party)\n",
        "\n",
        "\n",
        "df41 = pd.DataFrame({                                                                                         # Ändern!\n",
        "    'Last Name': last_names,\n",
        "    'First Name': first_names,\n",
        "    'Party': parties\n",
        "})\n",
        "\n",
        "\n",
        "Datum = \"22.06. 2023\"                                                                                       #  ÄNDERN!\n",
        "\n",
        "df41[\"Datum\"] = Datum                                                                                        # ÄNDERN!\n",
        "\n",
        "#print(df34)                                                                                                   #  ÄNDERN!"
      ],
      "metadata": {
        "id": "lz350DgWUnSB"
      },
      "execution_count": null,
      "outputs": []
    },
    {
      "cell_type": "code",
      "source": [
        "df = df.append(df41, ignore_index=True)                                                                 # Ändern!"
      ],
      "metadata": {
        "colab": {
          "base_uri": "https://localhost:8080/"
        },
        "id": "t2C0JZiXU2tj",
        "outputId": "631af83c-ed78-405f-e324-9bc849864f6f"
      },
      "execution_count": null,
      "outputs": [
        {
          "output_type": "stream",
          "name": "stderr",
          "text": [
            "<ipython-input-1051-85b3b49daf09>:1: FutureWarning: The frame.append method is deprecated and will be removed from pandas in a future version. Use pandas.concat instead.\n",
            "  df = df.append(df41, ignore_index=True)                                                                 # Ändern!\n"
          ]
        }
      ]
    },
    {
      "cell_type": "code",
      "source": [
        "url42 = \"https://www.bundestag.de/resource/blob/954874/3138fbe43e3842ba253ceadbc8fdab74/20111.xml\"         # ÄNDERN!\n",
        "response = requests.get(url42)                                                                             # ÄNDERN!\n",
        "\n",
        "root = ET.fromstring(response.content)\n",
        "\n",
        "last_names = []\n",
        "first_names = []\n",
        "parties = []\n",
        "\n",
        "for tr in root.findall('.//tbody/tr'):\n",
        "    # Find all <td> elements inside <tr>\n",
        "    tds = tr.findall('.//td')\n",
        "    # Check if there are at least 2 <td> elements\n",
        "    if len(tds) >= 2:\n",
        "        # Extract text content from the first <td> element\n",
        "        text_content = tds[0].text\n",
        "        # Check if text_content is not None and not empty\n",
        "        if text_content is not None and text_content.strip():\n",
        "            # Extract full name from the first <td> element\n",
        "            full_name = text_content.strip()\n",
        "            # Check if the full name contains a comma\n",
        "            if ',' in full_name:\n",
        "                # Split full name into last name and first name\n",
        "                last_name, first_name = full_name.split(', ', 1)\n",
        "                # Extract party from the second <td> element\n",
        "                party = tds[1].text.strip()\n",
        "                last_names.append(last_name)\n",
        "                first_names.append(first_name)\n",
        "                parties.append(party)\n",
        "\n",
        "\n",
        "df42 = pd.DataFrame({                                                                                         # Ändern!\n",
        "    'Last Name': last_names,\n",
        "    'First Name': first_names,\n",
        "    'Party': parties\n",
        "})\n",
        "\n",
        "\n",
        "Datum = \"21.06. 2023\"                                                                                       #  ÄNDERN!\n",
        "\n",
        "df42[\"Datum\"] = Datum                                                                                        # ÄNDERN!\n",
        "\n",
        "#print(df34)                                                                                                   #  ÄNDERN!"
      ],
      "metadata": {
        "id": "0rQsUTFUU6Ye"
      },
      "execution_count": null,
      "outputs": []
    },
    {
      "cell_type": "code",
      "source": [
        "df = df.append(df42, ignore_index=True)                                                                 # Ändern!"
      ],
      "metadata": {
        "colab": {
          "base_uri": "https://localhost:8080/"
        },
        "id": "-XRHU9ieVJ9-",
        "outputId": "0a9cbe23-1249-4c00-bbb4-4173ddb14dbd"
      },
      "execution_count": null,
      "outputs": [
        {
          "output_type": "stream",
          "name": "stderr",
          "text": [
            "<ipython-input-1053-cd8780c17905>:1: FutureWarning: The frame.append method is deprecated and will be removed from pandas in a future version. Use pandas.concat instead.\n",
            "  df = df.append(df42, ignore_index=True)                                                                 # Ändern!\n"
          ]
        }
      ]
    },
    {
      "cell_type": "code",
      "source": [
        "url43 = \"https://www.bundestag.de/resource/blob/954016/cb550882ba449976336d2e6b0a590ba8/20110.xml\"         # ÄNDERN!\n",
        "response = requests.get(url43)                                                                             # ÄNDERN!\n",
        "\n",
        "root = ET.fromstring(response.content)\n",
        "\n",
        "last_names = []\n",
        "first_names = []\n",
        "parties = []\n",
        "\n",
        "for tr in root.findall('.//tbody/tr'):\n",
        "    # Find all <td> elements inside <tr>\n",
        "    tds = tr.findall('.//td')\n",
        "    # Check if there are at least 2 <td> elements\n",
        "    if len(tds) >= 2:\n",
        "        # Extract text content from the first <td> element\n",
        "        text_content = tds[0].text\n",
        "        # Check if text_content is not None and not empty\n",
        "        if text_content is not None and text_content.strip():\n",
        "            # Extract full name from the first <td> element\n",
        "            full_name = text_content.strip()\n",
        "            # Check if the full name contains a comma\n",
        "            if ',' in full_name:\n",
        "                # Split full name into last name and first name\n",
        "                last_name, first_name = full_name.split(', ', 1)\n",
        "                # Extract party from the second <td> element\n",
        "                party = tds[1].text.strip()\n",
        "                last_names.append(last_name)\n",
        "                first_names.append(first_name)\n",
        "                parties.append(party)\n",
        "\n",
        "\n",
        "df43 = pd.DataFrame({                                                                                         # Ändern!\n",
        "    'Last Name': last_names,\n",
        "    'First Name': first_names,\n",
        "    'Party': parties\n",
        "})\n",
        "\n",
        "\n",
        "Datum = \"16.06. 2023\"                                                                                       #  ÄNDERN!\n",
        "\n",
        "df43[\"Datum\"] = Datum                                                                                        # ÄNDERN!\n",
        "\n",
        "#print(df34)                                                                                                   #  ÄNDERN!"
      ],
      "metadata": {
        "id": "42SZQ-R9VSHe"
      },
      "execution_count": null,
      "outputs": []
    },
    {
      "cell_type": "code",
      "source": [
        "df = df.append(df43, ignore_index=True)                                                                 # Ändern!"
      ],
      "metadata": {
        "colab": {
          "base_uri": "https://localhost:8080/"
        },
        "id": "1NRAPmaYVgQW",
        "outputId": "b78e234a-2779-4bef-b9bf-24ec4645a28d"
      },
      "execution_count": null,
      "outputs": [
        {
          "output_type": "stream",
          "name": "stderr",
          "text": [
            "<ipython-input-1055-2c6a0b4f974b>:1: FutureWarning: The frame.append method is deprecated and will be removed from pandas in a future version. Use pandas.concat instead.\n",
            "  df = df.append(df43, ignore_index=True)                                                                 # Ändern!\n"
          ]
        }
      ]
    },
    {
      "cell_type": "code",
      "source": [
        "url44 = \"https://www.bundestag.de/resource/blob/953454/07eae93210e1620a1492caeabc40ff4d/20109.xml\"         # ÄNDERN!\n",
        "response = requests.get(url44)                                                                             # ÄNDERN!\n",
        "\n",
        "root = ET.fromstring(response.content)\n",
        "\n",
        "last_names = []\n",
        "first_names = []\n",
        "parties = []\n",
        "\n",
        "for tr in root.findall('.//tbody/tr'):\n",
        "    # Find all <td> elements inside <tr>\n",
        "    tds = tr.findall('.//td')\n",
        "    # Check if there are at least 2 <td> elements\n",
        "    if len(tds) >= 2:\n",
        "        # Extract text content from the first <td> element\n",
        "        text_content = tds[0].text\n",
        "        # Check if text_content is not None and not empty\n",
        "        if text_content is not None and text_content.strip():\n",
        "            # Extract full name from the first <td> element\n",
        "            full_name = text_content.strip()\n",
        "            # Check if the full name contains a comma\n",
        "            if ',' in full_name:\n",
        "                # Split full name into last name and first name\n",
        "                last_name, first_name = full_name.split(', ', 1)\n",
        "                # Extract party from the second <td> element\n",
        "                party = tds[1].text.strip()\n",
        "                last_names.append(last_name)\n",
        "                first_names.append(first_name)\n",
        "                parties.append(party)\n",
        "\n",
        "\n",
        "df44 = pd.DataFrame({                                                                                         # Ändern!\n",
        "    'Last Name': last_names,\n",
        "    'First Name': first_names,\n",
        "    'Party': parties\n",
        "})\n",
        "\n",
        "\n",
        "Datum = \"15.06. 2023\"                                                                                       #  ÄNDERN!\n",
        "\n",
        "df44[\"Datum\"] = Datum                                                                                        # ÄNDERN!\n",
        "\n",
        "#print(df34)                                                                                                   #  ÄNDERN!"
      ],
      "metadata": {
        "id": "pM_-4m2DVkVd"
      },
      "execution_count": null,
      "outputs": []
    },
    {
      "cell_type": "code",
      "source": [
        "df = df.append(df44, ignore_index=True)                                                                 # Ändern!"
      ],
      "metadata": {
        "colab": {
          "base_uri": "https://localhost:8080/"
        },
        "id": "MInY52MZVxi1",
        "outputId": "83d79db8-8fed-4813-9439-f71231e3e4b3"
      },
      "execution_count": null,
      "outputs": [
        {
          "output_type": "stream",
          "name": "stderr",
          "text": [
            "<ipython-input-1057-1b16454c3546>:1: FutureWarning: The frame.append method is deprecated and will be removed from pandas in a future version. Use pandas.concat instead.\n",
            "  df = df.append(df44, ignore_index=True)                                                                 # Ändern!\n"
          ]
        }
      ]
    },
    {
      "cell_type": "code",
      "source": [
        "url45 = \"https://www.bundestag.de/resource/blob/953176/18800b6cbcd570e9ef38458246805897/20108.xml\"         # ÄNDERN!\n",
        "response = requests.get(url45)                                                                             # ÄNDERN!\n",
        "\n",
        "root = ET.fromstring(response.content)\n",
        "\n",
        "last_names = []\n",
        "first_names = []\n",
        "parties = []\n",
        "\n",
        "for tr in root.findall('.//tbody/tr'):\n",
        "    # Find all <td> elements inside <tr>\n",
        "    tds = tr.findall('.//td')\n",
        "    # Check if there are at least 2 <td> elements\n",
        "    if len(tds) >= 2:\n",
        "        # Extract text content from the first <td> element\n",
        "        text_content = tds[0].text\n",
        "        # Check if text_content is not None and not empty\n",
        "        if text_content is not None and text_content.strip():\n",
        "            # Extract full name from the first <td> element\n",
        "            full_name = text_content.strip()\n",
        "            # Check if the full name contains a comma\n",
        "            if ',' in full_name:\n",
        "                # Split full name into last name and first name\n",
        "                last_name, first_name = full_name.split(', ', 1)\n",
        "                # Extract party from the second <td> element\n",
        "                party = tds[1].text.strip()\n",
        "                last_names.append(last_name)\n",
        "                first_names.append(first_name)\n",
        "                parties.append(party)\n",
        "\n",
        "\n",
        "df45 = pd.DataFrame({                                                                                         # Ändern!\n",
        "    'Last Name': last_names,\n",
        "    'First Name': first_names,\n",
        "    'Party': parties\n",
        "})\n",
        "\n",
        "\n",
        "Datum = \"14.06. 2023\"                                                                                       #  ÄNDERN!\n",
        "\n",
        "df45[\"Datum\"] = Datum                                                                                        # ÄNDERN!\n",
        "\n",
        "#print(df34)                                                                                                   #  ÄNDERN!"
      ],
      "metadata": {
        "id": "Z1tBnZZ2VzSc"
      },
      "execution_count": null,
      "outputs": []
    },
    {
      "cell_type": "code",
      "source": [
        "df = df.append(df45, ignore_index=True)                                                                 # Ändern!"
      ],
      "metadata": {
        "colab": {
          "base_uri": "https://localhost:8080/"
        },
        "id": "fnphGeU1WCaj",
        "outputId": "c55b81fd-8478-4ffb-a8f1-0f07fec9e13c"
      },
      "execution_count": null,
      "outputs": [
        {
          "output_type": "stream",
          "name": "stderr",
          "text": [
            "<ipython-input-1059-1d343d9331aa>:1: FutureWarning: The frame.append method is deprecated and will be removed from pandas in a future version. Use pandas.concat instead.\n",
            "  df = df.append(df45, ignore_index=True)                                                                 # Ändern!\n"
          ]
        }
      ]
    },
    {
      "cell_type": "code",
      "source": [
        "url46 = \"https://www.bundestag.de/resource/blob/950334/dc658f1ad52059dc764180d2de1ff620/20106.xml\"         # ÄNDERN!\n",
        "response = requests.get(url46)                                                                             # ÄNDERN!\n",
        "\n",
        "root = ET.fromstring(response.content)\n",
        "\n",
        "last_names = []\n",
        "first_names = []\n",
        "parties = []\n",
        "\n",
        "for tr in root.findall('.//tbody/tr'):\n",
        "    # Find all <td> elements inside <tr>\n",
        "    tds = tr.findall('.//td')\n",
        "    # Check if there are at least 2 <td> elements\n",
        "    if len(tds) >= 2:\n",
        "        # Extract text content from the first <td> element\n",
        "        text_content = tds[0].text\n",
        "        # Check if text_content is not None and not empty\n",
        "        if text_content is not None and text_content.strip():\n",
        "            # Extract full name from the first <td> element\n",
        "            full_name = text_content.strip()\n",
        "            # Check if the full name contains a comma\n",
        "            if ',' in full_name:\n",
        "                # Split full name into last name and first name\n",
        "                last_name, first_name = full_name.split(', ', 1)\n",
        "                # Extract party from the second <td> element\n",
        "                party = tds[1].text.strip()\n",
        "                last_names.append(last_name)\n",
        "                first_names.append(first_name)\n",
        "                parties.append(party)\n",
        "\n",
        "\n",
        "df46 = pd.DataFrame({                                                                                         # Ändern!\n",
        "    'Last Name': last_names,\n",
        "    'First Name': first_names,\n",
        "    'Party': parties\n",
        "})\n",
        "\n",
        "\n",
        "Datum = \"25.05. 2023\"                                                                                       #  ÄNDERN!\n",
        "\n",
        "df46[\"Datum\"] = Datum                                                                                        # ÄNDERN!\n",
        "\n",
        "#print(df34)                                                                                                   #  ÄNDERN!"
      ],
      "metadata": {
        "id": "DEL1sUHDWEhO"
      },
      "execution_count": null,
      "outputs": []
    },
    {
      "cell_type": "code",
      "source": [
        "df = df.append(df46, ignore_index=True)                                                                 # Ändern!"
      ],
      "metadata": {
        "colab": {
          "base_uri": "https://localhost:8080/"
        },
        "id": "TPw567YvWTMP",
        "outputId": "6726861c-ba15-427a-f95e-719bb0b0797f"
      },
      "execution_count": null,
      "outputs": [
        {
          "output_type": "stream",
          "name": "stderr",
          "text": [
            "<ipython-input-1061-5f54177c7cd7>:1: FutureWarning: The frame.append method is deprecated and will be removed from pandas in a future version. Use pandas.concat instead.\n",
            "  df = df.append(df46, ignore_index=True)                                                                 # Ändern!\n"
          ]
        }
      ]
    },
    {
      "cell_type": "code",
      "source": [
        "url47 = \"https://www.bundestag.de/resource/blob/950336/1dbae6bd24ee34cba4cef0876f397038/20107.xml\"         # ÄNDERN!\n",
        "response = requests.get(url47)                                                                             # ÄNDERN!\n",
        "\n",
        "root = ET.fromstring(response.content)\n",
        "\n",
        "last_names = []\n",
        "first_names = []\n",
        "parties = []\n",
        "\n",
        "for tr in root.findall('.//tbody/tr'):\n",
        "    # Find all <td> elements inside <tr>\n",
        "    tds = tr.findall('.//td')\n",
        "    # Check if there are at least 2 <td> elements\n",
        "    if len(tds) >= 2:\n",
        "        # Extract text content from the first <td> element\n",
        "        text_content = tds[0].text\n",
        "        # Check if text_content is not None and not empty\n",
        "        if text_content is not None and text_content.strip():\n",
        "            # Extract full name from the first <td> element\n",
        "            full_name = text_content.strip()\n",
        "            # Check if the full name contains a comma\n",
        "            if ',' in full_name:\n",
        "                # Split full name into last name and first name\n",
        "                last_name, first_name = full_name.split(', ', 1)\n",
        "                # Extract party from the second <td> element\n",
        "                party = tds[1].text.strip()\n",
        "                last_names.append(last_name)\n",
        "                first_names.append(first_name)\n",
        "                parties.append(party)\n",
        "\n",
        "\n",
        "df47 = pd.DataFrame({                                                                                         # Ändern!\n",
        "    'Last Name': last_names,\n",
        "    'First Name': first_names,\n",
        "    'Party': parties\n",
        "})\n",
        "\n",
        "\n",
        "Datum = \"26.05. 2023\"                                                                                       #  ÄNDERN!\n",
        "\n",
        "df47[\"Datum\"] = Datum                                                                                        # ÄNDERN!\n",
        "\n",
        "#print(df34)                                                                                                   #  ÄNDERN!"
      ],
      "metadata": {
        "id": "cdgaZq9RWVdK"
      },
      "execution_count": null,
      "outputs": []
    },
    {
      "cell_type": "code",
      "source": [
        "df = df.append(df47, ignore_index=True)                                                                 # Ändern!"
      ],
      "metadata": {
        "colab": {
          "base_uri": "https://localhost:8080/"
        },
        "id": "aIQ9my5xWkZB",
        "outputId": "d69e1274-759e-4c14-b6e8-c0734d626ad8"
      },
      "execution_count": null,
      "outputs": [
        {
          "output_type": "stream",
          "name": "stderr",
          "text": [
            "<ipython-input-1063-1f4a6ad3dc1c>:1: FutureWarning: The frame.append method is deprecated and will be removed from pandas in a future version. Use pandas.concat instead.\n",
            "  df = df.append(df47, ignore_index=True)                                                                 # Ändern!\n"
          ]
        }
      ]
    },
    {
      "cell_type": "code",
      "source": [
        "url48 = \"https://www.bundestag.de/resource/blob/950324/370eac78d5b1cd909e6058f61fea415a/20105.xml\"         # ÄNDERN!\n",
        "response = requests.get(url48)                                                                             # ÄNDERN!\n",
        "\n",
        "root = ET.fromstring(response.content)\n",
        "\n",
        "last_names = []\n",
        "first_names = []\n",
        "parties = []\n",
        "\n",
        "for tr in root.findall('.//tbody/tr'):\n",
        "    # Find all <td> elements inside <tr>\n",
        "    tds = tr.findall('.//td')\n",
        "    # Check if there are at least 2 <td> elements\n",
        "    if len(tds) >= 2:\n",
        "        # Extract text content from the first <td> element\n",
        "        text_content = tds[0].text\n",
        "        # Check if text_content is not None and not empty\n",
        "        if text_content is not None and text_content.strip():\n",
        "            # Extract full name from the first <td> element\n",
        "            full_name = text_content.strip()\n",
        "            # Check if the full name contains a comma\n",
        "            if ',' in full_name:\n",
        "                # Split full name into last name and first name\n",
        "                last_name, first_name = full_name.split(', ', 1)\n",
        "                # Extract party from the second <td> element\n",
        "                party = tds[1].text.strip()\n",
        "                last_names.append(last_name)\n",
        "                first_names.append(first_name)\n",
        "                parties.append(party)\n",
        "\n",
        "\n",
        "df48 = pd.DataFrame({                                                                                         # Ändern!\n",
        "    'Last Name': last_names,\n",
        "    'First Name': first_names,\n",
        "    'Party': parties\n",
        "})\n",
        "\n",
        "\n",
        "Datum = \"24.05. 2023\"                                                                                       #  ÄNDERN!\n",
        "\n",
        "df48[\"Datum\"] = Datum                                                                                        # ÄNDERN!\n",
        "\n",
        "#print(df34)                                                                                                   #  ÄNDERN!"
      ],
      "metadata": {
        "id": "ZXOkwb6AWlvW"
      },
      "execution_count": null,
      "outputs": []
    },
    {
      "cell_type": "code",
      "source": [
        "df = df.append(df48, ignore_index=True)                                                                 # Ändern!"
      ],
      "metadata": {
        "colab": {
          "base_uri": "https://localhost:8080/"
        },
        "id": "Vcrd-I_KXNZy",
        "outputId": "6b77127f-c31d-446f-8b1e-b42a899fbaa8"
      },
      "execution_count": null,
      "outputs": [
        {
          "output_type": "stream",
          "name": "stderr",
          "text": [
            "<ipython-input-1065-d17c36e479f0>:1: FutureWarning: The frame.append method is deprecated and will be removed from pandas in a future version. Use pandas.concat instead.\n",
            "  df = df.append(df48, ignore_index=True)                                                                 # Ändern!\n"
          ]
        }
      ]
    },
    {
      "cell_type": "code",
      "source": [
        "url49 = \"https://www.bundestag.de/resource/blob/948536/7e93ae4b7a1979e32cd252bd505086d4/20104.xml\"         # ÄNDERN!\n",
        "response = requests.get(url49)                                                                             # ÄNDERN!\n",
        "\n",
        "root = ET.fromstring(response.content)\n",
        "\n",
        "last_names = []\n",
        "first_names = []\n",
        "parties = []\n",
        "\n",
        "for tr in root.findall('.//tbody/tr'):\n",
        "    # Find all <td> elements inside <tr>\n",
        "    tds = tr.findall('.//td')\n",
        "    # Check if there are at least 2 <td> elements\n",
        "    if len(tds) >= 2:\n",
        "        # Extract text content from the first <td> element\n",
        "        text_content = tds[0].text\n",
        "        # Check if text_content is not None and not empty\n",
        "        if text_content is not None and text_content.strip():\n",
        "            # Extract full name from the first <td> element\n",
        "            full_name = text_content.strip()\n",
        "            # Check if the full name contains a comma\n",
        "            if ',' in full_name:\n",
        "                # Split full name into last name and first name\n",
        "                last_name, first_name = full_name.split(', ', 1)\n",
        "                # Extract party from the second <td> element\n",
        "                party = tds[1].text.strip()\n",
        "                last_names.append(last_name)\n",
        "                first_names.append(first_name)\n",
        "                parties.append(party)\n",
        "\n",
        "\n",
        "df49 = pd.DataFrame({                                                                                         # Ändern!\n",
        "    'Last Name': last_names,\n",
        "    'First Name': first_names,\n",
        "    'Party': parties\n",
        "})\n",
        "\n",
        "\n",
        "Datum = \"12.05. 2023\"                                                                                       #  ÄNDERN!\n",
        "\n",
        "df49[\"Datum\"] = Datum                                                                                        # ÄNDERN!\n",
        "\n",
        "#print(df34)                                                                                                   #  ÄNDERN!"
      ],
      "metadata": {
        "id": "1tdo3r85XPGp"
      },
      "execution_count": null,
      "outputs": []
    },
    {
      "cell_type": "code",
      "source": [
        "df = df.append(df49, ignore_index=True)                                                                 # Ändern!"
      ],
      "metadata": {
        "colab": {
          "base_uri": "https://localhost:8080/"
        },
        "id": "rzRoey-nXhFc",
        "outputId": "47677072-657a-460d-f052-c533409d69a2"
      },
      "execution_count": null,
      "outputs": [
        {
          "output_type": "stream",
          "name": "stderr",
          "text": [
            "<ipython-input-1067-f47d5d397915>:1: FutureWarning: The frame.append method is deprecated and will be removed from pandas in a future version. Use pandas.concat instead.\n",
            "  df = df.append(df49, ignore_index=True)                                                                 # Ändern!\n"
          ]
        }
      ]
    },
    {
      "cell_type": "code",
      "source": [
        "url50 = \"https://www.bundestag.de/resource/blob/948004/d209c2dd978d317444108c13a51fbfc2/20103.xml\"         # ÄNDERN!\n",
        "response = requests.get(url50)                                                                             # ÄNDERN!\n",
        "\n",
        "root = ET.fromstring(response.content)\n",
        "\n",
        "last_names = []\n",
        "first_names = []\n",
        "parties = []\n",
        "\n",
        "for tr in root.findall('.//tbody/tr'):\n",
        "    # Find all <td> elements inside <tr>\n",
        "    tds = tr.findall('.//td')\n",
        "    # Check if there are at least 2 <td> elements\n",
        "    if len(tds) >= 2:\n",
        "        # Extract text content from the first <td> element\n",
        "        text_content = tds[0].text\n",
        "        # Check if text_content is not None and not empty\n",
        "        if text_content is not None and text_content.strip():\n",
        "            # Extract full name from the first <td> element\n",
        "            full_name = text_content.strip()\n",
        "            # Check if the full name contains a comma\n",
        "            if ',' in full_name:\n",
        "                # Split full name into last name and first name\n",
        "                last_name, first_name = full_name.split(', ', 1)\n",
        "                # Extract party from the second <td> element\n",
        "                party = tds[1].text.strip()\n",
        "                last_names.append(last_name)\n",
        "                first_names.append(first_name)\n",
        "                parties.append(party)\n",
        "\n",
        "\n",
        "df50 = pd.DataFrame({                                                                                         # Ändern!\n",
        "    'Last Name': last_names,\n",
        "    'First Name': first_names,\n",
        "    'Party': parties\n",
        "})\n",
        "\n",
        "\n",
        "Datum = \"11.05. 2023\"                                                                                       #  ÄNDERN!\n",
        "\n",
        "df50[\"Datum\"] = Datum                                                                                        # ÄNDERN!\n",
        "\n",
        "#print(df34)                                                                                                   #  ÄNDERN!"
      ],
      "metadata": {
        "id": "Vc2MIeiuXii-"
      },
      "execution_count": null,
      "outputs": []
    },
    {
      "cell_type": "code",
      "source": [
        "df = df.append(df50, ignore_index=True)                                                                 # Ändern!"
      ],
      "metadata": {
        "colab": {
          "base_uri": "https://localhost:8080/"
        },
        "id": "xpwFUOawXvED",
        "outputId": "78981481-830e-488c-8813-597fe3cf24ab"
      },
      "execution_count": null,
      "outputs": [
        {
          "output_type": "stream",
          "name": "stderr",
          "text": [
            "<ipython-input-1069-f7adff53897e>:1: FutureWarning: The frame.append method is deprecated and will be removed from pandas in a future version. Use pandas.concat instead.\n",
            "  df = df.append(df50, ignore_index=True)                                                                 # Ändern!\n"
          ]
        }
      ]
    },
    {
      "cell_type": "code",
      "source": [
        "url51 = \"https://www.bundestag.de/resource/blob/947714/f521949a0b959cbfb5c19fcf544ce5b7/20102.xml\" # ÄNDERN!\n",
        "response = requests.get(url51)                                                          # ÄNDERN!\n",
        "\n",
        "root = ET.fromstring(response.content)\n",
        "\n",
        "last_names = []\n",
        "first_names = []\n",
        "parties = []\n",
        "\n",
        "for tr in root.findall('.//tbody/tr'):\n",
        "    # Find all <td> elements inside <tr>\n",
        "    tds = tr.findall('.//td')\n",
        "    # Check if there are at least 2 <td> elements\n",
        "    if len(tds) >= 2:\n",
        "        # Extract text content from the first <td> element\n",
        "        text_content = tds[0].text\n",
        "        # Check if text_content is not None and not empty\n",
        "        if text_content is not None and text_content.strip():\n",
        "            # Extract full name from the first <td> element\n",
        "            full_name = text_content.strip()\n",
        "            # Check if the full name contains a comma\n",
        "            if ',' in full_name:\n",
        "                # Split full name into last name and first name\n",
        "                last_name, first_name = full_name.split(', ', 1)\n",
        "                # Extract party from the second <td> element\n",
        "                party = tds[1].text.strip()\n",
        "                last_names.append(last_name)\n",
        "                first_names.append(first_name)\n",
        "                parties.append(party)\n",
        "\n",
        "\n",
        "df51 = pd.DataFrame({                                                               # Ändern!\n",
        "    'Last Name': last_names,\n",
        "    'First Name': first_names,\n",
        "    'Party': parties\n",
        "})\n",
        "\n",
        "\n",
        "Datum = \"10.05. 2023\"                                                               #  ÄNDERN!\n",
        "\n",
        "df51[\"Datum\"] = Datum                                                               # ÄNDERN!\n",
        "\n",
        "#print(df34)                                                                        #  ÄNDERN!"
      ],
      "metadata": {
        "id": "B4EY6uQQ9r6Z"
      },
      "execution_count": null,
      "outputs": []
    },
    {
      "cell_type": "code",
      "source": [
        "df = df.append(df51, ignore_index=True)                                                                 # Ändern!"
      ],
      "metadata": {
        "colab": {
          "base_uri": "https://localhost:8080/"
        },
        "id": "A8qem7-G-bEE",
        "outputId": "42ff9e80-b262-436a-bd96-328549fec396"
      },
      "execution_count": null,
      "outputs": [
        {
          "output_type": "stream",
          "name": "stderr",
          "text": [
            "<ipython-input-1071-ee4cf3c2b1aa>:1: FutureWarning: The frame.append method is deprecated and will be removed from pandas in a future version. Use pandas.concat instead.\n",
            "  df = df.append(df51, ignore_index=True)                                                                 # Ändern!\n"
          ]
        }
      ]
    },
    {
      "cell_type": "code",
      "source": [
        "url52 = \"https://www.bundestag.de/resource/blob/946022/5e2a0d83889fcf2f0a8e2be5a73def99/20101.xml\" # ÄNDERN!\n",
        "response = requests.get(url52)                                                          # ÄNDERN!\n",
        "\n",
        "root = ET.fromstring(response.content)\n",
        "\n",
        "last_names = []\n",
        "first_names = []\n",
        "parties = []\n",
        "\n",
        "for tr in root.findall('.//tbody/tr'):\n",
        "    # Find all <td> elements inside <tr>\n",
        "    tds = tr.findall('.//td')\n",
        "    # Check if there are at least 2 <td> elements\n",
        "    if len(tds) >= 2:\n",
        "        # Extract text content from the first <td> element\n",
        "        text_content = tds[0].text\n",
        "        # Check if text_content is not None and not empty\n",
        "        if text_content is not None and text_content.strip():\n",
        "            # Extract full name from the first <td> element\n",
        "            full_name = text_content.strip()\n",
        "            # Check if the full name contains a comma\n",
        "            if ',' in full_name:\n",
        "                # Split full name into last name and first name\n",
        "                last_name, first_name = full_name.split(', ', 1)\n",
        "                # Extract party from the second <td> element\n",
        "                party = tds[1].text.strip()\n",
        "                last_names.append(last_name)\n",
        "                first_names.append(first_name)\n",
        "                parties.append(party)\n",
        "\n",
        "\n",
        "df52 = pd.DataFrame({                                                               # Ändern!\n",
        "    'Last Name': last_names,\n",
        "    'First Name': first_names,\n",
        "    'Party': parties\n",
        "})\n",
        "\n",
        "\n",
        "Datum = \"28.04. 2023\"                                                               #  ÄNDERN!\n",
        "\n",
        "df52[\"Datum\"] = Datum                                                               # ÄNDERN!\n",
        "\n",
        "#print(df34)                                                                        #  ÄNDERN!"
      ],
      "metadata": {
        "id": "mHu0jJop-rEM"
      },
      "execution_count": null,
      "outputs": []
    },
    {
      "cell_type": "code",
      "source": [
        "df = df.append(df52, ignore_index=True)                                                                 # Ändern!"
      ],
      "metadata": {
        "colab": {
          "base_uri": "https://localhost:8080/"
        },
        "id": "4UcgRiB7-8Iz",
        "outputId": "28cf6305-05ae-4495-b53c-dedfdc0111fc"
      },
      "execution_count": null,
      "outputs": [
        {
          "output_type": "stream",
          "name": "stderr",
          "text": [
            "<ipython-input-1073-d78d8eeb385c>:1: FutureWarning: The frame.append method is deprecated and will be removed from pandas in a future version. Use pandas.concat instead.\n",
            "  df = df.append(df52, ignore_index=True)                                                                 # Ändern!\n"
          ]
        }
      ]
    },
    {
      "cell_type": "code",
      "source": [
        "url53 = \"https://www.bundestag.de/resource/blob/945536/6e01d454929a0c31a6b0a22429a1d278/20100.xml\" # ÄNDERN!\n",
        "response = requests.get(url53)                                                          # ÄNDERN!\n",
        "\n",
        "root = ET.fromstring(response.content)\n",
        "\n",
        "last_names = []\n",
        "first_names = []\n",
        "parties = []\n",
        "\n",
        "for tr in root.findall('.//tbody/tr'):\n",
        "    # Find all <td> elements inside <tr>\n",
        "    tds = tr.findall('.//td')\n",
        "    # Check if there are at least 2 <td> elements\n",
        "    if len(tds) >= 2:\n",
        "        # Extract text content from the first <td> element\n",
        "        text_content = tds[0].text\n",
        "        # Check if text_content is not None and not empty\n",
        "        if text_content is not None and text_content.strip():\n",
        "            # Extract full name from the first <td> element\n",
        "            full_name = text_content.strip()\n",
        "            # Check if the full name contains a comma\n",
        "            if ',' in full_name:\n",
        "                # Split full name into last name and first name\n",
        "                last_name, first_name = full_name.split(', ', 1)\n",
        "                # Extract party from the second <td> element\n",
        "                party = tds[1].text.strip()\n",
        "                last_names.append(last_name)\n",
        "                first_names.append(first_name)\n",
        "                parties.append(party)\n",
        "\n",
        "\n",
        "df53 = pd.DataFrame({                                                               # Ändern!\n",
        "    'Last Name': last_names,\n",
        "    'First Name': first_names,\n",
        "    'Party': parties\n",
        "})\n",
        "\n",
        "\n",
        "Datum = \"27.04. 2023\"                                                               #  ÄNDERN!\n",
        "\n",
        "df53[\"Datum\"] = Datum                                                               # ÄNDERN!\n",
        "\n",
        "#print(df34)                                                                        #  ÄNDERN!\n",
        "\n",
        "df = df.append(df53, ignore_index=True)                                             # ÄNDERN!"
      ],
      "metadata": {
        "colab": {
          "base_uri": "https://localhost:8080/"
        },
        "id": "uuPDjjnr-9sp",
        "outputId": "b136ac3b-064a-4d60-dc27-603bd6642fb8"
      },
      "execution_count": null,
      "outputs": [
        {
          "output_type": "stream",
          "name": "stderr",
          "text": [
            "<ipython-input-1074-a3536091bdae>:45: FutureWarning: The frame.append method is deprecated and will be removed from pandas in a future version. Use pandas.concat instead.\n",
            "  df = df.append(df53, ignore_index=True)                                             # ÄNDERN!\n"
          ]
        }
      ]
    },
    {
      "cell_type": "code",
      "source": [
        "url54 = \"https://www.bundestag.de/resource/blob/945302/8d7a66a79eb4651587033e86aa9109b1/20099.xml\" # ÄNDERN!\n",
        "response = requests.get(url54)                                                          # ÄNDERN!\n",
        "\n",
        "root = ET.fromstring(response.content)\n",
        "\n",
        "last_names = []\n",
        "first_names = []\n",
        "parties = []\n",
        "\n",
        "for tr in root.findall('.//tbody/tr'):\n",
        "    # Find all <td> elements inside <tr>\n",
        "    tds = tr.findall('.//td')\n",
        "    # Check if there are at least 2 <td> elements\n",
        "    if len(tds) >= 2:\n",
        "        # Extract text content from the first <td> element\n",
        "        text_content = tds[0].text\n",
        "        # Check if text_content is not None and not empty\n",
        "        if text_content is not None and text_content.strip():\n",
        "            # Extract full name from the first <td> element\n",
        "            full_name = text_content.strip()\n",
        "            # Check if the full name contains a comma\n",
        "            if ',' in full_name:\n",
        "                # Split full name into last name and first name\n",
        "                last_name, first_name = full_name.split(', ', 1)\n",
        "                # Extract party from the second <td> element\n",
        "                party = tds[1].text.strip()\n",
        "                last_names.append(last_name)\n",
        "                first_names.append(first_name)\n",
        "                parties.append(party)\n",
        "\n",
        "\n",
        "df54 = pd.DataFrame({                                                               # Ändern!\n",
        "    'Last Name': last_names,\n",
        "    'First Name': first_names,\n",
        "    'Party': parties\n",
        "})\n",
        "\n",
        "\n",
        "Datum = \"26.04. 2023\"                                                               #  ÄNDERN!\n",
        "\n",
        "df54[\"Datum\"] = Datum                                                               # ÄNDERN!\n",
        "\n",
        "#print(df34)                                                                        #  ÄNDERN!\n",
        "\n",
        "df = df.append(df54, ignore_index=True)                                             # ÄNDERN!"
      ],
      "metadata": {
        "colab": {
          "base_uri": "https://localhost:8080/"
        },
        "id": "9IFKQxjX_Ynd",
        "outputId": "a26bddf7-1ebc-4f0e-dac4-f6b0e10ec8df"
      },
      "execution_count": null,
      "outputs": [
        {
          "output_type": "stream",
          "name": "stderr",
          "text": [
            "<ipython-input-1075-9382974af7bb>:45: FutureWarning: The frame.append method is deprecated and will be removed from pandas in a future version. Use pandas.concat instead.\n",
            "  df = df.append(df54, ignore_index=True)                                             # ÄNDERN!\n"
          ]
        }
      ]
    },
    {
      "cell_type": "code",
      "source": [
        "url55 = \"https://www.bundestag.de/resource/blob/943514/34b55a941ece4d07226dd518eb65f91e/20097.xml\" # ÄNDERN!\n",
        "response = requests.get(url55)                                                          # ÄNDERN!\n",
        "\n",
        "root = ET.fromstring(response.content)\n",
        "\n",
        "last_names = []\n",
        "first_names = []\n",
        "parties = []\n",
        "\n",
        "for tr in root.findall('.//tbody/tr'):\n",
        "    # Find all <td> elements inside <tr>\n",
        "    tds = tr.findall('.//td')\n",
        "    # Check if there are at least 2 <td> elements\n",
        "    if len(tds) >= 2:\n",
        "        # Extract text content from the first <td> element\n",
        "        text_content = tds[0].text\n",
        "        # Check if text_content is not None and not empty\n",
        "        if text_content is not None and text_content.strip():\n",
        "            # Extract full name from the first <td> element\n",
        "            full_name = text_content.strip()\n",
        "            # Check if the full name contains a comma\n",
        "            if ',' in full_name:\n",
        "                # Split full name into last name and first name\n",
        "                last_name, first_name = full_name.split(', ', 1)\n",
        "                # Extract party from the second <td> element\n",
        "                party = tds[1].text.strip()\n",
        "                last_names.append(last_name)\n",
        "                first_names.append(first_name)\n",
        "                parties.append(party)\n",
        "\n",
        "\n",
        "df55 = pd.DataFrame({                                                               # Ändern!\n",
        "    'Last Name': last_names,\n",
        "    'First Name': first_names,\n",
        "    'Party': parties\n",
        "})\n",
        "\n",
        "\n",
        "Datum = \"20.04. 2023\"                                                               #  ÄNDERN!\n",
        "\n",
        "df55[\"Datum\"] = Datum                                                               # ÄNDERN!\n",
        "\n",
        "#print(df34)                                                                        #  ÄNDERN!\n",
        "\n",
        "df = df.append(df55, ignore_index=True)                                             # ÄNDERN!"
      ],
      "metadata": {
        "colab": {
          "base_uri": "https://localhost:8080/"
        },
        "id": "W1Qu8XLg_YqO",
        "outputId": "7196e628-ad93-4584-aa14-6fd031debe1c"
      },
      "execution_count": null,
      "outputs": [
        {
          "output_type": "stream",
          "name": "stderr",
          "text": [
            "<ipython-input-1076-d8a97ad15bfc>:45: FutureWarning: The frame.append method is deprecated and will be removed from pandas in a future version. Use pandas.concat instead.\n",
            "  df = df.append(df55, ignore_index=True)                                             # ÄNDERN!\n"
          ]
        }
      ]
    },
    {
      "cell_type": "code",
      "source": [
        "url56 = \"https://www.bundestag.de/resource/blob/943516/cd77f0e0cac28bbf5fbb46307fb6bd66/20098.xml\" # ÄNDERN!\n",
        "response = requests.get(url56)                                                          # ÄNDERN!\n",
        "\n",
        "root = ET.fromstring(response.content)\n",
        "\n",
        "last_names = []\n",
        "first_names = []\n",
        "parties = []\n",
        "\n",
        "for tr in root.findall('.//tbody/tr'):\n",
        "    # Find all <td> elements inside <tr>\n",
        "    tds = tr.findall('.//td')\n",
        "    # Check if there are at least 2 <td> elements\n",
        "    if len(tds) >= 2:\n",
        "        # Extract text content from the first <td> element\n",
        "        text_content = tds[0].text\n",
        "        # Check if text_content is not None and not empty\n",
        "        if text_content is not None and text_content.strip():\n",
        "            # Extract full name from the first <td> element\n",
        "            full_name = text_content.strip()\n",
        "            # Check if the full name contains a comma\n",
        "            if ',' in full_name:\n",
        "                # Split full name into last name and first name\n",
        "                last_name, first_name = full_name.split(', ', 1)\n",
        "                # Extract party from the second <td> element\n",
        "                party = tds[1].text.strip()\n",
        "                last_names.append(last_name)\n",
        "                first_names.append(first_name)\n",
        "                parties.append(party)\n",
        "\n",
        "\n",
        "df56 = pd.DataFrame({                                                               # Ändern!\n",
        "    'Last Name': last_names,\n",
        "    'First Name': first_names,\n",
        "    'Party': parties\n",
        "})\n",
        "\n",
        "\n",
        "Datum = \"21.04. 2023\"                                                               #  ÄNDERN!\n",
        "\n",
        "df56[\"Datum\"] = Datum                                                               # ÄNDERN!\n",
        "\n",
        "#print(df34)                                                                        #  ÄNDERN!\n",
        "\n",
        "df = df.append(df56, ignore_index=True)                                             # ÄNDERN!"
      ],
      "metadata": {
        "colab": {
          "base_uri": "https://localhost:8080/"
        },
        "id": "DuLGAWujAlFW",
        "outputId": "9625085e-c1a8-4cca-cf22-4e26b1d00c4d"
      },
      "execution_count": null,
      "outputs": [
        {
          "output_type": "stream",
          "name": "stderr",
          "text": [
            "<ipython-input-1077-46c8ecc757c3>:45: FutureWarning: The frame.append method is deprecated and will be removed from pandas in a future version. Use pandas.concat instead.\n",
            "  df = df.append(df56, ignore_index=True)                                             # ÄNDERN!\n"
          ]
        }
      ]
    },
    {
      "cell_type": "code",
      "source": [
        "url57 = \"https://www.bundestag.de/resource/blob/943512/e6f6cad6d7dfc740fbb82dd02626544a/20096.xml\" # ÄNDERN!\n",
        "response = requests.get(url57)                                                          # ÄNDERN!\n",
        "\n",
        "root = ET.fromstring(response.content)\n",
        "\n",
        "last_names = []\n",
        "first_names = []\n",
        "parties = []\n",
        "\n",
        "for tr in root.findall('.//tbody/tr'):\n",
        "    # Find all <td> elements inside <tr>\n",
        "    tds = tr.findall('.//td')\n",
        "    # Check if there are at least 2 <td> elements\n",
        "    if len(tds) >= 2:\n",
        "        # Extract text content from the first <td> element\n",
        "        text_content = tds[0].text\n",
        "        # Check if text_content is not None and not empty\n",
        "        if text_content is not None and text_content.strip():\n",
        "            # Extract full name from the first <td> element\n",
        "            full_name = text_content.strip()\n",
        "            # Check if the full name contains a comma\n",
        "            if ',' in full_name:\n",
        "                # Split full name into last name and first name\n",
        "                last_name, first_name = full_name.split(', ', 1)\n",
        "                # Extract party from the second <td> element\n",
        "                party = tds[1].text.strip()\n",
        "                last_names.append(last_name)\n",
        "                first_names.append(first_name)\n",
        "                parties.append(party)\n",
        "\n",
        "\n",
        "df57 = pd.DataFrame({                                                               # Ändern!\n",
        "    'Last Name': last_names,\n",
        "    'First Name': first_names,\n",
        "    'Party': parties\n",
        "})\n",
        "\n",
        "\n",
        "Datum = \"19.04. 2023\"                                                               #  ÄNDERN!\n",
        "\n",
        "df57[\"Datum\"] = Datum                                                               # ÄNDERN!\n",
        "\n",
        "#print(df34)                                                                        #  ÄNDERN!\n",
        "\n",
        "df = df.append(df57, ignore_index=True)                                             # ÄNDERN!"
      ],
      "metadata": {
        "colab": {
          "base_uri": "https://localhost:8080/"
        },
        "outputId": "27111fdb-633c-419f-ff74-3ba176f0663d",
        "id": "RTN8_IQeA3hf"
      },
      "execution_count": null,
      "outputs": [
        {
          "output_type": "stream",
          "name": "stderr",
          "text": [
            "<ipython-input-1078-f83b7c2863e9>:45: FutureWarning: The frame.append method is deprecated and will be removed from pandas in a future version. Use pandas.concat instead.\n",
            "  df = df.append(df57, ignore_index=True)                                             # ÄNDERN!\n"
          ]
        }
      ]
    },
    {
      "cell_type": "code",
      "source": [
        "url58 = \"https://www.bundestag.de/resource/blob/941534/d099e2750dd2e49844bb0bd4ae8de83b/20095.xml\" # ÄNDERN!\n",
        "response = requests.get(url58)                                                          # ÄNDERN!\n",
        "\n",
        "root = ET.fromstring(response.content)\n",
        "\n",
        "last_names = []\n",
        "first_names = []\n",
        "parties = []\n",
        "\n",
        "for tr in root.findall('.//tbody/tr'):\n",
        "    # Find all <td> elements inside <tr>\n",
        "    tds = tr.findall('.//td')\n",
        "    # Check if there are at least 2 <td> elements\n",
        "    if len(tds) >= 2:\n",
        "        # Extract text content from the first <td> element\n",
        "        text_content = tds[0].text\n",
        "        # Check if text_content is not None and not empty\n",
        "        if text_content is not None and text_content.strip():\n",
        "            # Extract full name from the first <td> element\n",
        "            full_name = text_content.strip()\n",
        "            # Check if the full name contains a comma\n",
        "            if ',' in full_name:\n",
        "                # Split full name into last name and first name\n",
        "                last_name, first_name = full_name.split(', ', 1)\n",
        "                # Extract party from the second <td> element\n",
        "                party = tds[1].text.strip()\n",
        "                last_names.append(last_name)\n",
        "                first_names.append(first_name)\n",
        "                parties.append(party)\n",
        "\n",
        "\n",
        "df58 = pd.DataFrame({                                                               # Ändern!\n",
        "    'Last Name': last_names,\n",
        "    'First Name': first_names,\n",
        "    'Party': parties\n",
        "})\n",
        "\n",
        "\n",
        "Datum = \"31.03. 2023\"                                                               #  ÄNDERN!\n",
        "\n",
        "df58[\"Datum\"] = Datum                                                               # ÄNDERN!\n",
        "\n",
        "df = df.append(df58, ignore_index=True)                                             # ÄNDERN!"
      ],
      "metadata": {
        "colab": {
          "base_uri": "https://localhost:8080/"
        },
        "outputId": "24aac64b-aec5-469d-9070-89fce59dcab9",
        "id": "yPvsKqemBZ96"
      },
      "execution_count": null,
      "outputs": [
        {
          "output_type": "stream",
          "name": "stderr",
          "text": [
            "<ipython-input-1079-c4b2ab5e40e9>:43: FutureWarning: The frame.append method is deprecated and will be removed from pandas in a future version. Use pandas.concat instead.\n",
            "  df = df.append(df58, ignore_index=True)                                             # ÄNDERN!\n"
          ]
        }
      ]
    },
    {
      "cell_type": "code",
      "source": [
        "url59 = \"https://www.bundestag.de/resource/blob/941114/61ca06c92fdf1e6307d3e66e000853c0/20094.xml\" # ÄNDERN!\n",
        "response = requests.get(url59)                                                          # ÄNDERN!\n",
        "\n",
        "root = ET.fromstring(response.content)\n",
        "\n",
        "last_names = []\n",
        "first_names = []\n",
        "parties = []\n",
        "\n",
        "for tr in root.findall('.//tbody/tr'):\n",
        "    # Find all <td> elements inside <tr>\n",
        "    tds = tr.findall('.//td')\n",
        "    # Check if there are at least 2 <td> elements\n",
        "    if len(tds) >= 2:\n",
        "        # Extract text content from the first <td> element\n",
        "        text_content = tds[0].text\n",
        "        # Check if text_content is not None and not empty\n",
        "        if text_content is not None and text_content.strip():\n",
        "            # Extract full name from the first <td> element\n",
        "            full_name = text_content.strip()\n",
        "            # Check if the full name contains a comma\n",
        "            if ',' in full_name:\n",
        "                # Split full name into last name and first name\n",
        "                last_name, first_name = full_name.split(', ', 1)\n",
        "                # Extract party from the second <td> element\n",
        "                party = tds[1].text.strip()\n",
        "                last_names.append(last_name)\n",
        "                first_names.append(first_name)\n",
        "                parties.append(party)\n",
        "\n",
        "\n",
        "df59 = pd.DataFrame({                                                               # Ändern!\n",
        "    'Last Name': last_names,\n",
        "    'First Name': first_names,\n",
        "    'Party': parties\n",
        "})\n",
        "\n",
        "\n",
        "Datum = \"30.03. 2023\"                                                               #  ÄNDERN!\n",
        "\n",
        "df59[\"Datum\"] = Datum                                                               # ÄNDERN!\n",
        "\n",
        "df = df.append(df59, ignore_index=True)                                             # ÄNDERN!"
      ],
      "metadata": {
        "colab": {
          "base_uri": "https://localhost:8080/"
        },
        "outputId": "1240affd-fa49-4f0c-925f-a43d39b49937",
        "id": "Z5Ztp7jRBqib"
      },
      "execution_count": null,
      "outputs": [
        {
          "output_type": "stream",
          "name": "stderr",
          "text": [
            "<ipython-input-1080-807ad2e6033c>:43: FutureWarning: The frame.append method is deprecated and will be removed from pandas in a future version. Use pandas.concat instead.\n",
            "  df = df.append(df59, ignore_index=True)                                             # ÄNDERN!\n"
          ]
        }
      ]
    },
    {
      "cell_type": "code",
      "source": [
        "url60 = \"https://www.bundestag.de/resource/blob/940852/06ee757adc7edee192fdf1178b80ea48/20093.xml\" # ÄNDERN!\n",
        "response = requests.get(url60)                                                          # ÄNDERN!\n",
        "\n",
        "root = ET.fromstring(response.content)\n",
        "\n",
        "last_names = []\n",
        "first_names = []\n",
        "parties = []\n",
        "\n",
        "for tr in root.findall('.//tbody/tr'):\n",
        "    # Find all <td> elements inside <tr>\n",
        "    tds = tr.findall('.//td')\n",
        "    # Check if there are at least 2 <td> elements\n",
        "    if len(tds) >= 2:\n",
        "        # Extract text content from the first <td> element\n",
        "        text_content = tds[0].text\n",
        "        # Check if text_content is not None and not empty\n",
        "        if text_content is not None and text_content.strip():\n",
        "            # Extract full name from the first <td> element\n",
        "            full_name = text_content.strip()\n",
        "            # Check if the full name contains a comma\n",
        "            if ',' in full_name:\n",
        "                # Split full name into last name and first name\n",
        "                last_name, first_name = full_name.split(', ', 1)\n",
        "                # Extract party from the second <td> element\n",
        "                party = tds[1].text.strip()\n",
        "                last_names.append(last_name)\n",
        "                first_names.append(first_name)\n",
        "                parties.append(party)\n",
        "\n",
        "\n",
        "df60 = pd.DataFrame({                                                               # Ändern!\n",
        "    'Last Name': last_names,\n",
        "    'First Name': first_names,\n",
        "    'Party': parties\n",
        "})\n",
        "\n",
        "\n",
        "Datum = \"29.03. 2023\"                                                               #  ÄNDERN!\n",
        "\n",
        "df60[\"Datum\"] = Datum                                                               # ÄNDERN!\n",
        "\n",
        "df = df.append(df60, ignore_index=True)                                             # ÄNDERN!"
      ],
      "metadata": {
        "colab": {
          "base_uri": "https://localhost:8080/"
        },
        "outputId": "22ccdcb8-2afb-492c-fe28-574c68da5ddb",
        "id": "WfEWnoNEB43K"
      },
      "execution_count": null,
      "outputs": [
        {
          "output_type": "stream",
          "name": "stderr",
          "text": [
            "<ipython-input-1081-95d415e9a1ba>:43: FutureWarning: The frame.append method is deprecated and will be removed from pandas in a future version. Use pandas.concat instead.\n",
            "  df = df.append(df60, ignore_index=True)                                             # ÄNDERN!\n"
          ]
        }
      ]
    },
    {
      "cell_type": "code",
      "source": [
        "url61 = \"https://www.bundestag.de/resource/blob/938898/816496237a453a42eeb6633743c8da31/20092.xml\" # ÄNDERN!\n",
        "response = requests.get(url61)                                                          # ÄNDERN!\n",
        "\n",
        "root = ET.fromstring(response.content)\n",
        "\n",
        "last_names = []\n",
        "first_names = []\n",
        "parties = []\n",
        "\n",
        "for tr in root.findall('.//tbody/tr'):\n",
        "    # Find all <td> elements inside <tr>\n",
        "    tds = tr.findall('.//td')\n",
        "    # Check if there are at least 2 <td> elements\n",
        "    if len(tds) >= 2:\n",
        "        # Extract text content from the first <td> element\n",
        "        text_content = tds[0].text\n",
        "        # Check if text_content is not None and not empty\n",
        "        if text_content is not None and text_content.strip():\n",
        "            # Extract full name from the first <td> element\n",
        "            full_name = text_content.strip()\n",
        "            # Check if the full name contains a comma\n",
        "            if ',' in full_name:\n",
        "                # Split full name into last name and first name\n",
        "                last_name, first_name = full_name.split(', ', 1)\n",
        "                # Extract party from the second <td> element\n",
        "                party = tds[1].text.strip()\n",
        "                last_names.append(last_name)\n",
        "                first_names.append(first_name)\n",
        "                parties.append(party)\n",
        "\n",
        "\n",
        "df61 = pd.DataFrame({                                                               # Ändern!\n",
        "    'Last Name': last_names,\n",
        "    'First Name': first_names,\n",
        "    'Party': parties\n",
        "})\n",
        "\n",
        "\n",
        "Datum = \"17.03. 2023\"                                                               #  ÄNDERN!\n",
        "\n",
        "df61[\"Datum\"] = Datum                                                               # ÄNDERN!\n",
        "\n",
        "df = df.append(df61, ignore_index=True)                                             # ÄNDERN!"
      ],
      "metadata": {
        "colab": {
          "base_uri": "https://localhost:8080/"
        },
        "outputId": "e72937b3-5a8f-4e50-802e-c37280b32895",
        "id": "fqcLrt5UCKr3"
      },
      "execution_count": null,
      "outputs": [
        {
          "output_type": "stream",
          "name": "stderr",
          "text": [
            "<ipython-input-1082-521216ad7850>:43: FutureWarning: The frame.append method is deprecated and will be removed from pandas in a future version. Use pandas.concat instead.\n",
            "  df = df.append(df61, ignore_index=True)                                             # ÄNDERN!\n"
          ]
        }
      ]
    },
    {
      "cell_type": "code",
      "source": [
        "url62 = \"https://www.bundestag.de/resource/blob/938426/74ef0db1bb8a6537ef323ca08704f53b/20091.xml\" # ÄNDERN!\n",
        "response = requests.get(url62)                                                          # ÄNDERN!\n",
        "\n",
        "root = ET.fromstring(response.content)\n",
        "\n",
        "last_names = []\n",
        "first_names = []\n",
        "parties = []\n",
        "\n",
        "for tr in root.findall('.//tbody/tr'):\n",
        "    # Find all <td> elements inside <tr>\n",
        "    tds = tr.findall('.//td')\n",
        "    # Check if there are at least 2 <td> elements\n",
        "    if len(tds) >= 2:\n",
        "        # Extract text content from the first <td> element\n",
        "        text_content = tds[0].text\n",
        "        # Check if text_content is not None and not empty\n",
        "        if text_content is not None and text_content.strip():\n",
        "            # Extract full name from the first <td> element\n",
        "            full_name = text_content.strip()\n",
        "            # Check if the full name contains a comma\n",
        "            if ',' in full_name:\n",
        "                # Split full name into last name and first name\n",
        "                last_name, first_name = full_name.split(', ', 1)\n",
        "                # Extract party from the second <td> element\n",
        "                party = tds[1].text.strip()\n",
        "                last_names.append(last_name)\n",
        "                first_names.append(first_name)\n",
        "                parties.append(party)\n",
        "\n",
        "\n",
        "df62 = pd.DataFrame({                                                               # Ändern!\n",
        "    'Last Name': last_names,\n",
        "    'First Name': first_names,\n",
        "    'Party': parties\n",
        "})\n",
        "\n",
        "\n",
        "Datum = \"16.03. 2023\"                                                               #  ÄNDERN!\n",
        "\n",
        "df62[\"Datum\"] = Datum                                                               # ÄNDERN!\n",
        "\n",
        "df = df.append(df62, ignore_index=True)                                             # ÄNDERN!"
      ],
      "metadata": {
        "colab": {
          "base_uri": "https://localhost:8080/"
        },
        "outputId": "1c6205bc-a3ee-4424-fb3c-95e893fa69ca",
        "id": "D1ReOd5cCaBH"
      },
      "execution_count": null,
      "outputs": [
        {
          "output_type": "stream",
          "name": "stderr",
          "text": [
            "<ipython-input-1083-35f40c6dce56>:43: FutureWarning: The frame.append method is deprecated and will be removed from pandas in a future version. Use pandas.concat instead.\n",
            "  df = df.append(df62, ignore_index=True)                                             # ÄNDERN!\n"
          ]
        }
      ]
    },
    {
      "cell_type": "code",
      "source": [
        "url63 = \"https://www.bundestag.de/resource/blob/938274/df976df3ed9ecd1e1167260e1e529a73/20090.xml\" # ÄNDERN!\n",
        "response = requests.get(url63)                                                          # ÄNDERN!\n",
        "\n",
        "root = ET.fromstring(response.content)\n",
        "\n",
        "last_names = []\n",
        "first_names = []\n",
        "parties = []\n",
        "\n",
        "for tr in root.findall('.//tbody/tr'):\n",
        "    # Find all <td> elements inside <tr>\n",
        "    tds = tr.findall('.//td')\n",
        "    # Check if there are at least 2 <td> elements\n",
        "    if len(tds) >= 2:\n",
        "        # Extract text content from the first <td> element\n",
        "        text_content = tds[0].text\n",
        "        # Check if text_content is not None and not empty\n",
        "        if text_content is not None and text_content.strip():\n",
        "            # Extract full name from the first <td> element\n",
        "            full_name = text_content.strip()\n",
        "            # Check if the full name contains a comma\n",
        "            if ',' in full_name:\n",
        "                # Split full name into last name and first name\n",
        "                last_name, first_name = full_name.split(', ', 1)\n",
        "                # Extract party from the second <td> element\n",
        "                party = tds[1].text.strip()\n",
        "                last_names.append(last_name)\n",
        "                first_names.append(first_name)\n",
        "                parties.append(party)\n",
        "\n",
        "\n",
        "df63 = pd.DataFrame({                                                               # Ändern!\n",
        "    'Last Name': last_names,\n",
        "    'First Name': first_names,\n",
        "    'Party': parties\n",
        "})\n",
        "\n",
        "\n",
        "Datum = \"15.03. 2023\"                                                               #  ÄNDERN!\n",
        "\n",
        "df63[\"Datum\"] = Datum                                                               # ÄNDERN!\n",
        "\n",
        "df = df.append(df63, ignore_index=True)                                             # ÄNDERN!"
      ],
      "metadata": {
        "colab": {
          "base_uri": "https://localhost:8080/"
        },
        "outputId": "6da7ad2d-4839-41d0-ed14-de49dd94b49b",
        "id": "SQZcuZzqCmVN"
      },
      "execution_count": null,
      "outputs": [
        {
          "output_type": "stream",
          "name": "stderr",
          "text": [
            "<ipython-input-1084-198d2198add9>:43: FutureWarning: The frame.append method is deprecated and will be removed from pandas in a future version. Use pandas.concat instead.\n",
            "  df = df.append(df63, ignore_index=True)                                             # ÄNDERN!\n"
          ]
        }
      ]
    },
    {
      "cell_type": "code",
      "source": [
        "url64 = \"https://www.bundestag.de/resource/blob/936332/68ed814ab6ad75198d08f0c2aa17e970/20088.xml\" # ÄNDERN!\n",
        "response = requests.get(url64)                                                          # ÄNDERN!\n",
        "\n",
        "root = ET.fromstring(response.content)\n",
        "\n",
        "last_names = []\n",
        "first_names = []\n",
        "parties = []\n",
        "\n",
        "for tr in root.findall('.//tbody/tr'):\n",
        "    # Find all <td> elements inside <tr>\n",
        "    tds = tr.findall('.//td')\n",
        "    # Check if there are at least 2 <td> elements\n",
        "    if len(tds) >= 2:\n",
        "        # Extract text content from the first <td> element\n",
        "        text_content = tds[0].text\n",
        "        # Check if text_content is not None and not empty\n",
        "        if text_content is not None and text_content.strip():\n",
        "            # Extract full name from the first <td> element\n",
        "            full_name = text_content.strip()\n",
        "            # Check if the full name contains a comma\n",
        "            if ',' in full_name:\n",
        "                # Split full name into last name and first name\n",
        "                last_name, first_name = full_name.split(', ', 1)\n",
        "                # Extract party from the second <td> element\n",
        "                party = tds[1].text.strip()\n",
        "                last_names.append(last_name)\n",
        "                first_names.append(first_name)\n",
        "                parties.append(party)\n",
        "\n",
        "\n",
        "df64 = pd.DataFrame({                                                               # Ändern!\n",
        "    'Last Name': last_names,\n",
        "    'First Name': first_names,\n",
        "    'Party': parties\n",
        "})\n",
        "\n",
        "\n",
        "Datum = \"02.03. 2023\"                                                               #  ÄNDERN!\n",
        "\n",
        "df64[\"Datum\"] = Datum                                                               # ÄNDERN!\n",
        "\n",
        "df = df.append(df64, ignore_index=True)                                             # ÄNDERN!"
      ],
      "metadata": {
        "colab": {
          "base_uri": "https://localhost:8080/"
        },
        "outputId": "8e296d52-509b-4a36-b58f-78ecac66486e",
        "id": "0T9jDqCWC2b1"
      },
      "execution_count": null,
      "outputs": [
        {
          "output_type": "stream",
          "name": "stderr",
          "text": [
            "<ipython-input-1085-27178445d7cc>:43: FutureWarning: The frame.append method is deprecated and will be removed from pandas in a future version. Use pandas.concat instead.\n",
            "  df = df.append(df64, ignore_index=True)                                             # ÄNDERN!\n"
          ]
        }
      ]
    },
    {
      "cell_type": "code",
      "source": [
        "url65 = \"https://www.bundestag.de/resource/blob/936334/de534bd18a42447a1add17a7972eb917/20089.xml\" # ÄNDERN!\n",
        "response = requests.get(url65)                                                          # ÄNDERN!\n",
        "\n",
        "root = ET.fromstring(response.content)\n",
        "\n",
        "last_names = []\n",
        "first_names = []\n",
        "parties = []\n",
        "\n",
        "for tr in root.findall('.//tbody/tr'):\n",
        "    # Find all <td> elements inside <tr>\n",
        "    tds = tr.findall('.//td')\n",
        "    # Check if there are at least 2 <td> elements\n",
        "    if len(tds) >= 2:\n",
        "        # Extract text content from the first <td> element\n",
        "        text_content = tds[0].text\n",
        "        # Check if text_content is not None and not empty\n",
        "        if text_content is not None and text_content.strip():\n",
        "            # Extract full name from the first <td> element\n",
        "            full_name = text_content.strip()\n",
        "            # Check if the full name contains a comma\n",
        "            if ',' in full_name:\n",
        "                # Split full name into last name and first name\n",
        "                last_name, first_name = full_name.split(', ', 1)\n",
        "                # Extract party from the second <td> element\n",
        "                party = tds[1].text.strip()\n",
        "                last_names.append(last_name)\n",
        "                first_names.append(first_name)\n",
        "                parties.append(party)\n",
        "\n",
        "\n",
        "df65 = pd.DataFrame({                                                               # Ändern!\n",
        "    'Last Name': last_names,\n",
        "    'First Name': first_names,\n",
        "    'Party': parties\n",
        "})\n",
        "\n",
        "\n",
        "Datum = \"03.03. 2023\"                                                               #  ÄNDERN!\n",
        "\n",
        "df65[\"Datum\"] = Datum                                                               # ÄNDERN!\n",
        "\n",
        "df = df.append(df65, ignore_index=True)                                             # ÄNDERN!"
      ],
      "metadata": {
        "colab": {
          "base_uri": "https://localhost:8080/"
        },
        "outputId": "529e08ce-0d16-4b5f-925f-2ba1fe251f7e",
        "id": "acYsz1g2DEi2"
      },
      "execution_count": null,
      "outputs": [
        {
          "output_type": "stream",
          "name": "stderr",
          "text": [
            "<ipython-input-1086-58546e12cf26>:43: FutureWarning: The frame.append method is deprecated and will be removed from pandas in a future version. Use pandas.concat instead.\n",
            "  df = df.append(df65, ignore_index=True)                                             # ÄNDERN!\n"
          ]
        }
      ]
    },
    {
      "cell_type": "code",
      "source": [
        "url66 = \"https://www.bundestag.de/resource/blob/936326/df37b55a60a10c031dfd83d309c922a1/20087.xml\" # ÄNDERN!\n",
        "response = requests.get(url66)                                                          # ÄNDERN!\n",
        "\n",
        "root = ET.fromstring(response.content)\n",
        "\n",
        "last_names = []\n",
        "first_names = []\n",
        "parties = []\n",
        "\n",
        "for tr in root.findall('.//tbody/tr'):\n",
        "    # Find all <td> elements inside <tr>\n",
        "    tds = tr.findall('.//td')\n",
        "    # Check if there are at least 2 <td> elements\n",
        "    if len(tds) >= 2:\n",
        "        # Extract text content from the first <td> element\n",
        "        text_content = tds[0].text\n",
        "        # Check if text_content is not None and not empty\n",
        "        if text_content is not None and text_content.strip():\n",
        "            # Extract full name from the first <td> element\n",
        "            full_name = text_content.strip()\n",
        "            # Check if the full name contains a comma\n",
        "            if ',' in full_name:\n",
        "                # Split full name into last name and first name\n",
        "                last_name, first_name = full_name.split(', ', 1)\n",
        "                # Extract party from the second <td> element\n",
        "                party = tds[1].text.strip()\n",
        "                last_names.append(last_name)\n",
        "                first_names.append(first_name)\n",
        "                parties.append(party)\n",
        "\n",
        "\n",
        "df66 = pd.DataFrame({                                                               # Ändern!\n",
        "    'Last Name': last_names,\n",
        "    'First Name': first_names,\n",
        "    'Party': parties\n",
        "})\n",
        "\n",
        "\n",
        "Datum = \"01.03. 2023\"                                                               #  ÄNDERN!\n",
        "\n",
        "df66[\"Datum\"] = Datum                                                               # ÄNDERN!\n",
        "\n",
        "df = df.append(df66, ignore_index=True)                                             # ÄNDERN!"
      ],
      "metadata": {
        "colab": {
          "base_uri": "https://localhost:8080/"
        },
        "outputId": "f1ffc0c7-04f2-4a1c-f99f-242f540c4522",
        "id": "AGqk-RrPDZZS"
      },
      "execution_count": null,
      "outputs": [
        {
          "output_type": "stream",
          "name": "stderr",
          "text": [
            "<ipython-input-1087-2e736dd448f7>:43: FutureWarning: The frame.append method is deprecated and will be removed from pandas in a future version. Use pandas.concat instead.\n",
            "  df = df.append(df66, ignore_index=True)                                             # ÄNDERN!\n"
          ]
        }
      ]
    },
    {
      "cell_type": "code",
      "source": [
        "url67 = \"https://www.bundestag.de/resource/blob/934328/7eb78f5c9a1aede0f46b656f86a95052/20086.xml\" # ÄNDERN!\n",
        "response = requests.get(url67)                                                          # ÄNDERN!\n",
        "\n",
        "root = ET.fromstring(response.content)\n",
        "\n",
        "last_names = []\n",
        "first_names = []\n",
        "parties = []\n",
        "\n",
        "for tr in root.findall('.//tbody/tr'):\n",
        "    # Find all <td> elements inside <tr>\n",
        "    tds = tr.findall('.//td')\n",
        "    # Check if there are at least 2 <td> elements\n",
        "    if len(tds) >= 2:\n",
        "        # Extract text content from the first <td> element\n",
        "        text_content = tds[0].text\n",
        "        # Check if text_content is not None and not empty\n",
        "        if text_content is not None and text_content.strip():\n",
        "            # Extract full name from the first <td> element\n",
        "            full_name = text_content.strip()\n",
        "            # Check if the full name contains a comma\n",
        "            if ',' in full_name:\n",
        "                # Split full name into last name and first name\n",
        "                last_name, first_name = full_name.split(', ', 1)\n",
        "                # Extract party from the second <td> element\n",
        "                party = tds[1].text.strip()\n",
        "                last_names.append(last_name)\n",
        "                first_names.append(first_name)\n",
        "                parties.append(party)\n",
        "\n",
        "\n",
        "df67 = pd.DataFrame({                                                               # Ändern!\n",
        "    'Last Name': last_names,\n",
        "    'First Name': first_names,\n",
        "    'Party': parties\n",
        "})\n",
        "\n",
        "\n",
        "Datum = \"10.02. 2023\"                                                               #  ÄNDERN!\n",
        "\n",
        "df67[\"Datum\"] = Datum                                                               # ÄNDERN!\n",
        "\n",
        "df = df.append(df67, ignore_index=True)                                             # ÄNDERN!"
      ],
      "metadata": {
        "colab": {
          "base_uri": "https://localhost:8080/"
        },
        "outputId": "8860b4e2-6b23-46b4-d834-2141c66cfac0",
        "id": "Ptc8PZATD412"
      },
      "execution_count": null,
      "outputs": [
        {
          "output_type": "stream",
          "name": "stderr",
          "text": [
            "<ipython-input-1088-9518ee1d0bac>:43: FutureWarning: The frame.append method is deprecated and will be removed from pandas in a future version. Use pandas.concat instead.\n",
            "  df = df.append(df67, ignore_index=True)                                             # ÄNDERN!\n"
          ]
        }
      ]
    },
    {
      "cell_type": "code",
      "source": [
        "url68 = \"https://www.bundestag.de/resource/blob/933874/6f3e51417abe0fea4c519e49eea29820/20085.xml\" # ÄNDERN!\n",
        "response = requests.get(url68)                                                          # ÄNDERN!\n",
        "\n",
        "root = ET.fromstring(response.content)\n",
        "\n",
        "last_names = []\n",
        "first_names = []\n",
        "parties = []\n",
        "\n",
        "for tr in root.findall('.//tbody/tr'):\n",
        "    # Find all <td> elements inside <tr>\n",
        "    tds = tr.findall('.//td')\n",
        "    # Check if there are at least 2 <td> elements\n",
        "    if len(tds) >= 2:\n",
        "        # Extract text content from the first <td> element\n",
        "        text_content = tds[0].text\n",
        "        # Check if text_content is not None and not empty\n",
        "        if text_content is not None and text_content.strip():\n",
        "            # Extract full name from the first <td> element\n",
        "            full_name = text_content.strip()\n",
        "            # Check if the full name contains a comma\n",
        "            if ',' in full_name:\n",
        "                # Split full name into last name and first name\n",
        "                last_name, first_name = full_name.split(', ', 1)\n",
        "                # Extract party from the second <td> element\n",
        "                party = tds[1].text.strip()\n",
        "                last_names.append(last_name)\n",
        "                first_names.append(first_name)\n",
        "                parties.append(party)\n",
        "\n",
        "\n",
        "df68 = pd.DataFrame({                                                               # Ändern!\n",
        "    'Last Name': last_names,\n",
        "    'First Name': first_names,\n",
        "    'Party': parties\n",
        "})\n",
        "\n",
        "\n",
        "Datum = \"09.02. 2023\"                                                               #  ÄNDERN!\n",
        "\n",
        "df68[\"Datum\"] = Datum                                                               # ÄNDERN!\n",
        "\n",
        "df = df.append(df68, ignore_index=True)                                             # ÄNDERN!"
      ],
      "metadata": {
        "colab": {
          "base_uri": "https://localhost:8080/"
        },
        "outputId": "8621f52c-506d-4787-a56d-ea6cff48e4ba",
        "id": "7miO9oPWEMo1"
      },
      "execution_count": null,
      "outputs": [
        {
          "output_type": "stream",
          "name": "stderr",
          "text": [
            "<ipython-input-1089-4bce816d16d4>:43: FutureWarning: The frame.append method is deprecated and will be removed from pandas in a future version. Use pandas.concat instead.\n",
            "  df = df.append(df68, ignore_index=True)                                             # ÄNDERN!\n"
          ]
        }
      ]
    },
    {
      "cell_type": "code",
      "source": [
        "url69 = \"https://www.bundestag.de/resource/blob/933506/e84261848f0ada164b03d85d2b0712b7/20084.xml\" # ÄNDERN!\n",
        "response = requests.get(url69)                                                          # ÄNDERN!\n",
        "\n",
        "root = ET.fromstring(response.content)\n",
        "\n",
        "last_names = []\n",
        "first_names = []\n",
        "parties = []\n",
        "\n",
        "for tr in root.findall('.//tbody/tr'):\n",
        "    # Find all <td> elements inside <tr>\n",
        "    tds = tr.findall('.//td')\n",
        "    # Check if there are at least 2 <td> elements\n",
        "    if len(tds) >= 2:\n",
        "        # Extract text content from the first <td> element\n",
        "        text_content = tds[0].text\n",
        "        # Check if text_content is not None and not empty\n",
        "        if text_content is not None and text_content.strip():\n",
        "            # Extract full name from the first <td> element\n",
        "            full_name = text_content.strip()\n",
        "            # Check if the full name contains a comma\n",
        "            if ',' in full_name:\n",
        "                # Split full name into last name and first name\n",
        "                last_name, first_name = full_name.split(', ', 1)\n",
        "                # Extract party from the second <td> element\n",
        "                party = tds[1].text.strip()\n",
        "                last_names.append(last_name)\n",
        "                first_names.append(first_name)\n",
        "                parties.append(party)\n",
        "\n",
        "\n",
        "df69 = pd.DataFrame({                                                               # Ändern!\n",
        "    'Last Name': last_names,\n",
        "    'First Name': first_names,\n",
        "    'Party': parties\n",
        "})\n",
        "\n",
        "\n",
        "Datum = \"08.02. 2023\"                                                               #  ÄNDERN!\n",
        "\n",
        "df69[\"Datum\"] = Datum                                                               # ÄNDERN!\n",
        "\n",
        "df = df.append(df69, ignore_index=True)                                             # ÄNDERN!"
      ],
      "metadata": {
        "colab": {
          "base_uri": "https://localhost:8080/"
        },
        "outputId": "523d3a94-2597-4d40-8a35-218e461d5af2",
        "id": "2H3PyAM4EbEf"
      },
      "execution_count": null,
      "outputs": [
        {
          "output_type": "stream",
          "name": "stderr",
          "text": [
            "<ipython-input-1090-9b0111235484>:43: FutureWarning: The frame.append method is deprecated and will be removed from pandas in a future version. Use pandas.concat instead.\n",
            "  df = df.append(df69, ignore_index=True)                                             # ÄNDERN!\n"
          ]
        }
      ]
    },
    {
      "cell_type": "code",
      "source": [
        "url70 = \"https://www.bundestag.de/resource/blob/931992/4abbe177bac1afdb4e97eec25fed41d5/20083.xml\" # ÄNDERN!\n",
        "response = requests.get(url70)                                                          # ÄNDERN!\n",
        "\n",
        "root = ET.fromstring(response.content)\n",
        "\n",
        "last_names = []\n",
        "first_names = []\n",
        "parties = []\n",
        "\n",
        "for tr in root.findall('.//tbody/tr'):\n",
        "    # Find all <td> elements inside <tr>\n",
        "    tds = tr.findall('.//td')\n",
        "    # Check if there are at least 2 <td> elements\n",
        "    if len(tds) >= 2:\n",
        "        # Extract text content from the first <td> element\n",
        "        text_content = tds[0].text\n",
        "        # Check if text_content is not None and not empty\n",
        "        if text_content is not None and text_content.strip():\n",
        "            # Extract full name from the first <td> element\n",
        "            full_name = text_content.strip()\n",
        "            # Check if the full name contains a comma\n",
        "            if ',' in full_name:\n",
        "                # Split full name into last name and first name\n",
        "                last_name, first_name = full_name.split(', ', 1)\n",
        "                # Extract party from the second <td> element\n",
        "                party = tds[1].text.strip()\n",
        "                last_names.append(last_name)\n",
        "                first_names.append(first_name)\n",
        "                parties.append(party)\n",
        "\n",
        "\n",
        "df70 = pd.DataFrame({                                                               # Ändern!\n",
        "    'Last Name': last_names,\n",
        "    'First Name': first_names,\n",
        "    'Party': parties\n",
        "})\n",
        "\n",
        "\n",
        "Datum = \"27.01. 2023\"                                                               #  ÄNDERN!\n",
        "\n",
        "df70[\"Datum\"] = Datum                                                               # ÄNDERN!\n",
        "\n",
        "df = df.append(df70, ignore_index=True)                                             # ÄNDERN!"
      ],
      "metadata": {
        "colab": {
          "base_uri": "https://localhost:8080/"
        },
        "outputId": "353d5e35-985b-4285-de42-9fe860573196",
        "id": "sJrlg6OqEnhK"
      },
      "execution_count": null,
      "outputs": [
        {
          "output_type": "stream",
          "name": "stderr",
          "text": [
            "<ipython-input-1091-6287201ba0f3>:43: FutureWarning: The frame.append method is deprecated and will be removed from pandas in a future version. Use pandas.concat instead.\n",
            "  df = df.append(df70, ignore_index=True)                                             # ÄNDERN!\n"
          ]
        }
      ]
    },
    {
      "cell_type": "code",
      "source": [
        "url71 = \"https://www.bundestag.de/resource/blob/931550/ec90fafd5583e7061c752eb19d2cb36a/20082.xml\" # ÄNDERN!\n",
        "response = requests.get(url71)                                                          # ÄNDERN!\n",
        "\n",
        "root = ET.fromstring(response.content)\n",
        "\n",
        "last_names = []\n",
        "first_names = []\n",
        "parties = []\n",
        "\n",
        "for tr in root.findall('.//tbody/tr'):\n",
        "    # Find all <td> elements inside <tr>\n",
        "    tds = tr.findall('.//td')\n",
        "    # Check if there are at least 2 <td> elements\n",
        "    if len(tds) >= 2:\n",
        "        # Extract text content from the first <td> element\n",
        "        text_content = tds[0].text\n",
        "        # Check if text_content is not None and not empty\n",
        "        if text_content is not None and text_content.strip():\n",
        "            # Extract full name from the first <td> element\n",
        "            full_name = text_content.strip()\n",
        "            # Check if the full name contains a comma\n",
        "            if ',' in full_name:\n",
        "                # Split full name into last name and first name\n",
        "                last_name, first_name = full_name.split(', ', 1)\n",
        "                # Extract party from the second <td> element\n",
        "                party = tds[1].text.strip()\n",
        "                last_names.append(last_name)\n",
        "                first_names.append(first_name)\n",
        "                parties.append(party)\n",
        "\n",
        "\n",
        "df71 = pd.DataFrame({                                                               # Ändern!\n",
        "    'Last Name': last_names,\n",
        "    'First Name': first_names,\n",
        "    'Party': parties\n",
        "})\n",
        "\n",
        "\n",
        "Datum = \"26.01. 2023\"                                                               #  ÄNDERN!\n",
        "\n",
        "df71[\"Datum\"] = Datum                                                               # ÄNDERN!\n",
        "\n",
        "df = df.append(df71, ignore_index=True)                                             # ÄNDERN!"
      ],
      "metadata": {
        "colab": {
          "base_uri": "https://localhost:8080/"
        },
        "outputId": "039f770f-df22-4499-c82c-c22a56133022",
        "id": "TjQ838_yE082"
      },
      "execution_count": null,
      "outputs": [
        {
          "output_type": "stream",
          "name": "stderr",
          "text": [
            "<ipython-input-1092-e2e9f1882b37>:43: FutureWarning: The frame.append method is deprecated and will be removed from pandas in a future version. Use pandas.concat instead.\n",
            "  df = df.append(df71, ignore_index=True)                                             # ÄNDERN!\n"
          ]
        }
      ]
    },
    {
      "cell_type": "code",
      "source": [
        "url72 = \"https://www.bundestag.de/resource/blob/931290/8c373b885d090975942c4908de48c2b2/20081.xml\" # ÄNDERN!\n",
        "response = requests.get(url72)                                                          # ÄNDERN!\n",
        "\n",
        "root = ET.fromstring(response.content)\n",
        "\n",
        "last_names = []\n",
        "first_names = []\n",
        "parties = []\n",
        "\n",
        "for tr in root.findall('.//tbody/tr'):\n",
        "    # Find all <td> elements inside <tr>\n",
        "    tds = tr.findall('.//td')\n",
        "    # Check if there are at least 2 <td> elements\n",
        "    if len(tds) >= 2:\n",
        "        # Extract text content from the first <td> element\n",
        "        text_content = tds[0].text\n",
        "        # Check if text_content is not None and not empty\n",
        "        if text_content is not None and text_content.strip():\n",
        "            # Extract full name from the first <td> element\n",
        "            full_name = text_content.strip()\n",
        "            # Check if the full name contains a comma\n",
        "            if ',' in full_name:\n",
        "                # Split full name into last name and first name\n",
        "                last_name, first_name = full_name.split(', ', 1)\n",
        "                # Extract party from the second <td> element\n",
        "                party = tds[1].text.strip()\n",
        "                last_names.append(last_name)\n",
        "                first_names.append(first_name)\n",
        "                parties.append(party)\n",
        "\n",
        "\n",
        "df72 = pd.DataFrame({                                                               # Ändern!\n",
        "    'Last Name': last_names,\n",
        "    'First Name': first_names,\n",
        "    'Party': parties\n",
        "})\n",
        "\n",
        "\n",
        "Datum = \"25.01. 2023\"                                                               #  ÄNDERN!\n",
        "\n",
        "df72[\"Datum\"] = Datum                                                               # ÄNDERN!\n",
        "\n",
        "df = df.append(df72, ignore_index=True)                                             # ÄNDERN!"
      ],
      "metadata": {
        "colab": {
          "base_uri": "https://localhost:8080/"
        },
        "outputId": "37f7d3da-fe1a-4f66-eaa5-b48e78a1260a",
        "id": "1X-d81sFFGmA"
      },
      "execution_count": null,
      "outputs": [
        {
          "output_type": "stream",
          "name": "stderr",
          "text": [
            "<ipython-input-1093-7aa33eeddb3a>:43: FutureWarning: The frame.append method is deprecated and will be removed from pandas in a future version. Use pandas.concat instead.\n",
            "  df = df.append(df72, ignore_index=True)                                             # ÄNDERN!\n"
          ]
        }
      ]
    },
    {
      "cell_type": "code",
      "source": [
        "url73 = \"https://www.bundestag.de/resource/blob/930622/359f560688d23c3dd98d40df1b256617/20080.xml\" # ÄNDERN!\n",
        "response = requests.get(url73)                                                          # ÄNDERN!\n",
        "\n",
        "root = ET.fromstring(response.content)\n",
        "\n",
        "last_names = []\n",
        "first_names = []\n",
        "parties = []\n",
        "\n",
        "for tr in root.findall('.//tbody/tr'):\n",
        "    # Find all <td> elements inside <tr>\n",
        "    tds = tr.findall('.//td')\n",
        "    # Check if there are at least 2 <td> elements\n",
        "    if len(tds) >= 2:\n",
        "        # Extract text content from the first <td> element\n",
        "        text_content = tds[0].text\n",
        "        # Check if text_content is not None and not empty\n",
        "        if text_content is not None and text_content.strip():\n",
        "            # Extract full name from the first <td> element\n",
        "            full_name = text_content.strip()\n",
        "            # Check if the full name contains a comma\n",
        "            if ',' in full_name:\n",
        "                # Split full name into last name and first name\n",
        "                last_name, first_name = full_name.split(', ', 1)\n",
        "                # Extract party from the second <td> element\n",
        "                party = tds[1].text.strip()\n",
        "                last_names.append(last_name)\n",
        "                first_names.append(first_name)\n",
        "                parties.append(party)\n",
        "\n",
        "\n",
        "df73 = pd.DataFrame({                                                               # Ändern!\n",
        "    'Last Name': last_names,\n",
        "    'First Name': first_names,\n",
        "    'Party': parties\n",
        "})\n",
        "\n",
        "\n",
        "Datum = \"20.01. 2023\"                                                               #  ÄNDERN!\n",
        "\n",
        "df73[\"Datum\"] = Datum                                                               # ÄNDERN!\n",
        "\n",
        "df = df.append(df73, ignore_index=True)                                             # ÄNDERN!"
      ],
      "metadata": {
        "colab": {
          "base_uri": "https://localhost:8080/"
        },
        "outputId": "04837cbf-eb8c-4095-d266-60ca9f74dbaa",
        "id": "xJ4Um2c4FQ6Z"
      },
      "execution_count": null,
      "outputs": [
        {
          "output_type": "stream",
          "name": "stderr",
          "text": [
            "<ipython-input-1094-516ccd65120b>:43: FutureWarning: The frame.append method is deprecated and will be removed from pandas in a future version. Use pandas.concat instead.\n",
            "  df = df.append(df73, ignore_index=True)                                             # ÄNDERN!\n"
          ]
        }
      ]
    },
    {
      "cell_type": "code",
      "source": [
        "url74 = \"https://www.bundestag.de/resource/blob/930124/db620cb965034058b9eb995bf87bbfc6/20079.xml\" # ÄNDERN!\n",
        "response = requests.get(url74)                                                          # ÄNDERN!\n",
        "\n",
        "root = ET.fromstring(response.content)\n",
        "\n",
        "last_names = []\n",
        "first_names = []\n",
        "parties = []\n",
        "\n",
        "for tr in root.findall('.//tbody/tr'):\n",
        "    # Find all <td> elements inside <tr>\n",
        "    tds = tr.findall('.//td')\n",
        "    # Check if there are at least 2 <td> elements\n",
        "    if len(tds) >= 2:\n",
        "        # Extract text content from the first <td> element\n",
        "        text_content = tds[0].text\n",
        "        # Check if text_content is not None and not empty\n",
        "        if text_content is not None and text_content.strip():\n",
        "            # Extract full name from the first <td> element\n",
        "            full_name = text_content.strip()\n",
        "            # Check if the full name contains a comma\n",
        "            if ',' in full_name:\n",
        "                # Split full name into last name and first name\n",
        "                last_name, first_name = full_name.split(', ', 1)\n",
        "                # Extract party from the second <td> element\n",
        "                party = tds[1].text.strip()\n",
        "                last_names.append(last_name)\n",
        "                first_names.append(first_name)\n",
        "                parties.append(party)\n",
        "\n",
        "\n",
        "df74 = pd.DataFrame({                                                               # Ändern!\n",
        "    'Last Name': last_names,\n",
        "    'First Name': first_names,\n",
        "    'Party': parties\n",
        "})\n",
        "\n",
        "\n",
        "Datum = \"19.01. 2023\"                                                               #  ÄNDERN!\n",
        "\n",
        "df74[\"Datum\"] = Datum                                                               # ÄNDERN!\n",
        "\n",
        "df = df.append(df74, ignore_index=True)                                             # ÄNDERN!"
      ],
      "metadata": {
        "colab": {
          "base_uri": "https://localhost:8080/"
        },
        "outputId": "36d7ebe5-9c8c-4c61-e581-29529dbf6034",
        "id": "iTRi69cuFgF8"
      },
      "execution_count": null,
      "outputs": [
        {
          "output_type": "stream",
          "name": "stderr",
          "text": [
            "<ipython-input-1095-60fd663aa8ef>:43: FutureWarning: The frame.append method is deprecated and will be removed from pandas in a future version. Use pandas.concat instead.\n",
            "  df = df.append(df74, ignore_index=True)                                             # ÄNDERN!\n"
          ]
        }
      ]
    },
    {
      "cell_type": "code",
      "source": [
        "url75 = \"https://www.bundestag.de/resource/blob/929866/ba2ebcc7c889c8f33f72480f07e46b33/20078.xml\" # ÄNDERN!\n",
        "response = requests.get(url75)                                                          # ÄNDERN!\n",
        "\n",
        "root = ET.fromstring(response.content)\n",
        "\n",
        "last_names = []\n",
        "first_names = []\n",
        "parties = []\n",
        "\n",
        "for tr in root.findall('.//tbody/tr'):\n",
        "    # Find all <td> elements inside <tr>\n",
        "    tds = tr.findall('.//td')\n",
        "    # Check if there are at least 2 <td> elements\n",
        "    if len(tds) >= 2:\n",
        "        # Extract text content from the first <td> element\n",
        "        text_content = tds[0].text\n",
        "        # Check if text_content is not None and not empty\n",
        "        if text_content is not None and text_content.strip():\n",
        "            # Extract full name from the first <td> element\n",
        "            full_name = text_content.strip()\n",
        "            # Check if the full name contains a comma\n",
        "            if ',' in full_name:\n",
        "                # Split full name into last name and first name\n",
        "                last_name, first_name = full_name.split(', ', 1)\n",
        "                # Extract party from the second <td> element\n",
        "                party = tds[1].text.strip()\n",
        "                last_names.append(last_name)\n",
        "                first_names.append(first_name)\n",
        "                parties.append(party)\n",
        "\n",
        "\n",
        "df75 = pd.DataFrame({                                                               # Ändern!\n",
        "    'Last Name': last_names,\n",
        "    'First Name': first_names,\n",
        "    'Party': parties\n",
        "})\n",
        "\n",
        "\n",
        "Datum = \"18.01. 2023\"                                                               #  ÄNDERN!\n",
        "\n",
        "df75[\"Datum\"] = Datum                                                               # ÄNDERN!\n",
        "\n",
        "df = df.append(df75, ignore_index=True)                                             # ÄNDERN!"
      ],
      "metadata": {
        "colab": {
          "base_uri": "https://localhost:8080/"
        },
        "outputId": "95ebaeee-df32-4f05-9df9-a6ca8a8b7f45",
        "id": "HAb-7bQdFu8e"
      },
      "execution_count": null,
      "outputs": [
        {
          "output_type": "stream",
          "name": "stderr",
          "text": [
            "<ipython-input-1096-6decbfbc38d9>:43: FutureWarning: The frame.append method is deprecated and will be removed from pandas in a future version. Use pandas.concat instead.\n",
            "  df = df.append(df75, ignore_index=True)                                             # ÄNDERN!\n"
          ]
        }
      ]
    },
    {
      "cell_type": "code",
      "source": [
        "url76 = \"https://www.bundestag.de/resource/blob/927538/1521a72a3b22a16010b002f7da6fa6fa/20077.xml\" # ÄNDERN!\n",
        "response = requests.get(url76)                                                          # ÄNDERN!\n",
        "\n",
        "root = ET.fromstring(response.content)\n",
        "\n",
        "last_names = []\n",
        "first_names = []\n",
        "parties = []\n",
        "\n",
        "for tr in root.findall('.//tbody/tr'):\n",
        "    # Find all <td> elements inside <tr>\n",
        "    tds = tr.findall('.//td')\n",
        "    # Check if there are at least 2 <td> elements\n",
        "    if len(tds) >= 2:\n",
        "        # Extract text content from the first <td> element\n",
        "        text_content = tds[0].text\n",
        "        # Check if text_content is not None and not empty\n",
        "        if text_content is not None and text_content.strip():\n",
        "            # Extract full name from the first <td> element\n",
        "            full_name = text_content.strip()\n",
        "            # Check if the full name contains a comma\n",
        "            if ',' in full_name:\n",
        "                # Split full name into last name and first name\n",
        "                last_name, first_name = full_name.split(', ', 1)\n",
        "                # Extract party from the second <td> element\n",
        "                party = tds[1].text.strip()\n",
        "                last_names.append(last_name)\n",
        "                first_names.append(first_name)\n",
        "                parties.append(party)\n",
        "\n",
        "\n",
        "df76 = pd.DataFrame({                                                               # Ändern!\n",
        "    'Last Name': last_names,\n",
        "    'First Name': first_names,\n",
        "    'Party': parties\n",
        "})\n",
        "\n",
        "\n",
        "Datum = \"16.12. 2022\"                                                               #  ÄNDERN!\n",
        "\n",
        "df76[\"Datum\"] = Datum                                                               # ÄNDERN!\n",
        "\n",
        "df = df.append(df76, ignore_index=True)                                             # ÄNDERN!"
      ],
      "metadata": {
        "colab": {
          "base_uri": "https://localhost:8080/"
        },
        "outputId": "22dd5d16-005c-4d30-ef72-de11138b2cee",
        "id": "zG96idcoGGYZ"
      },
      "execution_count": null,
      "outputs": [
        {
          "output_type": "stream",
          "name": "stderr",
          "text": [
            "<ipython-input-1097-26dc32d5f0d4>:43: FutureWarning: The frame.append method is deprecated and will be removed from pandas in a future version. Use pandas.concat instead.\n",
            "  df = df.append(df76, ignore_index=True)                                             # ÄNDERN!\n"
          ]
        }
      ]
    },
    {
      "cell_type": "code",
      "source": [
        "url77 = \"https://www.bundestag.de/resource/blob/927076/70948c339ad0125090a931eb151c77ec/20076.xml\" # ÄNDERN!\n",
        "response = requests.get(url77)                                                          # ÄNDERN!\n",
        "\n",
        "root = ET.fromstring(response.content)\n",
        "\n",
        "last_names = []\n",
        "first_names = []\n",
        "parties = []\n",
        "\n",
        "for tr in root.findall('.//tbody/tr'):\n",
        "    # Find all <td> elements inside <tr>\n",
        "    tds = tr.findall('.//td')\n",
        "    # Check if there are at least 2 <td> elements\n",
        "    if len(tds) >= 2:\n",
        "        # Extract text content from the first <td> element\n",
        "        text_content = tds[0].text\n",
        "        # Check if text_content is not None and not empty\n",
        "        if text_content is not None and text_content.strip():\n",
        "            # Extract full name from the first <td> element\n",
        "            full_name = text_content.strip()\n",
        "            # Check if the full name contains a comma\n",
        "            if ',' in full_name:\n",
        "                # Split full name into last name and first name\n",
        "                last_name, first_name = full_name.split(', ', 1)\n",
        "                # Extract party from the second <td> element\n",
        "                party = tds[1].text.strip()\n",
        "                last_names.append(last_name)\n",
        "                first_names.append(first_name)\n",
        "                parties.append(party)\n",
        "\n",
        "\n",
        "df77 = pd.DataFrame({                                                               # Ändern!\n",
        "    'Last Name': last_names,\n",
        "    'First Name': first_names,\n",
        "    'Party': parties\n",
        "})\n",
        "\n",
        "\n",
        "Datum = \"15.12. 2022\"                                                               #  ÄNDERN!\n",
        "\n",
        "df77[\"Datum\"] = Datum                                                               # ÄNDERN!\n",
        "\n",
        "df = df.append(df77, ignore_index=True)                                             # ÄNDERN!"
      ],
      "metadata": {
        "colab": {
          "base_uri": "https://localhost:8080/"
        },
        "outputId": "2af74f1f-b565-4402-b3fc-d8faf7cdcd4e",
        "id": "yq9roNUWGYkg"
      },
      "execution_count": null,
      "outputs": [
        {
          "output_type": "stream",
          "name": "stderr",
          "text": [
            "<ipython-input-1098-7b30306a1096>:43: FutureWarning: The frame.append method is deprecated and will be removed from pandas in a future version. Use pandas.concat instead.\n",
            "  df = df.append(df77, ignore_index=True)                                             # ÄNDERN!\n"
          ]
        }
      ]
    },
    {
      "cell_type": "code",
      "source": [
        "url78 = \"https://www.bundestag.de/resource/blob/926860/83d0f4d9ae64744c65e308bce6ed7fce/20075.xml\" # ÄNDERN!\n",
        "response = requests.get(url78)                                                          # ÄNDERN!\n",
        "\n",
        "root = ET.fromstring(response.content)\n",
        "\n",
        "last_names = []\n",
        "first_names = []\n",
        "parties = []\n",
        "\n",
        "for tr in root.findall('.//tbody/tr'):\n",
        "    # Find all <td> elements inside <tr>\n",
        "    tds = tr.findall('.//td')\n",
        "    # Check if there are at least 2 <td> elements\n",
        "    if len(tds) >= 2:\n",
        "        # Extract text content from the first <td> element\n",
        "        text_content = tds[0].text\n",
        "        # Check if text_content is not None and not empty\n",
        "        if text_content is not None and text_content.strip():\n",
        "            # Extract full name from the first <td> element\n",
        "            full_name = text_content.strip()\n",
        "            # Check if the full name contains a comma\n",
        "            if ',' in full_name:\n",
        "                # Split full name into last name and first name\n",
        "                last_name, first_name = full_name.split(', ', 1)\n",
        "                # Extract party from the second <td> element\n",
        "                party = tds[1].text.strip()\n",
        "                last_names.append(last_name)\n",
        "                first_names.append(first_name)\n",
        "                parties.append(party)\n",
        "\n",
        "\n",
        "df78 = pd.DataFrame({                                                               # Ändern!\n",
        "    'Last Name': last_names,\n",
        "    'First Name': first_names,\n",
        "    'Party': parties\n",
        "})\n",
        "\n",
        "\n",
        "Datum = \"14.12. 2022\"                                                               #  ÄNDERN!\n",
        "\n",
        "df78[\"Datum\"] = Datum                                                               # ÄNDERN!\n",
        "\n",
        "df = df.append(df78, ignore_index=True)                                             # ÄNDERN!"
      ],
      "metadata": {
        "colab": {
          "base_uri": "https://localhost:8080/"
        },
        "outputId": "3584efc2-c954-41f3-cc7b-4b3007c4912b",
        "id": "Wwl_qrniGk1f"
      },
      "execution_count": null,
      "outputs": [
        {
          "output_type": "stream",
          "name": "stderr",
          "text": [
            "<ipython-input-1099-7a4b347b6720>:43: FutureWarning: The frame.append method is deprecated and will be removed from pandas in a future version. Use pandas.concat instead.\n",
            "  df = df.append(df78, ignore_index=True)                                             # ÄNDERN!\n"
          ]
        }
      ]
    },
    {
      "cell_type": "code",
      "source": [
        "url79 = \"https://www.bundestag.de/resource/blob/925072/090acd894ca97948f376ed4f83fe21e5/20074.xml\" # ÄNDERN!\n",
        "response = requests.get(url79)                                                          # ÄNDERN!\n",
        "\n",
        "root = ET.fromstring(response.content)\n",
        "\n",
        "last_names = []\n",
        "first_names = []\n",
        "parties = []\n",
        "\n",
        "for tr in root.findall('.//tbody/tr'):\n",
        "    # Find all <td> elements inside <tr>\n",
        "    tds = tr.findall('.//td')\n",
        "    # Check if there are at least 2 <td> elements\n",
        "    if len(tds) >= 2:\n",
        "        # Extract text content from the first <td> element\n",
        "        text_content = tds[0].text\n",
        "        # Check if text_content is not None and not empty\n",
        "        if text_content is not None and text_content.strip():\n",
        "            # Extract full name from the first <td> element\n",
        "            full_name = text_content.strip()\n",
        "            # Check if the full name contains a comma\n",
        "            if ',' in full_name:\n",
        "                # Split full name into last name and first name\n",
        "                last_name, first_name = full_name.split(', ', 1)\n",
        "                # Extract party from the second <td> element\n",
        "                party = tds[1].text.strip()\n",
        "                last_names.append(last_name)\n",
        "                first_names.append(first_name)\n",
        "                parties.append(party)\n",
        "\n",
        "\n",
        "df79 = pd.DataFrame({                                                               # Ändern!\n",
        "    'Last Name': last_names,\n",
        "    'First Name': first_names,\n",
        "    'Party': parties\n",
        "})\n",
        "\n",
        "\n",
        "Datum = \"02.12. 2022\"                                                               #  ÄNDERN!\n",
        "\n",
        "df79[\"Datum\"] = Datum                                                               # ÄNDERN!\n",
        "\n",
        "df = df.append(df79, ignore_index=True)                                             # ÄNDERN!"
      ],
      "metadata": {
        "colab": {
          "base_uri": "https://localhost:8080/"
        },
        "outputId": "fac8d2db-b5a0-4f6a-fae6-a6f2a61e478d",
        "id": "Il7iu0cvG5Sh"
      },
      "execution_count": null,
      "outputs": [
        {
          "output_type": "stream",
          "name": "stderr",
          "text": [
            "<ipython-input-1100-61c01cea48ca>:43: FutureWarning: The frame.append method is deprecated and will be removed from pandas in a future version. Use pandas.concat instead.\n",
            "  df = df.append(df79, ignore_index=True)                                             # ÄNDERN!\n"
          ]
        }
      ]
    },
    {
      "cell_type": "code",
      "source": [
        "url80 = \"https://www.bundestag.de/resource/blob/924518/7e66cc1965235c8b3938d4db2f10b7fb/20073.xml\" # ÄNDERN!\n",
        "response = requests.get(url80)                                                          # ÄNDERN!\n",
        "\n",
        "root = ET.fromstring(response.content)\n",
        "\n",
        "last_names = []\n",
        "first_names = []\n",
        "parties = []\n",
        "\n",
        "for tr in root.findall('.//tbody/tr'):\n",
        "    # Find all <td> elements inside <tr>\n",
        "    tds = tr.findall('.//td')\n",
        "    # Check if there are at least 2 <td> elements\n",
        "    if len(tds) >= 2:\n",
        "        # Extract text content from the first <td> element\n",
        "        text_content = tds[0].text\n",
        "        # Check if text_content is not None and not empty\n",
        "        if text_content is not None and text_content.strip():\n",
        "            # Extract full name from the first <td> element\n",
        "            full_name = text_content.strip()\n",
        "            # Check if the full name contains a comma\n",
        "            if ',' in full_name:\n",
        "                # Split full name into last name and first name\n",
        "                last_name, first_name = full_name.split(', ', 1)\n",
        "                # Extract party from the second <td> element\n",
        "                party = tds[1].text.strip()\n",
        "                last_names.append(last_name)\n",
        "                first_names.append(first_name)\n",
        "                parties.append(party)\n",
        "\n",
        "\n",
        "df80 = pd.DataFrame({                                                               # Ändern!\n",
        "    'Last Name': last_names,\n",
        "    'First Name': first_names,\n",
        "    'Party': parties\n",
        "})\n",
        "\n",
        "\n",
        "Datum = \"01.12. 2022\"                                                               #  ÄNDERN!\n",
        "\n",
        "df80[\"Datum\"] = Datum                                                               # ÄNDERN!\n",
        "\n",
        "df = df.append(df80, ignore_index=True)                                             # ÄNDERN!"
      ],
      "metadata": {
        "colab": {
          "base_uri": "https://localhost:8080/"
        },
        "outputId": "bd91a5a9-796f-48bb-ef07-1197eb787ec5",
        "id": "t8fPXWHJHIV4"
      },
      "execution_count": null,
      "outputs": [
        {
          "output_type": "stream",
          "name": "stderr",
          "text": [
            "<ipython-input-1101-3b0764d56374>:43: FutureWarning: The frame.append method is deprecated and will be removed from pandas in a future version. Use pandas.concat instead.\n",
            "  df = df.append(df80, ignore_index=True)                                             # ÄNDERN!\n"
          ]
        }
      ]
    },
    {
      "cell_type": "code",
      "source": [
        "url81 = \"https://www.bundestag.de/resource/blob/924366/f0c77e98d38ac2ae4146b7793c2e44a8/20072.xml\" # ÄNDERN!\n",
        "response = requests.get(url81)                                                          # ÄNDERN!\n",
        "\n",
        "root = ET.fromstring(response.content)\n",
        "\n",
        "last_names = []\n",
        "first_names = []\n",
        "parties = []\n",
        "\n",
        "for tr in root.findall('.//tbody/tr'):\n",
        "    # Find all <td> elements inside <tr>\n",
        "    tds = tr.findall('.//td')\n",
        "    # Check if there are at least 2 <td> elements\n",
        "    if len(tds) >= 2:\n",
        "        # Extract text content from the first <td> element\n",
        "        text_content = tds[0].text\n",
        "        # Check if text_content is not None and not empty\n",
        "        if text_content is not None and text_content.strip():\n",
        "            # Extract full name from the first <td> element\n",
        "            full_name = text_content.strip()\n",
        "            # Check if the full name contains a comma\n",
        "            if ',' in full_name:\n",
        "                # Split full name into last name and first name\n",
        "                last_name, first_name = full_name.split(', ', 1)\n",
        "                # Extract party from the second <td> element\n",
        "                party = tds[1].text.strip()\n",
        "                last_names.append(last_name)\n",
        "                first_names.append(first_name)\n",
        "                parties.append(party)\n",
        "\n",
        "\n",
        "df81 = pd.DataFrame({                                                               # Ändern!\n",
        "    'Last Name': last_names,\n",
        "    'First Name': first_names,\n",
        "    'Party': parties\n",
        "})\n",
        "\n",
        "\n",
        "Datum = \"30.11. 2022\"                                                               #  ÄNDERN!\n",
        "\n",
        "df81[\"Datum\"] = Datum                                                               # ÄNDERN!\n",
        "\n",
        "df = df.append(df81, ignore_index=True)                                             # ÄNDERN!"
      ],
      "metadata": {
        "colab": {
          "base_uri": "https://localhost:8080/"
        },
        "outputId": "e91432c4-d7aa-4454-d432-2bfc9ee8625b",
        "id": "LKDCfqMjHiWt"
      },
      "execution_count": null,
      "outputs": [
        {
          "output_type": "stream",
          "name": "stderr",
          "text": [
            "<ipython-input-1102-5935fa833bcc>:43: FutureWarning: The frame.append method is deprecated and will be removed from pandas in a future version. Use pandas.concat instead.\n",
            "  df = df.append(df81, ignore_index=True)                                             # ÄNDERN!\n"
          ]
        }
      ]
    },
    {
      "cell_type": "code",
      "source": [
        "url82 = \"https://www.bundestag.de/resource/blob/923692/a6f9fcaff96d6939b2ad28153e616750/20071.xml\" # ÄNDERN!\n",
        "response = requests.get(url82)                                                          # ÄNDERN!\n",
        "\n",
        "root = ET.fromstring(response.content)\n",
        "\n",
        "last_names = []\n",
        "first_names = []\n",
        "parties = []\n",
        "\n",
        "for tr in root.findall('.//tbody/tr'):\n",
        "    # Find all <td> elements inside <tr>\n",
        "    tds = tr.findall('.//td')\n",
        "    # Check if there are at least 2 <td> elements\n",
        "    if len(tds) >= 2:\n",
        "        # Extract text content from the first <td> element\n",
        "        text_content = tds[0].text\n",
        "        # Check if text_content is not None and not empty\n",
        "        if text_content is not None and text_content.strip():\n",
        "            # Extract full name from the first <td> element\n",
        "            full_name = text_content.strip()\n",
        "            # Check if the full name contains a comma\n",
        "            if ',' in full_name:\n",
        "                # Split full name into last name and first name\n",
        "                last_name, first_name = full_name.split(', ', 1)\n",
        "                # Extract party from the second <td> element\n",
        "                party = tds[1].text.strip()\n",
        "                last_names.append(last_name)\n",
        "                first_names.append(first_name)\n",
        "                parties.append(party)\n",
        "\n",
        "\n",
        "df82 = pd.DataFrame({                                                               # Ändern!\n",
        "    'Last Name': last_names,\n",
        "    'First Name': first_names,\n",
        "    'Party': parties\n",
        "})\n",
        "\n",
        "\n",
        "Datum = \"25.11. 2022\"                                                               #  ÄNDERN!\n",
        "\n",
        "df82[\"Datum\"] = Datum                                                               # ÄNDERN!\n",
        "\n",
        "df = df.append(df82, ignore_index=True)                                             # ÄNDERN!"
      ],
      "metadata": {
        "colab": {
          "base_uri": "https://localhost:8080/"
        },
        "outputId": "4533ba53-9a9a-4611-f71b-900222468241",
        "id": "WTDFhnZgHutu"
      },
      "execution_count": null,
      "outputs": [
        {
          "output_type": "stream",
          "name": "stderr",
          "text": [
            "<ipython-input-1103-08c181e8cae3>:43: FutureWarning: The frame.append method is deprecated and will be removed from pandas in a future version. Use pandas.concat instead.\n",
            "  df = df.append(df82, ignore_index=True)                                             # ÄNDERN!\n"
          ]
        }
      ]
    },
    {
      "cell_type": "code",
      "source": [
        "url83 = \"https://www.bundestag.de/resource/blob/923194/28fd3c550433975a5eeb536ca5469a7e/20070.xml\" # ÄNDERN!\n",
        "response = requests.get(url83)                                                          # ÄNDERN!\n",
        "\n",
        "root = ET.fromstring(response.content)\n",
        "\n",
        "last_names = []\n",
        "first_names = []\n",
        "parties = []\n",
        "\n",
        "for tr in root.findall('.//tbody/tr'):\n",
        "    # Find all <td> elements inside <tr>\n",
        "    tds = tr.findall('.//td')\n",
        "    # Check if there are at least 2 <td> elements\n",
        "    if len(tds) >= 2:\n",
        "        # Extract text content from the first <td> element\n",
        "        text_content = tds[0].text\n",
        "        # Check if text_content is not None and not empty\n",
        "        if text_content is not None and text_content.strip():\n",
        "            # Extract full name from the first <td> element\n",
        "            full_name = text_content.strip()\n",
        "            # Check if the full name contains a comma\n",
        "            if ',' in full_name:\n",
        "                # Split full name into last name and first name\n",
        "                last_name, first_name = full_name.split(', ', 1)\n",
        "                # Extract party from the second <td> element\n",
        "                party = tds[1].text.strip()\n",
        "                last_names.append(last_name)\n",
        "                first_names.append(first_name)\n",
        "                parties.append(party)\n",
        "\n",
        "\n",
        "df83 = pd.DataFrame({                                                               # Ändern!\n",
        "    'Last Name': last_names,\n",
        "    'First Name': first_names,\n",
        "    'Party': parties\n",
        "})\n",
        "\n",
        "\n",
        "Datum = \"24.11. 2022\"                                                               #  ÄNDERN!\n",
        "\n",
        "df83[\"Datum\"] = Datum                                                               # ÄNDERN!\n",
        "\n",
        "df = df.append(df83, ignore_index=True)                                             # ÄNDERN!"
      ],
      "metadata": {
        "colab": {
          "base_uri": "https://localhost:8080/"
        },
        "outputId": "0d67609b-3f0c-4410-89ae-9a4d7a949eed",
        "id": "FfPylsNWH5Zn"
      },
      "execution_count": null,
      "outputs": [
        {
          "output_type": "stream",
          "name": "stderr",
          "text": [
            "<ipython-input-1104-4d4278a28ba1>:43: FutureWarning: The frame.append method is deprecated and will be removed from pandas in a future version. Use pandas.concat instead.\n",
            "  df = df.append(df83, ignore_index=True)                                             # ÄNDERN!\n"
          ]
        }
      ]
    },
    {
      "cell_type": "code",
      "source": [
        "url84 = \"https://www.bundestag.de/resource/blob/922428/1ce92cd90abac5effa0e82ec6a300757/20069.xml\" # ÄNDERN!\n",
        "response = requests.get(url84)                                                          # ÄNDERN!\n",
        "\n",
        "root = ET.fromstring(response.content)\n",
        "\n",
        "last_names = []\n",
        "first_names = []\n",
        "parties = []\n",
        "\n",
        "for tr in root.findall('.//tbody/tr'):\n",
        "    # Find all <td> elements inside <tr>\n",
        "    tds = tr.findall('.//td')\n",
        "    # Check if there are at least 2 <td> elements\n",
        "    if len(tds) >= 2:\n",
        "        # Extract text content from the first <td> element\n",
        "        text_content = tds[0].text\n",
        "        # Check if text_content is not None and not empty\n",
        "        if text_content is not None and text_content.strip():\n",
        "            # Extract full name from the first <td> element\n",
        "            full_name = text_content.strip()\n",
        "            # Check if the full name contains a comma\n",
        "            if ',' in full_name:\n",
        "                # Split full name into last name and first name\n",
        "                last_name, first_name = full_name.split(', ', 1)\n",
        "                # Extract party from the second <td> element\n",
        "                party = tds[1].text.strip()\n",
        "                last_names.append(last_name)\n",
        "                first_names.append(first_name)\n",
        "                parties.append(party)\n",
        "\n",
        "\n",
        "df84 = pd.DataFrame({                                                               # Ändern!\n",
        "    'Last Name': last_names,\n",
        "    'First Name': first_names,\n",
        "    'Party': parties\n",
        "})\n",
        "\n",
        "\n",
        "Datum = \"23.11. 2022\"                                                               #  ÄNDERN!\n",
        "\n",
        "df84[\"Datum\"] = Datum                                                               # ÄNDERN!\n",
        "\n",
        "df = df.append(df84, ignore_index=True)                                             # ÄNDERN!"
      ],
      "metadata": {
        "colab": {
          "base_uri": "https://localhost:8080/"
        },
        "outputId": "ff37e98f-ab88-4e84-e42d-e20a63242d9d",
        "id": "YYf7GEB6IJ3f"
      },
      "execution_count": null,
      "outputs": [
        {
          "output_type": "stream",
          "name": "stderr",
          "text": [
            "<ipython-input-1105-5e44c936b57d>:43: FutureWarning: The frame.append method is deprecated and will be removed from pandas in a future version. Use pandas.concat instead.\n",
            "  df = df.append(df84, ignore_index=True)                                             # ÄNDERN!\n"
          ]
        }
      ]
    },
    {
      "cell_type": "code",
      "source": [
        "url85 = \"https://www.bundestag.de/resource/blob/922320/e45cccadd038bdc19042fb2e256c585d/20068.xml\" # ÄNDERN!\n",
        "response = requests.get(url85)                                                          # ÄNDERN!\n",
        "\n",
        "root = ET.fromstring(response.content)\n",
        "\n",
        "last_names = []\n",
        "first_names = []\n",
        "parties = []\n",
        "\n",
        "for tr in root.findall('.//tbody/tr'):\n",
        "    # Find all <td> elements inside <tr>\n",
        "    tds = tr.findall('.//td')\n",
        "    # Check if there are at least 2 <td> elements\n",
        "    if len(tds) >= 2:\n",
        "        # Extract text content from the first <td> element\n",
        "        text_content = tds[0].text\n",
        "        # Check if text_content is not None and not empty\n",
        "        if text_content is not None and text_content.strip():\n",
        "            # Extract full name from the first <td> element\n",
        "            full_name = text_content.strip()\n",
        "            # Check if the full name contains a comma\n",
        "            if ',' in full_name:\n",
        "                # Split full name into last name and first name\n",
        "                last_name, first_name = full_name.split(', ', 1)\n",
        "                # Extract party from the second <td> element\n",
        "                party = tds[1].text.strip()\n",
        "                last_names.append(last_name)\n",
        "                first_names.append(first_name)\n",
        "                parties.append(party)\n",
        "\n",
        "\n",
        "df85 = pd.DataFrame({                                                               # Ändern!\n",
        "    'Last Name': last_names,\n",
        "    'First Name': first_names,\n",
        "    'Party': parties\n",
        "})\n",
        "\n",
        "\n",
        "Datum = \"22.11. 2022\"                                                               #  ÄNDERN!\n",
        "\n",
        "df85[\"Datum\"] = Datum                                                               # ÄNDERN!\n",
        "\n",
        "df = df.append(df85, ignore_index=True)                                             # ÄNDERN!"
      ],
      "metadata": {
        "colab": {
          "base_uri": "https://localhost:8080/"
        },
        "outputId": "9ce06793-7236-4830-d41f-6519932386a3",
        "id": "CiWMf-hAIU7P"
      },
      "execution_count": null,
      "outputs": [
        {
          "output_type": "stream",
          "name": "stderr",
          "text": [
            "<ipython-input-1106-a8537112717b>:43: FutureWarning: The frame.append method is deprecated and will be removed from pandas in a future version. Use pandas.concat instead.\n",
            "  df = df.append(df85, ignore_index=True)                                             # ÄNDERN!\n"
          ]
        }
      ]
    },
    {
      "cell_type": "code",
      "source": [
        "url86 = \"https://www.bundestag.de/resource/blob/920974/8a00d88beaab467a5e3fdb4db65dcfb1/20067.xml\" # ÄNDERN!\n",
        "response = requests.get(url86)                                                          # ÄNDERN!\n",
        "\n",
        "root = ET.fromstring(response.content)\n",
        "\n",
        "last_names = []\n",
        "first_names = []\n",
        "parties = []\n",
        "\n",
        "for tr in root.findall('.//tbody/tr'):\n",
        "    # Find all <td> elements inside <tr>\n",
        "    tds = tr.findall('.//td')\n",
        "    # Check if there are at least 2 <td> elements\n",
        "    if len(tds) >= 2:\n",
        "        # Extract text content from the first <td> element\n",
        "        text_content = tds[0].text\n",
        "        # Check if text_content is not None and not empty\n",
        "        if text_content is not None and text_content.strip():\n",
        "            # Extract full name from the first <td> element\n",
        "            full_name = text_content.strip()\n",
        "            # Check if the full name contains a comma\n",
        "            if ',' in full_name:\n",
        "                # Split full name into last name and first name\n",
        "                last_name, first_name = full_name.split(', ', 1)\n",
        "                # Extract party from the second <td> element\n",
        "                party = tds[1].text.strip()\n",
        "                last_names.append(last_name)\n",
        "                first_names.append(first_name)\n",
        "                parties.append(party)\n",
        "\n",
        "\n",
        "df86 = pd.DataFrame({                                                               # Ändern!\n",
        "    'Last Name': last_names,\n",
        "    'First Name': first_names,\n",
        "    'Party': parties\n",
        "})\n",
        "\n",
        "\n",
        "Datum = \"11.11. 2022\"                                                               #  ÄNDERN!\n",
        "\n",
        "df86[\"Datum\"] = Datum                                                               # ÄNDERN!\n",
        "\n",
        "df = df.append(df86, ignore_index=True)                                             # ÄNDERN!"
      ],
      "metadata": {
        "colab": {
          "base_uri": "https://localhost:8080/"
        },
        "outputId": "6da9a6bc-8962-409a-953a-8bd348191437",
        "id": "eDCBdD-_LbWN"
      },
      "execution_count": null,
      "outputs": [
        {
          "output_type": "stream",
          "name": "stderr",
          "text": [
            "<ipython-input-1107-7e01938fed59>:43: FutureWarning: The frame.append method is deprecated and will be removed from pandas in a future version. Use pandas.concat instead.\n",
            "  df = df.append(df86, ignore_index=True)                                             # ÄNDERN!\n"
          ]
        }
      ]
    },
    {
      "cell_type": "code",
      "source": [
        "url87 = \"https://www.bundestag.de/resource/blob/920574/6764d6d766e37b5c6eab58f8e60aeb21/20066.xml\" # ÄNDERN!\n",
        "response = requests.get(url87)                                                          # ÄNDERN!\n",
        "\n",
        "root = ET.fromstring(response.content)\n",
        "\n",
        "last_names = []\n",
        "first_names = []\n",
        "parties = []\n",
        "\n",
        "for tr in root.findall('.//tbody/tr'):\n",
        "    # Find all <td> elements inside <tr>\n",
        "    tds = tr.findall('.//td')\n",
        "    # Check if there are at least 2 <td> elements\n",
        "    if len(tds) >= 2:\n",
        "        # Extract text content from the first <td> element\n",
        "        text_content = tds[0].text\n",
        "        # Check if text_content is not None and not empty\n",
        "        if text_content is not None and text_content.strip():\n",
        "            # Extract full name from the first <td> element\n",
        "            full_name = text_content.strip()\n",
        "            # Check if the full name contains a comma\n",
        "            if ',' in full_name:\n",
        "                # Split full name into last name and first name\n",
        "                last_name, first_name = full_name.split(', ', 1)\n",
        "                # Extract party from the second <td> element\n",
        "                party = tds[1].text.strip()\n",
        "                last_names.append(last_name)\n",
        "                first_names.append(first_name)\n",
        "                parties.append(party)\n",
        "\n",
        "\n",
        "df87 = pd.DataFrame({                                                               # Ändern!\n",
        "    'Last Name': last_names,\n",
        "    'First Name': first_names,\n",
        "    'Party': parties\n",
        "})\n",
        "\n",
        "\n",
        "Datum = \"10.11. 2022\"                                                               #  ÄNDERN!\n",
        "\n",
        "df87[\"Datum\"] = Datum                                                               # ÄNDERN!\n",
        "\n",
        "df = df.append(df87, ignore_index=True)                                             # ÄNDERN!"
      ],
      "metadata": {
        "colab": {
          "base_uri": "https://localhost:8080/"
        },
        "outputId": "2e61eb29-433c-4893-d868-76e2bf27e000",
        "id": "I4dALklKLuFe"
      },
      "execution_count": null,
      "outputs": [
        {
          "output_type": "stream",
          "name": "stderr",
          "text": [
            "<ipython-input-1108-aa94b6d15c00>:43: FutureWarning: The frame.append method is deprecated and will be removed from pandas in a future version. Use pandas.concat instead.\n",
            "  df = df.append(df87, ignore_index=True)                                             # ÄNDERN!\n"
          ]
        }
      ]
    },
    {
      "cell_type": "code",
      "source": [
        "url88 = \"https://www.bundestag.de/resource/blob/920344/5d71813a380176c271e123f3c8187ca7/20065.xml\" # ÄNDERN!\n",
        "response = requests.get(url88)                                                          # ÄNDERN!\n",
        "\n",
        "root = ET.fromstring(response.content)\n",
        "\n",
        "last_names = []\n",
        "first_names = []\n",
        "parties = []\n",
        "\n",
        "for tr in root.findall('.//tbody/tr'):\n",
        "    # Find all <td> elements inside <tr>\n",
        "    tds = tr.findall('.//td')\n",
        "    # Check if there are at least 2 <td> elements\n",
        "    if len(tds) >= 2:\n",
        "        # Extract text content from the first <td> element\n",
        "        text_content = tds[0].text\n",
        "        # Check if text_content is not None and not empty\n",
        "        if text_content is not None and text_content.strip():\n",
        "            # Extract full name from the first <td> element\n",
        "            full_name = text_content.strip()\n",
        "            # Check if the full name contains a comma\n",
        "            if ',' in full_name:\n",
        "                # Split full name into last name and first name\n",
        "                last_name, first_name = full_name.split(', ', 1)\n",
        "                # Extract party from the second <td> element\n",
        "                party = tds[1].text.strip()\n",
        "                last_names.append(last_name)\n",
        "                first_names.append(first_name)\n",
        "                parties.append(party)\n",
        "\n",
        "\n",
        "df88 = pd.DataFrame({                                                               # Ändern!\n",
        "    'Last Name': last_names,\n",
        "    'First Name': first_names,\n",
        "    'Party': parties\n",
        "})\n",
        "\n",
        "\n",
        "Datum = \"09.11. 2022\"                                                               #  ÄNDERN!\n",
        "\n",
        "df88[\"Datum\"] = Datum                                                               # ÄNDERN!\n",
        "\n",
        "df = df.append(df88, ignore_index=True)                                             # ÄNDERN!"
      ],
      "metadata": {
        "colab": {
          "base_uri": "https://localhost:8080/"
        },
        "outputId": "e6992289-eb76-4466-d789-a433adfa3963",
        "id": "F-yfDbg9L8tf"
      },
      "execution_count": null,
      "outputs": [
        {
          "output_type": "stream",
          "name": "stderr",
          "text": [
            "<ipython-input-1109-1ba3c63f60fc>:43: FutureWarning: The frame.append method is deprecated and will be removed from pandas in a future version. Use pandas.concat instead.\n",
            "  df = df.append(df88, ignore_index=True)                                             # ÄNDERN!\n"
          ]
        }
      ]
    },
    {
      "cell_type": "code",
      "source": [
        "url89 = \"https://www.bundestag.de/resource/blob/918014/9a393b253304324d543f632e5ef454ee/20064.xml\" # ÄNDERN!\n",
        "response = requests.get(url89)                                                          # ÄNDERN!\n",
        "\n",
        "root = ET.fromstring(response.content)\n",
        "\n",
        "last_names = []\n",
        "first_names = []\n",
        "parties = []\n",
        "\n",
        "for tr in root.findall('.//tbody/tr'):\n",
        "    # Find all <td> elements inside <tr>\n",
        "    tds = tr.findall('.//td')\n",
        "    # Check if there are at least 2 <td> elements\n",
        "    if len(tds) >= 2:\n",
        "        # Extract text content from the first <td> element\n",
        "        text_content = tds[0].text\n",
        "        # Check if text_content is not None and not empty\n",
        "        if text_content is not None and text_content.strip():\n",
        "            # Extract full name from the first <td> element\n",
        "            full_name = text_content.strip()\n",
        "            # Check if the full name contains a comma\n",
        "            if ',' in full_name:\n",
        "                # Split full name into last name and first name\n",
        "                last_name, first_name = full_name.split(', ', 1)\n",
        "                # Extract party from the second <td> element\n",
        "                party = tds[1].text.strip()\n",
        "                last_names.append(last_name)\n",
        "                first_names.append(first_name)\n",
        "                parties.append(party)\n",
        "\n",
        "\n",
        "df89 = pd.DataFrame({                                                               # Ändern!\n",
        "    'Last Name': last_names,\n",
        "    'First Name': first_names,\n",
        "    'Party': parties\n",
        "})\n",
        "\n",
        "\n",
        "Datum = \"21.10. 2022\"                                                               #  ÄNDERN!\n",
        "\n",
        "df89[\"Datum\"] = Datum                                                               # ÄNDERN!\n",
        "\n",
        "df = df.append(df89, ignore_index=True)                                             # ÄNDERN!"
      ],
      "metadata": {
        "colab": {
          "base_uri": "https://localhost:8080/"
        },
        "outputId": "92c0010a-6f3b-4551-967d-08d7ee0755e0",
        "id": "-CuHbOa8MKWF"
      },
      "execution_count": null,
      "outputs": [
        {
          "output_type": "stream",
          "name": "stderr",
          "text": [
            "<ipython-input-1110-1ef5be2a692a>:43: FutureWarning: The frame.append method is deprecated and will be removed from pandas in a future version. Use pandas.concat instead.\n",
            "  df = df.append(df89, ignore_index=True)                                             # ÄNDERN!\n"
          ]
        }
      ]
    },
    {
      "cell_type": "code",
      "source": [
        "url90 = \"https://www.bundestag.de/resource/blob/917522/4287d9f6b90f07e0609f38b3393c2fa3/20063.xml\" # ÄNDERN!\n",
        "response = requests.get(url90)                                                          # ÄNDERN!\n",
        "\n",
        "root = ET.fromstring(response.content)\n",
        "\n",
        "last_names = []\n",
        "first_names = []\n",
        "parties = []\n",
        "\n",
        "for tr in root.findall('.//tbody/tr'):\n",
        "    # Find all <td> elements inside <tr>\n",
        "    tds = tr.findall('.//td')\n",
        "    # Check if there are at least 2 <td> elements\n",
        "    if len(tds) >= 2:\n",
        "        # Extract text content from the first <td> element\n",
        "        text_content = tds[0].text\n",
        "        # Check if text_content is not None and not empty\n",
        "        if text_content is not None and text_content.strip():\n",
        "            # Extract full name from the first <td> element\n",
        "            full_name = text_content.strip()\n",
        "            # Check if the full name contains a comma\n",
        "            if ',' in full_name:\n",
        "                # Split full name into last name and first name\n",
        "                last_name, first_name = full_name.split(', ', 1)\n",
        "                # Extract party from the second <td> element\n",
        "                party = tds[1].text.strip()\n",
        "                last_names.append(last_name)\n",
        "                first_names.append(first_name)\n",
        "                parties.append(party)\n",
        "\n",
        "\n",
        "df90 = pd.DataFrame({                                                               # Ändern!\n",
        "    'Last Name': last_names,\n",
        "    'First Name': first_names,\n",
        "    'Party': parties\n",
        "})\n",
        "\n",
        "\n",
        "Datum = \"20.10. 2022\"                                                               #  ÄNDERN!\n",
        "\n",
        "df90[\"Datum\"] = Datum                                                               # ÄNDERN!\n",
        "\n",
        "df = df.append(df90, ignore_index=True)                                             # ÄNDERN!"
      ],
      "metadata": {
        "colab": {
          "base_uri": "https://localhost:8080/"
        },
        "outputId": "e987fb9d-9d55-4b2b-fc2d-6b285e296739",
        "id": "nIRh3EkKMb1x"
      },
      "execution_count": null,
      "outputs": [
        {
          "output_type": "stream",
          "name": "stderr",
          "text": [
            "<ipython-input-1111-94a29a3369c1>:43: FutureWarning: The frame.append method is deprecated and will be removed from pandas in a future version. Use pandas.concat instead.\n",
            "  df = df.append(df90, ignore_index=True)                                             # ÄNDERN!\n"
          ]
        }
      ]
    },
    {
      "cell_type": "code",
      "source": [
        "url91 = \"https://www.bundestag.de/resource/blob/917290/487226e6b3f325a115488159cf74bd60/20062.xml\" # ÄNDERN!\n",
        "response = requests.get(url91)                                                          # ÄNDERN!\n",
        "\n",
        "root = ET.fromstring(response.content)\n",
        "\n",
        "last_names = []\n",
        "first_names = []\n",
        "parties = []\n",
        "\n",
        "for tr in root.findall('.//tbody/tr'):\n",
        "    # Find all <td> elements inside <tr>\n",
        "    tds = tr.findall('.//td')\n",
        "    # Check if there are at least 2 <td> elements\n",
        "    if len(tds) >= 2:\n",
        "        # Extract text content from the first <td> element\n",
        "        text_content = tds[0].text\n",
        "        # Check if text_content is not None and not empty\n",
        "        if text_content is not None and text_content.strip():\n",
        "            # Extract full name from the first <td> element\n",
        "            full_name = text_content.strip()\n",
        "            # Check if the full name contains a comma\n",
        "            if ',' in full_name:\n",
        "                # Split full name into last name and first name\n",
        "                last_name, first_name = full_name.split(', ', 1)\n",
        "                # Extract party from the second <td> element\n",
        "                party = tds[1].text.strip()\n",
        "                last_names.append(last_name)\n",
        "                first_names.append(first_name)\n",
        "                parties.append(party)\n",
        "\n",
        "\n",
        "df91 = pd.DataFrame({                                                               # Ändern!\n",
        "    'Last Name': last_names,\n",
        "    'First Name': first_names,\n",
        "    'Party': parties\n",
        "})\n",
        "\n",
        "\n",
        "Datum = \"19.10. 2022\"                                                               #  ÄNDERN!\n",
        "\n",
        "df91[\"Datum\"] = Datum                                                               # ÄNDERN!\n",
        "\n",
        "df = df.append(df91, ignore_index=True)                                             # ÄNDERN!"
      ],
      "metadata": {
        "colab": {
          "base_uri": "https://localhost:8080/"
        },
        "outputId": "151a37ef-3c76-439a-a485-bc27578f2810",
        "id": "skND_KIEMobV"
      },
      "execution_count": null,
      "outputs": [
        {
          "output_type": "stream",
          "name": "stderr",
          "text": [
            "<ipython-input-1112-3459c7a48fac>:43: FutureWarning: The frame.append method is deprecated and will be removed from pandas in a future version. Use pandas.concat instead.\n",
            "  df = df.append(df91, ignore_index=True)                                             # ÄNDERN!\n"
          ]
        }
      ]
    },
    {
      "cell_type": "code",
      "source": [
        "url92 = \"https://www.bundestag.de/resource/blob/916362/d0b5c71799323a106e0bd10f72b8045e/20061.xml\" # ÄNDERN!\n",
        "response = requests.get(url92)                                                          # ÄNDERN!\n",
        "\n",
        "root = ET.fromstring(response.content)\n",
        "\n",
        "last_names = []\n",
        "first_names = []\n",
        "parties = []\n",
        "\n",
        "for tr in root.findall('.//tbody/tr'):\n",
        "    # Find all <td> elements inside <tr>\n",
        "    tds = tr.findall('.//td')\n",
        "    # Check if there are at least 2 <td> elements\n",
        "    if len(tds) >= 2:\n",
        "        # Extract text content from the first <td> element\n",
        "        text_content = tds[0].text\n",
        "        # Check if text_content is not None and not empty\n",
        "        if text_content is not None and text_content.strip():\n",
        "            # Extract full name from the first <td> element\n",
        "            full_name = text_content.strip()\n",
        "            # Check if the full name contains a comma\n",
        "            if ',' in full_name:\n",
        "                # Split full name into last name and first name\n",
        "                last_name, first_name = full_name.split(', ', 1)\n",
        "                # Extract party from the second <td> element\n",
        "                party = tds[1].text.strip()\n",
        "                last_names.append(last_name)\n",
        "                first_names.append(first_name)\n",
        "                parties.append(party)\n",
        "\n",
        "\n",
        "df92 = pd.DataFrame({                                                               # Ändern!\n",
        "    'Last Name': last_names,\n",
        "    'First Name': first_names,\n",
        "    'Party': parties\n",
        "})\n",
        "\n",
        "\n",
        "Datum = \"14.10. 2022\"                                                               #  ÄNDERN!\n",
        "\n",
        "df92[\"Datum\"] = Datum                                                               # ÄNDERN!\n",
        "\n",
        "df = df.append(df92, ignore_index=True)                                             # ÄNDERN!"
      ],
      "metadata": {
        "colab": {
          "base_uri": "https://localhost:8080/"
        },
        "outputId": "0b58b94d-2285-4592-f96a-8caacd0ce5b4",
        "id": "0Y9l5a6RMz3Q"
      },
      "execution_count": null,
      "outputs": [
        {
          "output_type": "stream",
          "name": "stderr",
          "text": [
            "<ipython-input-1113-1a3efc19d5d6>:43: FutureWarning: The frame.append method is deprecated and will be removed from pandas in a future version. Use pandas.concat instead.\n",
            "  df = df.append(df92, ignore_index=True)                                             # ÄNDERN!\n"
          ]
        }
      ]
    },
    {
      "cell_type": "code",
      "source": [
        "url93 = \"https://www.bundestag.de/resource/blob/915646/d5694bce0430b8fcdecff9f8fc54e13e/20060.xml\" # ÄNDERN!\n",
        "response = requests.get(url93)                                                          # ÄNDERN!\n",
        "\n",
        "root = ET.fromstring(response.content)\n",
        "\n",
        "last_names = []\n",
        "first_names = []\n",
        "parties = []\n",
        "\n",
        "for tr in root.findall('.//tbody/tr'):\n",
        "    # Find all <td> elements inside <tr>\n",
        "    tds = tr.findall('.//td')\n",
        "    # Check if there are at least 2 <td> elements\n",
        "    if len(tds) >= 2:\n",
        "        # Extract text content from the first <td> element\n",
        "        text_content = tds[0].text\n",
        "        # Check if text_content is not None and not empty\n",
        "        if text_content is not None and text_content.strip():\n",
        "            # Extract full name from the first <td> element\n",
        "            full_name = text_content.strip()\n",
        "            # Check if the full name contains a comma\n",
        "            if ',' in full_name:\n",
        "                # Split full name into last name and first name\n",
        "                last_name, first_name = full_name.split(', ', 1)\n",
        "                # Extract party from the second <td> element\n",
        "                party = tds[1].text.strip()\n",
        "                last_names.append(last_name)\n",
        "                first_names.append(first_name)\n",
        "                parties.append(party)\n",
        "\n",
        "\n",
        "df93 = pd.DataFrame({                                                               # Ändern!\n",
        "    'Last Name': last_names,\n",
        "    'First Name': first_names,\n",
        "    'Party': parties\n",
        "})\n",
        "\n",
        "\n",
        "Datum = \"13.10. 2022\"                                                               #  ÄNDERN!\n",
        "\n",
        "df93[\"Datum\"] = Datum                                                               # ÄNDERN!\n",
        "\n",
        "df = df.append(df93, ignore_index=True)                                             # ÄNDERN!"
      ],
      "metadata": {
        "colab": {
          "base_uri": "https://localhost:8080/"
        },
        "outputId": "33700289-03ba-4c79-a533-ebafa23c19a5",
        "id": "PArLreP6NOcj"
      },
      "execution_count": null,
      "outputs": [
        {
          "output_type": "stream",
          "name": "stderr",
          "text": [
            "<ipython-input-1114-5c81a3c1658a>:43: FutureWarning: The frame.append method is deprecated and will be removed from pandas in a future version. Use pandas.concat instead.\n",
            "  df = df.append(df93, ignore_index=True)                                             # ÄNDERN!\n"
          ]
        }
      ]
    },
    {
      "cell_type": "code",
      "source": [
        "url94 = \"https://www.bundestag.de/resource/blob/915286/b3575a3167ddebf1cf988059be7614f6/20059.xml\" # ÄNDERN!\n",
        "response = requests.get(url94)                                                          # ÄNDERN!\n",
        "\n",
        "root = ET.fromstring(response.content)\n",
        "\n",
        "last_names = []\n",
        "first_names = []\n",
        "parties = []\n",
        "\n",
        "for tr in root.findall('.//tbody/tr'):\n",
        "    # Find all <td> elements inside <tr>\n",
        "    tds = tr.findall('.//td')\n",
        "    # Check if there are at least 2 <td> elements\n",
        "    if len(tds) >= 2:\n",
        "        # Extract text content from the first <td> element\n",
        "        text_content = tds[0].text\n",
        "        # Check if text_content is not None and not empty\n",
        "        if text_content is not None and text_content.strip():\n",
        "            # Extract full name from the first <td> element\n",
        "            full_name = text_content.strip()\n",
        "            # Check if the full name contains a comma\n",
        "            if ',' in full_name:\n",
        "                # Split full name into last name and first name\n",
        "                last_name, first_name = full_name.split(', ', 1)\n",
        "                # Extract party from the second <td> element\n",
        "                party = tds[1].text.strip()\n",
        "                last_names.append(last_name)\n",
        "                first_names.append(first_name)\n",
        "                parties.append(party)\n",
        "\n",
        "\n",
        "df94 = pd.DataFrame({                                                               # Ändern!\n",
        "    'Last Name': last_names,\n",
        "    'First Name': first_names,\n",
        "    'Party': parties\n",
        "})\n",
        "\n",
        "\n",
        "Datum = \"12.10. 2022\"                                                               #  ÄNDERN!\n",
        "\n",
        "df94[\"Datum\"] = Datum                                                               # ÄNDERN!\n",
        "\n",
        "df = df.append(df94, ignore_index=True)                                             # ÄNDERN!"
      ],
      "metadata": {
        "colab": {
          "base_uri": "https://localhost:8080/"
        },
        "outputId": "3884e6ed-35c5-4ea1-a5e1-a9747eb176ea",
        "id": "aRWnTIhVNYVR"
      },
      "execution_count": null,
      "outputs": [
        {
          "output_type": "stream",
          "name": "stderr",
          "text": [
            "<ipython-input-1115-4f67e409f0cf>:43: FutureWarning: The frame.append method is deprecated and will be removed from pandas in a future version. Use pandas.concat instead.\n",
            "  df = df.append(df94, ignore_index=True)                                             # ÄNDERN!\n"
          ]
        }
      ]
    },
    {
      "cell_type": "code",
      "source": [
        "url95 = \"https://www.bundestag.de/resource/blob/913444/aeecd11842a5e9e64c0aac4fbd2dd4b9/20058.xml\" # ÄNDERN!\n",
        "response = requests.get(url95)                                                          # ÄNDERN!\n",
        "\n",
        "root = ET.fromstring(response.content)\n",
        "\n",
        "last_names = []\n",
        "first_names = []\n",
        "parties = []\n",
        "\n",
        "for tr in root.findall('.//tbody/tr'):\n",
        "    # Find all <td> elements inside <tr>\n",
        "    tds = tr.findall('.//td')\n",
        "    # Check if there are at least 2 <td> elements\n",
        "    if len(tds) >= 2:\n",
        "        # Extract text content from the first <td> element\n",
        "        text_content = tds[0].text\n",
        "        # Check if text_content is not None and not empty\n",
        "        if text_content is not None and text_content.strip():\n",
        "            # Extract full name from the first <td> element\n",
        "            full_name = text_content.strip()\n",
        "            # Check if the full name contains a comma\n",
        "            if ',' in full_name:\n",
        "                # Split full name into last name and first name\n",
        "                last_name, first_name = full_name.split(', ', 1)\n",
        "                # Extract party from the second <td> element\n",
        "                party = tds[1].text.strip()\n",
        "                last_names.append(last_name)\n",
        "                first_names.append(first_name)\n",
        "                parties.append(party)\n",
        "\n",
        "\n",
        "df95 = pd.DataFrame({                                                               # Ändern!\n",
        "    'Last Name': last_names,\n",
        "    'First Name': first_names,\n",
        "    'Party': parties\n",
        "})\n",
        "\n",
        "\n",
        "Datum = \"30.09. 2022\"                                                               #  ÄNDERN!\n",
        "\n",
        "df95[\"Datum\"] = Datum                                                               # ÄNDERN!\n",
        "\n",
        "df = df.append(df95, ignore_index=True)                                             # ÄNDERN!"
      ],
      "metadata": {
        "colab": {
          "base_uri": "https://localhost:8080/"
        },
        "outputId": "b4969a20-45dd-4a28-ec6b-b15cf979da78",
        "id": "K5qwWzV2NlRq"
      },
      "execution_count": null,
      "outputs": [
        {
          "output_type": "stream",
          "name": "stderr",
          "text": [
            "<ipython-input-1116-721d4d811cad>:43: FutureWarning: The frame.append method is deprecated and will be removed from pandas in a future version. Use pandas.concat instead.\n",
            "  df = df.append(df95, ignore_index=True)                                             # ÄNDERN!\n"
          ]
        }
      ]
    },
    {
      "cell_type": "code",
      "source": [
        "url96 = \"https://www.bundestag.de/resource/blob/913074/a5fc2d586c98777a4550bda3f3740d77/20057.xml\" # ÄNDERN!\n",
        "response = requests.get(url96)                                                          # ÄNDERN!\n",
        "\n",
        "root = ET.fromstring(response.content)\n",
        "\n",
        "last_names = []\n",
        "first_names = []\n",
        "parties = []\n",
        "\n",
        "for tr in root.findall('.//tbody/tr'):\n",
        "    # Find all <td> elements inside <tr>\n",
        "    tds = tr.findall('.//td')\n",
        "    # Check if there are at least 2 <td> elements\n",
        "    if len(tds) >= 2:\n",
        "        # Extract text content from the first <td> element\n",
        "        text_content = tds[0].text\n",
        "        # Check if text_content is not None and not empty\n",
        "        if text_content is not None and text_content.strip():\n",
        "            # Extract full name from the first <td> element\n",
        "            full_name = text_content.strip()\n",
        "            # Check if the full name contains a comma\n",
        "            if ',' in full_name:\n",
        "                # Split full name into last name and first name\n",
        "                last_name, first_name = full_name.split(', ', 1)\n",
        "                # Extract party from the second <td> element\n",
        "                party = tds[1].text.strip()\n",
        "                last_names.append(last_name)\n",
        "                first_names.append(first_name)\n",
        "                parties.append(party)\n",
        "\n",
        "\n",
        "df96 = pd.DataFrame({                                                               # Ändern!\n",
        "    'Last Name': last_names,\n",
        "    'First Name': first_names,\n",
        "    'Party': parties\n",
        "})\n",
        "\n",
        "\n",
        "Datum = \"29.09. 2022\"                                                               #  ÄNDERN!\n",
        "\n",
        "df96[\"Datum\"] = Datum                                                               # ÄNDERN!\n",
        "\n",
        "df = df.append(df96, ignore_index=True)                                             # ÄNDERN!"
      ],
      "metadata": {
        "colab": {
          "base_uri": "https://localhost:8080/"
        },
        "outputId": "f6942107-e5e3-4f36-c782-7f7ffd1874a5",
        "id": "qWcXw6kaN2H1"
      },
      "execution_count": null,
      "outputs": [
        {
          "output_type": "stream",
          "name": "stderr",
          "text": [
            "<ipython-input-1117-d645403f7de7>:43: FutureWarning: The frame.append method is deprecated and will be removed from pandas in a future version. Use pandas.concat instead.\n",
            "  df = df.append(df96, ignore_index=True)                                             # ÄNDERN!\n"
          ]
        }
      ]
    },
    {
      "cell_type": "code",
      "source": [
        "url97 = \"https://www.bundestag.de/resource/blob/912816/f3c479972a01be28a0c328b1237f38a2/20056.xml\" # ÄNDERN!\n",
        "response = requests.get(url97)                                                          # ÄNDERN!\n",
        "\n",
        "root = ET.fromstring(response.content)\n",
        "\n",
        "last_names = []\n",
        "first_names = []\n",
        "parties = []\n",
        "\n",
        "for tr in root.findall('.//tbody/tr'):\n",
        "    # Find all <td> elements inside <tr>\n",
        "    tds = tr.findall('.//td')\n",
        "    # Check if there are at least 2 <td> elements\n",
        "    if len(tds) >= 2:\n",
        "        # Extract text content from the first <td> element\n",
        "        text_content = tds[0].text\n",
        "        # Check if text_content is not None and not empty\n",
        "        if text_content is not None and text_content.strip():\n",
        "            # Extract full name from the first <td> element\n",
        "            full_name = text_content.strip()\n",
        "            # Check if the full name contains a comma\n",
        "            if ',' in full_name:\n",
        "                # Split full name into last name and first name\n",
        "                last_name, first_name = full_name.split(', ', 1)\n",
        "                # Extract party from the second <td> element\n",
        "                party = tds[1].text.strip()\n",
        "                last_names.append(last_name)\n",
        "                first_names.append(first_name)\n",
        "                parties.append(party)\n",
        "\n",
        "\n",
        "df97 = pd.DataFrame({                                                               # Ändern!\n",
        "    'Last Name': last_names,\n",
        "    'First Name': first_names,\n",
        "    'Party': parties\n",
        "})\n",
        "\n",
        "\n",
        "Datum = \"28.09. 2022\"                                                               #  ÄNDERN!\n",
        "\n",
        "df97[\"Datum\"] = Datum                                                               # ÄNDERN!\n",
        "\n",
        "df = df.append(df97, ignore_index=True)                                             # ÄNDERN!"
      ],
      "metadata": {
        "colab": {
          "base_uri": "https://localhost:8080/"
        },
        "outputId": "5608bd97-e58c-4887-fb57-87ce2c557bd8",
        "id": "SB3olKksODgd"
      },
      "execution_count": null,
      "outputs": [
        {
          "output_type": "stream",
          "name": "stderr",
          "text": [
            "<ipython-input-1118-cc52fa919106>:43: FutureWarning: The frame.append method is deprecated and will be removed from pandas in a future version. Use pandas.concat instead.\n",
            "  df = df.append(df97, ignore_index=True)                                             # ÄNDERN!\n"
          ]
        }
      ]
    },
    {
      "cell_type": "code",
      "source": [
        "url98 = \"https://www.bundestag.de/resource/blob/912024/00d00b598946b3cec69ecd728a67b5db/20055.xml\" # ÄNDERN!\n",
        "response = requests.get(url98)                                                          # ÄNDERN!\n",
        "\n",
        "root = ET.fromstring(response.content)\n",
        "\n",
        "last_names = []\n",
        "first_names = []\n",
        "parties = []\n",
        "\n",
        "for tr in root.findall('.//tbody/tr'):\n",
        "    # Find all <td> elements inside <tr>\n",
        "    tds = tr.findall('.//td')\n",
        "    # Check if there are at least 2 <td> elements\n",
        "    if len(tds) >= 2:\n",
        "        # Extract text content from the first <td> element\n",
        "        text_content = tds[0].text\n",
        "        # Check if text_content is not None and not empty\n",
        "        if text_content is not None and text_content.strip():\n",
        "            # Extract full name from the first <td> element\n",
        "            full_name = text_content.strip()\n",
        "            # Check if the full name contains a comma\n",
        "            if ',' in full_name:\n",
        "                # Split full name into last name and first name\n",
        "                last_name, first_name = full_name.split(', ', 1)\n",
        "                # Extract party from the second <td> element\n",
        "                party = tds[1].text.strip()\n",
        "                last_names.append(last_name)\n",
        "                first_names.append(first_name)\n",
        "                parties.append(party)\n",
        "\n",
        "\n",
        "df98 = pd.DataFrame({                                                               # Ändern!\n",
        "    'Last Name': last_names,\n",
        "    'First Name': first_names,\n",
        "    'Party': parties\n",
        "})\n",
        "\n",
        "\n",
        "Datum = \"23.09. 2022\"                                                               #  ÄNDERN!\n",
        "\n",
        "df98[\"Datum\"] = Datum                                                               # ÄNDERN!\n",
        "\n",
        "df = df.append(df98, ignore_index=True)                                             # ÄNDERN!"
      ],
      "metadata": {
        "colab": {
          "base_uri": "https://localhost:8080/"
        },
        "outputId": "9161df87-0611-4978-98b5-d00428d60fb0",
        "id": "1nwXxbRQOTCL"
      },
      "execution_count": null,
      "outputs": [
        {
          "output_type": "stream",
          "name": "stderr",
          "text": [
            "<ipython-input-1119-5d378b510907>:43: FutureWarning: The frame.append method is deprecated and will be removed from pandas in a future version. Use pandas.concat instead.\n",
            "  df = df.append(df98, ignore_index=True)                                             # ÄNDERN!\n"
          ]
        }
      ]
    },
    {
      "cell_type": "code",
      "source": [
        "url99 = \"https://www.bundestag.de/resource/blob/911476/a04847a68f97bfe8db82bae1c363e610/20054.xml\" # ÄNDERN!\n",
        "response = requests.get(url99)                                                          # ÄNDERN!\n",
        "\n",
        "root = ET.fromstring(response.content)\n",
        "\n",
        "last_names = []\n",
        "first_names = []\n",
        "parties = []\n",
        "\n",
        "for tr in root.findall('.//tbody/tr'):\n",
        "    # Find all <td> elements inside <tr>\n",
        "    tds = tr.findall('.//td')\n",
        "    # Check if there are at least 2 <td> elements\n",
        "    if len(tds) >= 2:\n",
        "        # Extract text content from the first <td> element\n",
        "        text_content = tds[0].text\n",
        "        # Check if text_content is not None and not empty\n",
        "        if text_content is not None and text_content.strip():\n",
        "            # Extract full name from the first <td> element\n",
        "            full_name = text_content.strip()\n",
        "            # Check if the full name contains a comma\n",
        "            if ',' in full_name:\n",
        "                # Split full name into last name and first name\n",
        "                last_name, first_name = full_name.split(', ', 1)\n",
        "                # Extract party from the second <td> element\n",
        "                party = tds[1].text.strip()\n",
        "                last_names.append(last_name)\n",
        "                first_names.append(first_name)\n",
        "                parties.append(party)\n",
        "\n",
        "\n",
        "df99 = pd.DataFrame({                                                               # Ändern!\n",
        "    'Last Name': last_names,\n",
        "    'First Name': first_names,\n",
        "    'Party': parties\n",
        "})\n",
        "\n",
        "\n",
        "Datum = \"22.09. 2022\"                                                               #  ÄNDERN!\n",
        "\n",
        "df99[\"Datum\"] = Datum                                                               # ÄNDERN!\n",
        "\n",
        "df = df.append(df99, ignore_index=True)                                             # ÄNDERN!"
      ],
      "metadata": {
        "colab": {
          "base_uri": "https://localhost:8080/"
        },
        "outputId": "09463764-5e38-45c4-b634-00816f12e721",
        "id": "ihHh_iHfOrAD"
      },
      "execution_count": null,
      "outputs": [
        {
          "output_type": "stream",
          "name": "stderr",
          "text": [
            "<ipython-input-1120-db7c3db3a272>:43: FutureWarning: The frame.append method is deprecated and will be removed from pandas in a future version. Use pandas.concat instead.\n",
            "  df = df.append(df99, ignore_index=True)                                             # ÄNDERN!\n"
          ]
        }
      ]
    },
    {
      "cell_type": "code",
      "source": [
        "url100 = \"https://www.bundestag.de/resource/blob/911082/2dc21e37fddc3c083ec0886eac6e3767/20053.xml\" # ÄNDERN!\n",
        "response = requests.get(url100)                                                          # ÄNDERN!\n",
        "\n",
        "root = ET.fromstring(response.content)\n",
        "\n",
        "last_names = []\n",
        "first_names = []\n",
        "parties = []\n",
        "\n",
        "for tr in root.findall('.//tbody/tr'):\n",
        "    # Find all <td> elements inside <tr>\n",
        "    tds = tr.findall('.//td')\n",
        "    # Check if there are at least 2 <td> elements\n",
        "    if len(tds) >= 2:\n",
        "        # Extract text content from the first <td> element\n",
        "        text_content = tds[0].text\n",
        "        # Check if text_content is not None and not empty\n",
        "        if text_content is not None and text_content.strip():\n",
        "            # Extract full name from the first <td> element\n",
        "            full_name = text_content.strip()\n",
        "            # Check if the full name contains a comma\n",
        "            if ',' in full_name:\n",
        "                # Split full name into last name and first name\n",
        "                last_name, first_name = full_name.split(', ', 1)\n",
        "                # Extract party from the second <td> element\n",
        "                party = tds[1].text.strip()\n",
        "                last_names.append(last_name)\n",
        "                first_names.append(first_name)\n",
        "                parties.append(party)\n",
        "\n",
        "\n",
        "df100 = pd.DataFrame({                                                               # Ändern!\n",
        "    'Last Name': last_names,\n",
        "    'First Name': first_names,\n",
        "    'Party': parties\n",
        "})\n",
        "\n",
        "\n",
        "Datum = \"21.09. 2022\"                                                               #  ÄNDERN!\n",
        "\n",
        "df100[\"Datum\"] = Datum                                                               # ÄNDERN!\n",
        "\n",
        "df = df.append(df100, ignore_index=True)                                             # ÄNDERN!"
      ],
      "metadata": {
        "colab": {
          "base_uri": "https://localhost:8080/"
        },
        "outputId": "72a4aa9f-2d15-44ab-d70f-14716aa4bbe1",
        "id": "rLmHTsHIPgVf"
      },
      "execution_count": null,
      "outputs": [
        {
          "output_type": "stream",
          "name": "stderr",
          "text": [
            "<ipython-input-1121-9d17a4b49eb5>:43: FutureWarning: The frame.append method is deprecated and will be removed from pandas in a future version. Use pandas.concat instead.\n",
            "  df = df.append(df100, ignore_index=True)                                             # ÄNDERN!\n"
          ]
        }
      ]
    },
    {
      "cell_type": "code",
      "source": [
        "url101 = \"https://www.bundestag.de/resource/blob/909520/ccbb1b470836b419e0e0ab726b679a99/20052.xml\" # ÄNDERN!\n",
        "response = requests.get(url101)                                                          # ÄNDERN!\n",
        "\n",
        "root = ET.fromstring(response.content)\n",
        "\n",
        "last_names = []\n",
        "first_names = []\n",
        "parties = []\n",
        "\n",
        "for tr in root.findall('.//tbody/tr'):\n",
        "    # Find all <td> elements inside <tr>\n",
        "    tds = tr.findall('.//td')\n",
        "    # Check if there are at least 2 <td> elements\n",
        "    if len(tds) >= 2:\n",
        "        # Extract text content from the first <td> element\n",
        "        text_content = tds[0].text\n",
        "        # Check if text_content is not None and not empty\n",
        "        if text_content is not None and text_content.strip():\n",
        "            # Extract full name from the first <td> element\n",
        "            full_name = text_content.strip()\n",
        "            # Check if the full name contains a comma\n",
        "            if ',' in full_name:\n",
        "                # Split full name into last name and first name\n",
        "                last_name, first_name = full_name.split(', ', 1)\n",
        "                # Extract party from the second <td> element\n",
        "                party = tds[1].text.strip()\n",
        "                last_names.append(last_name)\n",
        "                first_names.append(first_name)\n",
        "                parties.append(party)\n",
        "\n",
        "\n",
        "df101 = pd.DataFrame({                                                               # Ändern!\n",
        "    'Last Name': last_names,\n",
        "    'First Name': first_names,\n",
        "    'Party': parties\n",
        "})\n",
        "\n",
        "\n",
        "Datum = \"09.09. 2022\"                                                               #  ÄNDERN!\n",
        "\n",
        "df101[\"Datum\"] = Datum                                                               # ÄNDERN!\n",
        "\n",
        "df = df.append(df101, ignore_index=True)                                             # ÄNDERN!"
      ],
      "metadata": {
        "colab": {
          "base_uri": "https://localhost:8080/"
        },
        "outputId": "08067435-1cc7-47be-a87f-28c060c2a155",
        "id": "5CQBV-W_P3mu"
      },
      "execution_count": null,
      "outputs": [
        {
          "output_type": "stream",
          "name": "stderr",
          "text": [
            "<ipython-input-1122-9284e841704a>:43: FutureWarning: The frame.append method is deprecated and will be removed from pandas in a future version. Use pandas.concat instead.\n",
            "  df = df.append(df101, ignore_index=True)                                             # ÄNDERN!\n"
          ]
        }
      ]
    },
    {
      "cell_type": "code",
      "source": [
        "url102 = \"https://www.bundestag.de/resource/blob/909282/222b209e5690e5d2b576215f1c8eaebc/20051.xml\" # ÄNDERN!\n",
        "response = requests.get(url102)                                                          # ÄNDERN!\n",
        "\n",
        "root = ET.fromstring(response.content)\n",
        "\n",
        "last_names = []\n",
        "first_names = []\n",
        "parties = []\n",
        "\n",
        "for tr in root.findall('.//tbody/tr'):\n",
        "    # Find all <td> elements inside <tr>\n",
        "    tds = tr.findall('.//td')\n",
        "    # Check if there are at least 2 <td> elements\n",
        "    if len(tds) >= 2:\n",
        "        # Extract text content from the first <td> element\n",
        "        text_content = tds[0].text\n",
        "        # Check if text_content is not None and not empty\n",
        "        if text_content is not None and text_content.strip():\n",
        "            # Extract full name from the first <td> element\n",
        "            full_name = text_content.strip()\n",
        "            # Check if the full name contains a comma\n",
        "            if ',' in full_name:\n",
        "                # Split full name into last name and first name\n",
        "                last_name, first_name = full_name.split(', ', 1)\n",
        "                # Extract party from the second <td> element\n",
        "                party = tds[1].text.strip()\n",
        "                last_names.append(last_name)\n",
        "                first_names.append(first_name)\n",
        "                parties.append(party)\n",
        "\n",
        "\n",
        "df102 = pd.DataFrame({                                                               # Ändern!\n",
        "    'Last Name': last_names,\n",
        "    'First Name': first_names,\n",
        "    'Party': parties\n",
        "})\n",
        "\n",
        "\n",
        "Datum = \"08.09. 2022\"                                                               #  ÄNDERN!\n",
        "\n",
        "df102[\"Datum\"] = Datum                                                               # ÄNDERN!\n",
        "\n",
        "df = df.append(df102, ignore_index=True)                                             # ÄNDERN!"
      ],
      "metadata": {
        "colab": {
          "base_uri": "https://localhost:8080/"
        },
        "outputId": "f7133cba-77b1-491c-9e70-a69cdef5e0ea",
        "id": "VQ01tnaRQIfF"
      },
      "execution_count": null,
      "outputs": [
        {
          "output_type": "stream",
          "name": "stderr",
          "text": [
            "<ipython-input-1123-64c1bdf89f16>:43: FutureWarning: The frame.append method is deprecated and will be removed from pandas in a future version. Use pandas.concat instead.\n",
            "  df = df.append(df102, ignore_index=True)                                             # ÄNDERN!\n"
          ]
        }
      ]
    },
    {
      "cell_type": "code",
      "source": [
        "url103 = \"https://www.bundestag.de/resource/blob/908984/3f64b129a5fbf8a5ac80e02435cafd77/20050.xml\" # ÄNDERN!\n",
        "response = requests.get(url103)                                                          # ÄNDERN!\n",
        "\n",
        "root = ET.fromstring(response.content)\n",
        "\n",
        "last_names = []\n",
        "first_names = []\n",
        "parties = []\n",
        "\n",
        "for tr in root.findall('.//tbody/tr'):\n",
        "    # Find all <td> elements inside <tr>\n",
        "    tds = tr.findall('.//td')\n",
        "    # Check if there are at least 2 <td> elements\n",
        "    if len(tds) >= 2:\n",
        "        # Extract text content from the first <td> element\n",
        "        text_content = tds[0].text\n",
        "        # Check if text_content is not None and not empty\n",
        "        if text_content is not None and text_content.strip():\n",
        "            # Extract full name from the first <td> element\n",
        "            full_name = text_content.strip()\n",
        "            # Check if the full name contains a comma\n",
        "            if ',' in full_name:\n",
        "                # Split full name into last name and first name\n",
        "                last_name, first_name = full_name.split(', ', 1)\n",
        "                # Extract party from the second <td> element\n",
        "                party = tds[1].text.strip()\n",
        "                last_names.append(last_name)\n",
        "                first_names.append(first_name)\n",
        "                parties.append(party)\n",
        "\n",
        "\n",
        "df103 = pd.DataFrame({                                                               # Ändern!\n",
        "    'Last Name': last_names,\n",
        "    'First Name': first_names,\n",
        "    'Party': parties\n",
        "})\n",
        "\n",
        "\n",
        "Datum = \"07.09. 2022\"                                                               #  ÄNDERN!\n",
        "\n",
        "df103[\"Datum\"] = Datum                                                               # ÄNDERN!\n",
        "\n",
        "df = df.append(df103, ignore_index=True)                                             # ÄNDERN!"
      ],
      "metadata": {
        "colab": {
          "base_uri": "https://localhost:8080/"
        },
        "outputId": "26c1a0ac-1a6c-473b-f85a-4a5063f5d093",
        "id": "qycRspJXQVLS"
      },
      "execution_count": null,
      "outputs": [
        {
          "output_type": "stream",
          "name": "stderr",
          "text": [
            "<ipython-input-1124-0b7db87b3c70>:43: FutureWarning: The frame.append method is deprecated and will be removed from pandas in a future version. Use pandas.concat instead.\n",
            "  df = df.append(df103, ignore_index=True)                                             # ÄNDERN!\n"
          ]
        }
      ]
    },
    {
      "cell_type": "code",
      "source": [
        "url104 = \"https://www.bundestag.de/resource/blob/908848/b19bebca7930333f6321435fe54d2ba0/20049.xml\" # ÄNDERN!\n",
        "response = requests.get(url104)                                                          # ÄNDERN!\n",
        "\n",
        "root = ET.fromstring(response.content)\n",
        "\n",
        "last_names = []\n",
        "first_names = []\n",
        "parties = []\n",
        "\n",
        "for tr in root.findall('.//tbody/tr'):\n",
        "    # Find all <td> elements inside <tr>\n",
        "    tds = tr.findall('.//td')\n",
        "    # Check if there are at least 2 <td> elements\n",
        "    if len(tds) >= 2:\n",
        "        # Extract text content from the first <td> element\n",
        "        text_content = tds[0].text\n",
        "        # Check if text_content is not None and not empty\n",
        "        if text_content is not None and text_content.strip():\n",
        "            # Extract full name from the first <td> element\n",
        "            full_name = text_content.strip()\n",
        "            # Check if the full name contains a comma\n",
        "            if ',' in full_name:\n",
        "                # Split full name into last name and first name\n",
        "                last_name, first_name = full_name.split(', ', 1)\n",
        "                # Extract party from the second <td> element\n",
        "                party = tds[1].text.strip()\n",
        "                last_names.append(last_name)\n",
        "                first_names.append(first_name)\n",
        "                parties.append(party)\n",
        "\n",
        "\n",
        "df104 = pd.DataFrame({                                                               # Ändern!\n",
        "    'Last Name': last_names,\n",
        "    'First Name': first_names,\n",
        "    'Party': parties\n",
        "})\n",
        "\n",
        "\n",
        "Datum = \"06.09. 2022\"                                                               #  ÄNDERN!\n",
        "\n",
        "df104[\"Datum\"] = Datum                                                               # ÄNDERN!\n",
        "\n",
        "df = df.append(df104, ignore_index=True)                                             # ÄNDERN!"
      ],
      "metadata": {
        "colab": {
          "base_uri": "https://localhost:8080/"
        },
        "outputId": "b030a3d0-f305-459e-c2cd-4eb20ca81d39",
        "id": "mLLKOayXQhiP"
      },
      "execution_count": null,
      "outputs": [
        {
          "output_type": "stream",
          "name": "stderr",
          "text": [
            "<ipython-input-1125-05cf18e0a997>:43: FutureWarning: The frame.append method is deprecated and will be removed from pandas in a future version. Use pandas.concat instead.\n",
            "  df = df.append(df104, ignore_index=True)                                             # ÄNDERN!\n"
          ]
        }
      ]
    },
    {
      "cell_type": "code",
      "source": [
        "url105 = \"https://www.bundestag.de/resource/blob/903222/3ea6ceba3b2f5b3f66a784bc32f347cd/20047.xml\" # ÄNDERN!\n",
        "response = requests.get(url105)                                                          # ÄNDERN!\n",
        "\n",
        "root = ET.fromstring(response.content)\n",
        "\n",
        "last_names = []\n",
        "first_names = []\n",
        "parties = []\n",
        "\n",
        "for tr in root.findall('.//tbody/tr'):\n",
        "    # Find all <td> elements inside <tr>\n",
        "    tds = tr.findall('.//td')\n",
        "    # Check if there are at least 2 <td> elements\n",
        "    if len(tds) >= 2:\n",
        "        # Extract text content from the first <td> element\n",
        "        text_content = tds[0].text\n",
        "        # Check if text_content is not None and not empty\n",
        "        if text_content is not None and text_content.strip():\n",
        "            # Extract full name from the first <td> element\n",
        "            full_name = text_content.strip()\n",
        "            # Check if the full name contains a comma\n",
        "            if ',' in full_name:\n",
        "                # Split full name into last name and first name\n",
        "                last_name, first_name = full_name.split(', ', 1)\n",
        "                # Extract party from the second <td> element\n",
        "                party = tds[1].text.strip()\n",
        "                last_names.append(last_name)\n",
        "                first_names.append(first_name)\n",
        "                parties.append(party)\n",
        "\n",
        "\n",
        "df105 = pd.DataFrame({                                                               # Ändern!\n",
        "    'Last Name': last_names,\n",
        "    'First Name': first_names,\n",
        "    'Party': parties\n",
        "})\n",
        "\n",
        "\n",
        "Datum = \"07.07. 2022\"                                                               #  ÄNDERN!\n",
        "\n",
        "df105[\"Datum\"] = Datum                                                               # ÄNDERN!\n",
        "\n",
        "df = df.append(df105, ignore_index=True)                                             # ÄNDERN!"
      ],
      "metadata": {
        "colab": {
          "base_uri": "https://localhost:8080/"
        },
        "outputId": "c26821be-71bc-456a-d1dd-0a5c5c529ea9",
        "id": "xkOeK8RiQsTb"
      },
      "execution_count": null,
      "outputs": [
        {
          "output_type": "stream",
          "name": "stderr",
          "text": [
            "<ipython-input-1126-19cc20417ae2>:43: FutureWarning: The frame.append method is deprecated and will be removed from pandas in a future version. Use pandas.concat instead.\n",
            "  df = df.append(df105, ignore_index=True)                                             # ÄNDERN!\n"
          ]
        }
      ]
    },
    {
      "cell_type": "code",
      "source": [
        "url106 = \"https://www.bundestag.de/resource/blob/903616/6b209fed0d9a78b4bd7119810250b1b3/20048.xml\" # ÄNDERN!\n",
        "response = requests.get(url106)                                                          # ÄNDERN!\n",
        "\n",
        "root = ET.fromstring(response.content)\n",
        "\n",
        "last_names = []\n",
        "first_names = []\n",
        "parties = []\n",
        "\n",
        "for tr in root.findall('.//tbody/tr'):\n",
        "    # Find all <td> elements inside <tr>\n",
        "    tds = tr.findall('.//td')\n",
        "    # Check if there are at least 2 <td> elements\n",
        "    if len(tds) >= 2:\n",
        "        # Extract text content from the first <td> element\n",
        "        text_content = tds[0].text\n",
        "        # Check if text_content is not None and not empty\n",
        "        if text_content is not None and text_content.strip():\n",
        "            # Extract full name from the first <td> element\n",
        "            full_name = text_content.strip()\n",
        "            # Check if the full name contains a comma\n",
        "            if ',' in full_name:\n",
        "                # Split full name into last name and first name\n",
        "                last_name, first_name = full_name.split(', ', 1)\n",
        "                # Extract party from the second <td> element\n",
        "                party = tds[1].text.strip()\n",
        "                last_names.append(last_name)\n",
        "                first_names.append(first_name)\n",
        "                parties.append(party)\n",
        "\n",
        "\n",
        "df106 = pd.DataFrame({                                                               # Ändern!\n",
        "    'Last Name': last_names,\n",
        "    'First Name': first_names,\n",
        "    'Party': parties\n",
        "})\n",
        "\n",
        "\n",
        "Datum = \"08.07. 2022\"                                                               #  ÄNDERN!\n",
        "\n",
        "df106[\"Datum\"] = Datum                                                               # ÄNDERN!\n",
        "\n",
        "df = df.append(df106, ignore_index=True)                                             # ÄNDERN!"
      ],
      "metadata": {
        "colab": {
          "base_uri": "https://localhost:8080/"
        },
        "outputId": "08a21fc2-897c-4ede-b8c5-a976b6b4ae36",
        "id": "NlpAs7feQ6Zx"
      },
      "execution_count": null,
      "outputs": [
        {
          "output_type": "stream",
          "name": "stderr",
          "text": [
            "<ipython-input-1127-36a1a1f67ae9>:43: FutureWarning: The frame.append method is deprecated and will be removed from pandas in a future version. Use pandas.concat instead.\n",
            "  df = df.append(df106, ignore_index=True)                                             # ÄNDERN!\n"
          ]
        }
      ]
    },
    {
      "cell_type": "code",
      "source": [
        "url107 = \"https://www.bundestag.de/resource/blob/902948/c06bbf98ee0ba61c1ec338254eeccabf/20046.xml\" # ÄNDERN!\n",
        "response = requests.get(url107)                                                          # ÄNDERN!\n",
        "\n",
        "root = ET.fromstring(response.content)\n",
        "\n",
        "last_names = []\n",
        "first_names = []\n",
        "parties = []\n",
        "\n",
        "for tr in root.findall('.//tbody/tr'):\n",
        "    # Find all <td> elements inside <tr>\n",
        "    tds = tr.findall('.//td')\n",
        "    # Check if there are at least 2 <td> elements\n",
        "    if len(tds) >= 2:\n",
        "        # Extract text content from the first <td> element\n",
        "        text_content = tds[0].text\n",
        "        # Check if text_content is not None and not empty\n",
        "        if text_content is not None and text_content.strip():\n",
        "            # Extract full name from the first <td> element\n",
        "            full_name = text_content.strip()\n",
        "            # Check if the full name contains a comma\n",
        "            if ',' in full_name:\n",
        "                # Split full name into last name and first name\n",
        "                last_name, first_name = full_name.split(', ', 1)\n",
        "                # Extract party from the second <td> element\n",
        "                party = tds[1].text.strip()\n",
        "                last_names.append(last_name)\n",
        "                first_names.append(first_name)\n",
        "                parties.append(party)\n",
        "\n",
        "\n",
        "df107 = pd.DataFrame({                                                               # Ändern!\n",
        "    'Last Name': last_names,\n",
        "    'First Name': first_names,\n",
        "    'Party': parties\n",
        "})\n",
        "\n",
        "\n",
        "Datum = \"06.07. 2022\"                                                               #  ÄNDERN!\n",
        "\n",
        "df107[\"Datum\"] = Datum                                                               # ÄNDERN!\n",
        "\n",
        "df = df.append(df107, ignore_index=True)                                             # ÄNDERN!"
      ],
      "metadata": {
        "colab": {
          "base_uri": "https://localhost:8080/"
        },
        "outputId": "74485225-816d-4b55-f992-7e3b3fdf8f0e",
        "id": "wITfzrH7REKu"
      },
      "execution_count": null,
      "outputs": [
        {
          "output_type": "stream",
          "name": "stderr",
          "text": [
            "<ipython-input-1128-09faa10917fb>:43: FutureWarning: The frame.append method is deprecated and will be removed from pandas in a future version. Use pandas.concat instead.\n",
            "  df = df.append(df107, ignore_index=True)                                             # ÄNDERN!\n"
          ]
        }
      ]
    },
    {
      "cell_type": "code",
      "source": [
        "url108 = \"https://www.bundestag.de/resource/blob/901386/2a11260627e1e60eb570abdcaf1d4c60/20045.xml\" # ÄNDERN!\n",
        "response = requests.get(url108)                                                          # ÄNDERN!\n",
        "\n",
        "root = ET.fromstring(response.content)\n",
        "\n",
        "last_names = []\n",
        "first_names = []\n",
        "parties = []\n",
        "\n",
        "for tr in root.findall('.//tbody/tr'):\n",
        "    # Find all <td> elements inside <tr>\n",
        "    tds = tr.findall('.//td')\n",
        "    # Check if there are at least 2 <td> elements\n",
        "    if len(tds) >= 2:\n",
        "        # Extract text content from the first <td> element\n",
        "        text_content = tds[0].text\n",
        "        # Check if text_content is not None and not empty\n",
        "        if text_content is not None and text_content.strip():\n",
        "            # Extract full name from the first <td> element\n",
        "            full_name = text_content.strip()\n",
        "            # Check if the full name contains a comma\n",
        "            if ',' in full_name:\n",
        "                # Split full name into last name and first name\n",
        "                last_name, first_name = full_name.split(', ', 1)\n",
        "                # Extract party from the second <td> element\n",
        "                party = tds[1].text.strip()\n",
        "                last_names.append(last_name)\n",
        "                first_names.append(first_name)\n",
        "                parties.append(party)\n",
        "\n",
        "\n",
        "df108 = pd.DataFrame({                                                               # Ändern!\n",
        "    'Last Name': last_names,\n",
        "    'First Name': first_names,\n",
        "    'Party': parties\n",
        "})\n",
        "\n",
        "\n",
        "Datum = \"24.06. 2022\"                                                               #  ÄNDERN!\n",
        "\n",
        "df108[\"Datum\"] = Datum                                                               # ÄNDERN!\n",
        "\n",
        "df = df.append(df108, ignore_index=True)                                             # ÄNDERN!"
      ],
      "metadata": {
        "colab": {
          "base_uri": "https://localhost:8080/"
        },
        "outputId": "87bafdd3-8ec6-409d-a2cc-406b785f8b2a",
        "id": "h9bB5hx8RVZf"
      },
      "execution_count": null,
      "outputs": [
        {
          "output_type": "stream",
          "name": "stderr",
          "text": [
            "<ipython-input-1129-f999c80a9ba9>:43: FutureWarning: The frame.append method is deprecated and will be removed from pandas in a future version. Use pandas.concat instead.\n",
            "  df = df.append(df108, ignore_index=True)                                             # ÄNDERN!\n"
          ]
        }
      ]
    },
    {
      "cell_type": "code",
      "source": [
        "url109 = \"https://www.bundestag.de/resource/blob/900576/478e78c0c8b449c88187d049f1d1bf1b/20044.xml\" # ÄNDERN!\n",
        "response = requests.get(url109)                                                          # ÄNDERN!\n",
        "\n",
        "root = ET.fromstring(response.content)\n",
        "\n",
        "last_names = []\n",
        "first_names = []\n",
        "parties = []\n",
        "\n",
        "for tr in root.findall('.//tbody/tr'):\n",
        "    # Find all <td> elements inside <tr>\n",
        "    tds = tr.findall('.//td')\n",
        "    # Check if there are at least 2 <td> elements\n",
        "    if len(tds) >= 2:\n",
        "        # Extract text content from the first <td> element\n",
        "        text_content = tds[0].text\n",
        "        # Check if text_content is not None and not empty\n",
        "        if text_content is not None and text_content.strip():\n",
        "            # Extract full name from the first <td> element\n",
        "            full_name = text_content.strip()\n",
        "            # Check if the full name contains a comma\n",
        "            if ',' in full_name:\n",
        "                # Split full name into last name and first name\n",
        "                last_name, first_name = full_name.split(', ', 1)\n",
        "                # Extract party from the second <td> element\n",
        "                party = tds[1].text.strip()\n",
        "                last_names.append(last_name)\n",
        "                first_names.append(first_name)\n",
        "                parties.append(party)\n",
        "\n",
        "\n",
        "df109 = pd.DataFrame({                                                               # Ändern!\n",
        "    'Last Name': last_names,\n",
        "    'First Name': first_names,\n",
        "    'Party': parties\n",
        "})\n",
        "\n",
        "\n",
        "Datum = \"23.06. 2022\"                                                               #  ÄNDERN!\n",
        "\n",
        "df109[\"Datum\"] = Datum                                                               # ÄNDERN!\n",
        "\n",
        "df = df.append(df109, ignore_index=True)                                             # ÄNDERN!"
      ],
      "metadata": {
        "colab": {
          "base_uri": "https://localhost:8080/"
        },
        "outputId": "f491c987-72cc-457c-c253-bd1ddadbc218",
        "id": "ZWCnUtMbRqK5"
      },
      "execution_count": null,
      "outputs": [
        {
          "output_type": "stream",
          "name": "stderr",
          "text": [
            "<ipython-input-1130-9383e9fedbf0>:43: FutureWarning: The frame.append method is deprecated and will be removed from pandas in a future version. Use pandas.concat instead.\n",
            "  df = df.append(df109, ignore_index=True)                                             # ÄNDERN!\n"
          ]
        }
      ]
    },
    {
      "cell_type": "code",
      "source": [
        "url110 = \"https://www.bundestag.de/resource/blob/900378/4304dccc6749727547d24a6fb7eb5e04/20043.xml\" # ÄNDERN!\n",
        "response = requests.get(url110)                                                          # ÄNDERN!\n",
        "\n",
        "root = ET.fromstring(response.content)\n",
        "\n",
        "last_names = []\n",
        "first_names = []\n",
        "parties = []\n",
        "\n",
        "for tr in root.findall('.//tbody/tr'):\n",
        "    # Find all <td> elements inside <tr>\n",
        "    tds = tr.findall('.//td')\n",
        "    # Check if there are at least 2 <td> elements\n",
        "    if len(tds) >= 2:\n",
        "        # Extract text content from the first <td> element\n",
        "        text_content = tds[0].text\n",
        "        # Check if text_content is not None and not empty\n",
        "        if text_content is not None and text_content.strip():\n",
        "            # Extract full name from the first <td> element\n",
        "            full_name = text_content.strip()\n",
        "            # Check if the full name contains a comma\n",
        "            if ',' in full_name:\n",
        "                # Split full name into last name and first name\n",
        "                last_name, first_name = full_name.split(', ', 1)\n",
        "                # Extract party from the second <td> element\n",
        "                party = tds[1].text.strip()\n",
        "                last_names.append(last_name)\n",
        "                first_names.append(first_name)\n",
        "                parties.append(party)\n",
        "\n",
        "\n",
        "df110 = pd.DataFrame({                                                               # Ändern!\n",
        "    'Last Name': last_names,\n",
        "    'First Name': first_names,\n",
        "    'Party': parties\n",
        "})\n",
        "\n",
        "\n",
        "Datum = \"22.06. 2022\"                                                               #  ÄNDERN!\n",
        "\n",
        "df110[\"Datum\"] = Datum                                                               # ÄNDERN!\n",
        "\n",
        "df = df.append(df110, ignore_index=True)                                             # ÄNDERN!"
      ],
      "metadata": {
        "colab": {
          "base_uri": "https://localhost:8080/"
        },
        "outputId": "8a0412d2-3819-4b13-96a5-45f0d047e614",
        "id": "X97flnTBR1MJ"
      },
      "execution_count": null,
      "outputs": [
        {
          "output_type": "stream",
          "name": "stderr",
          "text": [
            "<ipython-input-1131-10a11853f6a1>:43: FutureWarning: The frame.append method is deprecated and will be removed from pandas in a future version. Use pandas.concat instead.\n",
            "  df = df.append(df110, ignore_index=True)                                             # ÄNDERN!\n"
          ]
        }
      ]
    },
    {
      "cell_type": "code",
      "source": [
        "url111 = \"https://www.bundestag.de/resource/blob/898114/e7ace72bfd61d683b1bd36c50ec0813e/20042.xml\" # ÄNDERN!\n",
        "response = requests.get(url111)                                                          # ÄNDERN!\n",
        "\n",
        "root = ET.fromstring(response.content)\n",
        "\n",
        "last_names = []\n",
        "first_names = []\n",
        "parties = []\n",
        "\n",
        "for tr in root.findall('.//tbody/tr'):\n",
        "    # Find all <td> elements inside <tr>\n",
        "    tds = tr.findall('.//td')\n",
        "    # Check if there are at least 2 <td> elements\n",
        "    if len(tds) >= 2:\n",
        "        # Extract text content from the first <td> element\n",
        "        text_content = tds[0].text\n",
        "        # Check if text_content is not None and not empty\n",
        "        if text_content is not None and text_content.strip():\n",
        "            # Extract full name from the first <td> element\n",
        "            full_name = text_content.strip()\n",
        "            # Check if the full name contains a comma\n",
        "            if ',' in full_name:\n",
        "                # Split full name into last name and first name\n",
        "                last_name, first_name = full_name.split(', ', 1)\n",
        "                # Extract party from the second <td> element\n",
        "                party = tds[1].text.strip()\n",
        "                last_names.append(last_name)\n",
        "                first_names.append(first_name)\n",
        "                parties.append(party)\n",
        "\n",
        "\n",
        "df111 = pd.DataFrame({                                                               # Ändern!\n",
        "    'Last Name': last_names,\n",
        "    'First Name': first_names,\n",
        "    'Party': parties\n",
        "})\n",
        "\n",
        "\n",
        "Datum = \"03.06. 2022\"                                                               #  ÄNDERN!\n",
        "\n",
        "df111[\"Datum\"] = Datum                                                               # ÄNDERN!\n",
        "\n",
        "df = df.append(df111, ignore_index=True)                                             # ÄNDERN!"
      ],
      "metadata": {
        "colab": {
          "base_uri": "https://localhost:8080/"
        },
        "outputId": "32059845-503d-438e-cc89-dc3d10a06a9c",
        "id": "xa_hKGn_SHVQ"
      },
      "execution_count": null,
      "outputs": [
        {
          "output_type": "stream",
          "name": "stderr",
          "text": [
            "<ipython-input-1132-d730477c2771>:43: FutureWarning: The frame.append method is deprecated and will be removed from pandas in a future version. Use pandas.concat instead.\n",
            "  df = df.append(df111, ignore_index=True)                                             # ÄNDERN!\n"
          ]
        }
      ]
    },
    {
      "cell_type": "code",
      "source": [
        "url112 = \"https://www.bundestag.de/resource/blob/897878/2abe959292f855f8f2f2bd03be99bc91/20041.xml\" # ÄNDERN!\n",
        "response = requests.get(url112)                                                          # ÄNDERN!\n",
        "\n",
        "root = ET.fromstring(response.content)\n",
        "\n",
        "last_names = []\n",
        "first_names = []\n",
        "parties = []\n",
        "\n",
        "for tr in root.findall('.//tbody/tr'):\n",
        "    # Find all <td> elements inside <tr>\n",
        "    tds = tr.findall('.//td')\n",
        "    # Check if there are at least 2 <td> elements\n",
        "    if len(tds) >= 2:\n",
        "        # Extract text content from the first <td> element\n",
        "        text_content = tds[0].text\n",
        "        # Check if text_content is not None and not empty\n",
        "        if text_content is not None and text_content.strip():\n",
        "            # Extract full name from the first <td> element\n",
        "            full_name = text_content.strip()\n",
        "            # Check if the full name contains a comma\n",
        "            if ',' in full_name:\n",
        "                # Split full name into last name and first name\n",
        "                last_name, first_name = full_name.split(', ', 1)\n",
        "                # Extract party from the second <td> element\n",
        "                party = tds[1].text.strip()\n",
        "                last_names.append(last_name)\n",
        "                first_names.append(first_name)\n",
        "                parties.append(party)\n",
        "\n",
        "\n",
        "df112 = pd.DataFrame({                                                               # Ändern!\n",
        "    'Last Name': last_names,\n",
        "    'First Name': first_names,\n",
        "    'Party': parties\n",
        "})\n",
        "\n",
        "\n",
        "Datum = \"02.06. 2022\"                                                               #  ÄNDERN!\n",
        "\n",
        "df112[\"Datum\"] = Datum                                                               # ÄNDERN!\n",
        "\n",
        "df = df.append(df112, ignore_index=True)                                             # ÄNDERN!"
      ],
      "metadata": {
        "colab": {
          "base_uri": "https://localhost:8080/"
        },
        "outputId": "63a05477-9d44-4e34-ca8b-6bdb54830f73",
        "id": "_UEJYxC9SSAK"
      },
      "execution_count": null,
      "outputs": [
        {
          "output_type": "stream",
          "name": "stderr",
          "text": [
            "<ipython-input-1133-221f7b5f31d2>:43: FutureWarning: The frame.append method is deprecated and will be removed from pandas in a future version. Use pandas.concat instead.\n",
            "  df = df.append(df112, ignore_index=True)                                             # ÄNDERN!\n"
          ]
        }
      ]
    },
    {
      "cell_type": "code",
      "source": [
        "url113 = \"https://www.bundestag.de/resource/blob/897634/315cfc5e3243eafee3f7f5125ba0d093/20040.xml\" # ÄNDERN!\n",
        "response = requests.get(url113)                                                          # ÄNDERN!\n",
        "\n",
        "root = ET.fromstring(response.content)\n",
        "\n",
        "last_names = []\n",
        "first_names = []\n",
        "parties = []\n",
        "\n",
        "for tr in root.findall('.//tbody/tr'):\n",
        "    # Find all <td> elements inside <tr>\n",
        "    tds = tr.findall('.//td')\n",
        "    # Check if there are at least 2 <td> elements\n",
        "    if len(tds) >= 2:\n",
        "        # Extract text content from the first <td> element\n",
        "        text_content = tds[0].text\n",
        "        # Check if text_content is not None and not empty\n",
        "        if text_content is not None and text_content.strip():\n",
        "            # Extract full name from the first <td> element\n",
        "            full_name = text_content.strip()\n",
        "            # Check if the full name contains a comma\n",
        "            if ',' in full_name:\n",
        "                # Split full name into last name and first name\n",
        "                last_name, first_name = full_name.split(', ', 1)\n",
        "                # Extract party from the second <td> element\n",
        "                party = tds[1].text.strip()\n",
        "                last_names.append(last_name)\n",
        "                first_names.append(first_name)\n",
        "                parties.append(party)\n",
        "\n",
        "\n",
        "df113 = pd.DataFrame({                                                               # Ändern!\n",
        "    'Last Name': last_names,\n",
        "    'First Name': first_names,\n",
        "    'Party': parties\n",
        "})\n",
        "\n",
        "\n",
        "Datum = \"01.06. 2022\"                                                               #  ÄNDERN!\n",
        "\n",
        "df113[\"Datum\"] = Datum                                                               # ÄNDERN!\n",
        "\n",
        "df = df.append(df113, ignore_index=True)                                             # ÄNDERN!"
      ],
      "metadata": {
        "colab": {
          "base_uri": "https://localhost:8080/"
        },
        "outputId": "1deddc7b-4749-4e21-9e93-0a7e282862e2",
        "id": "HoxURJMNSbzx"
      },
      "execution_count": null,
      "outputs": [
        {
          "output_type": "stream",
          "name": "stderr",
          "text": [
            "<ipython-input-1134-64bf72d75c71>:43: FutureWarning: The frame.append method is deprecated and will be removed from pandas in a future version. Use pandas.concat instead.\n",
            "  df = df.append(df113, ignore_index=True)                                             # ÄNDERN!\n"
          ]
        }
      ]
    },
    {
      "cell_type": "code",
      "source": [
        "url114 = \"https://www.bundestag.de/resource/blob/897506/671551853b84eb704e6fe74d4957cac4/20039.xml\" # ÄNDERN!\n",
        "response = requests.get(url114)                                                          # ÄNDERN!\n",
        "\n",
        "root = ET.fromstring(response.content)\n",
        "\n",
        "last_names = []\n",
        "first_names = []\n",
        "parties = []\n",
        "\n",
        "for tr in root.findall('.//tbody/tr'):\n",
        "    # Find all <td> elements inside <tr>\n",
        "    tds = tr.findall('.//td')\n",
        "    # Check if there are at least 2 <td> elements\n",
        "    if len(tds) >= 2:\n",
        "        # Extract text content from the first <td> element\n",
        "        text_content = tds[0].text\n",
        "        # Check if text_content is not None and not empty\n",
        "        if text_content is not None and text_content.strip():\n",
        "            # Extract full name from the first <td> element\n",
        "            full_name = text_content.strip()\n",
        "            # Check if the full name contains a comma\n",
        "            if ',' in full_name:\n",
        "                # Split full name into last name and first name\n",
        "                last_name, first_name = full_name.split(', ', 1)\n",
        "                # Extract party from the second <td> element\n",
        "                party = tds[1].text.strip()\n",
        "                last_names.append(last_name)\n",
        "                first_names.append(first_name)\n",
        "                parties.append(party)\n",
        "\n",
        "\n",
        "df114 = pd.DataFrame({                                                               # Ändern!\n",
        "    'Last Name': last_names,\n",
        "    'First Name': first_names,\n",
        "    'Party': parties\n",
        "})\n",
        "\n",
        "\n",
        "Datum = \"31.05. 2022\"                                                               #  ÄNDERN!\n",
        "\n",
        "df114[\"Datum\"] = Datum                                                               # ÄNDERN!\n",
        "\n",
        "df = df.append(df114, ignore_index=True)                                             # ÄNDERN!"
      ],
      "metadata": {
        "colab": {
          "base_uri": "https://localhost:8080/"
        },
        "outputId": "d168e7c8-7958-40fd-afa3-ce4a040a6fd8",
        "id": "g6eLPD8vStEr"
      },
      "execution_count": null,
      "outputs": [
        {
          "output_type": "stream",
          "name": "stderr",
          "text": [
            "<ipython-input-1135-7f9c97b30705>:43: FutureWarning: The frame.append method is deprecated and will be removed from pandas in a future version. Use pandas.concat instead.\n",
            "  df = df.append(df114, ignore_index=True)                                             # ÄNDERN!\n"
          ]
        }
      ]
    },
    {
      "cell_type": "code",
      "source": [
        "url115 = \"https://www.bundestag.de/resource/blob/896498/0b56835fe05e37108f730d5124a38129/20038.xml\" # ÄNDERN!\n",
        "response = requests.get(url115)                                                          # ÄNDERN!\n",
        "\n",
        "root = ET.fromstring(response.content)\n",
        "\n",
        "last_names = []\n",
        "first_names = []\n",
        "parties = []\n",
        "\n",
        "for tr in root.findall('.//tbody/tr'):\n",
        "    # Find all <td> elements inside <tr>\n",
        "    tds = tr.findall('.//td')\n",
        "    # Check if there are at least 2 <td> elements\n",
        "    if len(tds) >= 2:\n",
        "        # Extract text content from the first <td> element\n",
        "        text_content = tds[0].text\n",
        "        # Check if text_content is not None and not empty\n",
        "        if text_content is not None and text_content.strip():\n",
        "            # Extract full name from the first <td> element\n",
        "            full_name = text_content.strip()\n",
        "            # Check if the full name contains a comma\n",
        "            if ',' in full_name:\n",
        "                # Split full name into last name and first name\n",
        "                last_name, first_name = full_name.split(', ', 1)\n",
        "                # Extract party from the second <td> element\n",
        "                party = tds[1].text.strip()\n",
        "                last_names.append(last_name)\n",
        "                first_names.append(first_name)\n",
        "                parties.append(party)\n",
        "\n",
        "\n",
        "df115 = pd.DataFrame({                                                               # Ändern!\n",
        "    'Last Name': last_names,\n",
        "    'First Name': first_names,\n",
        "    'Party': parties\n",
        "})\n",
        "\n",
        "\n",
        "Datum = \"20.05. 2022\"                                                               #  ÄNDERN!\n",
        "\n",
        "df115[\"Datum\"] = Datum                                                               # ÄNDERN!\n",
        "\n",
        "df = df.append(df115, ignore_index=True)                                             # ÄNDERN!"
      ],
      "metadata": {
        "colab": {
          "base_uri": "https://localhost:8080/"
        },
        "outputId": "c958eb2f-f37d-4473-ff35-0a36977c3d32",
        "id": "Vml6dnyaS6n2"
      },
      "execution_count": null,
      "outputs": [
        {
          "output_type": "stream",
          "name": "stderr",
          "text": [
            "<ipython-input-1136-b484ed028231>:43: FutureWarning: The frame.append method is deprecated and will be removed from pandas in a future version. Use pandas.concat instead.\n",
            "  df = df.append(df115, ignore_index=True)                                             # ÄNDERN!\n"
          ]
        }
      ]
    },
    {
      "cell_type": "code",
      "source": [
        "url116 = \"https://www.bundestag.de/resource/blob/896352/935ec162b90c10e4d3b43a607db8be1c/20037.xml\" # ÄNDERN!\n",
        "response = requests.get(url116)                                                          # ÄNDERN!\n",
        "\n",
        "root = ET.fromstring(response.content)\n",
        "\n",
        "last_names = []\n",
        "first_names = []\n",
        "parties = []\n",
        "\n",
        "for tr in root.findall('.//tbody/tr'):\n",
        "    # Find all <td> elements inside <tr>\n",
        "    tds = tr.findall('.//td')\n",
        "    # Check if there are at least 2 <td> elements\n",
        "    if len(tds) >= 2:\n",
        "        # Extract text content from the first <td> element\n",
        "        text_content = tds[0].text\n",
        "        # Check if text_content is not None and not empty\n",
        "        if text_content is not None and text_content.strip():\n",
        "            # Extract full name from the first <td> element\n",
        "            full_name = text_content.strip()\n",
        "            # Check if the full name contains a comma\n",
        "            if ',' in full_name:\n",
        "                # Split full name into last name and first name\n",
        "                last_name, first_name = full_name.split(', ', 1)\n",
        "                # Extract party from the second <td> element\n",
        "                party = tds[1].text.strip()\n",
        "                last_names.append(last_name)\n",
        "                first_names.append(first_name)\n",
        "                parties.append(party)\n",
        "\n",
        "\n",
        "df116 = pd.DataFrame({                                                               # Ändern!\n",
        "    'Last Name': last_names,\n",
        "    'First Name': first_names,\n",
        "    'Party': parties\n",
        "})\n",
        "\n",
        "\n",
        "Datum = \"19.05. 2022\"                                                               #  ÄNDERN!\n",
        "\n",
        "df116[\"Datum\"] = Datum                                                               # ÄNDERN!\n",
        "\n",
        "df = df.append(df116, ignore_index=True)                                             # ÄNDERN!"
      ],
      "metadata": {
        "colab": {
          "base_uri": "https://localhost:8080/"
        },
        "outputId": "3f3e468a-d444-4f4c-f43e-eb669236c35e",
        "id": "wvS4F0GWTFX_"
      },
      "execution_count": null,
      "outputs": [
        {
          "output_type": "stream",
          "name": "stderr",
          "text": [
            "<ipython-input-1137-8037cd7cba16>:43: FutureWarning: The frame.append method is deprecated and will be removed from pandas in a future version. Use pandas.concat instead.\n",
            "  df = df.append(df116, ignore_index=True)                                             # ÄNDERN!\n"
          ]
        }
      ]
    },
    {
      "cell_type": "code",
      "source": [
        "url117 = \"https://www.bundestag.de/resource/blob/896180/903d3e4980d90a7ec12a0602dde3fbf1/20036.xml\" # ÄNDERN!\n",
        "response = requests.get(url117)                                                          # ÄNDERN!\n",
        "\n",
        "root = ET.fromstring(response.content)\n",
        "\n",
        "last_names = []\n",
        "first_names = []\n",
        "parties = []\n",
        "\n",
        "for tr in root.findall('.//tbody/tr'):\n",
        "    # Find all <td> elements inside <tr>\n",
        "    tds = tr.findall('.//td')\n",
        "    # Check if there are at least 2 <td> elements\n",
        "    if len(tds) >= 2:\n",
        "        # Extract text content from the first <td> element\n",
        "        text_content = tds[0].text\n",
        "        # Check if text_content is not None and not empty\n",
        "        if text_content is not None and text_content.strip():\n",
        "            # Extract full name from the first <td> element\n",
        "            full_name = text_content.strip()\n",
        "            # Check if the full name contains a comma\n",
        "            if ',' in full_name:\n",
        "                # Split full name into last name and first name\n",
        "                last_name, first_name = full_name.split(', ', 1)\n",
        "                # Extract party from the second <td> element\n",
        "                party = tds[1].text.strip()\n",
        "                last_names.append(last_name)\n",
        "                first_names.append(first_name)\n",
        "                parties.append(party)\n",
        "\n",
        "\n",
        "df117 = pd.DataFrame({                                                               # Ändern!\n",
        "    'Last Name': last_names,\n",
        "    'First Name': first_names,\n",
        "    'Party': parties\n",
        "})\n",
        "\n",
        "\n",
        "Datum = \"18.05. 2022\"                                                               #  ÄNDERN!\n",
        "\n",
        "df117[\"Datum\"] = Datum                                                               # ÄNDERN!\n",
        "\n",
        "df = df.append(df117, ignore_index=True)                                             # ÄNDERN!"
      ],
      "metadata": {
        "colab": {
          "base_uri": "https://localhost:8080/"
        },
        "outputId": "72d2f511-89e2-41a8-9626-e1a2b15c5241",
        "id": "AnJtCcusTRUR"
      },
      "execution_count": null,
      "outputs": [
        {
          "output_type": "stream",
          "name": "stderr",
          "text": [
            "<ipython-input-1138-77f50085581c>:43: FutureWarning: The frame.append method is deprecated and will be removed from pandas in a future version. Use pandas.concat instead.\n",
            "  df = df.append(df117, ignore_index=True)                                             # ÄNDERN!\n"
          ]
        }
      ]
    },
    {
      "cell_type": "code",
      "source": [
        "url118 = \"https://www.bundestag.de/resource/blob/895476/9cb1043fb9957f339d1aed508c822c4f/20035.xml\" # ÄNDERN!\n",
        "response = requests.get(url118)                                                          # ÄNDERN!\n",
        "\n",
        "root = ET.fromstring(response.content)\n",
        "\n",
        "last_names = []\n",
        "first_names = []\n",
        "parties = []\n",
        "\n",
        "for tr in root.findall('.//tbody/tr'):\n",
        "    # Find all <td> elements inside <tr>\n",
        "    tds = tr.findall('.//td')\n",
        "    # Check if there are at least 2 <td> elements\n",
        "    if len(tds) >= 2:\n",
        "        # Extract text content from the first <td> element\n",
        "        text_content = tds[0].text\n",
        "        # Check if text_content is not None and not empty\n",
        "        if text_content is not None and text_content.strip():\n",
        "            # Extract full name from the first <td> element\n",
        "            full_name = text_content.strip()\n",
        "            # Check if the full name contains a comma\n",
        "            if ',' in full_name:\n",
        "                # Split full name into last name and first name\n",
        "                last_name, first_name = full_name.split(', ', 1)\n",
        "                # Extract party from the second <td> element\n",
        "                party = tds[1].text.strip()\n",
        "                last_names.append(last_name)\n",
        "                first_names.append(first_name)\n",
        "                parties.append(party)\n",
        "\n",
        "\n",
        "df118 = pd.DataFrame({                                                               # Ändern!\n",
        "    'Last Name': last_names,\n",
        "    'First Name': first_names,\n",
        "    'Party': parties\n",
        "})\n",
        "\n",
        "\n",
        "Datum = \"13.05. 2022\"                                                               #  ÄNDERN!\n",
        "\n",
        "df118[\"Datum\"] = Datum                                                               # ÄNDERN!\n",
        "\n",
        "df = df.append(df118, ignore_index=True)                                             # ÄNDERN!"
      ],
      "metadata": {
        "colab": {
          "base_uri": "https://localhost:8080/"
        },
        "outputId": "1c772fc2-6e84-43bf-af1c-5c0022855be7",
        "id": "osqzCS5JTd3D"
      },
      "execution_count": null,
      "outputs": [
        {
          "output_type": "stream",
          "name": "stderr",
          "text": [
            "<ipython-input-1139-0479e6ce5454>:43: FutureWarning: The frame.append method is deprecated and will be removed from pandas in a future version. Use pandas.concat instead.\n",
            "  df = df.append(df118, ignore_index=True)                                             # ÄNDERN!\n"
          ]
        }
      ]
    },
    {
      "cell_type": "code",
      "source": [
        "url119 = \"https://www.bundestag.de/resource/blob/894900/7d3db38a2df36f568b62bcd178f78ea3/20034.xml\" # ÄNDERN!\n",
        "response = requests.get(url119)                                                          # ÄNDERN!\n",
        "\n",
        "root = ET.fromstring(response.content)\n",
        "\n",
        "last_names = []\n",
        "first_names = []\n",
        "parties = []\n",
        "\n",
        "for tr in root.findall('.//tbody/tr'):\n",
        "    # Find all <td> elements inside <tr>\n",
        "    tds = tr.findall('.//td')\n",
        "    # Check if there are at least 2 <td> elements\n",
        "    if len(tds) >= 2:\n",
        "        # Extract text content from the first <td> element\n",
        "        text_content = tds[0].text\n",
        "        # Check if text_content is not None and not empty\n",
        "        if text_content is not None and text_content.strip():\n",
        "            # Extract full name from the first <td> element\n",
        "            full_name = text_content.strip()\n",
        "            # Check if the full name contains a comma\n",
        "            if ',' in full_name:\n",
        "                # Split full name into last name and first name\n",
        "                last_name, first_name = full_name.split(', ', 1)\n",
        "                # Extract party from the second <td> element\n",
        "                party = tds[1].text.strip()\n",
        "                last_names.append(last_name)\n",
        "                first_names.append(first_name)\n",
        "                parties.append(party)\n",
        "\n",
        "\n",
        "df119 = pd.DataFrame({                                                               # Ändern!\n",
        "    'Last Name': last_names,\n",
        "    'First Name': first_names,\n",
        "    'Party': parties\n",
        "})\n",
        "\n",
        "\n",
        "Datum = \"12.05. 2022\"                                                               #  ÄNDERN!\n",
        "\n",
        "df119[\"Datum\"] = Datum                                                               # ÄNDERN!\n",
        "\n",
        "df = df.append(df119, ignore_index=True)                                             # ÄNDERN!"
      ],
      "metadata": {
        "colab": {
          "base_uri": "https://localhost:8080/"
        },
        "outputId": "09981c3f-ffe8-493c-b4db-691daa5f0f76",
        "id": "7sayfAZRTqzo"
      },
      "execution_count": null,
      "outputs": [
        {
          "output_type": "stream",
          "name": "stderr",
          "text": [
            "<ipython-input-1140-96c05e16a3e2>:43: FutureWarning: The frame.append method is deprecated and will be removed from pandas in a future version. Use pandas.concat instead.\n",
            "  df = df.append(df119, ignore_index=True)                                             # ÄNDERN!\n"
          ]
        }
      ]
    },
    {
      "cell_type": "code",
      "source": [
        "url120 = \"https://www.bundestag.de/resource/blob/894350/9987c8c08ef1e027a3f7c4656b3f9a34/20033.xml\" # ÄNDERN!\n",
        "response = requests.get(url120)                                                          # ÄNDERN!\n",
        "\n",
        "root = ET.fromstring(response.content)\n",
        "\n",
        "last_names = []\n",
        "first_names = []\n",
        "parties = []\n",
        "\n",
        "for tr in root.findall('.//tbody/tr'):\n",
        "    # Find all <td> elements inside <tr>\n",
        "    tds = tr.findall('.//td')\n",
        "    # Check if there are at least 2 <td> elements\n",
        "    if len(tds) >= 2:\n",
        "        # Extract text content from the first <td> element\n",
        "        text_content = tds[0].text\n",
        "        # Check if text_content is not None and not empty\n",
        "        if text_content is not None and text_content.strip():\n",
        "            # Extract full name from the first <td> element\n",
        "            full_name = text_content.strip()\n",
        "            # Check if the full name contains a comma\n",
        "            if ',' in full_name:\n",
        "                # Split full name into last name and first name\n",
        "                last_name, first_name = full_name.split(', ', 1)\n",
        "                # Extract party from the second <td> element\n",
        "                party = tds[1].text.strip()\n",
        "                last_names.append(last_name)\n",
        "                first_names.append(first_name)\n",
        "                parties.append(party)\n",
        "\n",
        "\n",
        "df120 = pd.DataFrame({                                                               # Ändern!\n",
        "    'Last Name': last_names,\n",
        "    'First Name': first_names,\n",
        "    'Party': parties\n",
        "})\n",
        "\n",
        "\n",
        "Datum = \"11.05. 2022\"                                                               #  ÄNDERN!\n",
        "\n",
        "df120[\"Datum\"] = Datum                                                               # ÄNDERN!\n",
        "\n",
        "df = df.append(df120, ignore_index=True)                                             # ÄNDERN!"
      ],
      "metadata": {
        "colab": {
          "base_uri": "https://localhost:8080/"
        },
        "outputId": "2820c872-185b-4e69-e463-30e8d4216709",
        "id": "hXgS9qEgUFnE"
      },
      "execution_count": null,
      "outputs": [
        {
          "output_type": "stream",
          "name": "stderr",
          "text": [
            "<ipython-input-1141-e9d06a7237d2>:43: FutureWarning: The frame.append method is deprecated and will be removed from pandas in a future version. Use pandas.concat instead.\n",
            "  df = df.append(df120, ignore_index=True)                                             # ÄNDERN!\n"
          ]
        }
      ]
    },
    {
      "cell_type": "code",
      "source": [
        "url121 = \"https://www.bundestag.de/resource/blob/892386/b2790c9c10b580721dd2e98967697808/20032.xml\" # ÄNDERN!\n",
        "response = requests.get(url121)                                                          # ÄNDERN!\n",
        "\n",
        "root = ET.fromstring(response.content)\n",
        "\n",
        "last_names = []\n",
        "first_names = []\n",
        "parties = []\n",
        "\n",
        "for tr in root.findall('.//tbody/tr'):\n",
        "    # Find all <td> elements inside <tr>\n",
        "    tds = tr.findall('.//td')\n",
        "    # Check if there are at least 2 <td> elements\n",
        "    if len(tds) >= 2:\n",
        "        # Extract text content from the first <td> element\n",
        "        text_content = tds[0].text\n",
        "        # Check if text_content is not None and not empty\n",
        "        if text_content is not None and text_content.strip():\n",
        "            # Extract full name from the first <td> element\n",
        "            full_name = text_content.strip()\n",
        "            # Check if the full name contains a comma\n",
        "            if ',' in full_name:\n",
        "                # Split full name into last name and first name\n",
        "                last_name, first_name = full_name.split(', ', 1)\n",
        "                # Extract party from the second <td> element\n",
        "                party = tds[1].text.strip()\n",
        "                last_names.append(last_name)\n",
        "                first_names.append(first_name)\n",
        "                parties.append(party)\n",
        "\n",
        "\n",
        "df121 = pd.DataFrame({                                                               # Ändern!\n",
        "    'Last Name': last_names,\n",
        "    'First Name': first_names,\n",
        "    'Party': parties\n",
        "})\n",
        "\n",
        "\n",
        "Datum = \"29.04. 2022\"                                                               #  ÄNDERN!\n",
        "\n",
        "df121[\"Datum\"] = Datum                                                               # ÄNDERN!\n",
        "\n",
        "df = df.append(df121, ignore_index=True)                                             # ÄNDERN!"
      ],
      "metadata": {
        "colab": {
          "base_uri": "https://localhost:8080/"
        },
        "outputId": "b7fd6528-a507-43fd-b624-ed88d2fdfaff",
        "id": "LXYfRJHIUPy2"
      },
      "execution_count": null,
      "outputs": [
        {
          "output_type": "stream",
          "name": "stderr",
          "text": [
            "<ipython-input-1142-1c70d641c430>:43: FutureWarning: The frame.append method is deprecated and will be removed from pandas in a future version. Use pandas.concat instead.\n",
            "  df = df.append(df121, ignore_index=True)                                             # ÄNDERN!\n"
          ]
        }
      ]
    },
    {
      "cell_type": "code",
      "source": [
        "url122 = \"https://www.bundestag.de/resource/blob/891934/9d3e30a6b6da8930e4b24a2c71323d89/20031.xml\" # ÄNDERN!\n",
        "response = requests.get(url122)                                                          # ÄNDERN!\n",
        "\n",
        "root = ET.fromstring(response.content)\n",
        "\n",
        "last_names = []\n",
        "first_names = []\n",
        "parties = []\n",
        "\n",
        "for tr in root.findall('.//tbody/tr'):\n",
        "    # Find all <td> elements inside <tr>\n",
        "    tds = tr.findall('.//td')\n",
        "    # Check if there are at least 2 <td> elements\n",
        "    if len(tds) >= 2:\n",
        "        # Extract text content from the first <td> element\n",
        "        text_content = tds[0].text\n",
        "        # Check if text_content is not None and not empty\n",
        "        if text_content is not None and text_content.strip():\n",
        "            # Extract full name from the first <td> element\n",
        "            full_name = text_content.strip()\n",
        "            # Check if the full name contains a comma\n",
        "            if ',' in full_name:\n",
        "                # Split full name into last name and first name\n",
        "                last_name, first_name = full_name.split(', ', 1)\n",
        "                # Extract party from the second <td> element\n",
        "                party = tds[1].text.strip()\n",
        "                last_names.append(last_name)\n",
        "                first_names.append(first_name)\n",
        "                parties.append(party)\n",
        "\n",
        "\n",
        "df122 = pd.DataFrame({                                                               # Ändern!\n",
        "    'Last Name': last_names,\n",
        "    'First Name': first_names,\n",
        "    'Party': parties\n",
        "})\n",
        "\n",
        "\n",
        "Datum = \"28.04. 2022\"                                                               #  ÄNDERN!\n",
        "\n",
        "df122[\"Datum\"] = Datum                                                               # ÄNDERN!\n",
        "\n",
        "df = df.append(df122, ignore_index=True)                                             # ÄNDERN!"
      ],
      "metadata": {
        "colab": {
          "base_uri": "https://localhost:8080/"
        },
        "outputId": "4c90e72f-5858-420c-ddd2-fd0a042c69c3",
        "id": "1Rp2Ovd0Ubsw"
      },
      "execution_count": null,
      "outputs": [
        {
          "output_type": "stream",
          "name": "stderr",
          "text": [
            "<ipython-input-1143-e0b343886ec2>:43: FutureWarning: The frame.append method is deprecated and will be removed from pandas in a future version. Use pandas.concat instead.\n",
            "  df = df.append(df122, ignore_index=True)                                             # ÄNDERN!\n"
          ]
        }
      ]
    },
    {
      "cell_type": "code",
      "source": [
        "url123 = \"https://www.bundestag.de/resource/blob/891754/02b1d83091d0dff3ac136893dd9b0396/20030.xml\" # ÄNDERN!\n",
        "response = requests.get(url123)                                                          # ÄNDERN!\n",
        "\n",
        "root = ET.fromstring(response.content)\n",
        "\n",
        "last_names = []\n",
        "first_names = []\n",
        "parties = []\n",
        "\n",
        "for tr in root.findall('.//tbody/tr'):\n",
        "    # Find all <td> elements inside <tr>\n",
        "    tds = tr.findall('.//td')\n",
        "    # Check if there are at least 2 <td> elements\n",
        "    if len(tds) >= 2:\n",
        "        # Extract text content from the first <td> element\n",
        "        text_content = tds[0].text\n",
        "        # Check if text_content is not None and not empty\n",
        "        if text_content is not None and text_content.strip():\n",
        "            # Extract full name from the first <td> element\n",
        "            full_name = text_content.strip()\n",
        "            # Check if the full name contains a comma\n",
        "            if ',' in full_name:\n",
        "                # Split full name into last name and first name\n",
        "                last_name, first_name = full_name.split(', ', 1)\n",
        "                # Extract party from the second <td> element\n",
        "                party = tds[1].text.strip()\n",
        "                last_names.append(last_name)\n",
        "                first_names.append(first_name)\n",
        "                parties.append(party)\n",
        "\n",
        "\n",
        "df123 = pd.DataFrame({                                                               # Ändern!\n",
        "    'Last Name': last_names,\n",
        "    'First Name': first_names,\n",
        "    'Party': parties\n",
        "})\n",
        "\n",
        "\n",
        "Datum = \"27.04. 2022\"                                                               #  ÄNDERN!\n",
        "\n",
        "df123[\"Datum\"] = Datum                                                               # ÄNDERN!\n",
        "\n",
        "df = df.append(df123, ignore_index=True)                                             # ÄNDERN!"
      ],
      "metadata": {
        "colab": {
          "base_uri": "https://localhost:8080/"
        },
        "outputId": "3531b492-98b5-48ce-f7d2-16bdcf3627cb",
        "id": "cdG60X6-Uw1H"
      },
      "execution_count": null,
      "outputs": [
        {
          "output_type": "stream",
          "name": "stderr",
          "text": [
            "<ipython-input-1144-f9e424556f93>:43: FutureWarning: The frame.append method is deprecated and will be removed from pandas in a future version. Use pandas.concat instead.\n",
            "  df = df.append(df123, ignore_index=True)                                             # ÄNDERN!\n"
          ]
        }
      ]
    },
    {
      "cell_type": "code",
      "source": [
        "url124 = \"https://www.bundestag.de/resource/blob/889754/df000e3d6807cc88d8e1f81c11905fb4/20029.xml\" # ÄNDERN!\n",
        "response = requests.get(url124)                                                          # ÄNDERN!\n",
        "\n",
        "root = ET.fromstring(response.content)\n",
        "\n",
        "last_names = []\n",
        "first_names = []\n",
        "parties = []\n",
        "\n",
        "for tr in root.findall('.//tbody/tr'):\n",
        "    # Find all <td> elements inside <tr>\n",
        "    tds = tr.findall('.//td')\n",
        "    # Check if there are at least 2 <td> elements\n",
        "    if len(tds) >= 2:\n",
        "        # Extract text content from the first <td> element\n",
        "        text_content = tds[0].text\n",
        "        # Check if text_content is not None and not empty\n",
        "        if text_content is not None and text_content.strip():\n",
        "            # Extract full name from the first <td> element\n",
        "            full_name = text_content.strip()\n",
        "            # Check if the full name contains a comma\n",
        "            if ',' in full_name:\n",
        "                # Split full name into last name and first name\n",
        "                last_name, first_name = full_name.split(', ', 1)\n",
        "                # Extract party from the second <td> element\n",
        "                party = tds[1].text.strip()\n",
        "                last_names.append(last_name)\n",
        "                first_names.append(first_name)\n",
        "                parties.append(party)\n",
        "\n",
        "\n",
        "df124 = pd.DataFrame({                                                               # Ändern!\n",
        "    'Last Name': last_names,\n",
        "    'First Name': first_names,\n",
        "    'Party': parties\n",
        "})\n",
        "\n",
        "\n",
        "Datum = \"08.04. 2022\"                                                               #  ÄNDERN!\n",
        "\n",
        "df124[\"Datum\"] = Datum                                                               # ÄNDERN!\n",
        "\n",
        "df = df.append(df124, ignore_index=True)                                             # ÄNDERN!"
      ],
      "metadata": {
        "colab": {
          "base_uri": "https://localhost:8080/"
        },
        "outputId": "9a416e33-a707-437b-c0ba-b808490d328f",
        "id": "MYWg86DhU57w"
      },
      "execution_count": null,
      "outputs": [
        {
          "output_type": "stream",
          "name": "stderr",
          "text": [
            "<ipython-input-1145-693db45e532b>:43: FutureWarning: The frame.append method is deprecated and will be removed from pandas in a future version. Use pandas.concat instead.\n",
            "  df = df.append(df124, ignore_index=True)                                             # ÄNDERN!\n"
          ]
        }
      ]
    },
    {
      "cell_type": "code",
      "source": [
        "url125 = \"https://www.bundestag.de/resource/blob/889400/831daf31987e4782b9c6d194a6776fa2/20028.xml\" # ÄNDERN!\n",
        "response = requests.get(url125)                                                          # ÄNDERN!\n",
        "\n",
        "root = ET.fromstring(response.content)\n",
        "\n",
        "last_names = []\n",
        "first_names = []\n",
        "parties = []\n",
        "\n",
        "for tr in root.findall('.//tbody/tr'):\n",
        "    # Find all <td> elements inside <tr>\n",
        "    tds = tr.findall('.//td')\n",
        "    # Check if there are at least 2 <td> elements\n",
        "    if len(tds) >= 2:\n",
        "        # Extract text content from the first <td> element\n",
        "        text_content = tds[0].text\n",
        "        # Check if text_content is not None and not empty\n",
        "        if text_content is not None and text_content.strip():\n",
        "            # Extract full name from the first <td> element\n",
        "            full_name = text_content.strip()\n",
        "            # Check if the full name contains a comma\n",
        "            if ',' in full_name:\n",
        "                # Split full name into last name and first name\n",
        "                last_name, first_name = full_name.split(', ', 1)\n",
        "                # Extract party from the second <td> element\n",
        "                party = tds[1].text.strip()\n",
        "                last_names.append(last_name)\n",
        "                first_names.append(first_name)\n",
        "                parties.append(party)\n",
        "\n",
        "\n",
        "df125 = pd.DataFrame({                                                               # Ändern!\n",
        "    'Last Name': last_names,\n",
        "    'First Name': first_names,\n",
        "    'Party': parties\n",
        "})\n",
        "\n",
        "\n",
        "Datum = \"07.04. 2022\"                                                               #  ÄNDERN!\n",
        "\n",
        "df125[\"Datum\"] = Datum                                                               # ÄNDERN!\n",
        "\n",
        "df = df.append(df125, ignore_index=True)                                             # ÄNDERN!"
      ],
      "metadata": {
        "colab": {
          "base_uri": "https://localhost:8080/"
        },
        "outputId": "a5c3a1a7-e870-44ce-8469-b4a191c371e0",
        "id": "M-yvGdeSVL7r"
      },
      "execution_count": null,
      "outputs": [
        {
          "output_type": "stream",
          "name": "stderr",
          "text": [
            "<ipython-input-1146-4b2fcc7b0a96>:43: FutureWarning: The frame.append method is deprecated and will be removed from pandas in a future version. Use pandas.concat instead.\n",
            "  df = df.append(df125, ignore_index=True)                                             # ÄNDERN!\n"
          ]
        }
      ]
    },
    {
      "cell_type": "code",
      "source": [
        "url126 = \"https://www.bundestag.de/resource/blob/889394/920b7f7c35be77767daf7204ef6dc928/20027.xml\" # ÄNDERN!\n",
        "response = requests.get(url126)                                                          # ÄNDERN!\n",
        "\n",
        "root = ET.fromstring(response.content)\n",
        "\n",
        "last_names = []\n",
        "first_names = []\n",
        "parties = []\n",
        "\n",
        "for tr in root.findall('.//tbody/tr'):\n",
        "    # Find all <td> elements inside <tr>\n",
        "    tds = tr.findall('.//td')\n",
        "    # Check if there are at least 2 <td> elements\n",
        "    if len(tds) >= 2:\n",
        "        # Extract text content from the first <td> element\n",
        "        text_content = tds[0].text\n",
        "        # Check if text_content is not None and not empty\n",
        "        if text_content is not None and text_content.strip():\n",
        "            # Extract full name from the first <td> element\n",
        "            full_name = text_content.strip()\n",
        "            # Check if the full name contains a comma\n",
        "            if ',' in full_name:\n",
        "                # Split full name into last name and first name\n",
        "                last_name, first_name = full_name.split(', ', 1)\n",
        "                # Extract party from the second <td> element\n",
        "                party = tds[1].text.strip()\n",
        "                last_names.append(last_name)\n",
        "                first_names.append(first_name)\n",
        "                parties.append(party)\n",
        "\n",
        "\n",
        "df126 = pd.DataFrame({                                                               # Ändern!\n",
        "    'Last Name': last_names,\n",
        "    'First Name': first_names,\n",
        "    'Party': parties\n",
        "})\n",
        "\n",
        "\n",
        "Datum = \"06.04. 2022\"                                                               #  ÄNDERN!\n",
        "\n",
        "df126[\"Datum\"] = Datum                                                               # ÄNDERN!\n",
        "\n",
        "df = df.append(df126, ignore_index=True)                                             # ÄNDERN!"
      ],
      "metadata": {
        "colab": {
          "base_uri": "https://localhost:8080/"
        },
        "outputId": "2148b19d-9156-45a7-b54b-da0f4820bb95",
        "id": "3hp-chmRVYYL"
      },
      "execution_count": null,
      "outputs": [
        {
          "output_type": "stream",
          "name": "stderr",
          "text": [
            "<ipython-input-1147-2b90df6868ea>:43: FutureWarning: The frame.append method is deprecated and will be removed from pandas in a future version. Use pandas.concat instead.\n",
            "  df = df.append(df126, ignore_index=True)                                             # ÄNDERN!\n"
          ]
        }
      ]
    },
    {
      "cell_type": "code",
      "source": [
        "url127 = \"https://www.bundestag.de/resource/blob/887038/062d6bc0522f81a988c24eb8f8ee4aee/20026.xml\" # ÄNDERN!\n",
        "response = requests.get(url127)                                                          # ÄNDERN!\n",
        "\n",
        "root = ET.fromstring(response.content)\n",
        "\n",
        "last_names = []\n",
        "first_names = []\n",
        "parties = []\n",
        "\n",
        "for tr in root.findall('.//tbody/tr'):\n",
        "    # Find all <td> elements inside <tr>\n",
        "    tds = tr.findall('.//td')\n",
        "    # Check if there are at least 2 <td> elements\n",
        "    if len(tds) >= 2:\n",
        "        # Extract text content from the first <td> element\n",
        "        text_content = tds[0].text\n",
        "        # Check if text_content is not None and not empty\n",
        "        if text_content is not None and text_content.strip():\n",
        "            # Extract full name from the first <td> element\n",
        "            full_name = text_content.strip()\n",
        "            # Check if the full name contains a comma\n",
        "            if ',' in full_name:\n",
        "                # Split full name into last name and first name\n",
        "                last_name, first_name = full_name.split(', ', 1)\n",
        "                # Extract party from the second <td> element\n",
        "                party = tds[1].text.strip()\n",
        "                last_names.append(last_name)\n",
        "                first_names.append(first_name)\n",
        "                parties.append(party)\n",
        "\n",
        "\n",
        "df127 = pd.DataFrame({                                                               # Ändern!\n",
        "    'Last Name': last_names,\n",
        "    'First Name': first_names,\n",
        "    'Party': parties\n",
        "})\n",
        "\n",
        "\n",
        "Datum = \"25.03. 2022\"                                                               #  ÄNDERN!\n",
        "\n",
        "df127[\"Datum\"] = Datum                                                               # ÄNDERN!\n",
        "\n",
        "df = df.append(df127, ignore_index=True)                                             # ÄNDERN!"
      ],
      "metadata": {
        "colab": {
          "base_uri": "https://localhost:8080/"
        },
        "outputId": "2b78f004-6945-4ace-c728-dcebb5f35378",
        "id": "U7h05OcqVh8c"
      },
      "execution_count": null,
      "outputs": [
        {
          "output_type": "stream",
          "name": "stderr",
          "text": [
            "<ipython-input-1148-89e8d938a3d6>:43: FutureWarning: The frame.append method is deprecated and will be removed from pandas in a future version. Use pandas.concat instead.\n",
            "  df = df.append(df127, ignore_index=True)                                             # ÄNDERN!\n"
          ]
        }
      ]
    },
    {
      "cell_type": "code",
      "source": [
        "url128 = \"https://www.bundestag.de/resource/blob/886606/a8b5974c3cd61a9f56f8a972e8e7ad6f/20025.xml\" # ÄNDERN!\n",
        "response = requests.get(url128)                                                          # ÄNDERN!\n",
        "\n",
        "root = ET.fromstring(response.content)\n",
        "\n",
        "last_names = []\n",
        "first_names = []\n",
        "parties = []\n",
        "\n",
        "for tr in root.findall('.//tbody/tr'):\n",
        "    # Find all <td> elements inside <tr>\n",
        "    tds = tr.findall('.//td')\n",
        "    # Check if there are at least 2 <td> elements\n",
        "    if len(tds) >= 2:\n",
        "        # Extract text content from the first <td> element\n",
        "        text_content = tds[0].text\n",
        "        # Check if text_content is not None and not empty\n",
        "        if text_content is not None and text_content.strip():\n",
        "            # Extract full name from the first <td> element\n",
        "            full_name = text_content.strip()\n",
        "            # Check if the full name contains a comma\n",
        "            if ',' in full_name:\n",
        "                # Split full name into last name and first name\n",
        "                last_name, first_name = full_name.split(', ', 1)\n",
        "                # Extract party from the second <td> element\n",
        "                party = tds[1].text.strip()\n",
        "                last_names.append(last_name)\n",
        "                first_names.append(first_name)\n",
        "                parties.append(party)\n",
        "\n",
        "\n",
        "df128 = pd.DataFrame({                                                               # Ändern!\n",
        "    'Last Name': last_names,\n",
        "    'First Name': first_names,\n",
        "    'Party': parties\n",
        "})\n",
        "\n",
        "\n",
        "Datum = \"24.03. 2022\"                                                               #  ÄNDERN!\n",
        "\n",
        "df128[\"Datum\"] = Datum                                                               # ÄNDERN!\n",
        "\n",
        "df = df.append(df128, ignore_index=True)                                             # ÄNDERN!"
      ],
      "metadata": {
        "colab": {
          "base_uri": "https://localhost:8080/"
        },
        "outputId": "bb5c6337-369f-49fb-df18-1495c2730368",
        "id": "wGYsj1JvVr5W"
      },
      "execution_count": null,
      "outputs": [
        {
          "output_type": "stream",
          "name": "stderr",
          "text": [
            "<ipython-input-1149-b2146c9e5769>:43: FutureWarning: The frame.append method is deprecated and will be removed from pandas in a future version. Use pandas.concat instead.\n",
            "  df = df.append(df128, ignore_index=True)                                             # ÄNDERN!\n"
          ]
        }
      ]
    },
    {
      "cell_type": "code",
      "source": [
        "url129 = \"https://www.bundestag.de/resource/blob/886416/db86cf1a7233a5b3fae2c1ed3e2f7445/20024.xml\" # ÄNDERN!\n",
        "response = requests.get(url129)                                                          # ÄNDERN!\n",
        "\n",
        "root = ET.fromstring(response.content)\n",
        "\n",
        "last_names = []\n",
        "first_names = []\n",
        "parties = []\n",
        "\n",
        "for tr in root.findall('.//tbody/tr'):\n",
        "    # Find all <td> elements inside <tr>\n",
        "    tds = tr.findall('.//td')\n",
        "    # Check if there are at least 2 <td> elements\n",
        "    if len(tds) >= 2:\n",
        "        # Extract text content from the first <td> element\n",
        "        text_content = tds[0].text\n",
        "        # Check if text_content is not None and not empty\n",
        "        if text_content is not None and text_content.strip():\n",
        "            # Extract full name from the first <td> element\n",
        "            full_name = text_content.strip()\n",
        "            # Check if the full name contains a comma\n",
        "            if ',' in full_name:\n",
        "                # Split full name into last name and first name\n",
        "                last_name, first_name = full_name.split(', ', 1)\n",
        "                # Extract party from the second <td> element\n",
        "                party = tds[1].text.strip()\n",
        "                last_names.append(last_name)\n",
        "                first_names.append(first_name)\n",
        "                parties.append(party)\n",
        "\n",
        "\n",
        "df129 = pd.DataFrame({                                                               # Ändern!\n",
        "    'Last Name': last_names,\n",
        "    'First Name': first_names,\n",
        "    'Party': parties\n",
        "})\n",
        "\n",
        "\n",
        "Datum = \"23.03. 2022\"                                                               #  ÄNDERN!\n",
        "\n",
        "df129[\"Datum\"] = Datum                                                               # ÄNDERN!\n",
        "\n",
        "df = df.append(df129, ignore_index=True)                                             # ÄNDERN!"
      ],
      "metadata": {
        "colab": {
          "base_uri": "https://localhost:8080/"
        },
        "outputId": "d652d365-04e7-48c8-aaae-5312ac65a1e7",
        "id": "DG4o_nGWV49J"
      },
      "execution_count": null,
      "outputs": [
        {
          "output_type": "stream",
          "name": "stderr",
          "text": [
            "<ipython-input-1150-b7ae25b2e84d>:43: FutureWarning: The frame.append method is deprecated and will be removed from pandas in a future version. Use pandas.concat instead.\n",
            "  df = df.append(df129, ignore_index=True)                                             # ÄNDERN!\n"
          ]
        }
      ]
    },
    {
      "cell_type": "code",
      "source": [
        "url130 = \"https://www.bundestag.de/resource/blob/885922/ea6510fa33ceba81a3f39fa67157244a/20023.xml\" # ÄNDERN!\n",
        "response = requests.get(url130)                                                          # ÄNDERN!\n",
        "\n",
        "root = ET.fromstring(response.content)\n",
        "\n",
        "last_names = []\n",
        "first_names = []\n",
        "parties = []\n",
        "\n",
        "for tr in root.findall('.//tbody/tr'):\n",
        "    # Find all <td> elements inside <tr>\n",
        "    tds = tr.findall('.//td')\n",
        "    # Check if there are at least 2 <td> elements\n",
        "    if len(tds) >= 2:\n",
        "        # Extract text content from the first <td> element\n",
        "        text_content = tds[0].text\n",
        "        # Check if text_content is not None and not empty\n",
        "        if text_content is not None and text_content.strip():\n",
        "            # Extract full name from the first <td> element\n",
        "            full_name = text_content.strip()\n",
        "            # Check if the full name contains a comma\n",
        "            if ',' in full_name:\n",
        "                # Split full name into last name and first name\n",
        "                last_name, first_name = full_name.split(', ', 1)\n",
        "                # Extract party from the second <td> element\n",
        "                party = tds[1].text.strip()\n",
        "                last_names.append(last_name)\n",
        "                first_names.append(first_name)\n",
        "                parties.append(party)\n",
        "\n",
        "\n",
        "df130 = pd.DataFrame({                                                               # Ändern!\n",
        "    'Last Name': last_names,\n",
        "    'First Name': first_names,\n",
        "    'Party': parties\n",
        "})\n",
        "\n",
        "\n",
        "Datum = \"22.03. 2022\"                                                               #  ÄNDERN!\n",
        "\n",
        "df130[\"Datum\"] = Datum                                                               # ÄNDERN!\n",
        "\n",
        "df = df.append(df130, ignore_index=True)                                             # ÄNDERN!"
      ],
      "metadata": {
        "colab": {
          "base_uri": "https://localhost:8080/"
        },
        "outputId": "7b02f99a-6d25-4918-e731-dbcede7e0fda",
        "id": "T_FLo4t2WEat"
      },
      "execution_count": null,
      "outputs": [
        {
          "output_type": "stream",
          "name": "stderr",
          "text": [
            "<ipython-input-1151-03d50019fe27>:43: FutureWarning: The frame.append method is deprecated and will be removed from pandas in a future version. Use pandas.concat instead.\n",
            "  df = df.append(df130, ignore_index=True)                                             # ÄNDERN!\n"
          ]
        }
      ]
    },
    {
      "cell_type": "code",
      "source": [
        "url131 = \"https://www.bundestag.de/resource/blob/885462/560c980be301d6511501f0cc7859bac6/20022.xml\" # ÄNDERN!\n",
        "response = requests.get(url131)                                                          # ÄNDERN!\n",
        "\n",
        "root = ET.fromstring(response.content)\n",
        "\n",
        "last_names = []\n",
        "first_names = []\n",
        "parties = []\n",
        "\n",
        "for tr in root.findall('.//tbody/tr'):\n",
        "    # Find all <td> elements inside <tr>\n",
        "    tds = tr.findall('.//td')\n",
        "    # Check if there are at least 2 <td> elements\n",
        "    if len(tds) >= 2:\n",
        "        # Extract text content from the first <td> element\n",
        "        text_content = tds[0].text\n",
        "        # Check if text_content is not None and not empty\n",
        "        if text_content is not None and text_content.strip():\n",
        "            # Extract full name from the first <td> element\n",
        "            full_name = text_content.strip()\n",
        "            # Check if the full name contains a comma\n",
        "            if ',' in full_name:\n",
        "                # Split full name into last name and first name\n",
        "                last_name, first_name = full_name.split(', ', 1)\n",
        "                # Extract party from the second <td> element\n",
        "                party = tds[1].text.strip()\n",
        "                last_names.append(last_name)\n",
        "                first_names.append(first_name)\n",
        "                parties.append(party)\n",
        "\n",
        "\n",
        "df131 = pd.DataFrame({                                                               # Ändern!\n",
        "    'Last Name': last_names,\n",
        "    'First Name': first_names,\n",
        "    'Party': parties\n",
        "})\n",
        "\n",
        "\n",
        "Datum = \"18.03. 2022\"                                                               #  ÄNDERN!\n",
        "\n",
        "df131[\"Datum\"] = Datum                                                               # ÄNDERN!\n",
        "\n",
        "df = df.append(df131, ignore_index=True)                                             # ÄNDERN!"
      ],
      "metadata": {
        "colab": {
          "base_uri": "https://localhost:8080/"
        },
        "outputId": "6ccce8ae-1ecf-487d-8642-c688428b1819",
        "id": "P_rqcSpaWe90"
      },
      "execution_count": null,
      "outputs": [
        {
          "output_type": "stream",
          "name": "stderr",
          "text": [
            "<ipython-input-1152-1b0a1dda4754>:43: FutureWarning: The frame.append method is deprecated and will be removed from pandas in a future version. Use pandas.concat instead.\n",
            "  df = df.append(df131, ignore_index=True)                                             # ÄNDERN!\n"
          ]
        }
      ]
    },
    {
      "cell_type": "code",
      "source": [
        "url132 = \"https://www.bundestag.de/resource/blob/884900/90d7ed39e77924cd38f6bc4e822db6f3/20021.xml\" # ÄNDERN!\n",
        "response = requests.get(url132)                                                          # ÄNDERN!\n",
        "\n",
        "root = ET.fromstring(response.content)\n",
        "\n",
        "last_names = []\n",
        "first_names = []\n",
        "parties = []\n",
        "\n",
        "for tr in root.findall('.//tbody/tr'):\n",
        "    # Find all <td> elements inside <tr>\n",
        "    tds = tr.findall('.//td')\n",
        "    # Check if there are at least 2 <td> elements\n",
        "    if len(tds) >= 2:\n",
        "        # Extract text content from the first <td> element\n",
        "        text_content = tds[0].text\n",
        "        # Check if text_content is not None and not empty\n",
        "        if text_content is not None and text_content.strip():\n",
        "            # Extract full name from the first <td> element\n",
        "            full_name = text_content.strip()\n",
        "            # Check if the full name contains a comma\n",
        "            if ',' in full_name:\n",
        "                # Split full name into last name and first name\n",
        "                last_name, first_name = full_name.split(', ', 1)\n",
        "                # Extract party from the second <td> element\n",
        "                party = tds[1].text.strip()\n",
        "                last_names.append(last_name)\n",
        "                first_names.append(first_name)\n",
        "                parties.append(party)\n",
        "\n",
        "\n",
        "df132 = pd.DataFrame({                                                               # Ändern!\n",
        "    'Last Name': last_names,\n",
        "    'First Name': first_names,\n",
        "    'Party': parties\n",
        "})\n",
        "\n",
        "\n",
        "Datum = \"17.03. 2022\"                                                               #  ÄNDERN!\n",
        "\n",
        "df132[\"Datum\"] = Datum                                                               # ÄNDERN!\n",
        "\n",
        "df = df.append(df132, ignore_index=True)                                             # ÄNDERN!"
      ],
      "metadata": {
        "colab": {
          "base_uri": "https://localhost:8080/"
        },
        "outputId": "941f6c60-7d99-4f54-9bf5-e3aba915d29f",
        "id": "ewK20ADqWtOS"
      },
      "execution_count": null,
      "outputs": [
        {
          "output_type": "stream",
          "name": "stderr",
          "text": [
            "<ipython-input-1153-f0c20867de51>:43: FutureWarning: The frame.append method is deprecated and will be removed from pandas in a future version. Use pandas.concat instead.\n",
            "  df = df.append(df132, ignore_index=True)                                             # ÄNDERN!\n"
          ]
        }
      ]
    },
    {
      "cell_type": "code",
      "source": [
        "url133 = \"https://www.bundestag.de/resource/blob/884842/d4f8f013accfe01ece070441da787aff/20020.xml\" # ÄNDERN!\n",
        "response = requests.get(url133)                                                          # ÄNDERN!\n",
        "\n",
        "root = ET.fromstring(response.content)\n",
        "\n",
        "last_names = []\n",
        "first_names = []\n",
        "parties = []\n",
        "\n",
        "for tr in root.findall('.//tbody/tr'):\n",
        "    # Find all <td> elements inside <tr>\n",
        "    tds = tr.findall('.//td')\n",
        "    # Check if there are at least 2 <td> elements\n",
        "    if len(tds) >= 2:\n",
        "        # Extract text content from the first <td> element\n",
        "        text_content = tds[0].text\n",
        "        # Check if text_content is not None and not empty\n",
        "        if text_content is not None and text_content.strip():\n",
        "            # Extract full name from the first <td> element\n",
        "            full_name = text_content.strip()\n",
        "            # Check if the full name contains a comma\n",
        "            if ',' in full_name:\n",
        "                # Split full name into last name and first name\n",
        "                last_name, first_name = full_name.split(', ', 1)\n",
        "                # Extract party from the second <td> element\n",
        "                party = tds[1].text.strip()\n",
        "                last_names.append(last_name)\n",
        "                first_names.append(first_name)\n",
        "                parties.append(party)\n",
        "\n",
        "\n",
        "df133 = pd.DataFrame({                                                               # Ändern!\n",
        "    'Last Name': last_names,\n",
        "    'First Name': first_names,\n",
        "    'Party': parties\n",
        "})\n",
        "\n",
        "\n",
        "Datum = \"16.03. 2022\"                                                               #  ÄNDERN!\n",
        "\n",
        "df133[\"Datum\"] = Datum                                                               # ÄNDERN!\n",
        "\n",
        "df = df.append(df133, ignore_index=True)                                             # ÄNDERN!"
      ],
      "metadata": {
        "colab": {
          "base_uri": "https://localhost:8080/"
        },
        "outputId": "3817f05d-f8dc-461f-be01-a171bd619491",
        "id": "jRInoXJ0W5wG"
      },
      "execution_count": null,
      "outputs": [
        {
          "output_type": "stream",
          "name": "stderr",
          "text": [
            "<ipython-input-1154-82d3dbe1dcce>:43: FutureWarning: The frame.append method is deprecated and will be removed from pandas in a future version. Use pandas.concat instead.\n",
            "  df = df.append(df133, ignore_index=True)                                             # ÄNDERN!\n"
          ]
        }
      ]
    },
    {
      "cell_type": "code",
      "source": [
        "url134 = \"https://www.bundestag.de/resource/blob/882434/63345d000dff4dac33355f3669e7eec2/20019.xml\" # ÄNDERN!\n",
        "response = requests.get(url134)                                                          # ÄNDERN!\n",
        "\n",
        "root = ET.fromstring(response.content)\n",
        "\n",
        "last_names = []\n",
        "first_names = []\n",
        "parties = []\n",
        "\n",
        "for tr in root.findall('.//tbody/tr'):\n",
        "    # Find all <td> elements inside <tr>\n",
        "    tds = tr.findall('.//td')\n",
        "    # Check if there are at least 2 <td> elements\n",
        "    if len(tds) >= 2:\n",
        "        # Extract text content from the first <td> element\n",
        "        text_content = tds[0].text\n",
        "        # Check if text_content is not None and not empty\n",
        "        if text_content is not None and text_content.strip():\n",
        "            # Extract full name from the first <td> element\n",
        "            full_name = text_content.strip()\n",
        "            # Check if the full name contains a comma\n",
        "            if ',' in full_name:\n",
        "                # Split full name into last name and first name\n",
        "                last_name, first_name = full_name.split(', ', 1)\n",
        "                # Extract party from the second <td> element\n",
        "                party = tds[1].text.strip()\n",
        "                last_names.append(last_name)\n",
        "                first_names.append(first_name)\n",
        "                parties.append(party)\n",
        "\n",
        "\n",
        "df134 = pd.DataFrame({                                                               # Ändern!\n",
        "    'Last Name': last_names,\n",
        "    'First Name': first_names,\n",
        "    'Party': parties\n",
        "})\n",
        "\n",
        "\n",
        "Datum = \"27.02. 2022\"                                                               #  ÄNDERN!\n",
        "\n",
        "df134[\"Datum\"] = Datum                                                               # ÄNDERN!\n",
        "\n",
        "df = df.append(df134, ignore_index=True)                                             # ÄNDERN!"
      ],
      "metadata": {
        "colab": {
          "base_uri": "https://localhost:8080/"
        },
        "outputId": "ef558536-9e0a-4db9-aff9-9e915031b11b",
        "id": "Zr9PJ9xaXPLH"
      },
      "execution_count": null,
      "outputs": [
        {
          "output_type": "stream",
          "name": "stderr",
          "text": [
            "<ipython-input-1155-b4825543a0ed>:43: FutureWarning: The frame.append method is deprecated and will be removed from pandas in a future version. Use pandas.concat instead.\n",
            "  df = df.append(df134, ignore_index=True)                                             # ÄNDERN!\n"
          ]
        }
      ]
    },
    {
      "cell_type": "code",
      "source": [
        "url135 = \"https://www.bundestag.de/resource/blob/881806/6b8e6220659315227eb3b1dbdbdf8e76/20018.xml\" # ÄNDERN!\n",
        "response = requests.get(url135)                                                          # ÄNDERN!\n",
        "\n",
        "root = ET.fromstring(response.content)\n",
        "\n",
        "last_names = []\n",
        "first_names = []\n",
        "parties = []\n",
        "\n",
        "for tr in root.findall('.//tbody/tr'):\n",
        "    # Find all <td> elements inside <tr>\n",
        "    tds = tr.findall('.//td')\n",
        "    # Check if there are at least 2 <td> elements\n",
        "    if len(tds) >= 2:\n",
        "        # Extract text content from the first <td> element\n",
        "        text_content = tds[0].text\n",
        "        # Check if text_content is not None and not empty\n",
        "        if text_content is not None and text_content.strip():\n",
        "            # Extract full name from the first <td> element\n",
        "            full_name = text_content.strip()\n",
        "            # Check if the full name contains a comma\n",
        "            if ',' in full_name:\n",
        "                # Split full name into last name and first name\n",
        "                last_name, first_name = full_name.split(', ', 1)\n",
        "                # Extract party from the second <td> element\n",
        "                party = tds[1].text.strip()\n",
        "                last_names.append(last_name)\n",
        "                first_names.append(first_name)\n",
        "                parties.append(party)\n",
        "\n",
        "\n",
        "df135 = pd.DataFrame({                                                               # Ändern!\n",
        "    'Last Name': last_names,\n",
        "    'First Name': first_names,\n",
        "    'Party': parties\n",
        "})\n",
        "\n",
        "\n",
        "Datum = \"18.02. 2022\"                                                               #  ÄNDERN!\n",
        "\n",
        "df135[\"Datum\"] = Datum                                                               # ÄNDERN!\n",
        "\n",
        "df = df.append(df135, ignore_index=True)                                             # ÄNDERN!"
      ],
      "metadata": {
        "colab": {
          "base_uri": "https://localhost:8080/"
        },
        "outputId": "aeac84a6-406e-4a76-f672-61a6d735f7fe",
        "id": "OAWqCR6JX8pL"
      },
      "execution_count": null,
      "outputs": [
        {
          "output_type": "stream",
          "name": "stderr",
          "text": [
            "<ipython-input-1156-38e2ff86e014>:43: FutureWarning: The frame.append method is deprecated and will be removed from pandas in a future version. Use pandas.concat instead.\n",
            "  df = df.append(df135, ignore_index=True)                                             # ÄNDERN!\n"
          ]
        }
      ]
    },
    {
      "cell_type": "code",
      "source": [
        "url136 = \"https://www.bundestag.de/resource/blob/881518/ff4f6567e6bb232b483190ae0dd9cd54/20017.xml\" # ÄNDERN!\n",
        "response = requests.get(url136)                                                          # ÄNDERN!\n",
        "\n",
        "root = ET.fromstring(response.content)\n",
        "\n",
        "last_names = []\n",
        "first_names = []\n",
        "parties = []\n",
        "\n",
        "for tr in root.findall('.//tbody/tr'):\n",
        "    # Find all <td> elements inside <tr>\n",
        "    tds = tr.findall('.//td')\n",
        "    # Check if there are at least 2 <td> elements\n",
        "    if len(tds) >= 2:\n",
        "        # Extract text content from the first <td> element\n",
        "        text_content = tds[0].text\n",
        "        # Check if text_content is not None and not empty\n",
        "        if text_content is not None and text_content.strip():\n",
        "            # Extract full name from the first <td> element\n",
        "            full_name = text_content.strip()\n",
        "            # Check if the full name contains a comma\n",
        "            if ',' in full_name:\n",
        "                # Split full name into last name and first name\n",
        "                last_name, first_name = full_name.split(', ', 1)\n",
        "                # Extract party from the second <td> element\n",
        "                party = tds[1].text.strip()\n",
        "                last_names.append(last_name)\n",
        "                first_names.append(first_name)\n",
        "                parties.append(party)\n",
        "\n",
        "\n",
        "df136 = pd.DataFrame({                                                               # Ändern!\n",
        "    'Last Name': last_names,\n",
        "    'First Name': first_names,\n",
        "    'Party': parties\n",
        "})\n",
        "\n",
        "\n",
        "Datum = \"17.02. 2022\"                                                               #  ÄNDERN!\n",
        "\n",
        "df136[\"Datum\"] = Datum                                                               # ÄNDERN!\n",
        "\n",
        "df = df.append(df136, ignore_index=True)                                             # ÄNDERN!"
      ],
      "metadata": {
        "colab": {
          "base_uri": "https://localhost:8080/"
        },
        "outputId": "6b209901-ea72-47e2-dafd-17e47725ca37",
        "id": "RuRL2uSSYH0G"
      },
      "execution_count": null,
      "outputs": [
        {
          "output_type": "stream",
          "name": "stderr",
          "text": [
            "<ipython-input-1157-2735793cf5c4>:43: FutureWarning: The frame.append method is deprecated and will be removed from pandas in a future version. Use pandas.concat instead.\n",
            "  df = df.append(df136, ignore_index=True)                                             # ÄNDERN!\n"
          ]
        }
      ]
    },
    {
      "cell_type": "code",
      "source": [
        "url137 = \"https://www.bundestag.de/resource/blob/881384/8eb7662a7f497add1a9c755476415b77/20016.xml\" # ÄNDERN!\n",
        "response = requests.get(url137)                                                          # ÄNDERN!\n",
        "\n",
        "root = ET.fromstring(response.content)\n",
        "\n",
        "last_names = []\n",
        "first_names = []\n",
        "parties = []\n",
        "\n",
        "for tr in root.findall('.//tbody/tr'):\n",
        "    # Find all <td> elements inside <tr>\n",
        "    tds = tr.findall('.//td')\n",
        "    # Check if there are at least 2 <td> elements\n",
        "    if len(tds) >= 2:\n",
        "        # Extract text content from the first <td> element\n",
        "        text_content = tds[0].text\n",
        "        # Check if text_content is not None and not empty\n",
        "        if text_content is not None and text_content.strip():\n",
        "            # Extract full name from the first <td> element\n",
        "            full_name = text_content.strip()\n",
        "            # Check if the full name contains a comma\n",
        "            if ',' in full_name:\n",
        "                # Split full name into last name and first name\n",
        "                last_name, first_name = full_name.split(', ', 1)\n",
        "                # Extract party from the second <td> element\n",
        "                party = tds[1].text.strip()\n",
        "                last_names.append(last_name)\n",
        "                first_names.append(first_name)\n",
        "                parties.append(party)\n",
        "\n",
        "\n",
        "df137 = pd.DataFrame({                                                               # Ändern!\n",
        "    'Last Name': last_names,\n",
        "    'First Name': first_names,\n",
        "    'Party': parties\n",
        "})\n",
        "\n",
        "\n",
        "Datum = \"16.02. 2022\"                                                               #  ÄNDERN!\n",
        "\n",
        "df137[\"Datum\"] = Datum                                                               # ÄNDERN!\n",
        "\n",
        "df = df.append(df137, ignore_index=True)                                             # ÄNDERN!"
      ],
      "metadata": {
        "colab": {
          "base_uri": "https://localhost:8080/"
        },
        "outputId": "0abe0938-23de-45ba-c0b7-0d1837bd07d8",
        "id": "IO4YsFMCYWw8"
      },
      "execution_count": null,
      "outputs": [
        {
          "output_type": "stream",
          "name": "stderr",
          "text": [
            "<ipython-input-1158-ceae033aa738>:43: FutureWarning: The frame.append method is deprecated and will be removed from pandas in a future version. Use pandas.concat instead.\n",
            "  df = df.append(df137, ignore_index=True)                                             # ÄNDERN!\n"
          ]
        }
      ]
    },
    {
      "cell_type": "code",
      "source": [
        "url138 = \"https://www.bundestag.de/resource/blob/879944/86559dfdad1e7304d92fae71974ad18d/20015.xml\" # ÄNDERN!\n",
        "response = requests.get(url138)                                                          # ÄNDERN!\n",
        "\n",
        "root = ET.fromstring(response.content)\n",
        "\n",
        "last_names = []\n",
        "first_names = []\n",
        "parties = []\n",
        "\n",
        "for tr in root.findall('.//tbody/tr'):\n",
        "    # Find all <td> elements inside <tr>\n",
        "    tds = tr.findall('.//td')\n",
        "    # Check if there are at least 2 <td> elements\n",
        "    if len(tds) >= 2:\n",
        "        # Extract text content from the first <td> element\n",
        "        text_content = tds[0].text\n",
        "        # Check if text_content is not None and not empty\n",
        "        if text_content is not None and text_content.strip():\n",
        "            # Extract full name from the first <td> element\n",
        "            full_name = text_content.strip()\n",
        "            # Check if the full name contains a comma\n",
        "            if ',' in full_name:\n",
        "                # Split full name into last name and first name\n",
        "                last_name, first_name = full_name.split(', ', 1)\n",
        "                # Extract party from the second <td> element\n",
        "                party = tds[1].text.strip()\n",
        "                last_names.append(last_name)\n",
        "                first_names.append(first_name)\n",
        "                parties.append(party)\n",
        "\n",
        "\n",
        "df138 = pd.DataFrame({                                                               # Ändern!\n",
        "    'Last Name': last_names,\n",
        "    'First Name': first_names,\n",
        "    'Party': parties\n",
        "})\n",
        "\n",
        "\n",
        "Datum = \"28.01. 2022\"                                                               #  ÄNDERN!\n",
        "\n",
        "df138[\"Datum\"] = Datum                                                               # ÄNDERN!\n",
        "\n",
        "df = df.append(df138, ignore_index=True)                                             # ÄNDERN!"
      ],
      "metadata": {
        "colab": {
          "base_uri": "https://localhost:8080/"
        },
        "outputId": "31699c6b-2e9b-4394-eec3-5f5a3fbf6f2c",
        "id": "9ctZRBDXYlgz"
      },
      "execution_count": null,
      "outputs": [
        {
          "output_type": "stream",
          "name": "stderr",
          "text": [
            "<ipython-input-1159-707071c06449>:43: FutureWarning: The frame.append method is deprecated and will be removed from pandas in a future version. Use pandas.concat instead.\n",
            "  df = df.append(df138, ignore_index=True)                                             # ÄNDERN!\n"
          ]
        }
      ]
    },
    {
      "cell_type": "code",
      "source": [
        "url139 = \"https://www.bundestag.de/resource/blob/879580/ef1c3a49e2f88d94df37dbe0d4c57fd8/20014.xml\" # ÄNDERN!\n",
        "response = requests.get(url139)                                                          # ÄNDERN!\n",
        "\n",
        "root = ET.fromstring(response.content)\n",
        "\n",
        "last_names = []\n",
        "first_names = []\n",
        "parties = []\n",
        "\n",
        "for tr in root.findall('.//tbody/tr'):\n",
        "    # Find all <td> elements inside <tr>\n",
        "    tds = tr.findall('.//td')\n",
        "    # Check if there are at least 2 <td> elements\n",
        "    if len(tds) >= 2:\n",
        "        # Extract text content from the first <td> element\n",
        "        text_content = tds[0].text\n",
        "        # Check if text_content is not None and not empty\n",
        "        if text_content is not None and text_content.strip():\n",
        "            # Extract full name from the first <td> element\n",
        "            full_name = text_content.strip()\n",
        "            # Check if the full name contains a comma\n",
        "            if ',' in full_name:\n",
        "                # Split full name into last name and first name\n",
        "                last_name, first_name = full_name.split(', ', 1)\n",
        "                # Extract party from the second <td> element\n",
        "                party = tds[1].text.strip()\n",
        "                last_names.append(last_name)\n",
        "                first_names.append(first_name)\n",
        "                parties.append(party)\n",
        "\n",
        "\n",
        "df139 = pd.DataFrame({                                                               # Ändern!\n",
        "    'Last Name': last_names,\n",
        "    'First Name': first_names,\n",
        "    'Party': parties\n",
        "})\n",
        "\n",
        "\n",
        "Datum = \"27.01. 2022\"                                                               #  ÄNDERN!\n",
        "\n",
        "df139[\"Datum\"] = Datum                                                               # ÄNDERN!\n",
        "\n",
        "df = df.append(df139, ignore_index=True)                                             # ÄNDERN!"
      ],
      "metadata": {
        "colab": {
          "base_uri": "https://localhost:8080/"
        },
        "outputId": "6f8e223f-655f-44fa-c386-c4c40bea1ab5",
        "id": "ZmWa2CMIYvpg"
      },
      "execution_count": null,
      "outputs": [
        {
          "output_type": "stream",
          "name": "stderr",
          "text": [
            "<ipython-input-1160-bbb26e67ea62>:43: FutureWarning: The frame.append method is deprecated and will be removed from pandas in a future version. Use pandas.concat instead.\n",
            "  df = df.append(df139, ignore_index=True)                                             # ÄNDERN!\n"
          ]
        }
      ]
    },
    {
      "cell_type": "code",
      "source": [
        "url140 = \"https://www.bundestag.de/resource/blob/879414/58c863c898e45b9c80dca92717605eab/20013.xml\" # ÄNDERN!\n",
        "response = requests.get(url140)                                                          # ÄNDERN!\n",
        "\n",
        "root = ET.fromstring(response.content)\n",
        "\n",
        "last_names = []\n",
        "first_names = []\n",
        "parties = []\n",
        "\n",
        "for tr in root.findall('.//tbody/tr'):\n",
        "    # Find all <td> elements inside <tr>\n",
        "    tds = tr.findall('.//td')\n",
        "    # Check if there are at least 2 <td> elements\n",
        "    if len(tds) >= 2:\n",
        "        # Extract text content from the first <td> element\n",
        "        text_content = tds[0].text\n",
        "        # Check if text_content is not None and not empty\n",
        "        if text_content is not None and text_content.strip():\n",
        "            # Extract full name from the first <td> element\n",
        "            full_name = text_content.strip()\n",
        "            # Check if the full name contains a comma\n",
        "            if ',' in full_name:\n",
        "                # Split full name into last name and first name\n",
        "                last_name, first_name = full_name.split(', ', 1)\n",
        "                # Extract party from the second <td> element\n",
        "                party = tds[1].text.strip()\n",
        "                last_names.append(last_name)\n",
        "                first_names.append(first_name)\n",
        "                parties.append(party)\n",
        "\n",
        "\n",
        "df140 = pd.DataFrame({                                                               # Ändern!\n",
        "    'Last Name': last_names,\n",
        "    'First Name': first_names,\n",
        "    'Party': parties\n",
        "})\n",
        "\n",
        "\n",
        "Datum = \"26.01. 2022\"                                                               #  ÄNDERN!\n",
        "\n",
        "df140[\"Datum\"] = Datum                                                               # ÄNDERN!\n",
        "\n",
        "df = df.append(df140, ignore_index=True)                                             # ÄNDERN!"
      ],
      "metadata": {
        "colab": {
          "base_uri": "https://localhost:8080/"
        },
        "outputId": "f2f0d907-26d0-4686-bd9c-2674c13360e4",
        "id": "lExqyUdBY6pg"
      },
      "execution_count": null,
      "outputs": [
        {
          "output_type": "stream",
          "name": "stderr",
          "text": [
            "<ipython-input-1161-55405968c18e>:43: FutureWarning: The frame.append method is deprecated and will be removed from pandas in a future version. Use pandas.concat instead.\n",
            "  df = df.append(df140, ignore_index=True)                                             # ÄNDERN!\n"
          ]
        }
      ]
    },
    {
      "cell_type": "code",
      "source": [
        "url141 = \"https://www.bundestag.de/resource/blob/877504/457594d2a376f9efb1bfca1f936ba9d5/20012.xml\" # ÄNDERN!\n",
        "response = requests.get(url141)                                                          # ÄNDERN!\n",
        "\n",
        "root = ET.fromstring(response.content)\n",
        "\n",
        "last_names = []\n",
        "first_names = []\n",
        "parties = []\n",
        "\n",
        "for tr in root.findall('.//tbody/tr'):\n",
        "    # Find all <td> elements inside <tr>\n",
        "    tds = tr.findall('.//td')\n",
        "    # Check if there are at least 2 <td> elements\n",
        "    if len(tds) >= 2:\n",
        "        # Extract text content from the first <td> element\n",
        "        text_content = tds[0].text\n",
        "        # Check if text_content is not None and not empty\n",
        "        if text_content is not None and text_content.strip():\n",
        "            # Extract full name from the first <td> element\n",
        "            full_name = text_content.strip()\n",
        "            # Check if the full name contains a comma\n",
        "            if ',' in full_name:\n",
        "                # Split full name into last name and first name\n",
        "                last_name, first_name = full_name.split(', ', 1)\n",
        "                # Extract party from the second <td> element\n",
        "                party = tds[1].text.strip()\n",
        "                last_names.append(last_name)\n",
        "                first_names.append(first_name)\n",
        "                parties.append(party)\n",
        "\n",
        "\n",
        "df141 = pd.DataFrame({                                                               # Ändern!\n",
        "    'Last Name': last_names,\n",
        "    'First Name': first_names,\n",
        "    'Party': parties\n",
        "})\n",
        "\n",
        "\n",
        "Datum = \"14.01. 2022\"                                                               #  ÄNDERN!\n",
        "\n",
        "df141[\"Datum\"] = Datum                                                               # ÄNDERN!\n",
        "\n",
        "df = df.append(df141, ignore_index=True)                                             # ÄNDERN!"
      ],
      "metadata": {
        "colab": {
          "base_uri": "https://localhost:8080/"
        },
        "outputId": "9b463257-280f-4031-dfdb-8b357b8daf58",
        "id": "DSWyX0-NZJPg"
      },
      "execution_count": null,
      "outputs": [
        {
          "output_type": "stream",
          "name": "stderr",
          "text": [
            "<ipython-input-1162-4a2ccbbfdfff>:43: FutureWarning: The frame.append method is deprecated and will be removed from pandas in a future version. Use pandas.concat instead.\n",
            "  df = df.append(df141, ignore_index=True)                                             # ÄNDERN!\n"
          ]
        }
      ]
    },
    {
      "cell_type": "code",
      "source": [
        "url142 = \"https://www.bundestag.de/resource/blob/877126/ea893720fb7a0c1e3fbad81bf93f8e75/20011.xml\" # ÄNDERN!\n",
        "response = requests.get(url142)                                                          # ÄNDERN!\n",
        "\n",
        "root = ET.fromstring(response.content)\n",
        "\n",
        "last_names = []\n",
        "first_names = []\n",
        "parties = []\n",
        "\n",
        "for tr in root.findall('.//tbody/tr'):\n",
        "    # Find all <td> elements inside <tr>\n",
        "    tds = tr.findall('.//td')\n",
        "    # Check if there are at least 2 <td> elements\n",
        "    if len(tds) >= 2:\n",
        "        # Extract text content from the first <td> element\n",
        "        text_content = tds[0].text\n",
        "        # Check if text_content is not None and not empty\n",
        "        if text_content is not None and text_content.strip():\n",
        "            # Extract full name from the first <td> element\n",
        "            full_name = text_content.strip()\n",
        "            # Check if the full name contains a comma\n",
        "            if ',' in full_name:\n",
        "                # Split full name into last name and first name\n",
        "                last_name, first_name = full_name.split(', ', 1)\n",
        "                # Extract party from the second <td> element\n",
        "                party = tds[1].text.strip()\n",
        "                last_names.append(last_name)\n",
        "                first_names.append(first_name)\n",
        "                parties.append(party)\n",
        "\n",
        "\n",
        "df142 = pd.DataFrame({                                                               # Ändern!\n",
        "    'Last Name': last_names,\n",
        "    'First Name': first_names,\n",
        "    'Party': parties\n",
        "})\n",
        "\n",
        "\n",
        "Datum = \"13.01. 2022\"                                                               #  ÄNDERN!\n",
        "\n",
        "df142[\"Datum\"] = Datum                                                               # ÄNDERN!\n",
        "\n",
        "df = df.append(df142, ignore_index=True)                                             # ÄNDERN!"
      ],
      "metadata": {
        "colab": {
          "base_uri": "https://localhost:8080/"
        },
        "outputId": "0f5c9b04-c4a2-4329-b0f6-99e9f77e8e94",
        "id": "oTgEAROsZWvI"
      },
      "execution_count": null,
      "outputs": [
        {
          "output_type": "stream",
          "name": "stderr",
          "text": [
            "<ipython-input-1163-5efc6e215f76>:43: FutureWarning: The frame.append method is deprecated and will be removed from pandas in a future version. Use pandas.concat instead.\n",
            "  df = df.append(df142, ignore_index=True)                                             # ÄNDERN!\n"
          ]
        }
      ]
    },
    {
      "cell_type": "code",
      "source": [
        "url143 = \"https://www.bundestag.de/resource/blob/876678/a898de55e0897657e790e27c2e7ea5ac/20010.xml\" # ÄNDERN!\n",
        "response = requests.get(url143)                                                          # ÄNDERN!\n",
        "\n",
        "root = ET.fromstring(response.content)\n",
        "\n",
        "last_names = []\n",
        "first_names = []\n",
        "parties = []\n",
        "\n",
        "for tr in root.findall('.//tbody/tr'):\n",
        "    # Find all <td> elements inside <tr>\n",
        "    tds = tr.findall('.//td')\n",
        "    # Check if there are at least 2 <td> elements\n",
        "    if len(tds) >= 2:\n",
        "        # Extract text content from the first <td> element\n",
        "        text_content = tds[0].text\n",
        "        # Check if text_content is not None and not empty\n",
        "        if text_content is not None and text_content.strip():\n",
        "            # Extract full name from the first <td> element\n",
        "            full_name = text_content.strip()\n",
        "            # Check if the full name contains a comma\n",
        "            if ',' in full_name:\n",
        "                # Split full name into last name and first name\n",
        "                last_name, first_name = full_name.split(', ', 1)\n",
        "                # Extract party from the second <td> element\n",
        "                party = tds[1].text.strip()\n",
        "                last_names.append(last_name)\n",
        "                first_names.append(first_name)\n",
        "                parties.append(party)\n",
        "\n",
        "\n",
        "df143 = pd.DataFrame({                                                               # Ändern!\n",
        "    'Last Name': last_names,\n",
        "    'First Name': first_names,\n",
        "    'Party': parties\n",
        "})\n",
        "\n",
        "\n",
        "Datum = \"12.01. 2022\"                                                               #  ÄNDERN!\n",
        "\n",
        "df143[\"Datum\"] = Datum                                                               # ÄNDERN!\n",
        "\n",
        "df = df.append(df143, ignore_index=True)                                             # ÄNDERN!"
      ],
      "metadata": {
        "colab": {
          "base_uri": "https://localhost:8080/"
        },
        "outputId": "aaa94ff3-0d4f-4f1a-9368-54ff4fe0600b",
        "id": "NlSxTRGMZfDL"
      },
      "execution_count": null,
      "outputs": [
        {
          "output_type": "stream",
          "name": "stderr",
          "text": [
            "<ipython-input-1164-75bbdb8012da>:43: FutureWarning: The frame.append method is deprecated and will be removed from pandas in a future version. Use pandas.concat instead.\n",
            "  df = df.append(df143, ignore_index=True)                                             # ÄNDERN!\n"
          ]
        }
      ]
    },
    {
      "cell_type": "code",
      "source": [
        "url144 = \"https://www.bundestag.de/resource/blob/873322/93d46f5579a7b6fee22280ab6b7178ef/20009.xml\" # ÄNDERN!\n",
        "response = requests.get(url144)                                                          # ÄNDERN!\n",
        "\n",
        "root = ET.fromstring(response.content)\n",
        "\n",
        "last_names = []\n",
        "first_names = []\n",
        "parties = []\n",
        "\n",
        "for tr in root.findall('.//tbody/tr'):\n",
        "    # Find all <td> elements inside <tr>\n",
        "    tds = tr.findall('.//td')\n",
        "    # Check if there are at least 2 <td> elements\n",
        "    if len(tds) >= 2:\n",
        "        # Extract text content from the first <td> element\n",
        "        text_content = tds[0].text\n",
        "        # Check if text_content is not None and not empty\n",
        "        if text_content is not None and text_content.strip():\n",
        "            # Extract full name from the first <td> element\n",
        "            full_name = text_content.strip()\n",
        "            # Check if the full name contains a comma\n",
        "            if ',' in full_name:\n",
        "                # Split full name into last name and first name\n",
        "                last_name, first_name = full_name.split(', ', 1)\n",
        "                # Extract party from the second <td> element\n",
        "                party = tds[1].text.strip()\n",
        "                last_names.append(last_name)\n",
        "                first_names.append(first_name)\n",
        "                parties.append(party)\n",
        "\n",
        "\n",
        "df144 = pd.DataFrame({                                                               # Ändern!\n",
        "    'Last Name': last_names,\n",
        "    'First Name': first_names,\n",
        "    'Party': parties\n",
        "})\n",
        "\n",
        "\n",
        "Datum = \"16.12. 2021\"                                                               #  ÄNDERN!\n",
        "\n",
        "df144[\"Datum\"] = Datum                                                               # ÄNDERN!\n",
        "\n",
        "df = df.append(df144, ignore_index=True)                                             # ÄNDERN!"
      ],
      "metadata": {
        "colab": {
          "base_uri": "https://localhost:8080/"
        },
        "outputId": "1a480d23-27a6-40b1-9feb-8b395140ed32",
        "id": "o7EyVsBjZq5C"
      },
      "execution_count": null,
      "outputs": [
        {
          "output_type": "stream",
          "name": "stderr",
          "text": [
            "<ipython-input-1165-3c151db9e55c>:43: FutureWarning: The frame.append method is deprecated and will be removed from pandas in a future version. Use pandas.concat instead.\n",
            "  df = df.append(df144, ignore_index=True)                                             # ÄNDERN!\n"
          ]
        }
      ]
    },
    {
      "cell_type": "code",
      "source": [
        "url145 = \"https://www.bundestag.de/resource/blob/873178/229a4e937151617f3ac73c337594559c/20008.xml\" # ÄNDERN!\n",
        "response = requests.get(url145)                                                          # ÄNDERN!\n",
        "\n",
        "root = ET.fromstring(response.content)\n",
        "\n",
        "last_names = []\n",
        "first_names = []\n",
        "parties = []\n",
        "\n",
        "for tr in root.findall('.//tbody/tr'):\n",
        "    # Find all <td> elements inside <tr>\n",
        "    tds = tr.findall('.//td')\n",
        "    # Check if there are at least 2 <td> elements\n",
        "    if len(tds) >= 2:\n",
        "        # Extract text content from the first <td> element\n",
        "        text_content = tds[0].text\n",
        "        # Check if text_content is not None and not empty\n",
        "        if text_content is not None and text_content.strip():\n",
        "            # Extract full name from the first <td> element\n",
        "            full_name = text_content.strip()\n",
        "            # Check if the full name contains a comma\n",
        "            if ',' in full_name:\n",
        "                # Split full name into last name and first name\n",
        "                last_name, first_name = full_name.split(', ', 1)\n",
        "                # Extract party from the second <td> element\n",
        "                party = tds[1].text.strip()\n",
        "                last_names.append(last_name)\n",
        "                first_names.append(first_name)\n",
        "                parties.append(party)\n",
        "\n",
        "\n",
        "df145 = pd.DataFrame({                                                               # Ändern!\n",
        "    'Last Name': last_names,\n",
        "    'First Name': first_names,\n",
        "    'Party': parties\n",
        "})\n",
        "\n",
        "\n",
        "Datum = \"15.12. 2021\"                                                               #  ÄNDERN!\n",
        "\n",
        "df145[\"Datum\"] = Datum                                                               # ÄNDERN!\n",
        "\n",
        "df = df.append(df145, ignore_index=True)                                             # ÄNDERN!"
      ],
      "metadata": {
        "colab": {
          "base_uri": "https://localhost:8080/"
        },
        "outputId": "72b61dac-7d37-4fcb-8057-f6204357395d",
        "id": "I7Hlfg4cZ1pW"
      },
      "execution_count": null,
      "outputs": [
        {
          "output_type": "stream",
          "name": "stderr",
          "text": [
            "<ipython-input-1166-6c94a68b59ba>:43: FutureWarning: The frame.append method is deprecated and will be removed from pandas in a future version. Use pandas.concat instead.\n",
            "  df = df.append(df145, ignore_index=True)                                             # ÄNDERN!\n"
          ]
        }
      ]
    },
    {
      "cell_type": "code",
      "source": [
        "url146 = \"https://www.bundestag.de/resource/blob/871514/f12c216035c6568335332420f249b48b/20007.xml\" # ÄNDERN!\n",
        "response = requests.get(url146)                                                          # ÄNDERN!\n",
        "\n",
        "root = ET.fromstring(response.content)\n",
        "\n",
        "last_names = []\n",
        "first_names = []\n",
        "parties = []\n",
        "\n",
        "for tr in root.findall('.//tbody/tr'):\n",
        "    # Find all <td> elements inside <tr>\n",
        "    tds = tr.findall('.//td')\n",
        "    # Check if there are at least 2 <td> elements\n",
        "    if len(tds) >= 2:\n",
        "        # Extract text content from the first <td> element\n",
        "        text_content = tds[0].text\n",
        "        # Check if text_content is not None and not empty\n",
        "        if text_content is not None and text_content.strip():\n",
        "            # Extract full name from the first <td> element\n",
        "            full_name = text_content.strip()\n",
        "            # Check if the full name contains a comma\n",
        "            if ',' in full_name:\n",
        "                # Split full name into last name and first name\n",
        "                last_name, first_name = full_name.split(', ', 1)\n",
        "                # Extract party from the second <td> element\n",
        "                party = tds[1].text.strip()\n",
        "                last_names.append(last_name)\n",
        "                first_names.append(first_name)\n",
        "                parties.append(party)\n",
        "\n",
        "\n",
        "df146 = pd.DataFrame({                                                               # Ändern!\n",
        "    'Last Name': last_names,\n",
        "    'First Name': first_names,\n",
        "    'Party': parties\n",
        "})\n",
        "\n",
        "\n",
        "Datum = \"10.12. 2021\"                                                               #  ÄNDERN!\n",
        "\n",
        "df146[\"Datum\"] = Datum                                                               # ÄNDERN!\n",
        "\n",
        "df = df.append(df146, ignore_index=True)                                             # ÄNDERN!"
      ],
      "metadata": {
        "colab": {
          "base_uri": "https://localhost:8080/"
        },
        "outputId": "50033d3f-d027-4d83-f99a-e4705b3cd938",
        "id": "VM4QjfNKaA_G"
      },
      "execution_count": null,
      "outputs": [
        {
          "output_type": "stream",
          "name": "stderr",
          "text": [
            "<ipython-input-1167-1b4d56023405>:43: FutureWarning: The frame.append method is deprecated and will be removed from pandas in a future version. Use pandas.concat instead.\n",
            "  df = df.append(df146, ignore_index=True)                                             # ÄNDERN!\n"
          ]
        }
      ]
    },
    {
      "cell_type": "code",
      "source": [
        "url147 = \"https://www.bundestag.de/resource/blob/871140/3bfa30dd149d7a82281b3ffd73e1f021/20006.xml\" # ÄNDERN!\n",
        "response = requests.get(url147)                                                          # ÄNDERN!\n",
        "\n",
        "root = ET.fromstring(response.content)\n",
        "\n",
        "last_names = []\n",
        "first_names = []\n",
        "parties = []\n",
        "\n",
        "for tr in root.findall('.//tbody/tr'):\n",
        "    # Find all <td> elements inside <tr>\n",
        "    tds = tr.findall('.//td')\n",
        "    # Check if there are at least 2 <td> elements\n",
        "    if len(tds) >= 2:\n",
        "        # Extract text content from the first <td> element\n",
        "        text_content = tds[0].text\n",
        "        # Check if text_content is not None and not empty\n",
        "        if text_content is not None and text_content.strip():\n",
        "            # Extract full name from the first <td> element\n",
        "            full_name = text_content.strip()\n",
        "            # Check if the full name contains a comma\n",
        "            if ',' in full_name:\n",
        "                # Split full name into last name and first name\n",
        "                last_name, first_name = full_name.split(', ', 1)\n",
        "                # Extract party from the second <td> element\n",
        "                party = tds[1].text.strip()\n",
        "                last_names.append(last_name)\n",
        "                first_names.append(first_name)\n",
        "                parties.append(party)\n",
        "\n",
        "\n",
        "df147 = pd.DataFrame({                                                               # Ändern!\n",
        "    'Last Name': last_names,\n",
        "    'First Name': first_names,\n",
        "    'Party': parties\n",
        "})\n",
        "\n",
        "\n",
        "Datum = \"09.12. 2021\"                                                               #  ÄNDERN!\n",
        "\n",
        "df147[\"Datum\"] = Datum                                                               # ÄNDERN!\n",
        "\n",
        "df = df.append(df147, ignore_index=True)                                             # ÄNDERN!"
      ],
      "metadata": {
        "colab": {
          "base_uri": "https://localhost:8080/"
        },
        "outputId": "f23201df-1804-484c-96d7-068835862d68",
        "id": "llsRzNGPajLM"
      },
      "execution_count": null,
      "outputs": [
        {
          "output_type": "stream",
          "name": "stderr",
          "text": [
            "<ipython-input-1168-7b69337638f4>:43: FutureWarning: The frame.append method is deprecated and will be removed from pandas in a future version. Use pandas.concat instead.\n",
            "  df = df.append(df147, ignore_index=True)                                             # ÄNDERN!\n"
          ]
        }
      ]
    },
    {
      "cell_type": "code",
      "source": [
        "url148 = \"https://www.bundestag.de/resource/blob/871012/12b36dddb4a43f7800e2d3a4dbe96750/20005.xml\" # ÄNDERN!\n",
        "response = requests.get(url148)                                                          # ÄNDERN!\n",
        "\n",
        "root = ET.fromstring(response.content)\n",
        "\n",
        "last_names = []\n",
        "first_names = []\n",
        "parties = []\n",
        "\n",
        "for tr in root.findall('.//tbody/tr'):\n",
        "    # Find all <td> elements inside <tr>\n",
        "    tds = tr.findall('.//td')\n",
        "    # Check if there are at least 2 <td> elements\n",
        "    if len(tds) >= 2:\n",
        "        # Extract text content from the first <td> element\n",
        "        text_content = tds[0].text\n",
        "        # Check if text_content is not None and not empty\n",
        "        if text_content is not None and text_content.strip():\n",
        "            # Extract full name from the first <td> element\n",
        "            full_name = text_content.strip()\n",
        "            # Check if the full name contains a comma\n",
        "            if ',' in full_name:\n",
        "                # Split full name into last name and first name\n",
        "                last_name, first_name = full_name.split(', ', 1)\n",
        "                # Extract party from the second <td> element\n",
        "                party = tds[1].text.strip()\n",
        "                last_names.append(last_name)\n",
        "                first_names.append(first_name)\n",
        "                parties.append(party)\n",
        "\n",
        "\n",
        "df148 = pd.DataFrame({                                                               # Ändern!\n",
        "    'Last Name': last_names,\n",
        "    'First Name': first_names,\n",
        "    'Party': parties\n",
        "})\n",
        "\n",
        "\n",
        "Datum = \"08.12. 2021\"                                                               #  ÄNDERN!\n",
        "\n",
        "df148[\"Datum\"] = Datum                                                               # ÄNDERN!\n",
        "\n",
        "df = df.append(df148, ignore_index=True)                                             # ÄNDERN!"
      ],
      "metadata": {
        "colab": {
          "base_uri": "https://localhost:8080/"
        },
        "outputId": "25da65fe-950d-4387-9729-2ba874f17660",
        "id": "p-DGqcaYau-y"
      },
      "execution_count": null,
      "outputs": [
        {
          "output_type": "stream",
          "name": "stderr",
          "text": [
            "<ipython-input-1169-fe117c448b97>:43: FutureWarning: The frame.append method is deprecated and will be removed from pandas in a future version. Use pandas.concat instead.\n",
            "  df = df.append(df148, ignore_index=True)                                             # ÄNDERN!\n"
          ]
        }
      ]
    },
    {
      "cell_type": "code",
      "source": [
        "url149 = \"https://www.bundestag.de/resource/blob/870596/e6b6a166ee651652e37c752a787ff113/20004.xml\" # ÄNDERN!\n",
        "response = requests.get(url149)                                                          # ÄNDERN!\n",
        "\n",
        "root = ET.fromstring(response.content)\n",
        "\n",
        "last_names = []\n",
        "first_names = []\n",
        "parties = []\n",
        "\n",
        "for tr in root.findall('.//tbody/tr'):\n",
        "    # Find all <td> elements inside <tr>\n",
        "    tds = tr.findall('.//td')\n",
        "    # Check if there are at least 2 <td> elements\n",
        "    if len(tds) >= 2:\n",
        "        # Extract text content from the first <td> element\n",
        "        text_content = tds[0].text\n",
        "        # Check if text_content is not None and not empty\n",
        "        if text_content is not None and text_content.strip():\n",
        "            # Extract full name from the first <td> element\n",
        "            full_name = text_content.strip()\n",
        "            # Check if the full name contains a comma\n",
        "            if ',' in full_name:\n",
        "                # Split full name into last name and first name\n",
        "                last_name, first_name = full_name.split(', ', 1)\n",
        "                # Extract party from the second <td> element\n",
        "                party = tds[1].text.strip()\n",
        "                last_names.append(last_name)\n",
        "                first_names.append(first_name)\n",
        "                parties.append(party)\n",
        "\n",
        "\n",
        "df149 = pd.DataFrame({                                                               # Ändern!\n",
        "    'Last Name': last_names,\n",
        "    'First Name': first_names,\n",
        "    'Party': parties\n",
        "})\n",
        "\n",
        "\n",
        "Datum = \"07.12. 2021\"                                                               #  ÄNDERN!\n",
        "\n",
        "df149[\"Datum\"] = Datum                                                               # ÄNDERN!\n",
        "\n",
        "df = df.append(df149, ignore_index=True)                                             # ÄNDERN!"
      ],
      "metadata": {
        "colab": {
          "base_uri": "https://localhost:8080/"
        },
        "outputId": "7e790c74-c8fd-4baf-a225-6c140f0364e9",
        "id": "BDs48MNLa3qo"
      },
      "execution_count": null,
      "outputs": [
        {
          "output_type": "stream",
          "name": "stderr",
          "text": [
            "<ipython-input-1170-684c9073ecaa>:43: FutureWarning: The frame.append method is deprecated and will be removed from pandas in a future version. Use pandas.concat instead.\n",
            "  df = df.append(df149, ignore_index=True)                                             # ÄNDERN!\n"
          ]
        }
      ]
    },
    {
      "cell_type": "code",
      "source": [
        "url150 = \"https://www.bundestag.de/resource/blob/869486/bbae732310ed76b57435f1c982035382/20003.xml\" # ÄNDERN!\n",
        "response = requests.get(url150)                                                          # ÄNDERN!\n",
        "\n",
        "root = ET.fromstring(response.content)\n",
        "\n",
        "last_names = []\n",
        "first_names = []\n",
        "parties = []\n",
        "\n",
        "for tr in root.findall('.//tbody/tr'):\n",
        "    # Find all <td> elements inside <tr>\n",
        "    tds = tr.findall('.//td')\n",
        "    # Check if there are at least 2 <td> elements\n",
        "    if len(tds) >= 2:\n",
        "        # Extract text content from the first <td> element\n",
        "        text_content = tds[0].text\n",
        "        # Check if text_content is not None and not empty\n",
        "        if text_content is not None and text_content.strip():\n",
        "            # Extract full name from the first <td> element\n",
        "            full_name = text_content.strip()\n",
        "            # Check if the full name contains a comma\n",
        "            if ',' in full_name:\n",
        "                # Split full name into last name and first name\n",
        "                last_name, first_name = full_name.split(', ', 1)\n",
        "                # Extract party from the second <td> element\n",
        "                party = tds[1].text.strip()\n",
        "                last_names.append(last_name)\n",
        "                first_names.append(first_name)\n",
        "                parties.append(party)\n",
        "\n",
        "\n",
        "df150 = pd.DataFrame({                                                               # Ändern!\n",
        "    'Last Name': last_names,\n",
        "    'First Name': first_names,\n",
        "    'Party': parties\n",
        "})\n",
        "\n",
        "\n",
        "Datum = \"18.11. 2021\"                                                               #  ÄNDERN!\n",
        "\n",
        "df150[\"Datum\"] = Datum                                                               # ÄNDERN!\n",
        "\n",
        "df = df.append(df150, ignore_index=True)                                             # ÄNDERN!"
      ],
      "metadata": {
        "colab": {
          "base_uri": "https://localhost:8080/"
        },
        "outputId": "5f22c14e-769f-4d3c-b8c7-19edc2520683",
        "id": "9ogY5CatbDrL"
      },
      "execution_count": null,
      "outputs": [
        {
          "output_type": "stream",
          "name": "stderr",
          "text": [
            "<ipython-input-1171-36c41cfe6084>:43: FutureWarning: The frame.append method is deprecated and will be removed from pandas in a future version. Use pandas.concat instead.\n",
            "  df = df.append(df150, ignore_index=True)                                             # ÄNDERN!\n"
          ]
        }
      ]
    },
    {
      "cell_type": "code",
      "source": [
        "url151 = \"https://www.bundestag.de/resource/blob/868600/951210bae357f59adac7978b93390212/20002.xml\" # ÄNDERN!\n",
        "response = requests.get(url151)                                                          # ÄNDERN!\n",
        "\n",
        "root = ET.fromstring(response.content)\n",
        "\n",
        "last_names = []\n",
        "first_names = []\n",
        "parties = []\n",
        "\n",
        "for tr in root.findall('.//tbody/tr'):\n",
        "    # Find all <td> elements inside <tr>\n",
        "    tds = tr.findall('.//td')\n",
        "    # Check if there are at least 2 <td> elements\n",
        "    if len(tds) >= 2:\n",
        "        # Extract text content from the first <td> element\n",
        "        text_content = tds[0].text\n",
        "        # Check if text_content is not None and not empty\n",
        "        if text_content is not None and text_content.strip():\n",
        "            # Extract full name from the first <td> element\n",
        "            full_name = text_content.strip()\n",
        "            # Check if the full name contains a comma\n",
        "            if ',' in full_name:\n",
        "                # Split full name into last name and first name\n",
        "                last_name, first_name = full_name.split(', ', 1)\n",
        "                # Extract party from the second <td> element\n",
        "                party = tds[1].text.strip()\n",
        "                last_names.append(last_name)\n",
        "                first_names.append(first_name)\n",
        "                parties.append(party)\n",
        "\n",
        "\n",
        "df151 = pd.DataFrame({                                                               # Ändern!\n",
        "    'Last Name': last_names,\n",
        "    'First Name': first_names,\n",
        "    'Party': parties\n",
        "})\n",
        "\n",
        "\n",
        "Datum = \"11.11. 2021\"                                                               #  ÄNDERN!\n",
        "\n",
        "df151[\"Datum\"] = Datum                                                               # ÄNDERN!\n",
        "\n",
        "df = df.append(df151, ignore_index=True)                                             # ÄNDERN!"
      ],
      "metadata": {
        "colab": {
          "base_uri": "https://localhost:8080/"
        },
        "outputId": "7e38596f-2f78-427e-aef4-371b8348bbe0",
        "id": "J91XFHk1bVMh"
      },
      "execution_count": null,
      "outputs": [
        {
          "output_type": "stream",
          "name": "stderr",
          "text": [
            "<ipython-input-1172-64a690b13573>:43: FutureWarning: The frame.append method is deprecated and will be removed from pandas in a future version. Use pandas.concat instead.\n",
            "  df = df.append(df151, ignore_index=True)                                             # ÄNDERN!\n"
          ]
        }
      ]
    },
    {
      "cell_type": "code",
      "source": [
        "url152 = \"https://www.bundestag.de/resource/blob/866350/ec2231feaa8519c8db90a4f657ea2c67/20001.xml\" # ÄNDERN!\n",
        "response = requests.get(url152)                                                          # ÄNDERN!\n",
        "\n",
        "root = ET.fromstring(response.content)\n",
        "\n",
        "last_names = []\n",
        "first_names = []\n",
        "parties = []\n",
        "\n",
        "for tr in root.findall('.//tbody/tr'):\n",
        "    # Find all <td> elements inside <tr>\n",
        "    tds = tr.findall('.//td')\n",
        "    # Check if there are at least 2 <td> elements\n",
        "    if len(tds) >= 2:\n",
        "        # Extract text content from the first <td> element\n",
        "        text_content = tds[0].text\n",
        "        # Check if text_content is not None and not empty\n",
        "        if text_content is not None and text_content.strip():\n",
        "            # Extract full name from the first <td> element\n",
        "            full_name = text_content.strip()\n",
        "            # Check if the full name contains a comma\n",
        "            if ',' in full_name:\n",
        "                # Split full name into last name and first name\n",
        "                last_name, first_name = full_name.split(', ', 1)\n",
        "                # Extract party from the second <td> element\n",
        "                party = tds[1].text.strip()\n",
        "                last_names.append(last_name)\n",
        "                first_names.append(first_name)\n",
        "                parties.append(party)\n",
        "\n",
        "\n",
        "df152 = pd.DataFrame({                                                               # Ändern!\n",
        "    'Last Name': last_names,\n",
        "    'First Name': first_names,\n",
        "    'Party': parties\n",
        "})\n",
        "\n",
        "\n",
        "Datum = \"26.10. 2021\"                                                               #  ÄNDERN!\n",
        "\n",
        "df152[\"Datum\"] = Datum                                                               # ÄNDERN!\n",
        "\n",
        "df = df.append(df152, ignore_index=True)                                             # ÄNDERN!"
      ],
      "metadata": {
        "colab": {
          "base_uri": "https://localhost:8080/"
        },
        "outputId": "c4f2591b-123a-4f38-d9da-36c0674d1c02",
        "id": "v0HeWmWUbdw3"
      },
      "execution_count": null,
      "outputs": [
        {
          "output_type": "stream",
          "name": "stderr",
          "text": [
            "<ipython-input-1173-d33bff9abdf7>:43: FutureWarning: The frame.append method is deprecated and will be removed from pandas in a future version. Use pandas.concat instead.\n",
            "  df = df.append(df152, ignore_index=True)                                             # ÄNDERN!\n"
          ]
        }
      ]
    },
    {
      "cell_type": "code",
      "source": [
        "df.to_excel(\"Fehlzeiten_final.xlsx\", index = False)\n",
        "from google.colab import files\n",
        "files.download(\"Fehlzeiten_final.xlsx\")"
      ],
      "metadata": {
        "id": "t4FQxvpMYE3_",
        "colab": {
          "base_uri": "https://localhost:8080/",
          "height": 210
        },
        "outputId": "abd99a8f-e1ea-4f33-9200-aa7d4135c39e"
      },
      "execution_count": null,
      "outputs": [
        {
          "output_type": "error",
          "ename": "NameError",
          "evalue": "name 'df' is not defined",
          "traceback": [
            "\u001b[0;31m---------------------------------------------------------------------------\u001b[0m",
            "\u001b[0;31mNameError\u001b[0m                                 Traceback (most recent call last)",
            "\u001b[0;32m<ipython-input-1-cd7b5ff746b3>\u001b[0m in \u001b[0;36m<cell line: 1>\u001b[0;34m()\u001b[0m\n\u001b[0;32m----> 1\u001b[0;31m \u001b[0mdf\u001b[0m\u001b[0;34m.\u001b[0m\u001b[0mto_excel\u001b[0m\u001b[0;34m(\u001b[0m\u001b[0;34m\"Fehlzeiten_final.xlsx\"\u001b[0m\u001b[0;34m,\u001b[0m \u001b[0mindex\u001b[0m \u001b[0;34m=\u001b[0m \u001b[0;32mFalse\u001b[0m\u001b[0;34m)\u001b[0m\u001b[0;34m\u001b[0m\u001b[0;34m\u001b[0m\u001b[0m\n\u001b[0m\u001b[1;32m      2\u001b[0m \u001b[0;32mfrom\u001b[0m \u001b[0mgoogle\u001b[0m\u001b[0;34m.\u001b[0m\u001b[0mcolab\u001b[0m \u001b[0;32mimport\u001b[0m \u001b[0mfiles\u001b[0m\u001b[0;34m\u001b[0m\u001b[0;34m\u001b[0m\u001b[0m\n\u001b[1;32m      3\u001b[0m \u001b[0mfiles\u001b[0m\u001b[0;34m.\u001b[0m\u001b[0mdownload\u001b[0m\u001b[0;34m(\u001b[0m\u001b[0;34m\"Fehlzeiten_final.xlsx\"\u001b[0m\u001b[0;34m)\u001b[0m\u001b[0;34m\u001b[0m\u001b[0;34m\u001b[0m\u001b[0m\n",
            "\u001b[0;31mNameError\u001b[0m: name 'df' is not defined"
          ]
        }
      ]
    },
    {
      "cell_type": "markdown",
      "source": [
        "# Auswertung"
      ],
      "metadata": {
        "id": "Ur5cAPuEzgmm"
      }
    },
    {
      "cell_type": "code",
      "source": [
        "df.describe()"
      ],
      "metadata": {
        "colab": {
          "base_uri": "https://localhost:8080/",
          "height": 175
        },
        "id": "ui8uVvn7fTCB",
        "outputId": "b62d7d00-84de-4ffc-d90e-d5164e080e0f"
      },
      "execution_count": null,
      "outputs": [
        {
          "output_type": "execute_result",
          "data": {
            "text/plain": [
              "       Last Name First Name Party        Datum\n",
              "count       7606       7606  7606         7606\n",
              "unique       668        487    17          152\n",
              "top         Witt        Uwe   SPD  25.03. 2022\n",
              "freq         145        245  1873           93"
            ],
            "text/html": [
              "\n",
              "  <div id=\"df-3b641693-cb9c-461f-b07b-6c77ac77d4bf\" class=\"colab-df-container\">\n",
              "    <div>\n",
              "<style scoped>\n",
              "    .dataframe tbody tr th:only-of-type {\n",
              "        vertical-align: middle;\n",
              "    }\n",
              "\n",
              "    .dataframe tbody tr th {\n",
              "        vertical-align: top;\n",
              "    }\n",
              "\n",
              "    .dataframe thead th {\n",
              "        text-align: right;\n",
              "    }\n",
              "</style>\n",
              "<table border=\"1\" class=\"dataframe\">\n",
              "  <thead>\n",
              "    <tr style=\"text-align: right;\">\n",
              "      <th></th>\n",
              "      <th>Last Name</th>\n",
              "      <th>First Name</th>\n",
              "      <th>Party</th>\n",
              "      <th>Datum</th>\n",
              "    </tr>\n",
              "  </thead>\n",
              "  <tbody>\n",
              "    <tr>\n",
              "      <th>count</th>\n",
              "      <td>7606</td>\n",
              "      <td>7606</td>\n",
              "      <td>7606</td>\n",
              "      <td>7606</td>\n",
              "    </tr>\n",
              "    <tr>\n",
              "      <th>unique</th>\n",
              "      <td>668</td>\n",
              "      <td>487</td>\n",
              "      <td>17</td>\n",
              "      <td>152</td>\n",
              "    </tr>\n",
              "    <tr>\n",
              "      <th>top</th>\n",
              "      <td>Witt</td>\n",
              "      <td>Uwe</td>\n",
              "      <td>SPD</td>\n",
              "      <td>25.03. 2022</td>\n",
              "    </tr>\n",
              "    <tr>\n",
              "      <th>freq</th>\n",
              "      <td>145</td>\n",
              "      <td>245</td>\n",
              "      <td>1873</td>\n",
              "      <td>93</td>\n",
              "    </tr>\n",
              "  </tbody>\n",
              "</table>\n",
              "</div>\n",
              "    <div class=\"colab-df-buttons\">\n",
              "\n",
              "  <div class=\"colab-df-container\">\n",
              "    <button class=\"colab-df-convert\" onclick=\"convertToInteractive('df-3b641693-cb9c-461f-b07b-6c77ac77d4bf')\"\n",
              "            title=\"Convert this dataframe to an interactive table.\"\n",
              "            style=\"display:none;\">\n",
              "\n",
              "  <svg xmlns=\"http://www.w3.org/2000/svg\" height=\"24px\" viewBox=\"0 -960 960 960\">\n",
              "    <path d=\"M120-120v-720h720v720H120Zm60-500h600v-160H180v160Zm220 220h160v-160H400v160Zm0 220h160v-160H400v160ZM180-400h160v-160H180v160Zm440 0h160v-160H620v160ZM180-180h160v-160H180v160Zm440 0h160v-160H620v160Z\"/>\n",
              "  </svg>\n",
              "    </button>\n",
              "\n",
              "  <style>\n",
              "    .colab-df-container {\n",
              "      display:flex;\n",
              "      gap: 12px;\n",
              "    }\n",
              "\n",
              "    .colab-df-convert {\n",
              "      background-color: #E8F0FE;\n",
              "      border: none;\n",
              "      border-radius: 50%;\n",
              "      cursor: pointer;\n",
              "      display: none;\n",
              "      fill: #1967D2;\n",
              "      height: 32px;\n",
              "      padding: 0 0 0 0;\n",
              "      width: 32px;\n",
              "    }\n",
              "\n",
              "    .colab-df-convert:hover {\n",
              "      background-color: #E2EBFA;\n",
              "      box-shadow: 0px 1px 2px rgba(60, 64, 67, 0.3), 0px 1px 3px 1px rgba(60, 64, 67, 0.15);\n",
              "      fill: #174EA6;\n",
              "    }\n",
              "\n",
              "    .colab-df-buttons div {\n",
              "      margin-bottom: 4px;\n",
              "    }\n",
              "\n",
              "    [theme=dark] .colab-df-convert {\n",
              "      background-color: #3B4455;\n",
              "      fill: #D2E3FC;\n",
              "    }\n",
              "\n",
              "    [theme=dark] .colab-df-convert:hover {\n",
              "      background-color: #434B5C;\n",
              "      box-shadow: 0px 1px 3px 1px rgba(0, 0, 0, 0.15);\n",
              "      filter: drop-shadow(0px 1px 2px rgba(0, 0, 0, 0.3));\n",
              "      fill: #FFFFFF;\n",
              "    }\n",
              "  </style>\n",
              "\n",
              "    <script>\n",
              "      const buttonEl =\n",
              "        document.querySelector('#df-3b641693-cb9c-461f-b07b-6c77ac77d4bf button.colab-df-convert');\n",
              "      buttonEl.style.display =\n",
              "        google.colab.kernel.accessAllowed ? 'block' : 'none';\n",
              "\n",
              "      async function convertToInteractive(key) {\n",
              "        const element = document.querySelector('#df-3b641693-cb9c-461f-b07b-6c77ac77d4bf');\n",
              "        const dataTable =\n",
              "          await google.colab.kernel.invokeFunction('convertToInteractive',\n",
              "                                                    [key], {});\n",
              "        if (!dataTable) return;\n",
              "\n",
              "        const docLinkHtml = 'Like what you see? Visit the ' +\n",
              "          '<a target=\"_blank\" href=https://colab.research.google.com/notebooks/data_table.ipynb>data table notebook</a>'\n",
              "          + ' to learn more about interactive tables.';\n",
              "        element.innerHTML = '';\n",
              "        dataTable['output_type'] = 'display_data';\n",
              "        await google.colab.output.renderOutput(dataTable, element);\n",
              "        const docLink = document.createElement('div');\n",
              "        docLink.innerHTML = docLinkHtml;\n",
              "        element.appendChild(docLink);\n",
              "      }\n",
              "    </script>\n",
              "  </div>\n",
              "\n",
              "\n",
              "<div id=\"df-e72cdf8d-46f1-4be1-9c96-a2bdc84eb4e5\">\n",
              "  <button class=\"colab-df-quickchart\" onclick=\"quickchart('df-e72cdf8d-46f1-4be1-9c96-a2bdc84eb4e5')\"\n",
              "            title=\"Suggest charts\"\n",
              "            style=\"display:none;\">\n",
              "\n",
              "<svg xmlns=\"http://www.w3.org/2000/svg\" height=\"24px\"viewBox=\"0 0 24 24\"\n",
              "     width=\"24px\">\n",
              "    <g>\n",
              "        <path d=\"M19 3H5c-1.1 0-2 .9-2 2v14c0 1.1.9 2 2 2h14c1.1 0 2-.9 2-2V5c0-1.1-.9-2-2-2zM9 17H7v-7h2v7zm4 0h-2V7h2v10zm4 0h-2v-4h2v4z\"/>\n",
              "    </g>\n",
              "</svg>\n",
              "  </button>\n",
              "\n",
              "<style>\n",
              "  .colab-df-quickchart {\n",
              "      --bg-color: #E8F0FE;\n",
              "      --fill-color: #1967D2;\n",
              "      --hover-bg-color: #E2EBFA;\n",
              "      --hover-fill-color: #174EA6;\n",
              "      --disabled-fill-color: #AAA;\n",
              "      --disabled-bg-color: #DDD;\n",
              "  }\n",
              "\n",
              "  [theme=dark] .colab-df-quickchart {\n",
              "      --bg-color: #3B4455;\n",
              "      --fill-color: #D2E3FC;\n",
              "      --hover-bg-color: #434B5C;\n",
              "      --hover-fill-color: #FFFFFF;\n",
              "      --disabled-bg-color: #3B4455;\n",
              "      --disabled-fill-color: #666;\n",
              "  }\n",
              "\n",
              "  .colab-df-quickchart {\n",
              "    background-color: var(--bg-color);\n",
              "    border: none;\n",
              "    border-radius: 50%;\n",
              "    cursor: pointer;\n",
              "    display: none;\n",
              "    fill: var(--fill-color);\n",
              "    height: 32px;\n",
              "    padding: 0;\n",
              "    width: 32px;\n",
              "  }\n",
              "\n",
              "  .colab-df-quickchart:hover {\n",
              "    background-color: var(--hover-bg-color);\n",
              "    box-shadow: 0 1px 2px rgba(60, 64, 67, 0.3), 0 1px 3px 1px rgba(60, 64, 67, 0.15);\n",
              "    fill: var(--button-hover-fill-color);\n",
              "  }\n",
              "\n",
              "  .colab-df-quickchart-complete:disabled,\n",
              "  .colab-df-quickchart-complete:disabled:hover {\n",
              "    background-color: var(--disabled-bg-color);\n",
              "    fill: var(--disabled-fill-color);\n",
              "    box-shadow: none;\n",
              "  }\n",
              "\n",
              "  .colab-df-spinner {\n",
              "    border: 2px solid var(--fill-color);\n",
              "    border-color: transparent;\n",
              "    border-bottom-color: var(--fill-color);\n",
              "    animation:\n",
              "      spin 1s steps(1) infinite;\n",
              "  }\n",
              "\n",
              "  @keyframes spin {\n",
              "    0% {\n",
              "      border-color: transparent;\n",
              "      border-bottom-color: var(--fill-color);\n",
              "      border-left-color: var(--fill-color);\n",
              "    }\n",
              "    20% {\n",
              "      border-color: transparent;\n",
              "      border-left-color: var(--fill-color);\n",
              "      border-top-color: var(--fill-color);\n",
              "    }\n",
              "    30% {\n",
              "      border-color: transparent;\n",
              "      border-left-color: var(--fill-color);\n",
              "      border-top-color: var(--fill-color);\n",
              "      border-right-color: var(--fill-color);\n",
              "    }\n",
              "    40% {\n",
              "      border-color: transparent;\n",
              "      border-right-color: var(--fill-color);\n",
              "      border-top-color: var(--fill-color);\n",
              "    }\n",
              "    60% {\n",
              "      border-color: transparent;\n",
              "      border-right-color: var(--fill-color);\n",
              "    }\n",
              "    80% {\n",
              "      border-color: transparent;\n",
              "      border-right-color: var(--fill-color);\n",
              "      border-bottom-color: var(--fill-color);\n",
              "    }\n",
              "    90% {\n",
              "      border-color: transparent;\n",
              "      border-bottom-color: var(--fill-color);\n",
              "    }\n",
              "  }\n",
              "</style>\n",
              "\n",
              "  <script>\n",
              "    async function quickchart(key) {\n",
              "      const quickchartButtonEl =\n",
              "        document.querySelector('#' + key + ' button');\n",
              "      quickchartButtonEl.disabled = true;  // To prevent multiple clicks.\n",
              "      quickchartButtonEl.classList.add('colab-df-spinner');\n",
              "      try {\n",
              "        const charts = await google.colab.kernel.invokeFunction(\n",
              "            'suggestCharts', [key], {});\n",
              "      } catch (error) {\n",
              "        console.error('Error during call to suggestCharts:', error);\n",
              "      }\n",
              "      quickchartButtonEl.classList.remove('colab-df-spinner');\n",
              "      quickchartButtonEl.classList.add('colab-df-quickchart-complete');\n",
              "    }\n",
              "    (() => {\n",
              "      let quickchartButtonEl =\n",
              "        document.querySelector('#df-e72cdf8d-46f1-4be1-9c96-a2bdc84eb4e5 button');\n",
              "      quickchartButtonEl.style.display =\n",
              "        google.colab.kernel.accessAllowed ? 'block' : 'none';\n",
              "    })();\n",
              "  </script>\n",
              "</div>\n",
              "    </div>\n",
              "  </div>\n"
            ]
          },
          "metadata": {},
          "execution_count": 1175
        }
      ]
    },
    {
      "cell_type": "code",
      "source": [
        "df.info()"
      ],
      "metadata": {
        "colab": {
          "base_uri": "https://localhost:8080/"
        },
        "id": "tMsutH1Ge714",
        "outputId": "6cd0a47b-f2b5-4402-d6b4-0c15bcb16b69"
      },
      "execution_count": null,
      "outputs": [
        {
          "output_type": "stream",
          "name": "stdout",
          "text": [
            "<class 'pandas.core.frame.DataFrame'>\n",
            "RangeIndex: 7606 entries, 0 to 7605\n",
            "Data columns (total 4 columns):\n",
            " #   Column      Non-Null Count  Dtype \n",
            "---  ------      --------------  ----- \n",
            " 0   Last Name   7606 non-null   object\n",
            " 1   First Name  7606 non-null   object\n",
            " 2   Party       7606 non-null   object\n",
            " 3   Datum       7606 non-null   object\n",
            "dtypes: object(4)\n",
            "memory usage: 237.8+ KB\n"
          ]
        }
      ]
    },
    {
      "cell_type": "code",
      "source": [
        "unique_values_count = df['Datum'].nunique()\n",
        "print(\"Number of unique values in the column:\", unique_values_count)"
      ],
      "metadata": {
        "colab": {
          "base_uri": "https://localhost:8080/"
        },
        "id": "IDV4aNSofQJX",
        "outputId": "9c4e5df2-0e44-4ac4-83e7-c0e6830c73d9"
      },
      "execution_count": null,
      "outputs": [
        {
          "output_type": "stream",
          "name": "stdout",
          "text": [
            "Number of unique values in the column: 152\n"
          ]
        }
      ]
    },
    {
      "cell_type": "code",
      "source": [
        "df[\"Last Name\"].describe()"
      ],
      "metadata": {
        "colab": {
          "base_uri": "https://localhost:8080/"
        },
        "id": "Y3BmX1IMfhEq",
        "outputId": "17ab6a1d-2eeb-4c0a-b441-5d10bfdf49b2"
      },
      "execution_count": null,
      "outputs": [
        {
          "output_type": "execute_result",
          "data": {
            "text/plain": [
              "count     7606\n",
              "unique     668\n",
              "top       Witt\n",
              "freq       145\n",
              "Name: Last Name, dtype: object"
            ]
          },
          "metadata": {},
          "execution_count": 1178
        }
      ]
    },
    {
      "cell_type": "code",
      "source": [
        "df['Full Name'] = df['First Name'].str.cat(df['Last Name'], sep=' ')\n",
        "df.head()"
      ],
      "metadata": {
        "colab": {
          "base_uri": "https://localhost:8080/",
          "height": 206
        },
        "id": "0aoeKqlAh2Lk",
        "outputId": "c34d66b7-046e-4aa5-82fa-9372540db24f"
      },
      "execution_count": null,
      "outputs": [
        {
          "output_type": "execute_result",
          "data": {
            "text/plain": [
              "  Last Name First Name    Party        Datum        Full Name\n",
              "0    Bareiß     Thomas  CDU/CSU  02.02. 2024    Thomas Bareiß\n",
              "1   Beckamp      Roger      AfD  02.02. 2024    Roger Beckamp\n",
              "2     Beyer      Peter  CDU/CSU  02.02. 2024      Peter Beyer\n",
              "3  Bollmann     Gereon      AfD  02.02. 2024  Gereon Bollmann\n",
              "4     Braun     Jürgen      AfD  02.02. 2024     Jürgen Braun"
            ],
            "text/html": [
              "\n",
              "  <div id=\"df-684015bf-c4c1-498b-af8a-16ebb68b5515\" class=\"colab-df-container\">\n",
              "    <div>\n",
              "<style scoped>\n",
              "    .dataframe tbody tr th:only-of-type {\n",
              "        vertical-align: middle;\n",
              "    }\n",
              "\n",
              "    .dataframe tbody tr th {\n",
              "        vertical-align: top;\n",
              "    }\n",
              "\n",
              "    .dataframe thead th {\n",
              "        text-align: right;\n",
              "    }\n",
              "</style>\n",
              "<table border=\"1\" class=\"dataframe\">\n",
              "  <thead>\n",
              "    <tr style=\"text-align: right;\">\n",
              "      <th></th>\n",
              "      <th>Last Name</th>\n",
              "      <th>First Name</th>\n",
              "      <th>Party</th>\n",
              "      <th>Datum</th>\n",
              "      <th>Full Name</th>\n",
              "    </tr>\n",
              "  </thead>\n",
              "  <tbody>\n",
              "    <tr>\n",
              "      <th>0</th>\n",
              "      <td>Bareiß</td>\n",
              "      <td>Thomas</td>\n",
              "      <td>CDU/CSU</td>\n",
              "      <td>02.02. 2024</td>\n",
              "      <td>Thomas Bareiß</td>\n",
              "    </tr>\n",
              "    <tr>\n",
              "      <th>1</th>\n",
              "      <td>Beckamp</td>\n",
              "      <td>Roger</td>\n",
              "      <td>AfD</td>\n",
              "      <td>02.02. 2024</td>\n",
              "      <td>Roger Beckamp</td>\n",
              "    </tr>\n",
              "    <tr>\n",
              "      <th>2</th>\n",
              "      <td>Beyer</td>\n",
              "      <td>Peter</td>\n",
              "      <td>CDU/CSU</td>\n",
              "      <td>02.02. 2024</td>\n",
              "      <td>Peter Beyer</td>\n",
              "    </tr>\n",
              "    <tr>\n",
              "      <th>3</th>\n",
              "      <td>Bollmann</td>\n",
              "      <td>Gereon</td>\n",
              "      <td>AfD</td>\n",
              "      <td>02.02. 2024</td>\n",
              "      <td>Gereon Bollmann</td>\n",
              "    </tr>\n",
              "    <tr>\n",
              "      <th>4</th>\n",
              "      <td>Braun</td>\n",
              "      <td>Jürgen</td>\n",
              "      <td>AfD</td>\n",
              "      <td>02.02. 2024</td>\n",
              "      <td>Jürgen Braun</td>\n",
              "    </tr>\n",
              "  </tbody>\n",
              "</table>\n",
              "</div>\n",
              "    <div class=\"colab-df-buttons\">\n",
              "\n",
              "  <div class=\"colab-df-container\">\n",
              "    <button class=\"colab-df-convert\" onclick=\"convertToInteractive('df-684015bf-c4c1-498b-af8a-16ebb68b5515')\"\n",
              "            title=\"Convert this dataframe to an interactive table.\"\n",
              "            style=\"display:none;\">\n",
              "\n",
              "  <svg xmlns=\"http://www.w3.org/2000/svg\" height=\"24px\" viewBox=\"0 -960 960 960\">\n",
              "    <path d=\"M120-120v-720h720v720H120Zm60-500h600v-160H180v160Zm220 220h160v-160H400v160Zm0 220h160v-160H400v160ZM180-400h160v-160H180v160Zm440 0h160v-160H620v160ZM180-180h160v-160H180v160Zm440 0h160v-160H620v160Z\"/>\n",
              "  </svg>\n",
              "    </button>\n",
              "\n",
              "  <style>\n",
              "    .colab-df-container {\n",
              "      display:flex;\n",
              "      gap: 12px;\n",
              "    }\n",
              "\n",
              "    .colab-df-convert {\n",
              "      background-color: #E8F0FE;\n",
              "      border: none;\n",
              "      border-radius: 50%;\n",
              "      cursor: pointer;\n",
              "      display: none;\n",
              "      fill: #1967D2;\n",
              "      height: 32px;\n",
              "      padding: 0 0 0 0;\n",
              "      width: 32px;\n",
              "    }\n",
              "\n",
              "    .colab-df-convert:hover {\n",
              "      background-color: #E2EBFA;\n",
              "      box-shadow: 0px 1px 2px rgba(60, 64, 67, 0.3), 0px 1px 3px 1px rgba(60, 64, 67, 0.15);\n",
              "      fill: #174EA6;\n",
              "    }\n",
              "\n",
              "    .colab-df-buttons div {\n",
              "      margin-bottom: 4px;\n",
              "    }\n",
              "\n",
              "    [theme=dark] .colab-df-convert {\n",
              "      background-color: #3B4455;\n",
              "      fill: #D2E3FC;\n",
              "    }\n",
              "\n",
              "    [theme=dark] .colab-df-convert:hover {\n",
              "      background-color: #434B5C;\n",
              "      box-shadow: 0px 1px 3px 1px rgba(0, 0, 0, 0.15);\n",
              "      filter: drop-shadow(0px 1px 2px rgba(0, 0, 0, 0.3));\n",
              "      fill: #FFFFFF;\n",
              "    }\n",
              "  </style>\n",
              "\n",
              "    <script>\n",
              "      const buttonEl =\n",
              "        document.querySelector('#df-684015bf-c4c1-498b-af8a-16ebb68b5515 button.colab-df-convert');\n",
              "      buttonEl.style.display =\n",
              "        google.colab.kernel.accessAllowed ? 'block' : 'none';\n",
              "\n",
              "      async function convertToInteractive(key) {\n",
              "        const element = document.querySelector('#df-684015bf-c4c1-498b-af8a-16ebb68b5515');\n",
              "        const dataTable =\n",
              "          await google.colab.kernel.invokeFunction('convertToInteractive',\n",
              "                                                    [key], {});\n",
              "        if (!dataTable) return;\n",
              "\n",
              "        const docLinkHtml = 'Like what you see? Visit the ' +\n",
              "          '<a target=\"_blank\" href=https://colab.research.google.com/notebooks/data_table.ipynb>data table notebook</a>'\n",
              "          + ' to learn more about interactive tables.';\n",
              "        element.innerHTML = '';\n",
              "        dataTable['output_type'] = 'display_data';\n",
              "        await google.colab.output.renderOutput(dataTable, element);\n",
              "        const docLink = document.createElement('div');\n",
              "        docLink.innerHTML = docLinkHtml;\n",
              "        element.appendChild(docLink);\n",
              "      }\n",
              "    </script>\n",
              "  </div>\n",
              "\n",
              "\n",
              "<div id=\"df-71723995-aba7-4c2d-9681-8ee05ab0bb8e\">\n",
              "  <button class=\"colab-df-quickchart\" onclick=\"quickchart('df-71723995-aba7-4c2d-9681-8ee05ab0bb8e')\"\n",
              "            title=\"Suggest charts\"\n",
              "            style=\"display:none;\">\n",
              "\n",
              "<svg xmlns=\"http://www.w3.org/2000/svg\" height=\"24px\"viewBox=\"0 0 24 24\"\n",
              "     width=\"24px\">\n",
              "    <g>\n",
              "        <path d=\"M19 3H5c-1.1 0-2 .9-2 2v14c0 1.1.9 2 2 2h14c1.1 0 2-.9 2-2V5c0-1.1-.9-2-2-2zM9 17H7v-7h2v7zm4 0h-2V7h2v10zm4 0h-2v-4h2v4z\"/>\n",
              "    </g>\n",
              "</svg>\n",
              "  </button>\n",
              "\n",
              "<style>\n",
              "  .colab-df-quickchart {\n",
              "      --bg-color: #E8F0FE;\n",
              "      --fill-color: #1967D2;\n",
              "      --hover-bg-color: #E2EBFA;\n",
              "      --hover-fill-color: #174EA6;\n",
              "      --disabled-fill-color: #AAA;\n",
              "      --disabled-bg-color: #DDD;\n",
              "  }\n",
              "\n",
              "  [theme=dark] .colab-df-quickchart {\n",
              "      --bg-color: #3B4455;\n",
              "      --fill-color: #D2E3FC;\n",
              "      --hover-bg-color: #434B5C;\n",
              "      --hover-fill-color: #FFFFFF;\n",
              "      --disabled-bg-color: #3B4455;\n",
              "      --disabled-fill-color: #666;\n",
              "  }\n",
              "\n",
              "  .colab-df-quickchart {\n",
              "    background-color: var(--bg-color);\n",
              "    border: none;\n",
              "    border-radius: 50%;\n",
              "    cursor: pointer;\n",
              "    display: none;\n",
              "    fill: var(--fill-color);\n",
              "    height: 32px;\n",
              "    padding: 0;\n",
              "    width: 32px;\n",
              "  }\n",
              "\n",
              "  .colab-df-quickchart:hover {\n",
              "    background-color: var(--hover-bg-color);\n",
              "    box-shadow: 0 1px 2px rgba(60, 64, 67, 0.3), 0 1px 3px 1px rgba(60, 64, 67, 0.15);\n",
              "    fill: var(--button-hover-fill-color);\n",
              "  }\n",
              "\n",
              "  .colab-df-quickchart-complete:disabled,\n",
              "  .colab-df-quickchart-complete:disabled:hover {\n",
              "    background-color: var(--disabled-bg-color);\n",
              "    fill: var(--disabled-fill-color);\n",
              "    box-shadow: none;\n",
              "  }\n",
              "\n",
              "  .colab-df-spinner {\n",
              "    border: 2px solid var(--fill-color);\n",
              "    border-color: transparent;\n",
              "    border-bottom-color: var(--fill-color);\n",
              "    animation:\n",
              "      spin 1s steps(1) infinite;\n",
              "  }\n",
              "\n",
              "  @keyframes spin {\n",
              "    0% {\n",
              "      border-color: transparent;\n",
              "      border-bottom-color: var(--fill-color);\n",
              "      border-left-color: var(--fill-color);\n",
              "    }\n",
              "    20% {\n",
              "      border-color: transparent;\n",
              "      border-left-color: var(--fill-color);\n",
              "      border-top-color: var(--fill-color);\n",
              "    }\n",
              "    30% {\n",
              "      border-color: transparent;\n",
              "      border-left-color: var(--fill-color);\n",
              "      border-top-color: var(--fill-color);\n",
              "      border-right-color: var(--fill-color);\n",
              "    }\n",
              "    40% {\n",
              "      border-color: transparent;\n",
              "      border-right-color: var(--fill-color);\n",
              "      border-top-color: var(--fill-color);\n",
              "    }\n",
              "    60% {\n",
              "      border-color: transparent;\n",
              "      border-right-color: var(--fill-color);\n",
              "    }\n",
              "    80% {\n",
              "      border-color: transparent;\n",
              "      border-right-color: var(--fill-color);\n",
              "      border-bottom-color: var(--fill-color);\n",
              "    }\n",
              "    90% {\n",
              "      border-color: transparent;\n",
              "      border-bottom-color: var(--fill-color);\n",
              "    }\n",
              "  }\n",
              "</style>\n",
              "\n",
              "  <script>\n",
              "    async function quickchart(key) {\n",
              "      const quickchartButtonEl =\n",
              "        document.querySelector('#' + key + ' button');\n",
              "      quickchartButtonEl.disabled = true;  // To prevent multiple clicks.\n",
              "      quickchartButtonEl.classList.add('colab-df-spinner');\n",
              "      try {\n",
              "        const charts = await google.colab.kernel.invokeFunction(\n",
              "            'suggestCharts', [key], {});\n",
              "      } catch (error) {\n",
              "        console.error('Error during call to suggestCharts:', error);\n",
              "      }\n",
              "      quickchartButtonEl.classList.remove('colab-df-spinner');\n",
              "      quickchartButtonEl.classList.add('colab-df-quickchart-complete');\n",
              "    }\n",
              "    (() => {\n",
              "      let quickchartButtonEl =\n",
              "        document.querySelector('#df-71723995-aba7-4c2d-9681-8ee05ab0bb8e button');\n",
              "      quickchartButtonEl.style.display =\n",
              "        google.colab.kernel.accessAllowed ? 'block' : 'none';\n",
              "    })();\n",
              "  </script>\n",
              "</div>\n",
              "    </div>\n",
              "  </div>\n"
            ]
          },
          "metadata": {},
          "execution_count": 1179
        }
      ]
    },
    {
      "cell_type": "code",
      "source": [
        "name = df.groupby(\"Full Name\")[\"Datum\"].count()\n",
        "name"
      ],
      "metadata": {
        "id": "6tXtOdpUfqoP",
        "colab": {
          "base_uri": "https://localhost:8080/"
        },
        "outputId": "6cde5296-8f92-4865-adc3-d075973e0492"
      },
      "execution_count": null,
      "outputs": [
        {
          "output_type": "execute_result",
          "data": {
            "text/plain": [
              "Full Name\n",
              "Achim Post (Minden)    12\n",
              "Adis Ahmetovic         10\n",
              "Agnieszka Brugger       9\n",
              "Albert Rupprecht        7\n",
              "Albert Stegemann        1\n",
              "                       ..\n",
              "Yasmin Fahimi           7\n",
              "Ye-One Rhie            10\n",
              "Yvonne Magwas          12\n",
              "Zaklin Nastic           7\n",
              "Zoe Mayer              11\n",
              "Name: Datum, Length: 702, dtype: int64"
            ]
          },
          "metadata": {},
          "execution_count": 1219
        }
      ]
    },
    {
      "cell_type": "code",
      "source": [
        "Abgeordnete = name.reset_index()\n",
        "Abgeordnete"
      ],
      "metadata": {
        "colab": {
          "base_uri": "https://localhost:8080/",
          "height": 1225
        },
        "id": "XMHO8pexj7gs",
        "outputId": "d4e6a37b-ac45-47e9-9f76-20bc90fcf017"
      },
      "execution_count": null,
      "outputs": [
        {
          "output_type": "execute_result",
          "data": {
            "text/plain": [
              "               Full Name  Datum\n",
              "0    Achim Post (Minden)     12\n",
              "1         Adis Ahmetovic     10\n",
              "2      Agnieszka Brugger      9\n",
              "3       Albert Rupprecht      7\n",
              "4       Albert Stegemann      1\n",
              "..                   ...    ...\n",
              "697        Yasmin Fahimi      7\n",
              "698          Ye-One Rhie     10\n",
              "699        Yvonne Magwas     12\n",
              "700        Zaklin Nastic      7\n",
              "701            Zoe Mayer     11\n",
              "\n",
              "[702 rows x 2 columns]"
            ],
            "text/html": [
              "\n",
              "  <div id=\"df-67cfe802-e7d6-4651-9f6d-a499aff4b584\" class=\"colab-df-container\">\n",
              "    <div>\n",
              "<style scoped>\n",
              "    .dataframe tbody tr th:only-of-type {\n",
              "        vertical-align: middle;\n",
              "    }\n",
              "\n",
              "    .dataframe tbody tr th {\n",
              "        vertical-align: top;\n",
              "    }\n",
              "\n",
              "    .dataframe thead th {\n",
              "        text-align: right;\n",
              "    }\n",
              "</style>\n",
              "<table border=\"1\" class=\"dataframe\">\n",
              "  <thead>\n",
              "    <tr style=\"text-align: right;\">\n",
              "      <th></th>\n",
              "      <th>Full Name</th>\n",
              "      <th>Datum</th>\n",
              "    </tr>\n",
              "  </thead>\n",
              "  <tbody>\n",
              "    <tr>\n",
              "      <th>0</th>\n",
              "      <td>Achim Post (Minden)</td>\n",
              "      <td>12</td>\n",
              "    </tr>\n",
              "    <tr>\n",
              "      <th>1</th>\n",
              "      <td>Adis Ahmetovic</td>\n",
              "      <td>10</td>\n",
              "    </tr>\n",
              "    <tr>\n",
              "      <th>2</th>\n",
              "      <td>Agnieszka Brugger</td>\n",
              "      <td>9</td>\n",
              "    </tr>\n",
              "    <tr>\n",
              "      <th>3</th>\n",
              "      <td>Albert Rupprecht</td>\n",
              "      <td>7</td>\n",
              "    </tr>\n",
              "    <tr>\n",
              "      <th>4</th>\n",
              "      <td>Albert Stegemann</td>\n",
              "      <td>1</td>\n",
              "    </tr>\n",
              "    <tr>\n",
              "      <th>...</th>\n",
              "      <td>...</td>\n",
              "      <td>...</td>\n",
              "    </tr>\n",
              "    <tr>\n",
              "      <th>697</th>\n",
              "      <td>Yasmin Fahimi</td>\n",
              "      <td>7</td>\n",
              "    </tr>\n",
              "    <tr>\n",
              "      <th>698</th>\n",
              "      <td>Ye-One Rhie</td>\n",
              "      <td>10</td>\n",
              "    </tr>\n",
              "    <tr>\n",
              "      <th>699</th>\n",
              "      <td>Yvonne Magwas</td>\n",
              "      <td>12</td>\n",
              "    </tr>\n",
              "    <tr>\n",
              "      <th>700</th>\n",
              "      <td>Zaklin Nastic</td>\n",
              "      <td>7</td>\n",
              "    </tr>\n",
              "    <tr>\n",
              "      <th>701</th>\n",
              "      <td>Zoe Mayer</td>\n",
              "      <td>11</td>\n",
              "    </tr>\n",
              "  </tbody>\n",
              "</table>\n",
              "<p>702 rows × 2 columns</p>\n",
              "</div>\n",
              "    <div class=\"colab-df-buttons\">\n",
              "\n",
              "  <div class=\"colab-df-container\">\n",
              "    <button class=\"colab-df-convert\" onclick=\"convertToInteractive('df-67cfe802-e7d6-4651-9f6d-a499aff4b584')\"\n",
              "            title=\"Convert this dataframe to an interactive table.\"\n",
              "            style=\"display:none;\">\n",
              "\n",
              "  <svg xmlns=\"http://www.w3.org/2000/svg\" height=\"24px\" viewBox=\"0 -960 960 960\">\n",
              "    <path d=\"M120-120v-720h720v720H120Zm60-500h600v-160H180v160Zm220 220h160v-160H400v160Zm0 220h160v-160H400v160ZM180-400h160v-160H180v160Zm440 0h160v-160H620v160ZM180-180h160v-160H180v160Zm440 0h160v-160H620v160Z\"/>\n",
              "  </svg>\n",
              "    </button>\n",
              "\n",
              "  <style>\n",
              "    .colab-df-container {\n",
              "      display:flex;\n",
              "      gap: 12px;\n",
              "    }\n",
              "\n",
              "    .colab-df-convert {\n",
              "      background-color: #E8F0FE;\n",
              "      border: none;\n",
              "      border-radius: 50%;\n",
              "      cursor: pointer;\n",
              "      display: none;\n",
              "      fill: #1967D2;\n",
              "      height: 32px;\n",
              "      padding: 0 0 0 0;\n",
              "      width: 32px;\n",
              "    }\n",
              "\n",
              "    .colab-df-convert:hover {\n",
              "      background-color: #E2EBFA;\n",
              "      box-shadow: 0px 1px 2px rgba(60, 64, 67, 0.3), 0px 1px 3px 1px rgba(60, 64, 67, 0.15);\n",
              "      fill: #174EA6;\n",
              "    }\n",
              "\n",
              "    .colab-df-buttons div {\n",
              "      margin-bottom: 4px;\n",
              "    }\n",
              "\n",
              "    [theme=dark] .colab-df-convert {\n",
              "      background-color: #3B4455;\n",
              "      fill: #D2E3FC;\n",
              "    }\n",
              "\n",
              "    [theme=dark] .colab-df-convert:hover {\n",
              "      background-color: #434B5C;\n",
              "      box-shadow: 0px 1px 3px 1px rgba(0, 0, 0, 0.15);\n",
              "      filter: drop-shadow(0px 1px 2px rgba(0, 0, 0, 0.3));\n",
              "      fill: #FFFFFF;\n",
              "    }\n",
              "  </style>\n",
              "\n",
              "    <script>\n",
              "      const buttonEl =\n",
              "        document.querySelector('#df-67cfe802-e7d6-4651-9f6d-a499aff4b584 button.colab-df-convert');\n",
              "      buttonEl.style.display =\n",
              "        google.colab.kernel.accessAllowed ? 'block' : 'none';\n",
              "\n",
              "      async function convertToInteractive(key) {\n",
              "        const element = document.querySelector('#df-67cfe802-e7d6-4651-9f6d-a499aff4b584');\n",
              "        const dataTable =\n",
              "          await google.colab.kernel.invokeFunction('convertToInteractive',\n",
              "                                                    [key], {});\n",
              "        if (!dataTable) return;\n",
              "\n",
              "        const docLinkHtml = 'Like what you see? Visit the ' +\n",
              "          '<a target=\"_blank\" href=https://colab.research.google.com/notebooks/data_table.ipynb>data table notebook</a>'\n",
              "          + ' to learn more about interactive tables.';\n",
              "        element.innerHTML = '';\n",
              "        dataTable['output_type'] = 'display_data';\n",
              "        await google.colab.output.renderOutput(dataTable, element);\n",
              "        const docLink = document.createElement('div');\n",
              "        docLink.innerHTML = docLinkHtml;\n",
              "        element.appendChild(docLink);\n",
              "      }\n",
              "    </script>\n",
              "  </div>\n",
              "\n",
              "\n",
              "<div id=\"df-9fe661b1-45a8-4fd4-8d59-3373108b905d\">\n",
              "  <button class=\"colab-df-quickchart\" onclick=\"quickchart('df-9fe661b1-45a8-4fd4-8d59-3373108b905d')\"\n",
              "            title=\"Suggest charts\"\n",
              "            style=\"display:none;\">\n",
              "\n",
              "<svg xmlns=\"http://www.w3.org/2000/svg\" height=\"24px\"viewBox=\"0 0 24 24\"\n",
              "     width=\"24px\">\n",
              "    <g>\n",
              "        <path d=\"M19 3H5c-1.1 0-2 .9-2 2v14c0 1.1.9 2 2 2h14c1.1 0 2-.9 2-2V5c0-1.1-.9-2-2-2zM9 17H7v-7h2v7zm4 0h-2V7h2v10zm4 0h-2v-4h2v4z\"/>\n",
              "    </g>\n",
              "</svg>\n",
              "  </button>\n",
              "\n",
              "<style>\n",
              "  .colab-df-quickchart {\n",
              "      --bg-color: #E8F0FE;\n",
              "      --fill-color: #1967D2;\n",
              "      --hover-bg-color: #E2EBFA;\n",
              "      --hover-fill-color: #174EA6;\n",
              "      --disabled-fill-color: #AAA;\n",
              "      --disabled-bg-color: #DDD;\n",
              "  }\n",
              "\n",
              "  [theme=dark] .colab-df-quickchart {\n",
              "      --bg-color: #3B4455;\n",
              "      --fill-color: #D2E3FC;\n",
              "      --hover-bg-color: #434B5C;\n",
              "      --hover-fill-color: #FFFFFF;\n",
              "      --disabled-bg-color: #3B4455;\n",
              "      --disabled-fill-color: #666;\n",
              "  }\n",
              "\n",
              "  .colab-df-quickchart {\n",
              "    background-color: var(--bg-color);\n",
              "    border: none;\n",
              "    border-radius: 50%;\n",
              "    cursor: pointer;\n",
              "    display: none;\n",
              "    fill: var(--fill-color);\n",
              "    height: 32px;\n",
              "    padding: 0;\n",
              "    width: 32px;\n",
              "  }\n",
              "\n",
              "  .colab-df-quickchart:hover {\n",
              "    background-color: var(--hover-bg-color);\n",
              "    box-shadow: 0 1px 2px rgba(60, 64, 67, 0.3), 0 1px 3px 1px rgba(60, 64, 67, 0.15);\n",
              "    fill: var(--button-hover-fill-color);\n",
              "  }\n",
              "\n",
              "  .colab-df-quickchart-complete:disabled,\n",
              "  .colab-df-quickchart-complete:disabled:hover {\n",
              "    background-color: var(--disabled-bg-color);\n",
              "    fill: var(--disabled-fill-color);\n",
              "    box-shadow: none;\n",
              "  }\n",
              "\n",
              "  .colab-df-spinner {\n",
              "    border: 2px solid var(--fill-color);\n",
              "    border-color: transparent;\n",
              "    border-bottom-color: var(--fill-color);\n",
              "    animation:\n",
              "      spin 1s steps(1) infinite;\n",
              "  }\n",
              "\n",
              "  @keyframes spin {\n",
              "    0% {\n",
              "      border-color: transparent;\n",
              "      border-bottom-color: var(--fill-color);\n",
              "      border-left-color: var(--fill-color);\n",
              "    }\n",
              "    20% {\n",
              "      border-color: transparent;\n",
              "      border-left-color: var(--fill-color);\n",
              "      border-top-color: var(--fill-color);\n",
              "    }\n",
              "    30% {\n",
              "      border-color: transparent;\n",
              "      border-left-color: var(--fill-color);\n",
              "      border-top-color: var(--fill-color);\n",
              "      border-right-color: var(--fill-color);\n",
              "    }\n",
              "    40% {\n",
              "      border-color: transparent;\n",
              "      border-right-color: var(--fill-color);\n",
              "      border-top-color: var(--fill-color);\n",
              "    }\n",
              "    60% {\n",
              "      border-color: transparent;\n",
              "      border-right-color: var(--fill-color);\n",
              "    }\n",
              "    80% {\n",
              "      border-color: transparent;\n",
              "      border-right-color: var(--fill-color);\n",
              "      border-bottom-color: var(--fill-color);\n",
              "    }\n",
              "    90% {\n",
              "      border-color: transparent;\n",
              "      border-bottom-color: var(--fill-color);\n",
              "    }\n",
              "  }\n",
              "</style>\n",
              "\n",
              "  <script>\n",
              "    async function quickchart(key) {\n",
              "      const quickchartButtonEl =\n",
              "        document.querySelector('#' + key + ' button');\n",
              "      quickchartButtonEl.disabled = true;  // To prevent multiple clicks.\n",
              "      quickchartButtonEl.classList.add('colab-df-spinner');\n",
              "      try {\n",
              "        const charts = await google.colab.kernel.invokeFunction(\n",
              "            'suggestCharts', [key], {});\n",
              "      } catch (error) {\n",
              "        console.error('Error during call to suggestCharts:', error);\n",
              "      }\n",
              "      quickchartButtonEl.classList.remove('colab-df-spinner');\n",
              "      quickchartButtonEl.classList.add('colab-df-quickchart-complete');\n",
              "    }\n",
              "    (() => {\n",
              "      let quickchartButtonEl =\n",
              "        document.querySelector('#df-9fe661b1-45a8-4fd4-8d59-3373108b905d button');\n",
              "      quickchartButtonEl.style.display =\n",
              "        google.colab.kernel.accessAllowed ? 'block' : 'none';\n",
              "    })();\n",
              "  </script>\n",
              "</div>\n",
              "    </div>\n",
              "  </div>\n"
            ]
          },
          "metadata": {},
          "execution_count": 1220
        }
      ]
    },
    {
      "cell_type": "code",
      "source": [
        "Abgeordnete.to_excel(\"Abgeordnete_final.xlsx\", index = False)"
      ],
      "metadata": {
        "id": "ofMX63CejQnZ"
      },
      "execution_count": null,
      "outputs": []
    },
    {
      "cell_type": "code",
      "source": [
        "from google.colab import files\n",
        "files.download(\"Abgeordnete_final.xlsx\")"
      ],
      "metadata": {
        "colab": {
          "base_uri": "https://localhost:8080/",
          "height": 17
        },
        "id": "CJ5-Z5ChjTzZ",
        "outputId": "aa6160b9-4034-4e54-d82d-935eead8d9dc"
      },
      "execution_count": null,
      "outputs": [
        {
          "output_type": "display_data",
          "data": {
            "text/plain": [
              "<IPython.core.display.Javascript object>"
            ],
            "application/javascript": [
              "\n",
              "    async function download(id, filename, size) {\n",
              "      if (!google.colab.kernel.accessAllowed) {\n",
              "        return;\n",
              "      }\n",
              "      const div = document.createElement('div');\n",
              "      const label = document.createElement('label');\n",
              "      label.textContent = `Downloading \"${filename}\": `;\n",
              "      div.appendChild(label);\n",
              "      const progress = document.createElement('progress');\n",
              "      progress.max = size;\n",
              "      div.appendChild(progress);\n",
              "      document.body.appendChild(div);\n",
              "\n",
              "      const buffers = [];\n",
              "      let downloaded = 0;\n",
              "\n",
              "      const channel = await google.colab.kernel.comms.open(id);\n",
              "      // Send a message to notify the kernel that we're ready.\n",
              "      channel.send({})\n",
              "\n",
              "      for await (const message of channel.messages) {\n",
              "        // Send a message to notify the kernel that we're ready.\n",
              "        channel.send({})\n",
              "        if (message.buffers) {\n",
              "          for (const buffer of message.buffers) {\n",
              "            buffers.push(buffer);\n",
              "            downloaded += buffer.byteLength;\n",
              "            progress.value = downloaded;\n",
              "          }\n",
              "        }\n",
              "      }\n",
              "      const blob = new Blob(buffers, {type: 'application/binary'});\n",
              "      const a = document.createElement('a');\n",
              "      a.href = window.URL.createObjectURL(blob);\n",
              "      a.download = filename;\n",
              "      div.appendChild(a);\n",
              "      a.click();\n",
              "      div.remove();\n",
              "    }\n",
              "  "
            ]
          },
          "metadata": {}
        },
        {
          "output_type": "display_data",
          "data": {
            "text/plain": [
              "<IPython.core.display.Javascript object>"
            ],
            "application/javascript": [
              "download(\"download_d66bc6ec-ab9d-4a56-9081-f9b4d8f539be\", \"Abgeordnete_final.xlsx\", 19078)"
            ]
          },
          "metadata": {}
        }
      ]
    },
    {
      "cell_type": "markdown",
      "source": [
        "# Cleanen"
      ],
      "metadata": {
        "id": "YKRAxXOAzpHA"
      }
    },
    {
      "cell_type": "code",
      "source": [
        "Fraktionen = df.groupby(\"Party\")[\"Datum\"].count()\n",
        "Fraktionen"
      ],
      "metadata": {
        "colab": {
          "base_uri": "https://localhost:8080/"
        },
        "id": "cw24VoyBmvMD",
        "outputId": "2d446a21-ee00-4ae7-93de-9ada9c3879aa"
      },
      "execution_count": null,
      "outputs": [
        {
          "output_type": "execute_result",
          "data": {
            "text/plain": [
              "Party\n",
              "                                       6\n",
              "1.012                                  1\n",
              "316                                    1\n",
              "398                                    1\n",
              "53                                     1\n",
              "631                                    1\n",
              "85                                     1\n",
              "AfD                                 1213\n",
              "Bundesminister der Finanzen            1\n",
              "Bundesministerin des Auswärtigen       1\n",
              "BÜNDNIS 90/ DIE GRÜNEN              1267\n",
              "CDU/CSU                             1809\n",
              "DIE LINKE                            534\n",
              "DIE LINKE.                             1\n",
              "FDP                                  700\n",
              "SPD                                 1873\n",
              "fraktionslos                         195\n",
              "Name: Datum, dtype: int64"
            ]
          },
          "metadata": {},
          "execution_count": 1184
        }
      ]
    },
    {
      "cell_type": "code",
      "source": [
        "df = df.drop(df[(df.Party == \"1.012\")].index)\n",
        "df = df.drop(df[(df.Party == \"316\")].index)\n",
        "df = df.drop(df[(df.Party == \"398\")].index)\n",
        "df = df.drop(df[(df.Party == \"53\")].index)\n",
        "df = df.drop(df[(df.Party == \"631\")].index)\n",
        "df = df.drop(df[(df.Party == \"85\")].index)"
      ],
      "metadata": {
        "id": "QpayJiYIq63Y"
      },
      "execution_count": null,
      "outputs": []
    },
    {
      "cell_type": "code",
      "source": [
        "import numpy as np\n",
        "\n",
        "df['Party'].replace('', np.nan, inplace=True)"
      ],
      "metadata": {
        "id": "m39qmFC9tAYq"
      },
      "execution_count": null,
      "outputs": []
    },
    {
      "cell_type": "code",
      "source": [
        "df.dropna(subset=['Party'], inplace=True)"
      ],
      "metadata": {
        "id": "lx8wvXOwtWur"
      },
      "execution_count": null,
      "outputs": []
    },
    {
      "cell_type": "code",
      "source": [
        "df['Party'] = df['Party'].str.replace('DIE LINKE.', 'DIE LINKE')"
      ],
      "metadata": {
        "colab": {
          "base_uri": "https://localhost:8080/"
        },
        "id": "kvR9vLrWuLs8",
        "outputId": "b951e538-9ae8-40d2-d60e-e8e660450bdd"
      },
      "execution_count": null,
      "outputs": [
        {
          "output_type": "stream",
          "name": "stderr",
          "text": [
            "<ipython-input-1188-ad79cf9885b8>:1: FutureWarning: The default value of regex will change from True to False in a future version.\n",
            "  df['Party'] = df['Party'].str.replace('DIE LINKE.', 'DIE LINKE')\n"
          ]
        }
      ]
    },
    {
      "cell_type": "code",
      "source": [
        "df['Party'] = df['Party'].str.replace('Bundesminister der Finanzen', 'FDP')\n",
        "df['Party'] = df['Party'].str.replace('Bundesministerin des Auswärtigen', 'BÜNDNIS 90/ DIE GRÜNEN')"
      ],
      "metadata": {
        "id": "rHDdEJ8qujJ6"
      },
      "execution_count": null,
      "outputs": []
    },
    {
      "cell_type": "code",
      "source": [
        "df['Party'] = df['Party'].str.replace('BÜNDNIS 90/ DIE GRÜNEN', 'BÜNDNIS 90/ DIE GRÜNEN ')"
      ],
      "metadata": {
        "id": "Z3ym6DZjVlRd"
      },
      "execution_count": null,
      "outputs": []
    },
    {
      "cell_type": "code",
      "source": [
        "df.at[4550, 'Full Name'] = \"Dr. Jens Brandenburg (Rhein-Neckar)\"\n",
        "df.at[4550, 'Last Name'] = \"Brandenburg (Rhein-Neckar)\"\n",
        "df.at[6748, 'Full Name'] = \"Dr. Jens Brandenburg (Rhein-Neckar)\"\n",
        "df.at[6748, 'Last Name'] = \"Brandenburg (Rhein-Neckar)\""
      ],
      "metadata": {
        "id": "68uBd-ZoMT-7"
      },
      "execution_count": null,
      "outputs": []
    },
    {
      "cell_type": "code",
      "source": [
        "df"
      ],
      "metadata": {
        "colab": {
          "base_uri": "https://localhost:8080/",
          "height": 687
        },
        "id": "Z5Qn4B41Gs0Z",
        "outputId": "3c9465fc-9054-458f-f248-292080e5b5f5"
      },
      "execution_count": null,
      "outputs": [
        {
          "output_type": "execute_result",
          "data": {
            "text/plain": [
              "     Last Name   First Name                   Party        Datum  \\\n",
              "0       Bareiß       Thomas                 CDU/CSU  02.02. 2024   \n",
              "1      Beckamp        Roger                     AfD  02.02. 2024   \n",
              "2        Beyer        Peter                 CDU/CSU  02.02. 2024   \n",
              "3     Bollmann       Gereon                     AfD  02.02. 2024   \n",
              "4        Braun       Jürgen                     AfD  02.02. 2024   \n",
              "...        ...          ...                     ...          ...   \n",
              "7601   Lehmann       Sylvia                     SPD  26.10. 2021   \n",
              "7602    Nestle   Dr. Ingrid  BÜNDNIS 90/ DIE GRÜNEN  26.10. 2021   \n",
              "7603    Ortleb  Josephine *                     SPD  26.10. 2021   \n",
              "7604      Pohl       Jürgen                     AfD  26.10. 2021   \n",
              "7605      Witt          Uwe                     AfD  26.10. 2021   \n",
              "\n",
              "               Full Name  \n",
              "0          Thomas Bareiß  \n",
              "1          Roger Beckamp  \n",
              "2            Peter Beyer  \n",
              "3        Gereon Bollmann  \n",
              "4           Jürgen Braun  \n",
              "...                  ...  \n",
              "7601      Sylvia Lehmann  \n",
              "7602   Dr. Ingrid Nestle  \n",
              "7603  Josephine * Ortleb  \n",
              "7604         Jürgen Pohl  \n",
              "7605            Uwe Witt  \n",
              "\n",
              "[7594 rows x 5 columns]"
            ],
            "text/html": [
              "\n",
              "  <div id=\"df-84cb9db9-99df-4dd6-b993-ace33e75b742\" class=\"colab-df-container\">\n",
              "    <div>\n",
              "<style scoped>\n",
              "    .dataframe tbody tr th:only-of-type {\n",
              "        vertical-align: middle;\n",
              "    }\n",
              "\n",
              "    .dataframe tbody tr th {\n",
              "        vertical-align: top;\n",
              "    }\n",
              "\n",
              "    .dataframe thead th {\n",
              "        text-align: right;\n",
              "    }\n",
              "</style>\n",
              "<table border=\"1\" class=\"dataframe\">\n",
              "  <thead>\n",
              "    <tr style=\"text-align: right;\">\n",
              "      <th></th>\n",
              "      <th>Last Name</th>\n",
              "      <th>First Name</th>\n",
              "      <th>Party</th>\n",
              "      <th>Datum</th>\n",
              "      <th>Full Name</th>\n",
              "    </tr>\n",
              "  </thead>\n",
              "  <tbody>\n",
              "    <tr>\n",
              "      <th>0</th>\n",
              "      <td>Bareiß</td>\n",
              "      <td>Thomas</td>\n",
              "      <td>CDU/CSU</td>\n",
              "      <td>02.02. 2024</td>\n",
              "      <td>Thomas Bareiß</td>\n",
              "    </tr>\n",
              "    <tr>\n",
              "      <th>1</th>\n",
              "      <td>Beckamp</td>\n",
              "      <td>Roger</td>\n",
              "      <td>AfD</td>\n",
              "      <td>02.02. 2024</td>\n",
              "      <td>Roger Beckamp</td>\n",
              "    </tr>\n",
              "    <tr>\n",
              "      <th>2</th>\n",
              "      <td>Beyer</td>\n",
              "      <td>Peter</td>\n",
              "      <td>CDU/CSU</td>\n",
              "      <td>02.02. 2024</td>\n",
              "      <td>Peter Beyer</td>\n",
              "    </tr>\n",
              "    <tr>\n",
              "      <th>3</th>\n",
              "      <td>Bollmann</td>\n",
              "      <td>Gereon</td>\n",
              "      <td>AfD</td>\n",
              "      <td>02.02. 2024</td>\n",
              "      <td>Gereon Bollmann</td>\n",
              "    </tr>\n",
              "    <tr>\n",
              "      <th>4</th>\n",
              "      <td>Braun</td>\n",
              "      <td>Jürgen</td>\n",
              "      <td>AfD</td>\n",
              "      <td>02.02. 2024</td>\n",
              "      <td>Jürgen Braun</td>\n",
              "    </tr>\n",
              "    <tr>\n",
              "      <th>...</th>\n",
              "      <td>...</td>\n",
              "      <td>...</td>\n",
              "      <td>...</td>\n",
              "      <td>...</td>\n",
              "      <td>...</td>\n",
              "    </tr>\n",
              "    <tr>\n",
              "      <th>7601</th>\n",
              "      <td>Lehmann</td>\n",
              "      <td>Sylvia</td>\n",
              "      <td>SPD</td>\n",
              "      <td>26.10. 2021</td>\n",
              "      <td>Sylvia Lehmann</td>\n",
              "    </tr>\n",
              "    <tr>\n",
              "      <th>7602</th>\n",
              "      <td>Nestle</td>\n",
              "      <td>Dr. Ingrid</td>\n",
              "      <td>BÜNDNIS 90/ DIE GRÜNEN</td>\n",
              "      <td>26.10. 2021</td>\n",
              "      <td>Dr. Ingrid Nestle</td>\n",
              "    </tr>\n",
              "    <tr>\n",
              "      <th>7603</th>\n",
              "      <td>Ortleb</td>\n",
              "      <td>Josephine *</td>\n",
              "      <td>SPD</td>\n",
              "      <td>26.10. 2021</td>\n",
              "      <td>Josephine * Ortleb</td>\n",
              "    </tr>\n",
              "    <tr>\n",
              "      <th>7604</th>\n",
              "      <td>Pohl</td>\n",
              "      <td>Jürgen</td>\n",
              "      <td>AfD</td>\n",
              "      <td>26.10. 2021</td>\n",
              "      <td>Jürgen Pohl</td>\n",
              "    </tr>\n",
              "    <tr>\n",
              "      <th>7605</th>\n",
              "      <td>Witt</td>\n",
              "      <td>Uwe</td>\n",
              "      <td>AfD</td>\n",
              "      <td>26.10. 2021</td>\n",
              "      <td>Uwe Witt</td>\n",
              "    </tr>\n",
              "  </tbody>\n",
              "</table>\n",
              "<p>7594 rows × 5 columns</p>\n",
              "</div>\n",
              "    <div class=\"colab-df-buttons\">\n",
              "\n",
              "  <div class=\"colab-df-container\">\n",
              "    <button class=\"colab-df-convert\" onclick=\"convertToInteractive('df-84cb9db9-99df-4dd6-b993-ace33e75b742')\"\n",
              "            title=\"Convert this dataframe to an interactive table.\"\n",
              "            style=\"display:none;\">\n",
              "\n",
              "  <svg xmlns=\"http://www.w3.org/2000/svg\" height=\"24px\" viewBox=\"0 -960 960 960\">\n",
              "    <path d=\"M120-120v-720h720v720H120Zm60-500h600v-160H180v160Zm220 220h160v-160H400v160Zm0 220h160v-160H400v160ZM180-400h160v-160H180v160Zm440 0h160v-160H620v160ZM180-180h160v-160H180v160Zm440 0h160v-160H620v160Z\"/>\n",
              "  </svg>\n",
              "    </button>\n",
              "\n",
              "  <style>\n",
              "    .colab-df-container {\n",
              "      display:flex;\n",
              "      gap: 12px;\n",
              "    }\n",
              "\n",
              "    .colab-df-convert {\n",
              "      background-color: #E8F0FE;\n",
              "      border: none;\n",
              "      border-radius: 50%;\n",
              "      cursor: pointer;\n",
              "      display: none;\n",
              "      fill: #1967D2;\n",
              "      height: 32px;\n",
              "      padding: 0 0 0 0;\n",
              "      width: 32px;\n",
              "    }\n",
              "\n",
              "    .colab-df-convert:hover {\n",
              "      background-color: #E2EBFA;\n",
              "      box-shadow: 0px 1px 2px rgba(60, 64, 67, 0.3), 0px 1px 3px 1px rgba(60, 64, 67, 0.15);\n",
              "      fill: #174EA6;\n",
              "    }\n",
              "\n",
              "    .colab-df-buttons div {\n",
              "      margin-bottom: 4px;\n",
              "    }\n",
              "\n",
              "    [theme=dark] .colab-df-convert {\n",
              "      background-color: #3B4455;\n",
              "      fill: #D2E3FC;\n",
              "    }\n",
              "\n",
              "    [theme=dark] .colab-df-convert:hover {\n",
              "      background-color: #434B5C;\n",
              "      box-shadow: 0px 1px 3px 1px rgba(0, 0, 0, 0.15);\n",
              "      filter: drop-shadow(0px 1px 2px rgba(0, 0, 0, 0.3));\n",
              "      fill: #FFFFFF;\n",
              "    }\n",
              "  </style>\n",
              "\n",
              "    <script>\n",
              "      const buttonEl =\n",
              "        document.querySelector('#df-84cb9db9-99df-4dd6-b993-ace33e75b742 button.colab-df-convert');\n",
              "      buttonEl.style.display =\n",
              "        google.colab.kernel.accessAllowed ? 'block' : 'none';\n",
              "\n",
              "      async function convertToInteractive(key) {\n",
              "        const element = document.querySelector('#df-84cb9db9-99df-4dd6-b993-ace33e75b742');\n",
              "        const dataTable =\n",
              "          await google.colab.kernel.invokeFunction('convertToInteractive',\n",
              "                                                    [key], {});\n",
              "        if (!dataTable) return;\n",
              "\n",
              "        const docLinkHtml = 'Like what you see? Visit the ' +\n",
              "          '<a target=\"_blank\" href=https://colab.research.google.com/notebooks/data_table.ipynb>data table notebook</a>'\n",
              "          + ' to learn more about interactive tables.';\n",
              "        element.innerHTML = '';\n",
              "        dataTable['output_type'] = 'display_data';\n",
              "        await google.colab.output.renderOutput(dataTable, element);\n",
              "        const docLink = document.createElement('div');\n",
              "        docLink.innerHTML = docLinkHtml;\n",
              "        element.appendChild(docLink);\n",
              "      }\n",
              "    </script>\n",
              "  </div>\n",
              "\n",
              "\n",
              "<div id=\"df-0ccc02bd-fcef-4e14-95f5-d32369baf247\">\n",
              "  <button class=\"colab-df-quickchart\" onclick=\"quickchart('df-0ccc02bd-fcef-4e14-95f5-d32369baf247')\"\n",
              "            title=\"Suggest charts\"\n",
              "            style=\"display:none;\">\n",
              "\n",
              "<svg xmlns=\"http://www.w3.org/2000/svg\" height=\"24px\"viewBox=\"0 0 24 24\"\n",
              "     width=\"24px\">\n",
              "    <g>\n",
              "        <path d=\"M19 3H5c-1.1 0-2 .9-2 2v14c0 1.1.9 2 2 2h14c1.1 0 2-.9 2-2V5c0-1.1-.9-2-2-2zM9 17H7v-7h2v7zm4 0h-2V7h2v10zm4 0h-2v-4h2v4z\"/>\n",
              "    </g>\n",
              "</svg>\n",
              "  </button>\n",
              "\n",
              "<style>\n",
              "  .colab-df-quickchart {\n",
              "      --bg-color: #E8F0FE;\n",
              "      --fill-color: #1967D2;\n",
              "      --hover-bg-color: #E2EBFA;\n",
              "      --hover-fill-color: #174EA6;\n",
              "      --disabled-fill-color: #AAA;\n",
              "      --disabled-bg-color: #DDD;\n",
              "  }\n",
              "\n",
              "  [theme=dark] .colab-df-quickchart {\n",
              "      --bg-color: #3B4455;\n",
              "      --fill-color: #D2E3FC;\n",
              "      --hover-bg-color: #434B5C;\n",
              "      --hover-fill-color: #FFFFFF;\n",
              "      --disabled-bg-color: #3B4455;\n",
              "      --disabled-fill-color: #666;\n",
              "  }\n",
              "\n",
              "  .colab-df-quickchart {\n",
              "    background-color: var(--bg-color);\n",
              "    border: none;\n",
              "    border-radius: 50%;\n",
              "    cursor: pointer;\n",
              "    display: none;\n",
              "    fill: var(--fill-color);\n",
              "    height: 32px;\n",
              "    padding: 0;\n",
              "    width: 32px;\n",
              "  }\n",
              "\n",
              "  .colab-df-quickchart:hover {\n",
              "    background-color: var(--hover-bg-color);\n",
              "    box-shadow: 0 1px 2px rgba(60, 64, 67, 0.3), 0 1px 3px 1px rgba(60, 64, 67, 0.15);\n",
              "    fill: var(--button-hover-fill-color);\n",
              "  }\n",
              "\n",
              "  .colab-df-quickchart-complete:disabled,\n",
              "  .colab-df-quickchart-complete:disabled:hover {\n",
              "    background-color: var(--disabled-bg-color);\n",
              "    fill: var(--disabled-fill-color);\n",
              "    box-shadow: none;\n",
              "  }\n",
              "\n",
              "  .colab-df-spinner {\n",
              "    border: 2px solid var(--fill-color);\n",
              "    border-color: transparent;\n",
              "    border-bottom-color: var(--fill-color);\n",
              "    animation:\n",
              "      spin 1s steps(1) infinite;\n",
              "  }\n",
              "\n",
              "  @keyframes spin {\n",
              "    0% {\n",
              "      border-color: transparent;\n",
              "      border-bottom-color: var(--fill-color);\n",
              "      border-left-color: var(--fill-color);\n",
              "    }\n",
              "    20% {\n",
              "      border-color: transparent;\n",
              "      border-left-color: var(--fill-color);\n",
              "      border-top-color: var(--fill-color);\n",
              "    }\n",
              "    30% {\n",
              "      border-color: transparent;\n",
              "      border-left-color: var(--fill-color);\n",
              "      border-top-color: var(--fill-color);\n",
              "      border-right-color: var(--fill-color);\n",
              "    }\n",
              "    40% {\n",
              "      border-color: transparent;\n",
              "      border-right-color: var(--fill-color);\n",
              "      border-top-color: var(--fill-color);\n",
              "    }\n",
              "    60% {\n",
              "      border-color: transparent;\n",
              "      border-right-color: var(--fill-color);\n",
              "    }\n",
              "    80% {\n",
              "      border-color: transparent;\n",
              "      border-right-color: var(--fill-color);\n",
              "      border-bottom-color: var(--fill-color);\n",
              "    }\n",
              "    90% {\n",
              "      border-color: transparent;\n",
              "      border-bottom-color: var(--fill-color);\n",
              "    }\n",
              "  }\n",
              "</style>\n",
              "\n",
              "  <script>\n",
              "    async function quickchart(key) {\n",
              "      const quickchartButtonEl =\n",
              "        document.querySelector('#' + key + ' button');\n",
              "      quickchartButtonEl.disabled = true;  // To prevent multiple clicks.\n",
              "      quickchartButtonEl.classList.add('colab-df-spinner');\n",
              "      try {\n",
              "        const charts = await google.colab.kernel.invokeFunction(\n",
              "            'suggestCharts', [key], {});\n",
              "      } catch (error) {\n",
              "        console.error('Error during call to suggestCharts:', error);\n",
              "      }\n",
              "      quickchartButtonEl.classList.remove('colab-df-spinner');\n",
              "      quickchartButtonEl.classList.add('colab-df-quickchart-complete');\n",
              "    }\n",
              "    (() => {\n",
              "      let quickchartButtonEl =\n",
              "        document.querySelector('#df-0ccc02bd-fcef-4e14-95f5-d32369baf247 button');\n",
              "      quickchartButtonEl.style.display =\n",
              "        google.colab.kernel.accessAllowed ? 'block' : 'none';\n",
              "    })();\n",
              "  </script>\n",
              "</div>\n",
              "    </div>\n",
              "  </div>\n"
            ]
          },
          "metadata": {},
          "execution_count": 1191
        }
      ]
    },
    {
      "cell_type": "markdown",
      "source": [
        "# Mutterschutz"
      ],
      "metadata": {
        "id": "MNVHwfpKz4_M"
      }
    },
    {
      "cell_type": "code",
      "source": [
        "patterns = [\n",
        "    \"\\(gesetzlicher Mutterschutz\\)\",\n",
        "    \"\\* \\(gesetzlicher Mutterschutz\\)\",\n",
        "    \"\\(aufgrund gesetzlichen Mutterschutzes\\)\",\n",
        "    \"\\(gesetzlicher Mutterschutz\\)\",\n",
        "    \"\\* \\(aufgrund gesetzlichen Mutterschutzes\\)\",\n",
        "    \"\\*\"\n",
        "]\n",
        "\n",
        "# Define the new column name\n",
        "new_column_name = 'Mutterschutz'\n",
        "\n",
        "# Initialize the new column with zeros\n",
        "df[new_column_name] = 0\n",
        "\n",
        "# Loop through each pattern and check if it occurs in each cell of the 'Full Name' column\n",
        "for pattern in patterns:\n",
        "    df[new_column_name] = df[new_column_name] | df['First Name'].str.contains(pattern)\n",
        "\n",
        "# Convert boolean values to integers (1 for True, 0 for False)\n",
        "df[new_column_name] = df[new_column_name].astype(int)\n"
      ],
      "metadata": {
        "id": "XwMiSkeRRQjs"
      },
      "execution_count": null,
      "outputs": []
    },
    {
      "cell_type": "markdown",
      "source": [
        "# Weiter cleanen"
      ],
      "metadata": {
        "id": "FFswrR0jz-c7"
      }
    },
    {
      "cell_type": "code",
      "source": [
        "df['Party'] = df['Party'].str.strip()"
      ],
      "metadata": {
        "id": "Vo7CWUAtYgCz"
      },
      "execution_count": null,
      "outputs": []
    },
    {
      "cell_type": "code",
      "source": [
        "df.at[2362, 'Party'] = df.at[2363, 'Party']"
      ],
      "metadata": {
        "id": "yoq27lUuZom-"
      },
      "execution_count": null,
      "outputs": []
    },
    {
      "cell_type": "code",
      "source": [
        "df"
      ],
      "metadata": {
        "colab": {
          "base_uri": "https://localhost:8080/",
          "height": 364
        },
        "id": "mYLrB22MRaMc",
        "outputId": "edb41b6e-1ac9-46df-ebd3-ebf54484aead"
      },
      "execution_count": null,
      "outputs": [
        {
          "output_type": "execute_result",
          "data": {
            "text/plain": [
              "     Last Name   First Name                   Party        Datum  \\\n",
              "0       Bareiß       Thomas                 CDU/CSU  02.02. 2024   \n",
              "1      Beckamp        Roger                     AfD  02.02. 2024   \n",
              "2        Beyer        Peter                 CDU/CSU  02.02. 2024   \n",
              "3     Bollmann       Gereon                     AfD  02.02. 2024   \n",
              "4        Braun       Jürgen                     AfD  02.02. 2024   \n",
              "...        ...          ...                     ...          ...   \n",
              "7601   Lehmann       Sylvia                     SPD  26.10. 2021   \n",
              "7602    Nestle   Dr. Ingrid  BÜNDNIS 90/ DIE GRÜNEN  26.10. 2021   \n",
              "7603    Ortleb  Josephine *                     SPD  26.10. 2021   \n",
              "7604      Pohl       Jürgen                     AfD  26.10. 2021   \n",
              "7605      Witt          Uwe                     AfD  26.10. 2021   \n",
              "\n",
              "               Full Name  Mutterschutz  \n",
              "0          Thomas Bareiß             0  \n",
              "1          Roger Beckamp             0  \n",
              "2            Peter Beyer             0  \n",
              "3        Gereon Bollmann             0  \n",
              "4           Jürgen Braun             0  \n",
              "...                  ...           ...  \n",
              "7601      Sylvia Lehmann             0  \n",
              "7602   Dr. Ingrid Nestle             0  \n",
              "7603  Josephine * Ortleb             1  \n",
              "7604         Jürgen Pohl             0  \n",
              "7605            Uwe Witt             0  \n",
              "\n",
              "[7594 rows x 6 columns]"
            ],
            "text/html": [
              "\n",
              "  <div id=\"df-abadd1b2-7e8a-4960-89a2-c68263b72e22\" class=\"colab-df-container\">\n",
              "    <div>\n",
              "<style scoped>\n",
              "    .dataframe tbody tr th:only-of-type {\n",
              "        vertical-align: middle;\n",
              "    }\n",
              "\n",
              "    .dataframe tbody tr th {\n",
              "        vertical-align: top;\n",
              "    }\n",
              "\n",
              "    .dataframe thead th {\n",
              "        text-align: right;\n",
              "    }\n",
              "</style>\n",
              "<table border=\"1\" class=\"dataframe\">\n",
              "  <thead>\n",
              "    <tr style=\"text-align: right;\">\n",
              "      <th></th>\n",
              "      <th>Last Name</th>\n",
              "      <th>First Name</th>\n",
              "      <th>Party</th>\n",
              "      <th>Datum</th>\n",
              "      <th>Full Name</th>\n",
              "      <th>Mutterschutz</th>\n",
              "    </tr>\n",
              "  </thead>\n",
              "  <tbody>\n",
              "    <tr>\n",
              "      <th>0</th>\n",
              "      <td>Bareiß</td>\n",
              "      <td>Thomas</td>\n",
              "      <td>CDU/CSU</td>\n",
              "      <td>02.02. 2024</td>\n",
              "      <td>Thomas Bareiß</td>\n",
              "      <td>0</td>\n",
              "    </tr>\n",
              "    <tr>\n",
              "      <th>1</th>\n",
              "      <td>Beckamp</td>\n",
              "      <td>Roger</td>\n",
              "      <td>AfD</td>\n",
              "      <td>02.02. 2024</td>\n",
              "      <td>Roger Beckamp</td>\n",
              "      <td>0</td>\n",
              "    </tr>\n",
              "    <tr>\n",
              "      <th>2</th>\n",
              "      <td>Beyer</td>\n",
              "      <td>Peter</td>\n",
              "      <td>CDU/CSU</td>\n",
              "      <td>02.02. 2024</td>\n",
              "      <td>Peter Beyer</td>\n",
              "      <td>0</td>\n",
              "    </tr>\n",
              "    <tr>\n",
              "      <th>3</th>\n",
              "      <td>Bollmann</td>\n",
              "      <td>Gereon</td>\n",
              "      <td>AfD</td>\n",
              "      <td>02.02. 2024</td>\n",
              "      <td>Gereon Bollmann</td>\n",
              "      <td>0</td>\n",
              "    </tr>\n",
              "    <tr>\n",
              "      <th>4</th>\n",
              "      <td>Braun</td>\n",
              "      <td>Jürgen</td>\n",
              "      <td>AfD</td>\n",
              "      <td>02.02. 2024</td>\n",
              "      <td>Jürgen Braun</td>\n",
              "      <td>0</td>\n",
              "    </tr>\n",
              "    <tr>\n",
              "      <th>...</th>\n",
              "      <td>...</td>\n",
              "      <td>...</td>\n",
              "      <td>...</td>\n",
              "      <td>...</td>\n",
              "      <td>...</td>\n",
              "      <td>...</td>\n",
              "    </tr>\n",
              "    <tr>\n",
              "      <th>7601</th>\n",
              "      <td>Lehmann</td>\n",
              "      <td>Sylvia</td>\n",
              "      <td>SPD</td>\n",
              "      <td>26.10. 2021</td>\n",
              "      <td>Sylvia Lehmann</td>\n",
              "      <td>0</td>\n",
              "    </tr>\n",
              "    <tr>\n",
              "      <th>7602</th>\n",
              "      <td>Nestle</td>\n",
              "      <td>Dr. Ingrid</td>\n",
              "      <td>BÜNDNIS 90/ DIE GRÜNEN</td>\n",
              "      <td>26.10. 2021</td>\n",
              "      <td>Dr. Ingrid Nestle</td>\n",
              "      <td>0</td>\n",
              "    </tr>\n",
              "    <tr>\n",
              "      <th>7603</th>\n",
              "      <td>Ortleb</td>\n",
              "      <td>Josephine *</td>\n",
              "      <td>SPD</td>\n",
              "      <td>26.10. 2021</td>\n",
              "      <td>Josephine * Ortleb</td>\n",
              "      <td>1</td>\n",
              "    </tr>\n",
              "    <tr>\n",
              "      <th>7604</th>\n",
              "      <td>Pohl</td>\n",
              "      <td>Jürgen</td>\n",
              "      <td>AfD</td>\n",
              "      <td>26.10. 2021</td>\n",
              "      <td>Jürgen Pohl</td>\n",
              "      <td>0</td>\n",
              "    </tr>\n",
              "    <tr>\n",
              "      <th>7605</th>\n",
              "      <td>Witt</td>\n",
              "      <td>Uwe</td>\n",
              "      <td>AfD</td>\n",
              "      <td>26.10. 2021</td>\n",
              "      <td>Uwe Witt</td>\n",
              "      <td>0</td>\n",
              "    </tr>\n",
              "  </tbody>\n",
              "</table>\n",
              "<p>7594 rows × 6 columns</p>\n",
              "</div>\n",
              "    <div class=\"colab-df-buttons\">\n",
              "\n",
              "  <div class=\"colab-df-container\">\n",
              "    <button class=\"colab-df-convert\" onclick=\"convertToInteractive('df-abadd1b2-7e8a-4960-89a2-c68263b72e22')\"\n",
              "            title=\"Convert this dataframe to an interactive table.\"\n",
              "            style=\"display:none;\">\n",
              "\n",
              "  <svg xmlns=\"http://www.w3.org/2000/svg\" height=\"24px\" viewBox=\"0 -960 960 960\">\n",
              "    <path d=\"M120-120v-720h720v720H120Zm60-500h600v-160H180v160Zm220 220h160v-160H400v160Zm0 220h160v-160H400v160ZM180-400h160v-160H180v160Zm440 0h160v-160H620v160ZM180-180h160v-160H180v160Zm440 0h160v-160H620v160Z\"/>\n",
              "  </svg>\n",
              "    </button>\n",
              "\n",
              "  <style>\n",
              "    .colab-df-container {\n",
              "      display:flex;\n",
              "      gap: 12px;\n",
              "    }\n",
              "\n",
              "    .colab-df-convert {\n",
              "      background-color: #E8F0FE;\n",
              "      border: none;\n",
              "      border-radius: 50%;\n",
              "      cursor: pointer;\n",
              "      display: none;\n",
              "      fill: #1967D2;\n",
              "      height: 32px;\n",
              "      padding: 0 0 0 0;\n",
              "      width: 32px;\n",
              "    }\n",
              "\n",
              "    .colab-df-convert:hover {\n",
              "      background-color: #E2EBFA;\n",
              "      box-shadow: 0px 1px 2px rgba(60, 64, 67, 0.3), 0px 1px 3px 1px rgba(60, 64, 67, 0.15);\n",
              "      fill: #174EA6;\n",
              "    }\n",
              "\n",
              "    .colab-df-buttons div {\n",
              "      margin-bottom: 4px;\n",
              "    }\n",
              "\n",
              "    [theme=dark] .colab-df-convert {\n",
              "      background-color: #3B4455;\n",
              "      fill: #D2E3FC;\n",
              "    }\n",
              "\n",
              "    [theme=dark] .colab-df-convert:hover {\n",
              "      background-color: #434B5C;\n",
              "      box-shadow: 0px 1px 3px 1px rgba(0, 0, 0, 0.15);\n",
              "      filter: drop-shadow(0px 1px 2px rgba(0, 0, 0, 0.3));\n",
              "      fill: #FFFFFF;\n",
              "    }\n",
              "  </style>\n",
              "\n",
              "    <script>\n",
              "      const buttonEl =\n",
              "        document.querySelector('#df-abadd1b2-7e8a-4960-89a2-c68263b72e22 button.colab-df-convert');\n",
              "      buttonEl.style.display =\n",
              "        google.colab.kernel.accessAllowed ? 'block' : 'none';\n",
              "\n",
              "      async function convertToInteractive(key) {\n",
              "        const element = document.querySelector('#df-abadd1b2-7e8a-4960-89a2-c68263b72e22');\n",
              "        const dataTable =\n",
              "          await google.colab.kernel.invokeFunction('convertToInteractive',\n",
              "                                                    [key], {});\n",
              "        if (!dataTable) return;\n",
              "\n",
              "        const docLinkHtml = 'Like what you see? Visit the ' +\n",
              "          '<a target=\"_blank\" href=https://colab.research.google.com/notebooks/data_table.ipynb>data table notebook</a>'\n",
              "          + ' to learn more about interactive tables.';\n",
              "        element.innerHTML = '';\n",
              "        dataTable['output_type'] = 'display_data';\n",
              "        await google.colab.output.renderOutput(dataTable, element);\n",
              "        const docLink = document.createElement('div');\n",
              "        docLink.innerHTML = docLinkHtml;\n",
              "        element.appendChild(docLink);\n",
              "      }\n",
              "    </script>\n",
              "  </div>\n",
              "\n",
              "\n",
              "<div id=\"df-94ba92aa-496b-47f9-9183-327ec78e304f\">\n",
              "  <button class=\"colab-df-quickchart\" onclick=\"quickchart('df-94ba92aa-496b-47f9-9183-327ec78e304f')\"\n",
              "            title=\"Suggest charts\"\n",
              "            style=\"display:none;\">\n",
              "\n",
              "<svg xmlns=\"http://www.w3.org/2000/svg\" height=\"24px\"viewBox=\"0 0 24 24\"\n",
              "     width=\"24px\">\n",
              "    <g>\n",
              "        <path d=\"M19 3H5c-1.1 0-2 .9-2 2v14c0 1.1.9 2 2 2h14c1.1 0 2-.9 2-2V5c0-1.1-.9-2-2-2zM9 17H7v-7h2v7zm4 0h-2V7h2v10zm4 0h-2v-4h2v4z\"/>\n",
              "    </g>\n",
              "</svg>\n",
              "  </button>\n",
              "\n",
              "<style>\n",
              "  .colab-df-quickchart {\n",
              "      --bg-color: #E8F0FE;\n",
              "      --fill-color: #1967D2;\n",
              "      --hover-bg-color: #E2EBFA;\n",
              "      --hover-fill-color: #174EA6;\n",
              "      --disabled-fill-color: #AAA;\n",
              "      --disabled-bg-color: #DDD;\n",
              "  }\n",
              "\n",
              "  [theme=dark] .colab-df-quickchart {\n",
              "      --bg-color: #3B4455;\n",
              "      --fill-color: #D2E3FC;\n",
              "      --hover-bg-color: #434B5C;\n",
              "      --hover-fill-color: #FFFFFF;\n",
              "      --disabled-bg-color: #3B4455;\n",
              "      --disabled-fill-color: #666;\n",
              "  }\n",
              "\n",
              "  .colab-df-quickchart {\n",
              "    background-color: var(--bg-color);\n",
              "    border: none;\n",
              "    border-radius: 50%;\n",
              "    cursor: pointer;\n",
              "    display: none;\n",
              "    fill: var(--fill-color);\n",
              "    height: 32px;\n",
              "    padding: 0;\n",
              "    width: 32px;\n",
              "  }\n",
              "\n",
              "  .colab-df-quickchart:hover {\n",
              "    background-color: var(--hover-bg-color);\n",
              "    box-shadow: 0 1px 2px rgba(60, 64, 67, 0.3), 0 1px 3px 1px rgba(60, 64, 67, 0.15);\n",
              "    fill: var(--button-hover-fill-color);\n",
              "  }\n",
              "\n",
              "  .colab-df-quickchart-complete:disabled,\n",
              "  .colab-df-quickchart-complete:disabled:hover {\n",
              "    background-color: var(--disabled-bg-color);\n",
              "    fill: var(--disabled-fill-color);\n",
              "    box-shadow: none;\n",
              "  }\n",
              "\n",
              "  .colab-df-spinner {\n",
              "    border: 2px solid var(--fill-color);\n",
              "    border-color: transparent;\n",
              "    border-bottom-color: var(--fill-color);\n",
              "    animation:\n",
              "      spin 1s steps(1) infinite;\n",
              "  }\n",
              "\n",
              "  @keyframes spin {\n",
              "    0% {\n",
              "      border-color: transparent;\n",
              "      border-bottom-color: var(--fill-color);\n",
              "      border-left-color: var(--fill-color);\n",
              "    }\n",
              "    20% {\n",
              "      border-color: transparent;\n",
              "      border-left-color: var(--fill-color);\n",
              "      border-top-color: var(--fill-color);\n",
              "    }\n",
              "    30% {\n",
              "      border-color: transparent;\n",
              "      border-left-color: var(--fill-color);\n",
              "      border-top-color: var(--fill-color);\n",
              "      border-right-color: var(--fill-color);\n",
              "    }\n",
              "    40% {\n",
              "      border-color: transparent;\n",
              "      border-right-color: var(--fill-color);\n",
              "      border-top-color: var(--fill-color);\n",
              "    }\n",
              "    60% {\n",
              "      border-color: transparent;\n",
              "      border-right-color: var(--fill-color);\n",
              "    }\n",
              "    80% {\n",
              "      border-color: transparent;\n",
              "      border-right-color: var(--fill-color);\n",
              "      border-bottom-color: var(--fill-color);\n",
              "    }\n",
              "    90% {\n",
              "      border-color: transparent;\n",
              "      border-bottom-color: var(--fill-color);\n",
              "    }\n",
              "  }\n",
              "</style>\n",
              "\n",
              "  <script>\n",
              "    async function quickchart(key) {\n",
              "      const quickchartButtonEl =\n",
              "        document.querySelector('#' + key + ' button');\n",
              "      quickchartButtonEl.disabled = true;  // To prevent multiple clicks.\n",
              "      quickchartButtonEl.classList.add('colab-df-spinner');\n",
              "      try {\n",
              "        const charts = await google.colab.kernel.invokeFunction(\n",
              "            'suggestCharts', [key], {});\n",
              "      } catch (error) {\n",
              "        console.error('Error during call to suggestCharts:', error);\n",
              "      }\n",
              "      quickchartButtonEl.classList.remove('colab-df-spinner');\n",
              "      quickchartButtonEl.classList.add('colab-df-quickchart-complete');\n",
              "    }\n",
              "    (() => {\n",
              "      let quickchartButtonEl =\n",
              "        document.querySelector('#df-94ba92aa-496b-47f9-9183-327ec78e304f button');\n",
              "      quickchartButtonEl.style.display =\n",
              "        google.colab.kernel.accessAllowed ? 'block' : 'none';\n",
              "    })();\n",
              "  </script>\n",
              "</div>\n",
              "    </div>\n",
              "  </div>\n"
            ]
          },
          "metadata": {},
          "execution_count": 1212
        }
      ]
    },
    {
      "cell_type": "code",
      "source": [
        "df[\"Party\"].value_counts()"
      ],
      "metadata": {
        "colab": {
          "base_uri": "https://localhost:8080/"
        },
        "id": "bfviV22FT1l5",
        "outputId": "5951f206-2029-493e-a495-dedb70f5ebc8"
      },
      "execution_count": null,
      "outputs": [
        {
          "output_type": "execute_result",
          "data": {
            "text/plain": [
              "SPD                       1873\n",
              "CDU/CSU                   1809\n",
              "BÜNDNIS 90/ DIE GRÜNEN    1268\n",
              "AfD                       1213\n",
              "FDP                        701\n",
              "DIE LINKE                  535\n",
              "fraktionslos               195\n",
              "Name: Party, dtype: int64"
            ]
          },
          "metadata": {},
          "execution_count": 1215
        }
      ]
    },
    {
      "cell_type": "code",
      "source": [
        "df.at[50, 'Full Name'] = \"Christina Stumpp\"\n",
        "df.at[101, 'Full Name'] = \"Christina Stumpp\"\n",
        "df.at[139, 'Full Name'] = \"Christina Stumpp\"\n",
        "df.at[189, 'Full Name'] = \"Christina Stumpp\"\n",
        "df.at[248, 'Full Name'] = \"Christina Stumpp\"\n",
        "df.at[290, 'Full Name'] = \"Christina Stumpp\"\n",
        "df.at[326, 'Full Name'] = \"Christina Stumpp\"\n",
        "df.at[374, 'Full Name'] = \"Jessica Rosenthal\"\n",
        "df.at[387, 'Full Name'] = \"Christina Stumpp\"\n",
        "df.at[432, 'Full Name'] = \"Jessica Rosenthal\"\n",
        "df.at[445, 'Full Name'] = \"Christina Stumpp\"\n",
        "df.at[487, 'Full Name'] = \"Jessica Rosenthal\"\n",
        "df.at[500, 'Full Name'] = \"Christina Stumpp\"\n",
        "df.at[552, 'Full Name'] = \"Jessica Rosenthal\"\n",
        "df.at[627, 'Full Name'] = \"Jessica Rosenthal\"\n",
        "df.at[688, 'Full Name'] = \"Jessica Rosenthal\"\n",
        "df.at[741, 'Full Name'] = \"Jessica Rosenthal\"\n",
        "df.at[798, 'Full Name'] = \"Denise Loop\"\n",
        "df.at[810, 'Full Name'] = \"Jessica Rosenthal\"\n",
        "df.at[865, 'Full Name'] = \"Denise Loop\"\n",
        "df.at[870, 'Full Name'] = \"Jessica Rosenthal\"\n",
        "df.at[912, 'Full Name'] = \"Denise Loop\"\n",
        "df.at[918, 'Full Name'] = \"Jessica Rosenthal\"\n",
        "df.at[964, 'Full Name'] = \"Denise Loop\"\n",
        "df.at[972, 'Full Name'] = \"Jessica Rosenthal\"\n",
        "df.at[1026, 'Full Name'] = \"Denise Loop\"\n",
        "df.at[1037, 'Full Name'] = \"Jessica Rosenthal\"\n",
        "df.at[1086, 'Full Name'] = \"Denise Loop\"\n",
        "df.at[1091, 'Full Name'] = \"Jessica Rosenthal\"\n",
        "df.at[1132, 'Full Name'] = \"Denise Loop\"\n",
        "df.at[1140, 'Full Name'] = \"Jessica Rosenthal\"\n",
        "df.at[1149, 'Full Name'] = \"Maria-Lena Weiss\"\n",
        "df.at[1173, 'Full Name'] = \"Denise Loop\"\n",
        "df.at[1181, 'Full Name'] = \"Maria-Lena Weiss\"\n",
        "df.at[1204, 'Full Name'] = \"Denise Loop\"\n",
        "df.at[1209, 'Full Name'] = \"Jessica Rosenthal\"\n",
        "df.at[1216, 'Full Name'] = \"Maria-Lena Weiss\"\n",
        "df.at[1218, 'Full Name'] = \"Knut Abraham\"\n",
        "df.at[1229, 'Full Name'] = \"Heike Engelhardt\"\n",
        "df.at[1232, 'Full Name'] = \"Fabian Funke\"\n",
        "df.at[1239, 'Full Name'] = \"Nicole Höchst\"\n",
        "df.at[1242, 'Full Name'] = \"Andrej Hunko\"\n",
        "df.at[1252, 'Full Name'] = \"Armin Laschet\"\n",
        "df.at[1258, 'Full Name'] = \"Denise Loop\"\n",
        "df.at[1259, 'Full Name'] = \"Max Lucks\"\n",
        "df.at[1265, 'Full Name'] = \"Julian Pahlke\"\n",
        "df.at[1271, 'Full Name'] = \"Jessica Rosenthal\"\n",
        "df.at[1279, 'Full Name'] = \"Frank Schwabe\"\n",
        "df.at[1287, 'Full Name'] = \"Derya Türk-Nachbaur\"\n",
        "df.at[1292, 'Full Name'] = \"Maria-Lena Weiss\"\n",
        "df.at[1297, 'Full Name'] = \"Knut Abraham\"\n",
        "df.at[1305, 'Full Name'] = \"Heike Engelhardt\"\n",
        "df.at[1306, 'Full Name'] = \"Fabian Funke\"\n",
        "df.at[1311, 'Full Name'] = \"Nicole Höchst\"\n",
        "df.at[1315, 'Full Name'] = \"Andrej Hunko\"\n",
        "df.at[1323, 'Full Name'] = \"Armin Laschet\"\n",
        "df.at[1327, 'Full Name'] = \"Denise Loop\"\n",
        "df.at[1328, 'Full Name'] = \"Max Lucks\"\n",
        "df.at[1333, 'Full Name'] = \"Julian Pahlke\"\n",
        "df.at[1337, 'Full Name'] = \"Jessica Rosenthal\"\n",
        "df.at[1344, 'Full Name'] = \"Frank Schwabe\"\n",
        "df.at[1351, 'Full Name'] = \"Derya Türk-Nachbaur\"\n",
        "df.at[1354, 'Full Name'] = \"Maria-Lena Weiss\"\n",
        "df.at[1358, 'Full Name'] = \"Knut Abraham\"\n",
        "df.at[1366, 'Full Name'] = \"Heike Engelhardt\"\n",
        "df.at[1367, 'Full Name'] = \"Fabian Funke\"\n",
        "df.at[1370, 'Full Name'] = \"Nicole Höchst\"\n",
        "df.at[1373, 'Full Name'] = \"Andrej Hunko\"\n",
        "df.at[1380, 'Full Name'] = \"Armin Laschet\"\n",
        "df.at[1384, 'Full Name'] = \"Denise Loop\"\n",
        "df.at[1385, 'Full Name'] = \"Max Lucks\"\n",
        "df.at[1390, 'Full Name'] = \"Julian Pahlke\"\n",
        "df.at[1393, 'Full Name'] = \"Jessica Rosenthal\"\n",
        "df.at[1398, 'Full Name'] = \"Frank Schwabe\"\n",
        "df.at[1401, 'Full Name'] = \"Derya Türk-Nachbaur\"\n",
        "df.at[1404, 'Full Name'] = \"Maria-Lena Weiss\"\n",
        "df.at[1420, 'Full Name'] = \"Ronja Kemmer\"\n",
        "df.at[1425, 'Full Name'] = \"Denise Loop\"\n",
        "df.at[1427, 'Full Name'] = \"Parsa Marvi\"\n",
        "df.at[1465, 'Full Name'] = \"Ronja Kemmer\"\n",
        "df.at[1475, 'Full Name'] = \"Denise Loop\"\n",
        "df.at[1500, 'Full Name'] = \"Maria-Lena Weiss\"\n",
        "df.at[1518, 'Full Name'] = \"Ronja Kemmer\"\n",
        "df.at[1521, 'Full Name'] = \"Denise Loop\"\n",
        "df.at[1523, 'Full Name'] = \"Parsa Marvi\"\n",
        "df.at[1533, 'Full Name'] = \"Maria-Lena Weiss\"\n",
        "df.at[1571, 'Full Name'] = \"Denise Loop\"\n",
        "df.at[1596, 'Full Name'] = \"Maria-Lena Weiss\"\n",
        "df.at[1626, 'Full Name'] = \"Denise Loop\"\n",
        "df.at[1647, 'Full Name'] = \"Maria-Lena Weiss\"\n",
        "df.at[1674, 'Full Name'] = \"Denise Loop\"\n",
        "df.at[1692, 'Full Name'] = \"Maria-Lena Weiss\"\n",
        "df.at[1721, 'Full Name'] = \"Denise Loop\"\n",
        "df.at[1736, 'Full Name'] = \"Maria-Lena Weiss\"\n",
        "df.at[1757, 'Full Name'] = \"Denise Loop\"\n",
        "df.at[1774, 'Full Name'] = \"Maria-Lena Weiss\"\n",
        "df.at[1792, 'Full Name'] = \"Denise Loop\"\n",
        "df.at[1805, 'Full Name'] = \"Maria-Lena Weiss\"\n",
        "df.at[1826, 'Full Name'] = \"Denise Loop\"\n",
        "df.at[1836, 'Full Name'] = \"Maria-Lena Weiss\"\n",
        "df.at[2231, 'Full Name'] = \"Reem Alabali-Radovan\"\n",
        "df.at[2323, 'Full Name'] = \"Reem Alabali-Radovan\"\n",
        "df.at[2359, 'Full Name'] = \"Reem Alabali-Radovan\"\n",
        "df.at[2421, 'Full Name'] = \"Reem Alabali-Radovan\"\n",
        "df.at[2452, 'Full Name'] = \"Reem Alabali-Radovan\"\n",
        "df.at[2473, 'Full Name'] = \"Reem Alabali-Radovan\"\n",
        "df.at[2528, 'Full Name'] = \"Reem Alabali-Radovan\"\n",
        "df.at[2563, 'Full Name'] = \"Reem Alabali-Radovan\"\n",
        "df.at[2571, 'Full Name'] = \"Daniela Kluckert\"\n",
        "df.at[2595, 'Full Name'] = \"Reem Alabali-Radovan\"\n",
        "df.at[2610, 'Full Name'] = \"Daniela Kluckert\"\n",
        "df.at[2634, 'Full Name'] = \"Reem Alabali-Radovan\"\n",
        "df.at[2660, 'Full Name'] = \"Daniela Kluckert\"\n",
        "df.at[2708, 'Full Name'] = \"Reem Alabali-Radovan\"\n",
        "df.at[2720, 'Full Name'] = \"Daniela Kluckert\"\n",
        "df.at[2740, 'Full Name'] = \"Reem Alabali-Radovan\"\n",
        "df.at[2768, 'Full Name'] = \"Daniela Kluckert\"\n",
        "df.at[2806, 'Full Name'] = \"Reem Alabali-Radovan\"\n",
        "df.at[2824, 'Full Name'] = \"Daniela Kluckert\"\n",
        "df.at[2840, 'Full Name'] = \"Reem Alabali-Radovan\"\n",
        "df.at[2858, 'Full Name'] = \"Daniela Kluckert\"\n",
        "df.at[2878, 'Full Name'] = \"Reem Alabali-Radovan\"\n",
        "df.at[2903, 'Full Name'] = \"Daniela Kluckert\"\n",
        "df.at[2927, 'Full Name'] = \"Reem Alabali-Radovan\"\n",
        "df.at[2948, 'Full Name'] = \"Daniela Kluckert\"\n",
        "df.at[2974, 'Full Name'] = \"Reem Alabali-Radovan\"\n",
        "df.at[2995, 'Full Name'] = \"Daniela Kluckert\"\n",
        "df.at[3022, 'Full Name'] = \"Reem Alabali-Radovan\"\n",
        "df.at[3047, 'Full Name'] = \"Daniela Kluckert\"\n",
        "df.at[3082, 'Full Name'] = \"Reem Alabali-Radovan\"\n",
        "df.at[3115, 'Full Name'] = \"Daniela Kluckert\"\n",
        "df.at[3156, 'Full Name'] = \"Reem Alabali-Radovan\"\n",
        "df.at[3178, 'Full Name'] = \"Daniela Kluckert\"\n",
        "df.at[3212, 'Full Name'] = \"Sonja Eichwede\"\n",
        "df.at[3227, 'Full Name'] = \"Daniela Kluckert\"\n",
        "df.at[3260, 'Full Name'] = \"Sonja Eichwede\"\n",
        "df.at[3275, 'Full Name'] = \"Daniela Kluckert\"\n",
        "df.at[3304, 'Full Name'] = \"Sonja Eichwede\"\n",
        "df.at[3318, 'Full Name'] = \"Daniela Kluckert\"\n",
        "df.at[3351, 'Full Name'] = \"Sonja Eichwede\"\n",
        "df.at[3367, 'Full Name'] = \"Daniela Kluckert\"\n",
        "df.at[3405, 'Full Name'] = \"Sonja Eichwede\"\n",
        "df.at[3416, 'Full Name'] = \"Daniela Kluckert\"\n",
        "df.at[3441, 'Full Name'] = \"Sonja Eichwede\"\n",
        "df.at[3452, 'Full Name'] = \"Daniela Kluckert\"\n",
        "df.at[3482, 'Full Name'] = \"Sonja Eichwede\"\n",
        "df.at[3493, 'Full Name'] = \"Daniela Kluckert\"\n",
        "df.at[3529, 'Full Name'] = \"Sonja Eichwede\"\n",
        "df.at[3537, 'Full Name'] = \"Daniela Kluckert\"\n",
        "df.at[3566, 'Full Name'] = \"Sonja Eichwede\"\n",
        "df.at[3572, 'Full Name'] = \"Daniela Kluckert\"\n",
        "df.at[3608, 'Full Name'] = \"Sonja Eichwede\"\n",
        "df.at[3684, 'Full Name'] = \"Sonja Eichwede\"\n",
        "df.at[3747, 'Full Name'] = \"Sonja Eichwede\"\n",
        "df.at[3802, 'Full Name'] = \"Sonja Eichwede\"\n",
        "df.at[3876, 'Full Name'] = \"Sonja Eichwede\"\n",
        "df.at[3921, 'Full Name'] = \"Sonja Eichwede\"\n",
        "df.at[3965, 'Full Name'] = \"Sonja Eichwede\"\n",
        "df.at[4014, 'Full Name'] = \"Sonja Eichwede\"\n",
        "df.at[4059, 'Full Name'] = \"Sonja Eichwede\"\n",
        "df.at[4094, 'Full Name'] = \"Sonja Eichwede\"\n",
        "df.at[4125, 'Full Name'] = \"Nicole Bauer\"\n",
        "df.at[4175, 'Full Name'] = \"Nicole Bauer\"\n",
        "df.at[4214, 'Full Name'] = \"Nicole Bauer\"\n",
        "df.at[4255, 'Full Name'] = \"Nicole Bauer\"\n",
        "df.at[4320, 'Full Name'] = \"Melanie Wegling\"\n",
        "df.at[4330, 'Full Name'] = \"Nicole Bauer\"\n",
        "df.at[4388, 'Full Name'] = \"Melanie Wegling\"\n",
        "df.at[4396, 'Full Name'] = \"Nicole Bauer\"\n",
        "df.at[4447, 'Full Name'] = \"Melanie Wegling\"\n",
        "df.at[4453, 'Full Name'] = \"Nicole Bauer\"\n",
        "df.at[4537, 'Full Name'] = \"Melanie Wegling\"\n",
        "df.at[4545, 'Full Name'] = \"Nicole Bauer\"\n",
        "df.at[4608, 'Full Name'] = \"Melanie Wegling\"\n",
        "df.at[4614, 'Full Name'] = \"Nicole Bauer\"\n",
        "df.at[4672, 'Full Name'] = \"Melanie Wegling\"\n",
        "df.at[4681, 'Full Name'] = \"Nicole Bauer\"\n",
        "df.at[4753, 'Full Name'] = \"Melanie Wegling\"\n",
        "df.at[4759, 'Full Name'] = \"Nicole Bauer\"\n",
        "df.at[4810, 'Full Name'] = \"Melanie Wegling\"\n",
        "df.at[4816, 'Full Name'] = \"Nicole Bauer\"\n",
        "df.at[4865, 'Full Name'] = \"Melanie Wegling\"\n",
        "df.at[4872, 'Full Name'] = \"Nicole Bauer\"\n",
        "df.at[4932, 'Full Name'] = \"Melanie Wegling\"\n",
        "df.at[4936, 'Full Name'] = \"Nicole Bauer\"\n",
        "df.at[4986, 'Full Name'] = \"Melanie Wegling\"\n",
        "df.at[4990, 'Full Name'] = \"Nicole Bauer\"\n",
        "df.at[5025, 'Full Name'] = \"Melanie Wegling\"\n",
        "df.at[5030, 'Full Name'] = \"Nicole Bauer\"\n",
        "df.at[5044, 'Full Name'] = \"Ronja Kemmer\"\n",
        "df.at[5075, 'Full Name'] = \"Melanie Wegling\"\n",
        "df.at[5081, 'Full Name'] = \"Nicole Bauer\"\n",
        "df.at[5091, 'Full Name'] = \"Ronja Kemmer\"\n",
        "df.at[5109, 'Full Name'] = \"Melanie Wegling\"\n",
        "df.at[5113, 'Full Name'] = \"Nicole Bauer\"\n",
        "df.at[5122, 'Full Name'] = \"Ronja Kemmer\"\n",
        "df.at[5140, 'Full Name'] = \"Melanie Wegling\"\n",
        "df.at[5143, 'Full Name'] = \"Nicole Bauer\"\n",
        "df.at[5151, 'Full Name'] = \"Ronja Kemmer\"\n",
        "df.at[5174, 'Full Name'] = \"Melanie Wegling\"\n",
        "df.at[5193, 'Full Name'] = \"Ronja Kemmer\"\n",
        "df.at[5216, 'Full Name'] = \"Wiebke Papenbrock\"\n",
        "df.at[5259, 'Full Name'] = \"Ronja Kemmer\"\n",
        "df.at[5285, 'Full Name'] = \"Wiebke Papenbrock\"\n",
        "df.at[5331, 'Full Name'] = \"Ronja Kemmer\"\n",
        "df.at[5347, 'Full Name'] = \"Wiebke Papenbrock\"\n",
        "df.at[5387, 'Full Name'] = \"Ronja Kemmer\"\n",
        "df.at[5410, 'Full Name'] = \"Wiebke Papenbrock\"\n",
        "df.at[5456, 'Full Name'] = \"Ronja Kemmer\"\n",
        "df.at[5476, 'Full Name'] = \"Wiebke Papenbrock\"\n",
        "df.at[5514, 'Full Name'] = \"Ronja Kemmer\"\n",
        "df.at[5534, 'Full Name'] = \"Wiebke Papenbrock\"\n",
        "df.at[5580, 'Full Name'] = \"Wiebke Papenbrock\"\n",
        "df.at[5614, 'Full Name'] = \"Wiebke Papenbrock\"\n",
        "df.at[5649, 'Full Name'] = \"Wiebke Papenbrock\"\n",
        "df.at[5685, 'Full Name'] = \"Wiebke Papenbrock\"\n",
        "df.at[5739, 'Full Name'] = \"Wiebke Papenbrock\"\n",
        "df.at[5797, 'Full Name'] = \"Wiebke Papenbrock\"\n",
        "df.at[5843, 'Full Name'] = \"Wiebke Papenbrock\"\n",
        "df.at[5910, 'Full Name'] = \"Wiebke Papenbrock\"\n",
        "df.at[5975, 'Full Name'] = \"Wiebke Papenbrock\"\n",
        "df.at[6021, 'Full Name'] = \"Wiebke Papenbrock\"\n",
        "df.at[6567, 'Full Name'] = \"Katrin Staffler\"\n",
        "df.at[6649, 'Full Name'] = \"Katrin Staffler\"\n",
        "df.at[6733, 'Full Name'] = \"Katrin Staffler\"\n",
        "df.at[6808, 'Full Name'] = \"Katrin Staffler\"\n",
        "df.at[6873, 'Full Name'] = \"Katrin Staffler\"\n",
        "df.at[6955, 'Full Name'] = \"Katrin Staffler\"\n",
        "df.at[7022, 'Full Name'] = \"Katrin Staffler\"\n",
        "df.at[7021, 'Full Name'] = \"Katrin Staffler\"\n",
        "df.at[7104, 'Full Name'] = \"Katrin Staffler\"\n",
        "df.at[7154, 'Full Name'] = \"Katrin Staffler\"\n",
        "df.at[7198, 'Full Name'] = \"Katrin Staffler\"\n",
        "df.at[7243, 'Full Name'] = \"Katrin Staffler\"\n",
        "df.at[7279, 'Full Name'] = \"Josephine Ortleb\"\n",
        "df.at[7287, 'Full Name'] = \"Katrin Staffler\"\n",
        "df.at[7314, 'Full Name'] = \"Josephine Ortleb\"\n",
        "df.at[7320, 'Full Name'] = \"Katrin Staffler\"\n",
        "df.at[7341, 'Full Name'] = \"Josephine Ortleb\"\n",
        "df.at[7346, 'Full Name'] = \"Katrin Staffler\"\n",
        "df.at[7355, 'Full Name'] = \"Jasmina Hostert\"\n",
        "df.at[7365, 'Full Name'] = \"Josephine Ortleb\"\n",
        "df.at[7372, 'Full Name'] = \"Katrin Staffler\"\n",
        "df.at[7382, 'Full Name'] = \"Jasmina Hostert\"\n",
        "df.at[7388, 'Full Name'] = \"Josephine Ortleb\"\n",
        "df.at[7393, 'Full Name'] = \"Katrin Staffler\"\n",
        "df.at[7409, 'Full Name'] = \"Jasmina Hostert\"\n",
        "df.at[7422, 'Full Name'] = \"Josephine Ortleb\"\n",
        "df.at[7451, 'Full Name'] = \"Jasmina Hostert\"\n",
        "df.at[7460, 'Full Name'] = \"Josephine Ortleb\"\n",
        "df.at[7501, 'Full Name'] = \"Jasmina Hostert\"\n",
        "df.at[7511, 'Full Name'] = \"Josephine Ortleb\"\n",
        "df.at[7536, 'Full Name'] = \"Jasmina Hostert\"\n",
        "df.at[7550, 'Full Name'] = \"Josephine Ortleb\"\n",
        "df.at[7570, 'Full Name'] = \"Jasmina Hostert\"\n",
        "df.at[7585, 'Full Name'] = \"Josephine Ortleb\"\n",
        "df.at[7599, 'Full Name'] = \"Gyde Jensen\"\n",
        "df.at[7603, 'Full Name'] = \"Jasmina Hostert\""
      ],
      "metadata": {
        "id": "ftn45MpBptGG"
      },
      "execution_count": null,
      "outputs": []
    },
    {
      "source": [
        "from matplotlib import pyplot as plt\n",
        "import seaborn as sns\n",
        "df.groupby('Party').size().plot(kind='barh', color=sns.palettes.mpl_palette('Dark2'))\n",
        "plt.gca().spines[['top', 'right',]].set_visible(False)"
      ],
      "cell_type": "code",
      "metadata": {
        "colab": {
          "base_uri": "https://localhost:8080/",
          "height": 430
        },
        "id": "YPZpzSahIMh2",
        "outputId": "128a6d82-70ae-466d-a3d5-a9f3d4f74ef9"
      },
      "execution_count": null,
      "outputs": [
        {
          "output_type": "display_data",
          "data": {
            "text/plain": [
              "<Figure size 640x480 with 1 Axes>"
            ],
            "image/png": "[encoded data removed]"
          },
          "metadata": {}
        }
      ]
    }
  ]
}